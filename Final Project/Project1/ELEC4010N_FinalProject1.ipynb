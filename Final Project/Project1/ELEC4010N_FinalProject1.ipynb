{
  "cells": [
    {
      "cell_type": "markdown",
      "metadata": {
        "id": "Hci3KvN7ivcH"
      },
      "source": [
        "### 0: Download and unzip data"
      ]
    },
    {
      "cell_type": "code",
      "execution_count": null,
      "metadata": {
        "id": "ZXeyyLwuD6mr"
      },
      "outputs": [],
      "source": [
        "# Download and unzip data\n",
        "!wget https://isic-challenge-data.s3.amazonaws.com/2016/ISBI2016_ISIC_Part3_Training_Data.zip\n",
        "!wget https://isic-challenge-data.s3.amazonaws.com/2016/ISBI2016_ISIC_Part3_Test_Data.zip\n",
        "!wget https://isic-challenge-data.s3.amazonaws.com/2016/ISBI2016_ISIC_Part3_Training_GroundTruth.csv\n",
        "!wget https://isic-challenge-data.s3.amazonaws.com/2016/ISBI2016_ISIC_Part3_Test_GroundTruth.csv\n",
        "!unzip \"./ISBI2016_ISIC_Part3_Test_Data.zip\"\n",
        "!unzip \"./ISBI2016_ISIC_Part3_Training_Data.zip\"\n",
        "\n",
        "# Install additional library\n",
        "!pip install -U albumentations"
      ]
    },
    {
      "cell_type": "markdown",
      "source": [
        "## 1: Import"
      ],
      "metadata": {
        "id": "kY8jl7l3Kc42"
      }
    },
    {
      "cell_type": "code",
      "source": [
        "# Standard library imports\n",
        "import os\n",
        "import shutil\n",
        "import math\n",
        "import copy\n",
        "import random\n",
        "import gc\n",
        "\n",
        "# Third-party imports for data handling and scientific computation\n",
        "import cv2\n",
        "import pandas as pd\n",
        "import numpy as np\n",
        "from sklearn.metrics import roc_auc_score, accuracy_score\n",
        "import albumentations as Augm\n",
        "from albumentations.pytorch import ToTensorV2\n",
        "from albumentations.augmentations.transforms import ColorJitter, FancyPCA\n",
        "\n",
        "# PyTorch imports for deep learning\n",
        "import torch\n",
        "from torch import nn\n",
        "import torch.nn.functional as F\n",
        "from torch.optim import Adam\n",
        "from torch.optim.lr_scheduler import StepLR, ExponentialLR, ReduceLROnPlateau, CosineAnnealingLR\n",
        "from torch.utils.data import Dataset, DataLoader, ConcatDataset\n",
        "from torchvision import transforms\n",
        "from torchvision.datasets import ImageFolder\n",
        "from torchvision.models import resnet50 as _resnet50\n",
        "from torchsummary import summary\n",
        "\n",
        "# Other utilities\n",
        "from PIL import Image\n",
        "import matplotlib.pyplot as plt\n",
        "\n",
        "device = torch.device(\"cuda:0\" if torch.cuda.is_available() else \"cpu\")\n",
        "print(device)"
      ],
      "metadata": {
        "id": "1pYsgb1hWbbr",
        "colab": {
          "base_uri": "https://localhost:8080/"
        },
        "outputId": "8b9d5d15-d5e4-454c-8091-00ef558c8db3"
      },
      "execution_count": null,
      "outputs": [
        {
          "output_type": "stream",
          "name": "stdout",
          "text": [
            "cuda:0\n"
          ]
        }
      ]
    },
    {
      "cell_type": "markdown",
      "source": [
        "## 2: Data Loading"
      ],
      "metadata": {
        "id": "Dy6LVMDOLJ6m"
      }
    },
    {
      "cell_type": "code",
      "execution_count": null,
      "metadata": {
        "id": "2WLrB9eWG3Nn",
        "colab": {
          "base_uri": "https://localhost:8080/"
        },
        "outputId": "f418bd9c-1a57-4b87-8004-ab8f05a30ded"
      },
      "outputs": [
        {
          "output_type": "stream",
          "name": "stdout",
          "text": [
            "Number of images: 900\n",
            "Number of training images: 270\n",
            "Number of unlabeled images: 540\n",
            "Number of validation images: 90\n"
          ]
        }
      ],
      "source": [
        "########## ONLY RUN THIS CELL CAN ONCE ##########\n",
        "# Remove if exists, and create train, unlabeled val, test folders\n",
        "train_path = \"./train\"\n",
        "unlabeled_path = \"./unlabeled\"\n",
        "val_path = \"./val\"\n",
        "\n",
        "for path in [train_path, unlabeled_path, val_path]:\n",
        "    if os.path.exists(path):\n",
        "        shutil.rmtree(path)\n",
        "    os.makedirs(path)\n",
        "\n",
        "for path in [train_path, val_path]:\n",
        "    os.makedirs(os.path.join(path, \"benign\"))\n",
        "    os.makedirs(os.path.join(path, \"malignant\"))\n",
        "\n",
        "# Copy images to train, unlabeled, val folders\n",
        "df = pd.read_csv(\"./ISBI2016_ISIC_Part3_Training_GroundTruth.csv\")\n",
        "img_lis = []\n",
        "lbl_lis = []\n",
        "img_lis.append(\"ISIC_0000000\")\n",
        "lbl_lis.append(\"benign\")\n",
        "for i in range(len(df)):\n",
        "    name, label = df[\"ISIC_0000000\"][i], df[\"benign\"][i]\n",
        "    img_lis.append(name)\n",
        "    lbl_lis.append(label)\n",
        "\n",
        "# Define the number of images in each category\n",
        "N_total = len(img_lis)\n",
        "N_train = 270\n",
        "N_unlabeled = 540\n",
        "\n",
        "# Shuffle the data and split into train, unlabeled, val\n",
        "shuffle_ix = np.random.permutation(np.arange(N_total))\n",
        "ix_train = shuffle_ix[:N_train]\n",
        "ix_unlabeled = shuffle_ix[N_train : N_train + N_unlabeled]\n",
        "ix_val = shuffle_ix[N_train + N_unlabeled:]\n",
        "\n",
        "for i in ix_train:\n",
        "    name, label = img_lis[i], lbl_lis[i]\n",
        "    shutil.copy(\"./ISBI2016_ISIC_Part3_Training_Data/\"+name+\".jpg\", \"./train/\"+label+\"/\"+name+\".jpg\")\n",
        "for i in ix_unlabeled:\n",
        "    name = img_lis[i]\n",
        "    shutil.copy(\"./ISBI2016_ISIC_Part3_Training_Data/\"+name+\".jpg\", \"./unlabeled/\"+name+\".jpg\")\n",
        "for i in ix_val:\n",
        "    name, label = img_lis[i], lbl_lis[i]\n",
        "    shutil.copy(\"./ISBI2016_ISIC_Part3_Training_Data/\"+name+\".jpg\", \"./val/\"+label+\"/\"+name+\".jpg\")  \n",
        "\n",
        "# Print out the number of images in each folder\n",
        "print(f'Number of images: {len(img_lis)}')\n",
        "print(f'Number of training images: {len(ix_train)}')\n",
        "print(f'Number of unlabeled images: {len(ix_unlabeled)}')\n",
        "print(f'Number of validation images: {len(ix_val)}')"
      ]
    },
    {
      "cell_type": "markdown",
      "source": [
        "## 3: Data Preprocessing and Dataloaders"
      ],
      "metadata": {
        "id": "VfMlcU0ZBclG"
      }
    },
    {
      "cell_type": "markdown",
      "source": [
        "### 3.1: Upsampling"
      ],
      "metadata": {
        "id": "zFnLSw7tLvzM"
      }
    },
    {
      "cell_type": "code",
      "source": [
        "# Define the paths\n",
        "benign_train_dir = \"./train/benign\"\n",
        "malignant_train_dir = \"./train/malignant\"\n",
        "\n",
        "benign_val_dir = \"./val/benign\"\n",
        "malignant_val_dir = \"./val/malignant\"\n",
        "\n",
        "# Sort the filepaths\n",
        "benign_train_filepaths = sorted([os.path.join(benign_train_dir, f) for f in os.listdir(benign_train_dir)])\n",
        "malignant_train_filepaths = sorted([os.path.join(malignant_train_dir, f) for f in os.listdir(malignant_train_dir)])\n",
        "\n",
        "benign_val_filepaths = sorted([os.path.join(benign_val_dir, f) for f in os.listdir(benign_val_dir)])\n",
        "malignant_val_filepaths = sorted([os.path.join(malignant_val_dir, f) for f in os.listdir(malignant_val_dir)])\n",
        "\n",
        "# Augment the minority class\n",
        "# Excluding benign filepaths or too balanced might cause nan/inf values in training\n",
        "aug_train_filepaths = [*benign_train_filepaths, *malignant_train_filepaths, *malignant_train_filepaths]\n",
        "aug_train_filepaths = [i for i in aug_train_filepaths if cv2.imread(i) is not None]\n",
        "\n",
        "aug_val_filepaths = [*benign_val_filepaths, *malignant_val_filepaths, *malignant_val_filepaths]\n",
        "aug_val_filepaths = [i for i in aug_val_filepaths if cv2.imread(i) is not None]\n",
        "\n",
        "# Shuffle the filepaths\n",
        "random.seed(42)\n",
        "random.shuffle(aug_train_filepaths)\n",
        "random.shuffle(aug_val_filepaths)\n",
        "\n",
        "# Explore the data\n",
        "print(f'Training:\\n'\n",
        "      f'Benign images: {len(benign_train_filepaths)}\\n'\n",
        "      f'Malignant images: {len(malignant_train_filepaths)}\\n'\n",
        "      f'\\n'\n",
        "      f'Validation:\\n'\n",
        "      f'Benign images: {len(benign_val_filepaths)}\\n'\n",
        "      f'Malignant images: {len(malignant_val_filepaths)}')"
      ],
      "metadata": {
        "colab": {
          "base_uri": "https://localhost:8080/"
        },
        "id": "Io-PgG16BZRB",
        "outputId": "c2d86b2c-8103-42f9-9cf4-90b53e2fa7b0"
      },
      "execution_count": null,
      "outputs": [
        {
          "output_type": "stream",
          "name": "stdout",
          "text": [
            "Training:\n",
            "Benign images: 220\n",
            "Malignant images: 50\n",
            "\n",
            "Validation:\n",
            "Benign images: 75\n",
            "Malignant images: 15\n"
          ]
        }
      ]
    },
    {
      "cell_type": "markdown",
      "source": [
        "### 3.2: Augmentation"
      ],
      "metadata": {
        "id": "bEhHRS2kLy7D"
      }
    },
    {
      "cell_type": "code",
      "source": [
        "# Augmented Data Set\n",
        "class AugmentedDataset(Dataset):\n",
        "    def __init__(self, images_filepaths, transform=None):\n",
        "        self.images_filepaths = images_filepaths\n",
        "        self.transform = transform\n",
        "\n",
        "    def __len__(self):\n",
        "        return len(self.images_filepaths)\n",
        "\n",
        "    def __getitem__(self, idx):\n",
        "        image_filepath = self.images_filepaths[idx]\n",
        "        image = cv2.imread(image_filepath)\n",
        "        label = 1.0 if os.path.normpath(image_filepath).split(os.sep)[-2] == \"malignant\" else 0.0\n",
        "        if self.transform is not None:\n",
        "            image = self.transform(image=image)[\"image\"]\n",
        "        return image, label\n",
        "    \n",
        "# Augmentations\n",
        "normalization = transforms.Compose([\n",
        "    transforms.Resize(244),\n",
        "    transforms.CenterCrop(224),\n",
        "    transforms.ToTensor(),\n",
        "    transforms.Normalize(mean=[0.485, 0.456, 0.406], std=[0.229, 0.224, 0.225])\n",
        "])\n",
        "\n",
        "aug_normalization = transforms.Compose([\n",
        "    transforms.Resize(244),\n",
        "    transforms.RandomVerticalFlip(),\n",
        "    transforms.RandomHorizontalFlip(),\n",
        "    #transforms.ColorJitter(brightness=0.5, contrast=1, saturation=0.1, hue=0.5),\n",
        "    transforms.RandomCrop(224),\n",
        "    transforms.ToTensor(),\n",
        "    transforms.Normalize(mean=0.65, std=0.5)\n",
        "])\n",
        "\n",
        "# Flipping\n",
        "GEO = Augm.Compose([\n",
        "    Augm.Resize(224, 224),\n",
        "    Augm.RandomCrop(width=224, height=224),\n",
        "    Augm.HorizontalFlip(p=1),\n",
        "    Augm.RandomBrightnessContrast(p=0.1),\n",
        "    ToTensorV2()\n",
        "])\n",
        "\n",
        "# Color Jitter\n",
        "COL = Augm.Compose([\n",
        "    Augm.Resize(224, 224),\n",
        "    Augm.RandomCrop(width=224, height=224),\n",
        "    ColorJitter(),\n",
        "    Augm.RandomBrightnessContrast(p=0.1),\n",
        "    ToTensorV2()\n",
        "])\n",
        "\n",
        "# PCA\n",
        "PCA = Augm.Compose([\n",
        "    Augm.Resize(224, 224),\n",
        "    Augm.RandomCrop(width=224, height=224),\n",
        "    FancyPCA(),\n",
        "    Augm.RandomBrightnessContrast(p=0.1),\n",
        "    ToTensorV2()\n",
        "])\n",
        "\n",
        "# Create augmented datasets\n",
        "# Augmented training data\n",
        "GEO_train_dataset = AugmentedDataset(images_filepaths=aug_train_filepaths, transform=GEO)\n",
        "COL_train_dataset = AugmentedDataset(images_filepaths=aug_train_filepaths, transform=COL)\n",
        "PCA_train_dataset = AugmentedDataset(images_filepaths=aug_train_filepaths, transform=PCA)\n",
        "# Augmented validation data\n",
        "GEO_val_dataset = AugmentedDataset(images_filepaths=aug_val_filepaths, transform=GEO)\n",
        "COL_val_dataset = AugmentedDataset(images_filepaths=aug_val_filepaths, transform=COL)\n",
        "PCA_val_dataset = AugmentedDataset(images_filepaths=aug_val_filepaths, transform=PCA)\n",
        "\n",
        "# Combine datasets\n",
        "aug_train_dataset = [GEO_train_dataset, COL_train_dataset, PCA_train_dataset]\n",
        "aug_train_dataset = ConcatDataset(aug_train_dataset)        # Remove GEO_train_dataset\n",
        "aug_val_dataset = [GEO_val_dataset, COL_val_dataset, PCA_val_dataset]\n",
        "aug_val_dataset = ConcatDataset(aug_val_dataset)            # Remove GEO_val_dataset\n",
        "\n",
        "# Before and after augmentation\n",
        "print(f'Training images before: {len(ix_train)}')\n",
        "print(f'Training images after: {len(aug_train_dataset) + len(ix_train)}')\n",
        "print(f'Validation images before: {len(ix_val)}')\n",
        "print(f'Validation images after: {len(aug_val_dataset) + len(ix_val)}')"
      ],
      "metadata": {
        "id": "HAOAJgK-C-IA",
        "colab": {
          "base_uri": "https://localhost:8080/"
        },
        "outputId": "964fb289-68e1-4b86-c3e1-d7495e51de2a"
      },
      "execution_count": null,
      "outputs": [
        {
          "output_type": "stream",
          "name": "stdout",
          "text": [
            "Training images before: 270\n",
            "Training images after: 1230\n",
            "Validation images before: 90\n",
            "Validation images after: 405\n"
          ]
        }
      ]
    },
    {
      "cell_type": "markdown",
      "metadata": {
        "id": "xqFLN7Lf79zv"
      },
      "source": [
        "\n",
        "### 3.3: Dataloaders"
      ]
    },
    {
      "cell_type": "code",
      "execution_count": 48,
      "metadata": {
        "id": "f-ChMb6Y8LEJ",
        "colab": {
          "base_uri": "https://localhost:8080/"
        },
        "outputId": "10ac918f-9bba-404b-ab69-524262c81a9e"
      },
      "outputs": [
        {
          "output_type": "stream",
          "name": "stdout",
          "text": [
            "After augmentation:\n",
            "Training:\n",
            "Benign images: 880\n",
            "Malignant images: 350\n",
            "\n",
            "Validation:\n",
            "Benign images: 75\n",
            "Malignant images: 15\n",
            "\n",
            "Shape of image: torch.Size([3, 224, 224])\n",
            "Number of training batches: 39\n",
            "Number of unlabeled batches: 17\n",
            "Number of validation batches: 3\n"
          ]
        }
      ],
      "source": [
        "# Unlabeled dataset for ImageFolder problem\n",
        "class UnlabeledDataset(Dataset):\n",
        "    def __init__(self, root, transform=None):\n",
        "        self.root = root\n",
        "        self.transform = transform\n",
        "        self.samples = self._gather_unlabeled_samples(root)\n",
        "\n",
        "    def _gather_unlabeled_samples(self, root):\n",
        "        samples = []\n",
        "        for filename in os.listdir(root):\n",
        "            if filename.endswith(\".jpg\"):\n",
        "                path = os.path.join(root, filename)\n",
        "                samples.append((path, -1))  # -1 indicates no label is provided\n",
        "        return samples\n",
        "\n",
        "    def __getitem__(self, index):\n",
        "        path, target = self.samples[index]\n",
        "        img = Image.open(path).convert('RGB')\n",
        "        img = self.transform(img) if self.transform is not None else img\n",
        "        return img, target\n",
        "\n",
        "    def __len__(self):\n",
        "        return len(self.samples)\n",
        "\n",
        "# Data loaders for all datasets\n",
        "def dataloader(batch_size=12, augment=False):\n",
        "    # Use augmented data for training if required\n",
        "    if augment:\n",
        "        train_dataset = ConcatDataset([ImageFolder('./train', transform=normalization), aug_train_dataset])\n",
        "    else:\n",
        "        train_dataset = ImageFolder('./train', transform=aug_normalization)\n",
        "        \n",
        "    val_dataset = ImageFolder('./val', transform=normalization)\n",
        "    unlabeled_dataset = UnlabeledDataset('./unlabeled', transform=normalization)\n",
        "\n",
        "    train_loader = DataLoader(dataset=train_dataset, batch_size=batch_size, shuffle=True)\n",
        "    unlabeled_loader = DataLoader(dataset=unlabeled_dataset, batch_size=batch_size, shuffle=True)\n",
        "    val_loader = DataLoader(dataset=val_dataset, batch_size=batch_size, shuffle=False)\n",
        "\n",
        "    # It takes time to count!\n",
        "    # Counts for augmented training set\n",
        "    benign_train_aug_count = sum([1 for _, label in train_dataset if label == 0.0])\n",
        "    malignant_train_aug_count = sum([1 for _, label in train_dataset if label == 1.0])\n",
        "\n",
        "    # Counts for augmented validation set\n",
        "    benign_val_aug_count = sum([1 for _, label in val_dataset if label == 0.0])\n",
        "    malignant_val_aug_count = sum([1 for _, label in val_dataset if label == 1.0])\n",
        "\n",
        "    print(f'After augmentation:\\n'\n",
        "          f'Training:\\n'\n",
        "          f'Benign images: {benign_train_aug_count}\\n'\n",
        "          f'Malignant images: {malignant_train_aug_count}\\n'\n",
        "          f'\\n'\n",
        "          f'Validation:\\n'\n",
        "          f'Benign images: {benign_val_aug_count}\\n'\n",
        "          f'Malignant images: {malignant_val_aug_count}\\n')\n",
        "\n",
        "    return train_loader, unlabeled_loader, val_loader\n",
        "\n",
        "# Load data\n",
        "batch_size = 32\n",
        "train_loader, unlabeled_loader, val_loader = dataloader(batch_size, augment=True)\n",
        "\n",
        "# Checkpoint\n",
        "print(f'Shape of image: {train_loader.dataset[0][0].shape}')\n",
        "print(f'Number of training batches: {len(train_loader)}')\n",
        "print(f'Number of unlabeled batches: {len(unlabeled_loader)}')\n",
        "print(f'Number of validation batches: {len(val_loader)}')"
      ]
    },
    {
      "cell_type": "markdown",
      "metadata": {
        "id": "zrEdDAUPmJtt"
      },
      "source": [
        "## 4: Build the models"
      ]
    },
    {
      "cell_type": "markdown",
      "source": [
        "### 4.1: ResNet-50"
      ],
      "metadata": {
        "id": "dvIjBXhgLbaC"
      }
    },
    {
      "cell_type": "code",
      "execution_count": 49,
      "metadata": {
        "id": "ggxJrmzPmP8L",
        "colab": {
          "base_uri": "https://localhost:8080/"
        },
        "outputId": "a3fba766-c178-479e-b0ce-8b093c78475e"
      },
      "outputs": [
        {
          "output_type": "stream",
          "name": "stdout",
          "text": [
            "Using dropout. p = 0.5\n"
          ]
        }
      ],
      "source": [
        "# 3x3 Convolutional Layer\n",
        "def conv3x3(in_planes, out_planes, stride=1):\n",
        "    return nn.Conv2d(in_planes, out_planes, kernel_size=3, stride=stride,\n",
        "                     padding=1, bias=False)\n",
        "\n",
        "# Basic Block with 2 Convolutional Layers\n",
        "class BasicBlock(nn.Module):\n",
        "    expansion = 1\n",
        "    def __init__(self, inplanes, planes, stride=1, downsample=None):\n",
        "        super(BasicBlock, self).__init__()\n",
        "        self.conv1 = conv3x3(inplanes, planes, stride)\n",
        "        self.bn1 = nn.BatchNorm2d(planes)\n",
        "        self.relu = nn.ReLU(inplace=True)\n",
        "        self.conv2 = conv3x3(planes, planes)\n",
        "        self.bn2 = nn.BatchNorm2d(planes)\n",
        "        self.downsample = downsample\n",
        "        self.stride = stride\n",
        "\n",
        "    def forward(self, x):\n",
        "        residual = x\n",
        "        out = self.conv1(x)\n",
        "        out = self.bn1(out)\n",
        "        out = self.relu(out)\n",
        "        out = self.conv2(out)\n",
        "        out = self.bn2(out)\n",
        "        if self.downsample is not None:\n",
        "            residual = self.downsample(x)\n",
        "        out += residual\n",
        "        out = self.relu(out)\n",
        "        return out\n",
        "\n",
        "# Bottleneck Block with 3 Convolutional Layers\n",
        "class Bottleneck(nn.Module):\n",
        "    expansion = 4\n",
        "    def __init__(self, inplanes, planes, stride=1, downsample=None):\n",
        "        super(Bottleneck, self).__init__()\n",
        "        self.conv1 = nn.Conv2d(inplanes, planes, kernel_size=1, bias=False)\n",
        "        self.bn1 = nn.BatchNorm2d(planes)\n",
        "        self.conv2 = nn.Conv2d(planes, planes, kernel_size=3, stride=stride,\n",
        "                               padding=1, bias=False)\n",
        "        self.bn2 = nn.BatchNorm2d(planes)\n",
        "        self.conv3 = nn.Conv2d(planes, planes * 4, kernel_size=1, bias=False)\n",
        "        self.bn3 = nn.BatchNorm2d(planes * 4)\n",
        "        self.relu = nn.ReLU(inplace=True)\n",
        "        self.downsample = downsample\n",
        "        self.stride = stride\n",
        "\n",
        "    def forward(self, x):\n",
        "        residual = x\n",
        "        out = self.conv1(x)\n",
        "        out = self.bn1(out)\n",
        "        out = self.relu(out)\n",
        "        out = self.conv2(out)\n",
        "        out = self.bn2(out)\n",
        "        out = self.relu(out)\n",
        "        out = self.conv3(out)\n",
        "        out = self.bn3(out)\n",
        "        if self.downsample is not None:\n",
        "            residual = self.downsample(x)\n",
        "        out += residual\n",
        "        out = self.relu(out)\n",
        "        return out\n",
        "\n",
        "# Customized ResNet Architecture\n",
        "class ResNet(nn.Module):\n",
        "    def __init__(self, block, layers, use_fc=False, dropout=None):\n",
        "        self.inplanes = 64\n",
        "        super(ResNet, self).__init__()\n",
        "        self.conv1 = nn.Conv2d(3, 64, kernel_size=7, stride=2, padding=3,bias=False)\n",
        "        self.bn1 = nn.BatchNorm2d(64)\n",
        "        self.relu = nn.ReLU(inplace=True)\n",
        "        self.maxpool = nn.MaxPool2d(kernel_size=3, stride=2, padding=1)\n",
        "        self.layer1 = self._make_layer(block, 64, layers[0])\n",
        "        self.layer2 = self._make_layer(block, 128, layers[1], stride=2)\n",
        "        self.layer3 = self._make_layer(block, 256, layers[2], stride=2)\n",
        "        self.layer4 = self._make_layer(block, 512, layers[3], stride=2)\n",
        "        self.avgpool = nn.AvgPool2d(7, stride=1)\n",
        "        self.use_fc = use_fc\n",
        "        self.use_dropout = True if dropout else False\n",
        "        if self.use_fc:\n",
        "            print('Using fc.')\n",
        "            self.fc_add = nn.Linear(512*block.expansion, 512)\n",
        "        if self.use_dropout:\n",
        "            print(f'Using dropout. p = {dropout}')\n",
        "            self.dropout = nn.Dropout(p=dropout)\n",
        "        for m in self.modules():\n",
        "            if isinstance(m, nn.Conv2d):\n",
        "                n = m.kernel_size[0] * m.kernel_size[1] * m.out_channels\n",
        "                m.weight.data.normal_(0, math.sqrt(2. / n))\n",
        "            elif isinstance(m, nn.BatchNorm2d):\n",
        "                m.weight.data.fill_(1)\n",
        "                m.bias.data.zero_()\n",
        "\n",
        "    def _make_layer(self, block, planes, blocks, stride=1):\n",
        "        downsample = None\n",
        "        if stride != 1 or self.inplanes != planes * block.expansion:\n",
        "            downsample = nn.Sequential(\n",
        "                nn.Conv2d(self.inplanes, planes * block.expansion,\n",
        "                          kernel_size=1, stride=stride, bias=False),\n",
        "                nn.BatchNorm2d(planes * block.expansion),\n",
        "            )\n",
        "        layers = []\n",
        "        layers.append(block(self.inplanes, planes, stride, downsample))\n",
        "        self.inplanes = planes * block.expansion\n",
        "        for i in range(1, blocks):\n",
        "            layers.append(block(self.inplanes, planes))\n",
        "        return nn.Sequential(*layers)\n",
        "\n",
        "    def forward(self, x, *args):\n",
        "        x = self.conv1(x)\n",
        "        x = self.bn1(x)\n",
        "        x = self.relu(x)\n",
        "        x = self.maxpool(x)\n",
        "        x = self.layer1(x)\n",
        "        x = self.layer2(x)\n",
        "        x = self.layer3(x)\n",
        "        x = self.layer4(x)\n",
        "        x = self.avgpool(x)\n",
        "        x = x.mean(dim=(-2, -1))\n",
        "        x = x.view(x.size(0), -1)\n",
        "        if self.use_fc:\n",
        "            x = F.relu(self.fc_add(x))\n",
        "        if self.use_dropout:\n",
        "            x = self.dropout(x)\n",
        "        return x\n",
        "\n",
        "# Create ResNet50 Model with / without Pre-trained Weights and dropout\n",
        "def get_resnet50(pre_trained=True):\n",
        "    Resnet50 = ResNet(Bottleneck, [3, 4, 6, 3], dropout=0.5)    # Dropout control (Default: None)\n",
        "    if pre_trained:\n",
        "        pre_trained_model = _resnet50(weights = \"IMAGENET1K_V2\")\n",
        "        pre_trained = pre_trained_model.state_dict()\n",
        "        new_weights = {k: pre_trained[k] for k in Resnet50.state_dict()}\n",
        "        Resnet50.load_state_dict(new_weights)\n",
        "    return Resnet50\n",
        "\n",
        "# Define the high-level model\n",
        "class ResnetModel(nn.Module):\n",
        "    def __init__(self, encoder, num_classes=1):\n",
        "        super(ResnetModel, self).__init__()\n",
        "        self.encoder = encoder\n",
        "        self.classifier = nn.Linear(2048, num_classes)\n",
        "        self.sigmoid = nn.Sigmoid()\n",
        "\n",
        "    def forward(self, x):\n",
        "        x = self.encoder(x)\n",
        "        x = self.classifier(x)\n",
        "        x = self.sigmoid(x)\n",
        "        return x\n",
        "    \n",
        "resnet50 = get_resnet50(pre_trained=True)\n",
        "resnet_model = ResnetModel(resnet50, 1)\n",
        "resnet_model = resnet_model.to(device)\n",
        "\n",
        "# Print the summary\n",
        "input_size = (3, 224, 224)  # Input size for ResNet-50 model (channels, height, width)\n",
        "#summary(model, input_size)"
      ]
    },
    {
      "cell_type": "markdown",
      "source": [
        "### 4.2: Focal Loss"
      ],
      "metadata": {
        "id": "987-gqQWKNw1"
      }
    },
    {
      "cell_type": "code",
      "source": [
        "# Focal Loss for Imbalanced Data\n",
        "# Alpha should be about the ratio of the classes, ratio = alpha : 1 - alpha\n",
        "# e.g. alpha = 0.75 for 3:1 ratio\n",
        "class BCEFocalLoss(nn.Module):\n",
        "    def __init__(self, gamma=3.0, alpha=0.75, reduction='mean'):\n",
        "        super(BCEFocalLoss, self).__init__()\n",
        "        self.gamma = gamma\n",
        "        self.alpha = alpha\n",
        "        self.reduction = reduction\n",
        "\n",
        "    def forward(self, logits, target):\n",
        "        alpha = self.alpha\n",
        "        gamma = self.gamma\n",
        "        loss = - alpha * (1 - logits) ** gamma * target * torch.log(logits) - \\\n",
        "               (1 - alpha) * logits ** gamma * (1 - target) * torch.log(1 - logits)\n",
        "        if self.reduction == 'mean':\n",
        "            loss = loss.mean()\n",
        "        elif self.reduction == 'sum':\n",
        "            loss = loss.sum()\n",
        "        return loss"
      ],
      "metadata": {
        "id": "auwlnJAdJzZ6"
      },
      "execution_count": 50,
      "outputs": []
    },
    {
      "cell_type": "markdown",
      "source": [
        "### 4.3: Mean Teacher Model"
      ],
      "metadata": {
        "id": "GMAGrmf6KLgw"
      }
    },
    {
      "cell_type": "code",
      "source": [
        "# Mean Teacher Model\n",
        "# Student model would be ResNet50 model\n",
        "class MeanTeacherModel(nn.Module):\n",
        "    # Core\n",
        "    def __init__(self, student_model, ema_decay):\n",
        "        super().__init__()\n",
        "        self.student_model = student_model\n",
        "        self.teacher_model = copy.deepcopy(student_model)\n",
        "        self.ema_decay = ema_decay\n",
        "\n",
        "    def forward(self, x):\n",
        "        return self.student_model(x)\n",
        "\n",
        "    def update_teacher_model(self, current_epoch, momentum=0.9995):\n",
        "        momentum = min(1 - 1/(current_epoch+1), self.ema_decay)\n",
        "        with torch.no_grad():\n",
        "            for student_params, teacher_params in zip(self.student_model.parameters(), self.teacher_model.parameters()):\n",
        "                teacher_params.data.mul_(momentum).add_((1 - momentum) * student_params.data)\n",
        "\n",
        "    # Adjust the weight of the consistency loss to rely on teacher's prediction\n",
        "    # The weight factor decreases from 1 to 0 during the first 15 epochs\n",
        "    def sigmoid_rampup(self, current_epoch):\n",
        "        current_epoch = np.clip(current_epoch, 0.0, 5.0)\n",
        "        phase = 1.0 - current_epoch / 5.0\n",
        "        return np.exp(-5.0 * phase * phase).astype(np.float32)\n",
        "\n",
        "    # The weight decreases from 100\n",
        "    def get_consistency_weight(self, epoch):\n",
        "        return 100*self.sigmoid_rampup(epoch)"
      ],
      "metadata": {
        "id": "Ra5-wO6dJ1DZ"
      },
      "execution_count": 55,
      "outputs": []
    },
    {
      "cell_type": "markdown",
      "source": [
        "## 5: Training"
      ],
      "metadata": {
        "id": "aDAKadvAKDJl"
      }
    },
    {
      "cell_type": "code",
      "execution_count": 58,
      "metadata": {
        "id": "fEkmU_zQ76oy",
        "colab": {
          "base_uri": "https://localhost:8080/"
        },
        "outputId": "332be4ed-be38-4db1-8cea-bca62b047895"
      },
      "outputs": [
        {
          "output_type": "stream",
          "name": "stdout",
          "text": [
            "Using dropout. p = 0.5\n",
            "Epoch [01/25],   Loss: 0.0144,   Train Acc: 69.44%,   Train AUC: 0.7548,   Val Acc: 64.44%,   Val AUC: 0.5582\n",
            "Epoch [02/25],   Loss: 0.0137,   Train Acc: 79.26%,   Train AUC: 0.8639,   Val Acc: 55.56%,   Val AUC: 0.5298\n",
            "Epoch [03/25],   Loss: 0.0231,   Train Acc: 80.93%,   Train AUC: 0.9058,   Val Acc: 75.56%,   Val AUC: 0.5618\n",
            "Epoch [04/25],   Loss: 0.0420,   Train Acc: 83.52%,   Train AUC: 0.9224,   Val Acc: 62.22%,   Val AUC: 0.4844\n",
            "Epoch [05/25],   Loss: 0.0473,   Train Acc: 87.78%,   Train AUC: 0.9594,   Val Acc: 66.67%,   Val AUC: 0.6062\n",
            "Epoch [06/25],   Loss: 0.0488,   Train Acc: 85.74%,   Train AUC: 0.9505,   Val Acc: 76.67%,   Val AUC: 0.6098\n",
            "Epoch [07/25],   Loss: 0.0440,   Train Acc: 87.59%,   Train AUC: 0.9474,   Val Acc: 77.78%,   Val AUC: 0.6098\n",
            "Epoch [08/25],   Loss: 0.0353,   Train Acc: 91.11%,   Train AUC: 0.9658,   Val Acc: 77.78%,   Val AUC: 0.4880\n",
            "Epoch [09/25],   Loss: 0.0334,   Train Acc: 88.89%,   Train AUC: 0.9626,   Val Acc: 76.67%,   Val AUC: 0.4498\n",
            "Epoch [10/25],   Loss: 0.0327,   Train Acc: 89.44%,   Train AUC: 0.9543,   Val Acc: 78.89%,   Val AUC: 0.4409\n",
            "Epoch [11/25],   Loss: 0.0264,   Train Acc: 87.59%,   Train AUC: 0.9586,   Val Acc: 76.67%,   Val AUC: 0.4507\n",
            "Epoch [12/25],   Loss: 0.0270,   Train Acc: 88.89%,   Train AUC: 0.9602,   Val Acc: 78.89%,   Val AUC: 0.4524\n",
            "Epoch [13/25],   Loss: 0.0244,   Train Acc: 90.00%,   Train AUC: 0.9656,   Val Acc: 77.78%,   Val AUC: 0.5013\n",
            "Epoch [14/25],   Loss: 0.0211,   Train Acc: 90.56%,   Train AUC: 0.9674,   Val Acc: 82.22%,   Val AUC: 0.5422\n",
            "Epoch [15/25],   Loss: 0.0230,   Train Acc: 89.81%,   Train AUC: 0.9660,   Val Acc: 82.22%,   Val AUC: 0.4276\n",
            "Epoch [16/25],   Loss: 0.0202,   Train Acc: 90.74%,   Train AUC: 0.9733,   Val Acc: 81.11%,   Val AUC: 0.5502\n",
            "Epoch [17/25],   Loss: 0.0184,   Train Acc: 90.00%,   Train AUC: 0.9733,   Val Acc: 82.22%,   Val AUC: 0.4649\n",
            "Epoch [18/25],   Loss: 0.0197,   Train Acc: 87.41%,   Train AUC: 0.9529,   Val Acc: 78.89%,   Val AUC: 0.4551\n",
            "Epoch [19/25],   Loss: 0.0161,   Train Acc: 87.78%,   Train AUC: 0.9579,   Val Acc: 80.00%,   Val AUC: 0.4302\n",
            "Epoch [20/25],   Loss: 0.0181,   Train Acc: 90.19%,   Train AUC: 0.9641,   Val Acc: 81.11%,   Val AUC: 0.4684\n",
            "Epoch [21/25],   Loss: 0.0174,   Train Acc: 89.81%,   Train AUC: 0.9713,   Val Acc: 80.00%,   Val AUC: 0.5076\n",
            "Epoch [22/25],   Loss: 0.0172,   Train Acc: 89.26%,   Train AUC: 0.9615,   Val Acc: 78.89%,   Val AUC: 0.5387\n",
            "Epoch [23/25],   Loss: 0.0164,   Train Acc: 90.93%,   Train AUC: 0.9672,   Val Acc: 78.89%,   Val AUC: 0.5307\n",
            "Epoch [24/25],   Loss: 0.0176,   Train Acc: 87.96%,   Train AUC: 0.9590,   Val Acc: 81.11%,   Val AUC: 0.4409\n",
            "Epoch [25/25],   Loss: 0.0191,   Train Acc: 88.52%,   Train AUC: 0.9602,   Val Acc: 82.22%,   Val AUC: 0.4613\n"
          ]
        }
      ],
      "source": [
        "# Define the function to train the model\n",
        "def train_mean_teacher(model, labeled_loader, unlabeled_loader, val_loader, optimizer, scheduler,\n",
        "                       consistency_criterion, supervised_criterion, device, epochs, batch_size):\n",
        "    # Clear GPU cache\n",
        "    if torch.cuda.is_available():\n",
        "        gc.collect()\n",
        "        torch.cuda.empty_cache()\n",
        "\n",
        "    loss_train_list = []\n",
        "    loss_supervised_list = []\n",
        "    loss_const_list = []\n",
        "    auc_train_list = []\n",
        "    acc_train_list = []\n",
        "    auc_val_list = []\n",
        "    acc_val_list = []\n",
        "\n",
        "    model.teacher_model.train()\n",
        "    \n",
        "    for epoch in range(epochs):\n",
        "        # Training\n",
        "        model.student_model.train()\n",
        "\n",
        "        unlabeled_lbl = []\n",
        "        unlabeled_pred = []\n",
        "        total_loss_train = 0\n",
        "        super_loss_train = 0\n",
        "        const_loss_train = 0\n",
        "    \n",
        "        for (labeled_imgs, labeled_targets), (unlabeled_imgs, _) in zip(labeled_loader, unlabeled_loader):\n",
        "            labeled_imgs = labeled_imgs.float().to(device)\n",
        "            labeled_targets = labeled_targets.float().unsqueeze(1).to(device)\n",
        "            unlabeled_imgs = unlabeled_imgs.float().to(device)\n",
        "            \n",
        "            optimizer.zero_grad()\n",
        "\n",
        "            # Labeled data\n",
        "            labeled_preds = model.student_model(labeled_imgs)\n",
        "            supervised_loss = supervised_criterion(labeled_preds, labeled_targets)\n",
        "            #print(supervised_loss)\n",
        "\n",
        "            # Unlabeled data\n",
        "            unlabeled_preds_student = model.student_model(unlabeled_imgs)\n",
        "            with torch.no_grad():\n",
        "                unlabeled_preds_teacher = model.teacher_model(unlabeled_imgs)\n",
        "                \n",
        "            unlabeled_pred.extend(unlabeled_preds_student.detach().cpu().numpy())\n",
        "            unlabeled_lbl.extend(np.around(unlabeled_preds_teacher.detach().cpu().numpy())) \n",
        "\n",
        "            # Consistency loss and total loss\n",
        "            consistency_weights = model.get_consistency_weight(epoch)\n",
        "            consistency_loss = consistency_weights\\\n",
        "                * consistency_criterion(unlabeled_preds_student, unlabeled_preds_teacher)\n",
        "            #print(consistency_loss)\n",
        "\n",
        "            total_loss = supervised_loss + consistency_loss\n",
        "\n",
        "            # Backward pass and optimization\n",
        "            total_loss.backward()\n",
        "            optimizer.step()\n",
        " \n",
        "            # Update teacher model parameters\n",
        "            model.update_teacher_model(current_epoch=epoch)\n",
        "            total_loss_train += total_loss.item()\n",
        "            super_loss_train += supervised_loss.item()\n",
        "            const_loss_train += consistency_loss.item()\n",
        "\n",
        "        # Unlabeled metrics\n",
        "        unlabeled_lbl, unlabeled_pred = np.array(unlabeled_lbl), np.array(unlabeled_pred)\n",
        "        # Check for NaN in the labels\n",
        "        if np.isnan(unlabeled_lbl).any() or np.isnan(unlabeled_pred).any():\n",
        "            print(f\"NaN values found in unlabeled_lbl/pred for epoch {epoch+1}. Skip calculating metrics.\")\n",
        "            acc_train, auc_train = np.nan, np.nan\n",
        "        else:\n",
        "            acc_train = accuracy_score(unlabeled_lbl, np.round(unlabeled_pred))\n",
        "            if len(np.unique(unlabeled_lbl)) > 1:\n",
        "                auc_train = roc_auc_score(unlabeled_lbl, unlabeled_pred)\n",
        "            else:\n",
        "                print(f\"Only one class present in unlabeled_lbl/pred for epoch {epoch+1}, AUC is not defined.\")\n",
        "                auc_train = np.nan\n",
        "        acc_train_list.append(acc_train)\n",
        "        auc_train_list.append(auc_train)\n",
        "\n",
        "        # Validation\n",
        "        model.student_model.eval()\n",
        "\n",
        "        val_lbl = []\n",
        "        val_pred = []\n",
        "        \n",
        "        for (imgs, targets) in val_loader:\n",
        "            imgs = imgs.float().to(device)\n",
        "            targets = targets.float().unsqueeze(1).to(device)\n",
        "            preds = model.student_model(imgs)\n",
        "            val_pred.extend(preds.detach().cpu().numpy())\n",
        "            val_lbl.extend(targets.detach().cpu().numpy())\n",
        "        \n",
        "        # Validation metrics\n",
        "        val_lbl, val_pred = np.array(val_lbl), np.array(val_pred)\n",
        "        # Check for NaN in the labels\n",
        "        if np.isnan(val_lbl).any() or np.isnan(val_pred).any():\n",
        "            print(f\"NaN values found in val_lbl/pred for epoch {epoch+1}. Skip calculating metrics.\")\n",
        "            acc_val, auc_val = np.nan, np.nan\n",
        "        else:\n",
        "            acc_val = accuracy_score(val_lbl, np.round(val_pred))\n",
        "            if len(np.unique(val_lbl)) > 1:\n",
        "                auc_val = roc_auc_score(val_lbl, val_pred)\n",
        "            else:\n",
        "                print(f\"Only one class present in val_lbl/pred for epoch {epoch+1}, AUC is not defined.\")\n",
        "                auc_val = np.nan\n",
        "        acc_val_list.append(acc_val)\n",
        "        auc_val_list.append(auc_val)\n",
        "\n",
        "        loss_train_list.append(total_loss_train)\n",
        "        loss_const_list.append(const_loss_train)\n",
        "        loss_supervised_list.append(super_loss_train)\n",
        "\n",
        "        # Learning rate scheduler\n",
        "        scheduler.step()\n",
        "\n",
        "        # Epoch summary\n",
        "        print(f\"Epoch [{epoch+1:02}/{epochs}],   \"\n",
        "              f\"Loss: {total_loss_train/len(labeled_loader):.4f},   \"\n",
        "              f\"Train Acc: {acc_train*100:.2f}%,   \"\n",
        "              f\"Train AUC: {auc_train:.4f},   \"\n",
        "              f\"Val Acc: {acc_val*100:.2f}%,   \"\n",
        "              f\"Val AUC: {auc_val:.4f}\")\n",
        "\n",
        "        # Clear GPU cache\n",
        "        if torch.cuda.is_available():\n",
        "            gc.collect()\n",
        "            torch.cuda.empty_cache()\n",
        "\n",
        "    return model, loss_train_list, loss_const_list, loss_supervised_list, acc_train_list, auc_train_list, acc_val_list, auc_val_list\n",
        "\n",
        "# Load ResNet50 as Student model and Mean Teacher model\n",
        "resnet_model = get_resnet50(pre_trained=True)\n",
        "base_model = ResnetModel(resnet_model, 1)\n",
        "base_model = base_model.to(device)\n",
        "\n",
        "mean_teacher_model = MeanTeacherModel(base_model, ema_decay=0.99)\n",
        "mean_teacher_model = mean_teacher_model.to(device)\n",
        "\n",
        "# Optimizer and loss functions\n",
        "optimizer = Adam(mean_teacher_model.parameters(), lr=1e-4, weight_decay=1e-5)\n",
        "consistency_criterion = nn.MSELoss()\n",
        "supervised_criterion = BCEFocalLoss()\n",
        "\n",
        "epochs = 25\n",
        "scheduler = CosineAnnealingLR(optimizer=optimizer, T_max=epochs)\n",
        "\n",
        "# Run training\n",
        "mean_teacher_model, loss_train_list, loss_const_list, loss_supervised_list, acc_train_list,\\\n",
        "auc_train_list, acc_val_list, auc_val_list = train_mean_teacher(\n",
        "    mean_teacher_model, train_loader, unlabeled_loader, val_loader, optimizer, scheduler,\n",
        "    consistency_criterion, supervised_criterion, device, epochs, batch_size\n",
        ")"
      ]
    },
    {
      "cell_type": "markdown",
      "metadata": {
        "id": "HlKYDx8JI4_M"
      },
      "source": [
        "## 6: Results"
      ]
    },
    {
      "cell_type": "code",
      "execution_count": 59,
      "metadata": {
        "id": "PB3pjrhWneY_",
        "colab": {
          "base_uri": "https://localhost:8080/",
          "height": 1000
        },
        "outputId": "34f27f69-389c-4c9f-80ff-7e9c1ae6ac97"
      },
      "outputs": [
        {
          "output_type": "display_data",
          "data": {
            "text/plain": [
              "<Figure size 640x480 with 1 Axes>"
            ],
            "image/png": "[encoded data removed]"
          },
          "metadata": {}
        },
        {
          "output_type": "display_data",
          "data": {
            "text/plain": [
              "<Figure size 640x480 with 1 Axes>"
            ],
            "image/png": "[encoded data removed]"
          },
          "metadata": {}
        },
        {
          "output_type": "display_data",
          "data": {
            "text/plain": [
              "<Figure size 640x480 with 1 Axes>"
            ],
            "image/png": "[encoded data removed]"
          },
          "metadata": {}
        }
      ],
      "source": [
        "# Plot loss curve\n",
        "fig = plt.figure()\n",
        "plt.plot(loss_train_list, label='Total Loss')\n",
        "plt.plot(loss_supervised_list, label='Supervised Loss')\n",
        "plt.plot(loss_const_list, label='Consistency Loss')\n",
        "plt.xlabel('Epoch')\n",
        "plt.ylabel('Loss')\n",
        "plt.title('Loss Curve')\n",
        "plt.legend()\n",
        "plt.show()\n",
        "\n",
        "# Plot accuracy curve\n",
        "fig = plt.figure()\n",
        "plt.plot(acc_train_list, label='Training Accuracy')\n",
        "plt.plot(acc_val_list, label='Validation Accuracy')\n",
        "plt.xlabel('Epoch')\n",
        "plt.ylabel('Accuracy')\n",
        "plt.title('Accuracy Curve')\n",
        "plt.legend()\n",
        "plt.show()\n",
        "\n",
        "# Plot AUC curve\n",
        "fig = plt.figure()\n",
        "plt.plot(auc_train_list, label='Training AUC')\n",
        "plt.plot(auc_val_list, label='Validation AUC')\n",
        "plt.xlabel('Epoch')\n",
        "plt.ylabel('AUC')\n",
        "plt.title('AUC Curve')\n",
        "plt.legend()\n",
        "plt.show()"
      ]
    }
  ],
  "metadata": {
    "accelerator": "GPU",
    "colab": {
      "provenance": [],
      "gpuType": "V100"
    },
    "gpuClass": "standard",
    "kernelspec": {
      "display_name": "Python 3",
      "language": "python",
      "name": "python3"
    },
    "language_info": {
      "codemirror_mode": {
        "name": "ipython",
        "version": 3
      },
      "file_extension": ".py",
      "mimetype": "text/x-python",
      "name": "python",
      "nbconvert_exporter": "python",
      "pygments_lexer": "ipython3",
      "version": "3.7.13"
    },
    "vscode": {
      "interpreter": {
        "hash": "0f056848cf5d2396a4970b625f23716aa539c2ff5334414c1b5d98d7daae66f6"
      }
    }
  },
  "nbformat": 4,
  "nbformat_minor": 0
}