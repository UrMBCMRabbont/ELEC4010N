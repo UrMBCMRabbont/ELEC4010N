{
 "cells": [
  {
   "cell_type": "markdown",
   "metadata": {
    "id": "ApwjF_gNfBov"
   },
   "source": [
    "## ELEC4010N Assignment-01\n",
    "\n",
    "Name:Lai Bo-Rong\n",
    "\n",
    "Studen ID: 20737984\n",
    "\n",
    "- Problem 1 (40%)\n",
    "\n",
    "- Problem 2 (60%)"
   ]
  },
  {
   "cell_type": "code",
   "execution_count": 7,
   "metadata": {
    "colab": {
     "base_uri": "https://localhost:8080/"
    },
    "executionInfo": {
     "elapsed": 19061,
     "status": "ok",
     "timestamp": 1677563184735,
     "user": {
      "displayName": "BonKong Lai",
      "userId": "14934257860777894140"
     },
     "user_tz": -480
    },
    "id": "ZZXtL5eVkF82",
    "outputId": "7489e8e5-b7b2-421f-f7c9-35f3ecc1d819"
   },
   "outputs": [
    {
     "name": "stdout",
     "output_type": "stream",
     "text": [
      "Mounted at /content/gdrive\n"
     ]
    }
   ],
   "source": [
    "from google.colab import drive\n",
    "drive.mount('/content/gdrive')"
   ]
  },
  {
   "cell_type": "code",
   "execution_count": 6,
   "metadata": {
    "executionInfo": {
     "elapsed": 2699,
     "status": "ok",
     "timestamp": 1677563161688,
     "user": {
      "displayName": "BonKong Lai",
      "userId": "14934257860777894140"
     },
     "user_tz": -480
    },
    "id": "MiRMnBEmMc26"
   },
   "outputs": [],
   "source": [
    "# import packages\n",
    "import torch\n",
    "import numpy as np\n",
    "from torch import nn\n",
    "from torchvision import datasets, transforms\n",
    "from tqdm import tqdm\n",
    "import torch.optim as optim \n",
    "import torch.nn.functional as F\n",
    "from matplotlib import pyplot as plt"
   ]
  },
  {
   "cell_type": "code",
   "execution_count": 8,
   "metadata": {
    "colab": {
     "base_uri": "https://localhost:8080/",
     "height": 423,
     "referenced_widgets": [
      "71adf055b9b847a5a4b1f01e11788c93",
      "41bba834b110487eab09cf51e3425994",
      "9bd04a927cd24426931e3976181e9bb1",
      "fce8066fe12f4c3c84a15f3405053b27",
      "422206424acf4b409a3f0626597d7ade",
      "01cb592a873e44339f98d48adbe4cd5d",
      "0f64b58f077d47e69f0b3e393194a235",
      "317c6e1c1c794eb4a06eb49461f01ea5",
      "90c93af29cb54b69ae50a95bca1e08a3",
      "cc16d7a572bd4cdcadbd414611f05405",
      "c91f297e19324b43a3d725a867d619a1",
      "938097ab8b754079b9cd7b1a9ca2b802",
      "e0135135493147488da40e3c05768df6",
      "bea29ecae32845b4bcdc5a95de333f9b",
      "9918b6fea44b4350beaa67e3fa7f68c1",
      "94e799599ee7418b857ee95452012c56",
      "79b10e5ac902494eb17f64dec4298d17",
      "2c42e5ca15b5422c8eb2c45f7d74e4ab",
      "cde299da530e4a5caead4333d64a4af5",
      "d6f738a6f61b470d9ccb0cbbabbadb36",
      "d0894a580db84571992ce8114cfd74f4",
      "3942260c738e45bb9f1e32d9de05516d",
      "d306bcb5f34c4cca8692713b7df4e1fd",
      "9bc71281c3ac4fa195e08f2476ed5818",
      "d175abf567954d10af2d72288dd9dd40",
      "f47f501da1294a0086c6ee687f99600d",
      "cf294af7008247a4b3e619436e3974cc",
      "5ef37a9dfbbf4c939b65800a3063c5c0",
      "d0ab39abeef447d88db86950972ce439",
      "7e4cd1359f9942d79ad30b6f22574a55",
      "fb20e27fbbef4910815d9b61f5db9c5c",
      "bbe5e420b8774a72834e615f876c4cdd",
      "cce2398c4b6849e8b35c2fb175da63c2",
      "0358635f9071407a8a3618fa9270b04a",
      "1ce91545fdf14907b23c76df64b5df90",
      "01e9c4cbbbe44ed7b984846bcd13f075",
      "c2579385c6d94230bdd1086394759c3d",
      "42c4df164c7843d7a9f525f53159f16e",
      "e0d084fc0b5040fc81326b8024a93cab",
      "afb628f4e44148789f6f80b765436939",
      "c252477b5db24ed7bfc563534b26d8e7",
      "a6d93a69abee4b34a1f9afb21a0062c9",
      "ff54674e136344e0ab8f82a0c6082606",
      "4b3cbdcd8c43453f936fa5600f7a3805"
     ]
    },
    "executionInfo": {
     "elapsed": 1295,
     "status": "ok",
     "timestamp": 1677563186023,
     "user": {
      "displayName": "BonKong Lai",
      "userId": "14934257860777894140"
     },
     "user_tz": -480
    },
    "id": "lsNk1OslN67-",
    "outputId": "4041a5ed-4c03-4f18-a009-f6db1a118880"
   },
   "outputs": [
    {
     "name": "stdout",
     "output_type": "stream",
     "text": [
      "Downloading http://yann.lecun.com/exdb/mnist/train-images-idx3-ubyte.gz\n",
      "Downloading http://yann.lecun.com/exdb/mnist/train-images-idx3-ubyte.gz to ./data/MNIST/raw/train-images-idx3-ubyte.gz\n"
     ]
    },
    {
     "data": {
      "application/vnd.jupyter.widget-view+json": {
       "model_id": "71adf055b9b847a5a4b1f01e11788c93",
       "version_major": 2,
       "version_minor": 0
      },
      "text/plain": [
       "  0%|          | 0/9912422 [00:00<?, ?it/s]"
      ]
     },
     "metadata": {},
     "output_type": "display_data"
    },
    {
     "name": "stdout",
     "output_type": "stream",
     "text": [
      "Extracting ./data/MNIST/raw/train-images-idx3-ubyte.gz to ./data/MNIST/raw\n",
      "\n",
      "Downloading http://yann.lecun.com/exdb/mnist/train-labels-idx1-ubyte.gz\n",
      "Downloading http://yann.lecun.com/exdb/mnist/train-labels-idx1-ubyte.gz to ./data/MNIST/raw/train-labels-idx1-ubyte.gz\n"
     ]
    },
    {
     "data": {
      "application/vnd.jupyter.widget-view+json": {
       "model_id": "938097ab8b754079b9cd7b1a9ca2b802",
       "version_major": 2,
       "version_minor": 0
      },
      "text/plain": [
       "  0%|          | 0/28881 [00:00<?, ?it/s]"
      ]
     },
     "metadata": {},
     "output_type": "display_data"
    },
    {
     "name": "stdout",
     "output_type": "stream",
     "text": [
      "Extracting ./data/MNIST/raw/train-labels-idx1-ubyte.gz to ./data/MNIST/raw\n",
      "\n",
      "Downloading http://yann.lecun.com/exdb/mnist/t10k-images-idx3-ubyte.gz\n",
      "Downloading http://yann.lecun.com/exdb/mnist/t10k-images-idx3-ubyte.gz to ./data/MNIST/raw/t10k-images-idx3-ubyte.gz\n"
     ]
    },
    {
     "data": {
      "application/vnd.jupyter.widget-view+json": {
       "model_id": "d306bcb5f34c4cca8692713b7df4e1fd",
       "version_major": 2,
       "version_minor": 0
      },
      "text/plain": [
       "  0%|          | 0/1648877 [00:00<?, ?it/s]"
      ]
     },
     "metadata": {},
     "output_type": "display_data"
    },
    {
     "name": "stdout",
     "output_type": "stream",
     "text": [
      "Extracting ./data/MNIST/raw/t10k-images-idx3-ubyte.gz to ./data/MNIST/raw\n",
      "\n",
      "Downloading http://yann.lecun.com/exdb/mnist/t10k-labels-idx1-ubyte.gz\n",
      "Downloading http://yann.lecun.com/exdb/mnist/t10k-labels-idx1-ubyte.gz to ./data/MNIST/raw/t10k-labels-idx1-ubyte.gz\n"
     ]
    },
    {
     "data": {
      "application/vnd.jupyter.widget-view+json": {
       "model_id": "0358635f9071407a8a3618fa9270b04a",
       "version_major": 2,
       "version_minor": 0
      },
      "text/plain": [
       "  0%|          | 0/4542 [00:00<?, ?it/s]"
      ]
     },
     "metadata": {},
     "output_type": "display_data"
    },
    {
     "name": "stdout",
     "output_type": "stream",
     "text": [
      "Extracting ./data/MNIST/raw/t10k-labels-idx1-ubyte.gz to ./data/MNIST/raw\n",
      "\n"
     ]
    }
   ],
   "source": [
    "# load MNIST dataset\n",
    "transform = transforms.Compose([\n",
    "    transforms.ToTensor(),\n",
    "    transforms.Normalize(\n",
    "        mean=0.5,\n",
    "        std=0.5\n",
    "    )\n",
    "])\n",
    "\n",
    "data_train = datasets.MNIST(\n",
    "    root=\"./data/\",\n",
    "    transform=transform,\n",
    "    train=True,\n",
    "    download=True\n",
    ")\n",
    "\n",
    "data_test = datasets.MNIST(\n",
    "    root=\"./data/\",\n",
    "    transform=transform,\n",
    "    train=False\n",
    ")\n",
    "\n",
    "loader_train = torch.utils.data.DataLoader(\n",
    "    dataset=data_train,\n",
    "    batch_size=64,\n",
    "    shuffle=True\n",
    ")\n",
    "\n",
    "loader_test = torch.utils.data.DataLoader(\n",
    "    dataset=data_test,\n",
    "    batch_size=64,\n",
    "    shuffle=True\n",
    ")"
   ]
  },
  {
   "cell_type": "code",
   "execution_count": 9,
   "metadata": {
    "colab": {
     "base_uri": "https://localhost:8080/",
     "height": 101,
     "referenced_widgets": [
      "5933e58299ef491eaad912421a04524e",
      "b579c62a2710416e9d3ae28fc05f5953",
      "f77e5f2a103345799742bb1a0b25db7f",
      "e077ff5550dc452ab7409a994e67df6b",
      "30c93a9403c54117829d08ebd488ae00",
      "eb728a6c035845de9dce4ed290640055",
      "32239e51b69a41b1ae25af4e5fcf2121",
      "824dc2c39aa04b76bdb91097c60cf448",
      "fef31003bde74eaca02de355ee28dcac",
      "91ba02a4243e4808bf046ed264c74332",
      "014013763bff42f083e8eff118e3c46f"
     ]
    },
    "executionInfo": {
     "elapsed": 38148,
     "status": "ok",
     "timestamp": 1677563224167,
     "user": {
      "displayName": "BonKong Lai",
      "userId": "14934257860777894140"
     },
     "user_tz": -480
    },
    "id": "sO9I1NbYQuZr",
    "outputId": "ba52b46b-6baf-4e8f-bc68-4b2ce31f83f2"
   },
   "outputs": [
    {
     "name": "stdout",
     "output_type": "stream",
     "text": [
      "Downloading https://www.itl.nist.gov/iaui/vip/cs_links/EMNIST/gzip.zip to data/EMNIST/raw/gzip.zip\n"
     ]
    },
    {
     "data": {
      "application/vnd.jupyter.widget-view+json": {
       "model_id": "5933e58299ef491eaad912421a04524e",
       "version_major": 2,
       "version_minor": 0
      },
      "text/plain": [
       "  0%|          | 0/561753746 [00:00<?, ?it/s]"
      ]
     },
     "metadata": {},
     "output_type": "display_data"
    },
    {
     "name": "stdout",
     "output_type": "stream",
     "text": [
      "Extracting data/EMNIST/raw/gzip.zip to data/EMNIST/raw\n",
      "train set size: 90240, validation set size: 22560\n"
     ]
    }
   ],
   "source": [
    "# load EMNIST dataset\n",
    "train_set = datasets.EMNIST(\n",
    "    root=\"data\", \n",
    "    split=\"balanced\", \n",
    "    download=\"True\",\n",
    "    train=True, \n",
    "    transform=transform\n",
    ")\n",
    "\n",
    "test_set = datasets.EMNIST(\n",
    "    root=\"data\", \n",
    "    split=\"balanced\", \n",
    "    download=\"True\",\n",
    "    train=False, \n",
    "    transform=transform\n",
    "\n",
    ")\n",
    "entire_trainset = torch.utils.data.DataLoader(train_set, shuffle=True)\n",
    "\n",
    "split_train_size = int(0.8*(len(entire_trainset)))  # use 80% as train set\n",
    "split_valid_size = len(entire_trainset) - split_train_size  # use 20% as validation set\n",
    "\n",
    "train_set, val_set = torch.utils.data.random_split(\n",
    "    train_set, [split_train_size, split_valid_size])\n",
    "\n",
    "print(f'train set size: {split_train_size}, validation set size: {split_valid_size}')"
   ]
  },
  {
   "cell_type": "markdown",
   "metadata": {
    "id": "4r9vv7F8e_FK"
   },
   "source": [
    "### Problem 1. Train a four-layer MLP on MNIST dataset (40%)\n",
    "\n",
    "Use a four-layer MLP to train the MNIST dataset. \n",
    "\n",
    "| Layer |  Type  |       Input       |      Output       | Activation |\n",
    "| :---: | :----: | :---------------: | :---------------: | :--------: |\n",
    "|   1   | Linear |      28 * 28      |         128         |    ReLU    |\n",
    "|   2   | Linear |         128         |        64         |    ReLU    |\n",
    "|   3   | Linear |        64         |        32         |    ReLU    |\n",
    "|   4   | Linear |       32         |        10         |     -      |\n",
    "\n",
    "\n",
    "a.) Implement the function `__init__` and `forward` in `Model` (15%);\n",
    "\n",
    "b.) Implement the training code (15%).\n",
    "\n",
    "c.) Plot the curve of accuracy and loss(10%)."
   ]
  },
  {
   "cell_type": "code",
   "execution_count": 5,
   "metadata": {
    "executionInfo": {
     "elapsed": 3,
     "status": "ok",
     "timestamp": 1677557225177,
     "user": {
      "displayName": "BonKong Lai",
      "userId": "14934257860777894140"
     },
     "user_tz": -480
    },
    "id": "5A8NgdpjO8Gs"
   },
   "outputs": [],
   "source": [
    "class Model(nn.Module):\n",
    "    def __init__(self):\n",
    "        super(Model, self).__init__()\n",
    "        ## ----- write your code here\n",
    "        self.linear1 = nn.Linear(in_features=784, out_features=128)\n",
    "        self.linear2 = nn.Linear(128, 64)\n",
    "        self.linear3 = nn.Linear(64, 32)\n",
    "        self.linear4 = nn.Linear(32, 10)\n",
    "        self.Relu = nn.ReLU(inplace=True)\n",
    "\n",
    "\n",
    "    def forward(self, x):\n",
    "        ## ----- write your code here        \n",
    "        x = torch.flatten(x, start_dim=1, end_dim=3)\n",
    "        x = self.linear1(x)\n",
    "        self.Relu(x)\n",
    "        x = self.linear2(x)\n",
    "        self.Relu(x)\n",
    "        x = self.linear3(x)\n",
    "        self.Relu(x)\n",
    "        x = self.linear4(x)        \n",
    "      \n",
    "        return x"
   ]
  },
  {
   "cell_type": "code",
   "execution_count": 7,
   "metadata": {
    "colab": {
     "base_uri": "https://localhost:8080/"
    },
    "executionInfo": {
     "elapsed": 211358,
     "status": "ok",
     "timestamp": 1677557457072,
     "user": {
      "displayName": "BonKong Lai",
      "userId": "14934257860777894140"
     },
     "user_tz": -480
    },
    "id": "gwwrK_2spxM1",
    "outputId": "59f4d3ae-3781-4650-dc57-97b81afccd1b"
   },
   "outputs": [
    {
     "name": "stdout",
     "output_type": "stream",
     "text": [
      " -- Epoch 1/10\n"
     ]
    },
    {
     "name": "stderr",
     "output_type": "stream",
     "text": [
      "100%|██████████| 938/938 [00:17<00:00, 52.76it/s]\n"
     ]
    },
    {
     "name": "stdout",
     "output_type": "stream",
     "text": [
      "Loss 0.0083, Train Accuracy 83.1283%, Test Accuracy 92.9600%\n",
      " -- Epoch 2/10\n"
     ]
    },
    {
     "name": "stderr",
     "output_type": "stream",
     "text": [
      "100%|██████████| 938/938 [00:21<00:00, 44.34it/s]\n"
     ]
    },
    {
     "name": "stdout",
     "output_type": "stream",
     "text": [
      "Loss 0.0030, Train Accuracy 94.2017%, Test Accuracy 94.7200%\n",
      " -- Epoch 3/10\n"
     ]
    },
    {
     "name": "stderr",
     "output_type": "stream",
     "text": [
      "100%|██████████| 938/938 [00:18<00:00, 50.27it/s]\n"
     ]
    },
    {
     "name": "stdout",
     "output_type": "stream",
     "text": [
      "Loss 0.0022, Train Accuracy 95.6917%, Test Accuracy 95.6600%\n",
      " -- Epoch 4/10\n"
     ]
    },
    {
     "name": "stderr",
     "output_type": "stream",
     "text": [
      "100%|██████████| 938/938 [00:17<00:00, 53.12it/s]\n"
     ]
    },
    {
     "name": "stdout",
     "output_type": "stream",
     "text": [
      "Loss 0.0017, Train Accuracy 96.5517%, Test Accuracy 96.8200%\n",
      " -- Epoch 5/10\n"
     ]
    },
    {
     "name": "stderr",
     "output_type": "stream",
     "text": [
      "100%|██████████| 938/938 [00:18<00:00, 50.25it/s]\n"
     ]
    },
    {
     "name": "stdout",
     "output_type": "stream",
     "text": [
      "Loss 0.0015, Train Accuracy 97.0333%, Test Accuracy 96.8500%\n",
      " -- Epoch 6/10\n"
     ]
    },
    {
     "name": "stderr",
     "output_type": "stream",
     "text": [
      "100%|██████████| 938/938 [00:17<00:00, 54.07it/s]\n"
     ]
    },
    {
     "name": "stdout",
     "output_type": "stream",
     "text": [
      "Loss 0.0013, Train Accuracy 97.3600%, Test Accuracy 96.7200%\n",
      " -- Epoch 7/10\n"
     ]
    },
    {
     "name": "stderr",
     "output_type": "stream",
     "text": [
      "100%|██████████| 938/938 [00:18<00:00, 50.81it/s]\n"
     ]
    },
    {
     "name": "stdout",
     "output_type": "stream",
     "text": [
      "Loss 0.0011, Train Accuracy 97.7550%, Test Accuracy 96.5500%\n",
      " -- Epoch 8/10\n"
     ]
    },
    {
     "name": "stderr",
     "output_type": "stream",
     "text": [
      "100%|██████████| 938/938 [00:17<00:00, 53.38it/s]\n"
     ]
    },
    {
     "name": "stdout",
     "output_type": "stream",
     "text": [
      "Loss 0.0010, Train Accuracy 97.9600%, Test Accuracy 97.2400%\n",
      " -- Epoch 9/10\n"
     ]
    },
    {
     "name": "stderr",
     "output_type": "stream",
     "text": [
      "100%|██████████| 938/938 [00:18<00:00, 51.58it/s]\n"
     ]
    },
    {
     "name": "stdout",
     "output_type": "stream",
     "text": [
      "Loss 0.0009, Train Accuracy 98.1750%, Test Accuracy 97.6400%\n",
      " -- Epoch 10/10\n"
     ]
    },
    {
     "name": "stderr",
     "output_type": "stream",
     "text": [
      "100%|██████████| 938/938 [00:19<00:00, 48.35it/s]\n"
     ]
    },
    {
     "name": "stdout",
     "output_type": "stream",
     "text": [
      "Loss 0.0008, Train Accuracy 98.3333%, Test Accuracy 97.5600%\n"
     ]
    }
   ],
   "source": [
    "max_epoch = 10\n",
    "use_cuda = False\n",
    "\n",
    "# model initialization\n",
    "model = Model()\n",
    "if use_cuda:\n",
    "    model = model.cuda()\n",
    "\n",
    "# loss function\n",
    "criterion = nn.CrossEntropyLoss() ## ----- write your code here\n",
    "\n",
    "# optimizer\n",
    "optimizer = optim.SGD(model.parameters(), lr=0.01, momentum=0.9) ## ----- write your code here\n",
    "\n",
    "loss_list = []\n",
    "acc_train_list = []\n",
    "acc_test_list = []\n",
    "for epoch in range(max_epoch):\n",
    "    running_loss = 0.0\n",
    "    running_correct = 0\n",
    "    print(\" -- Epoch {}/{}\".format(epoch + 1, max_epoch))\n",
    "\n",
    "    # training\n",
    "    model.train()\n",
    "    for data in tqdm(loader_train):\n",
    "        # set all gradients to zero\n",
    "        optimizer.zero_grad()\n",
    "\n",
    "        # fetch data\n",
    "        images, labels = data\n",
    "        if use_cuda:\n",
    "            images = images.cuda()\n",
    "            labels = labels.cuda()\n",
    "        \n",
    "        # model forward\n",
    "        # print(\"this is images.shape: \", images.shape)\n",
    "        # print(\"this is labels.shape: \", labels.shape)\n",
    "        # print(\"this is labels: \", labels.dtype)\n",
    "        outputs = model(images) ## ----- write your code here\n",
    "        # print(\"this is outputs.shape: \", outputs.shape)\n",
    "        # calculate loss\n",
    "        loss = criterion(outputs, labels) ## ----- write your code here\n",
    "\n",
    "        # backward and optimize parameters\n",
    "        ## ----- write your code here\n",
    "        loss.backward()\n",
    "        optimizer.step()\n",
    "\n",
    "        pred = torch.argmax(outputs, dim=1)\n",
    "        running_loss += loss.item()\n",
    "        running_correct += torch.sum(pred == labels)\n",
    "    \n",
    "    # record loss, accuracy\n",
    "    loss = running_loss / len(data_train)\n",
    "    loss_list.append(loss)\n",
    "    acc_train = running_correct / len(data_train)\n",
    "    acc_train_list.append(acc_train.item())\n",
    "    \n",
    "    # testing\n",
    "    model.eval()\n",
    "    test_correct = 0\n",
    "    for data in loader_test:\n",
    "        # fetch data\n",
    "        # model forward\n",
    "        # record the correct\n",
    "        ## ----- write your code here\n",
    "        images, labels = data\n",
    "        if use_cuda:\n",
    "            images = images.cuda()\n",
    "            labels = labels.cuda()\n",
    "\n",
    "        outputs = model(images)\n",
    "        pred = torch.argmax(outputs, dim=1)\n",
    "        # print(\"This is pred.dtype\", pred.dtype)\n",
    "        # print(\"This is label.dtype\", pred.dtype)\n",
    "        for i in range(len(pred)):\n",
    "          if(pred[i] == labels[i]):\n",
    "            test_correct += 1\n",
    "            \n",
    "    acc_test = test_correct / len(data_test)\n",
    "    acc_test_list.append(acc_test)\n",
    "    print(\"Loss {:.4f}, Train Accuracy {:.4f}%, Test Accuracy {:.4f}%\".format(\n",
    "        loss,\n",
    "        acc_train * 100,\n",
    "        acc_test * 100\n",
    "    ))"
   ]
  },
  {
   "cell_type": "markdown",
   "metadata": {
    "id": "bo_qV1fOkdFI"
   },
   "source": [
    "c.) Plot loss and accuracy curve\n",
    "\n",
    "In the previous cell, you have recorded the loss and train/test accuracy in `loss_list`, `acc_train_list`, and `acc_test_list`, respectively. In this problem, you are required to plot two figures: 1.) training loss curve (5%); 2.) training and testing accuracy curves in the same figure (5%)."
   ]
  },
  {
   "cell_type": "code",
   "execution_count": 8,
   "metadata": {
    "colab": {
     "base_uri": "https://localhost:8080/",
     "height": 573
    },
    "executionInfo": {
     "elapsed": 631,
     "status": "ok",
     "timestamp": 1677557457675,
     "user": {
      "displayName": "BonKong Lai",
      "userId": "14934257860777894140"
     },
     "user_tz": -480
    },
    "id": "8ybynXZhTX32",
    "outputId": "63815151-8b0c-4f36-bc4a-280c8e03dc7b"
   },
   "outputs": [
    {
     "data": {
      "image/png": "[encoded data removed]",
      "text/plain": [
       "<Figure size 432x288 with 1 Axes>"
      ]
     },
     "metadata": {
      "needs_background": "light"
     },
     "output_type": "display_data"
    },
    {
     "data": {
      "image/png": "[encoded data removed]",
      "text/plain": [
       "<Figure size 432x288 with 1 Axes>"
      ]
     },
     "metadata": {
      "needs_background": "light"
     },
     "output_type": "display_data"
    }
   ],
   "source": [
    "## ----- write your code here\n",
    "plt.plot(loss_list)\n",
    "plt.title(\"Training loss\")\n",
    "plt.xlabel(\"Epoch\")\n",
    "plt.ylabel(\"Loss\")\n",
    "plt.figure()\n",
    "plt.plot(acc_train_list)\n",
    "plt.plot(acc_test_list)\n",
    "plt.title(\"Traning & Testing Acc\")\n",
    "plt.plot(acc_train_list, label=\"Train\")\n",
    "plt.plot(acc_test_list, label=\"Test\")\n",
    "plt.legend(loc=\"lower right\")\n",
    "plt.xlabel(\"Epoch\")\n",
    "plt.ylabel(\"Accuracy\")\n",
    "plt.show()"
   ]
  },
  {
   "cell_type": "markdown",
   "metadata": {
    "id": "GG389yDcsk1B"
   },
   "source": [
    "### Problem 2. Train a LeNet network on the EMINIST dataset (60%)\n",
    "\n",
    "a.) Implement the model and training code (30%);\n",
    "\n",
    "b.) Plot the loss and accuracy curves (10%);\n",
    "\n",
    "c.) Try different batchsize, learning rate or optimizer, Any findings? Discuss the reason and possible solutions (20%);"
   ]
  },
  {
   "cell_type": "code",
   "execution_count": 10,
   "metadata": {
    "executionInfo": {
     "elapsed": 3,
     "status": "ok",
     "timestamp": 1677563224168,
     "user": {
      "displayName": "BonKong Lai",
      "userId": "14934257860777894140"
     },
     "user_tz": -480
    },
    "id": "53h6r6b3tLLi"
   },
   "outputs": [],
   "source": [
    "## ----- write your code here.\n",
    "class LeNet(nn.Module):\n",
    "\n",
    "    # network structure\n",
    "    def __init__(self):\n",
    "        super(LeNet, self).__init__()\n",
    "        self.conv1 = nn.Conv2d(1, 6, 5, padding=2)\n",
    "        self.conv2 = nn.Conv2d(6, 16, 5)\n",
    "        self.fc1   = nn.Linear(16*5*5, 120)\n",
    "        self.fc2   = nn.Linear(120, 84)\n",
    "        self.fc3   = nn.Linear(84, 10)\n",
    "\n",
    "    def forward(self, x):\n",
    "        '''\n",
    "        One forward pass through the network.\n",
    "        \n",
    "        Args:\n",
    "            x: input\n",
    "        '''\n",
    "        x = F.max_pool2d(F.relu(self.conv1(x)), (2, 2)) ## (28+2-5)/1 + 1 -> 26/2 -> 13\n",
    "        x = F.max_pool2d(F.relu(self.conv2(x)), (2, 2)) ## (13-5)/1 + 1 -> maxpool(9) == 5 \n",
    "        x = x.view(-1, self.num_flat_features(x)) ## 64 x (16 channels * (5x5) pixels)\n",
    "        x = F.relu(self.fc1(x))\n",
    "        x = F.relu(self.fc2(x))\n",
    "        x = self.fc3(x)\n",
    "        return x\n",
    "\n",
    "    def num_flat_features(self, x):\n",
    "        '''\n",
    "        Get the number of features in a batch of tensors `x`.\n",
    "        '''\n",
    "        size = x.size()[1:]\n",
    "        return np.prod(size)"
   ]
  },
  {
   "cell_type": "code",
   "execution_count": 10,
   "metadata": {
    "colab": {
     "base_uri": "https://localhost:8080/"
    },
    "executionInfo": {
     "elapsed": 347141,
     "status": "ok",
     "timestamp": 1677557805438,
     "user": {
      "displayName": "BonKong Lai",
      "userId": "14934257860777894140"
     },
     "user_tz": -480
    },
    "id": "SF7JCmTOID99",
    "outputId": "ee883a45-dec4-4e99-d782-55dbcd77f12b"
   },
   "outputs": [
    {
     "name": "stdout",
     "output_type": "stream",
     "text": [
      " -- Epoch 1/10\n"
     ]
    },
    {
     "name": "stderr",
     "output_type": "stream",
     "text": [
      "100%|██████████| 938/938 [00:31<00:00, 29.94it/s]\n"
     ]
    },
    {
     "name": "stdout",
     "output_type": "stream",
     "text": [
      "Loss 0.0058, Train Accuracy 88.0217%, Test Accuracy 98.1200%\n",
      " -- Epoch 2/10\n"
     ]
    },
    {
     "name": "stderr",
     "output_type": "stream",
     "text": [
      "100%|██████████| 938/938 [00:30<00:00, 30.80it/s]\n"
     ]
    },
    {
     "name": "stdout",
     "output_type": "stream",
     "text": [
      "Loss 0.0010, Train Accuracy 98.0467%, Test Accuracy 98.2300%\n",
      " -- Epoch 3/10\n"
     ]
    },
    {
     "name": "stderr",
     "output_type": "stream",
     "text": [
      "100%|██████████| 938/938 [00:30<00:00, 31.00it/s]\n"
     ]
    },
    {
     "name": "stdout",
     "output_type": "stream",
     "text": [
      "Loss 0.0007, Train Accuracy 98.5133%, Test Accuracy 98.6100%\n",
      " -- Epoch 4/10\n"
     ]
    },
    {
     "name": "stderr",
     "output_type": "stream",
     "text": [
      "100%|██████████| 938/938 [00:30<00:00, 30.54it/s]\n"
     ]
    },
    {
     "name": "stdout",
     "output_type": "stream",
     "text": [
      "Loss 0.0006, Train Accuracy 98.9017%, Test Accuracy 98.6400%\n",
      " -- Epoch 5/10\n"
     ]
    },
    {
     "name": "stderr",
     "output_type": "stream",
     "text": [
      "100%|██████████| 938/938 [00:30<00:00, 30.87it/s]\n"
     ]
    },
    {
     "name": "stdout",
     "output_type": "stream",
     "text": [
      "Loss 0.0004, Train Accuracy 99.0917%, Test Accuracy 98.6800%\n",
      " -- Epoch 6/10\n"
     ]
    },
    {
     "name": "stderr",
     "output_type": "stream",
     "text": [
      "100%|██████████| 938/938 [00:31<00:00, 29.39it/s]\n"
     ]
    },
    {
     "name": "stdout",
     "output_type": "stream",
     "text": [
      "Loss 0.0004, Train Accuracy 99.2133%, Test Accuracy 98.8000%\n",
      " -- Epoch 7/10\n"
     ]
    },
    {
     "name": "stderr",
     "output_type": "stream",
     "text": [
      "100%|██████████| 938/938 [00:32<00:00, 28.86it/s]\n"
     ]
    },
    {
     "name": "stdout",
     "output_type": "stream",
     "text": [
      "Loss 0.0003, Train Accuracy 99.3117%, Test Accuracy 98.9200%\n",
      " -- Epoch 8/10\n"
     ]
    },
    {
     "name": "stderr",
     "output_type": "stream",
     "text": [
      "100%|██████████| 938/938 [00:30<00:00, 30.26it/s]\n"
     ]
    },
    {
     "name": "stdout",
     "output_type": "stream",
     "text": [
      "Loss 0.0003, Train Accuracy 99.4500%, Test Accuracy 98.9600%\n",
      " -- Epoch 9/10\n"
     ]
    },
    {
     "name": "stderr",
     "output_type": "stream",
     "text": [
      "100%|██████████| 938/938 [00:30<00:00, 30.44it/s]\n"
     ]
    },
    {
     "name": "stdout",
     "output_type": "stream",
     "text": [
      "Loss 0.0002, Train Accuracy 99.5400%, Test Accuracy 98.8900%\n",
      " -- Epoch 10/10\n"
     ]
    },
    {
     "name": "stderr",
     "output_type": "stream",
     "text": [
      "100%|██████████| 938/938 [00:31<00:00, 29.99it/s]\n"
     ]
    },
    {
     "name": "stdout",
     "output_type": "stream",
     "text": [
      "Loss 0.0002, Train Accuracy 99.5767%, Test Accuracy 98.8200%\n"
     ]
    }
   ],
   "source": [
    "max_epoch = 10\n",
    "use_cuda = False\n",
    "\n",
    "# model initialization\n",
    "model = LeNet()\n",
    "if use_cuda:\n",
    "    model = model.cuda()\n",
    "\n",
    "# loss function\n",
    "criterion = nn.CrossEntropyLoss()\n",
    "\n",
    "# optimizer\n",
    "optimizer = optim.SGD(model.parameters(), lr=0.01, momentum=0.9)\n",
    "\n",
    "loss_list = []\n",
    "acc_train_list = []\n",
    "acc_test_list = []\n",
    "for epoch in range(max_epoch):\n",
    "    running_loss = 0.0\n",
    "    running_correct = 0\n",
    "    print(\" -- Epoch {}/{}\".format(epoch + 1, max_epoch))\n",
    "\n",
    "    # training\n",
    "    model.train()\n",
    "    for data in tqdm(loader_train):\n",
    "        # set all gradients to zero\n",
    "        optimizer.zero_grad()\n",
    "\n",
    "        # fetch data\n",
    "        images, labels = data\n",
    "        if use_cuda:\n",
    "            images = images.cuda()\n",
    "            labels = labels.cuda()\n",
    "        \n",
    "        # model forward  \n",
    "        outputs = model(images)\n",
    "        # calculate loss\n",
    "        loss = criterion(outputs, labels)\n",
    "\n",
    "        # backward and optimize parameters\n",
    "      \n",
    "        loss.backward()\n",
    "        optimizer.step()\n",
    "\n",
    "        pred = torch.argmax(outputs, dim=1)\n",
    "        running_loss += loss.item()\n",
    "        running_correct += torch.sum(pred == labels)\n",
    "    \n",
    "    # record loss, accuracy\n",
    "    loss = running_loss / len(data_train)\n",
    "    loss_list.append(loss)\n",
    "    acc_train = running_correct / len(data_train)\n",
    "    acc_train_list.append(acc_train.item())\n",
    "    \n",
    "    # testing\n",
    "    model.eval()\n",
    "    test_correct = 0\n",
    "    for data in loader_test:\n",
    "        images, labels = data\n",
    "        if use_cuda:\n",
    "            images = images.cuda()\n",
    "            labels = labels.cuda()\n",
    "\n",
    "        outputs = model(images)\n",
    "        pred = torch.argmax(outputs, dim=1)\n",
    "        # print(\"This is pred.shape\", pred.shape)\n",
    "        # print(\"This is label.dtype\", pred.dtype)\n",
    "        test_correct += torch.sum(pred == labels)\n",
    "            \n",
    "    acc_test = test_correct / len(data_test)\n",
    "    acc_test_list.append(acc_test.item())\n",
    "    print(\"Loss {:.4f}, Train Accuracy {:.4f}%, Test Accuracy {:.4f}%\".format(\n",
    "        loss,\n",
    "        acc_train * 100,\n",
    "        acc_test * 100\n",
    "    ))"
   ]
  },
  {
   "cell_type": "code",
   "execution_count": 11,
   "metadata": {
    "colab": {
     "base_uri": "https://localhost:8080/",
     "height": 573
    },
    "executionInfo": {
     "elapsed": 379,
     "status": "ok",
     "timestamp": 1677557806158,
     "user": {
      "displayName": "BonKong Lai",
      "userId": "14934257860777894140"
     },
     "user_tz": -480
    },
    "id": "yGyaRqyulr-r",
    "outputId": "4f435ba1-e9b0-400b-c756-48c90448faab"
   },
   "outputs": [
    {
     "data": {
      "image/png": "[encoded data removed]",
      "text/plain": [
       "<Figure size 432x288 with 1 Axes>"
      ]
     },
     "metadata": {
      "needs_background": "light"
     },
     "output_type": "display_data"
    },
    {
     "data": {
      "image/png": "[encoded data removed]",
      "text/plain": [
       "<Figure size 432x288 with 1 Axes>"
      ]
     },
     "metadata": {
      "needs_background": "light"
     },
     "output_type": "display_data"
    }
   ],
   "source": [
    "plt.plot(loss_list)\n",
    "plt.title(\"Training loss\")\n",
    "plt.xlabel(\"Epoch\")\n",
    "plt.ylabel(\"Loss\")\n",
    "plt.figure()\n",
    "plt.plot(acc_train_list, label=\"Train\")\n",
    "plt.plot(acc_test_list, label=\"Test\")\n",
    "plt.legend(loc=\"lower right\")\n",
    "plt.title(\"Accuracy\")\n",
    "plt.xlabel(\"Epoch\")\n",
    "plt.ylabel(\"Accuracy\")\n",
    "plt.show()"
   ]
  },
  {
   "cell_type": "code",
   "execution_count": 11,
   "metadata": {
    "executionInfo": {
     "elapsed": 3,
     "status": "ok",
     "timestamp": 1677563224168,
     "user": {
      "displayName": "BonKong Lai",
      "userId": "14934257860777894140"
     },
     "user_tz": -480
    },
    "id": "KbuHYjehn_ea"
   },
   "outputs": [],
   "source": [
    "class OPT_CLASS():\n",
    "  def __init__(self, opt_str, param, lr, momentum, decay):\n",
    "    if(opt_str == \"SGD\"):\n",
    "      self.opt = optim.SGD(param, lr=lr, momentum=momentum)\n",
    "    elif(opt_str == \"Adagrad\"):\n",
    "      self.opt = optim.Adagrad(param, lr=lr)\n",
    "    elif(opt_str == \"Adam\"):\n",
    "      self.opt = optim.Adam(param, lr=lr)\n",
    "    elif(opt_str == \"RMSprop\"):\n",
    "      self.opt = optim.RMSprop(param, lr=lr, momentum=momentum)\n",
    "    \n",
    "  def optim(self):\n",
    "    return self.opt"
   ]
  },
  {
   "cell_type": "code",
   "execution_count": 18,
   "metadata": {
    "colab": {
     "base_uri": "https://localhost:8080/"
    },
    "executionInfo": {
     "elapsed": 630395,
     "status": "ok",
     "timestamp": 1677573457588,
     "user": {
      "displayName": "BonKong Lai",
      "userId": "14934257860777894140"
     },
     "user_tz": -480
    },
    "id": "dnN59XiNr_bX",
    "outputId": "83165495-4157-419e-a860-df32d770c778"
   },
   "outputs": [
    {
     "metadata": {
      "tags": null
     },
     "name": "stdout",
     "output_type": "stream",
     "text": [
      " -- Epoch 1/20\n"
     ]
    },
    {
     "metadata": {
      "tags": null
     },
     "name": "stderr",
     "output_type": "stream",
     "text": [
      "100%|██████████| 938/938 [00:16<00:00, 57.07it/s]\n"
     ]
    },
    {
     "metadata": {
      "tags": null
     },
     "name": "stdout",
     "output_type": "stream",
     "text": [
      "Loss 0.0034, Train Accuracy 93.1550%, Test Accuracy 97.8100%, Batch Size 64.0000, Learning Rate 0.0500000, Optimizer SGD\n",
      " -- Epoch 2/20\n"
     ]
    },
    {
     "metadata": {
      "tags": null
     },
     "name": "stderr",
     "output_type": "stream",
     "text": [
      "100%|██████████| 938/938 [00:16<00:00, 56.16it/s]\n"
     ]
    },
    {
     "metadata": {
      "tags": null
     },
     "name": "stdout",
     "output_type": "stream",
     "text": [
      "Loss 0.0009, Train Accuracy 98.2717%, Test Accuracy 98.2800%, Batch Size 64.0000, Learning Rate 0.0500000, Optimizer SGD\n",
      " -- Epoch 3/20\n"
     ]
    },
    {
     "metadata": {
      "tags": null
     },
     "name": "stderr",
     "output_type": "stream",
     "text": [
      "100%|██████████| 938/938 [00:17<00:00, 54.62it/s]\n"
     ]
    },
    {
     "metadata": {
      "tags": null
     },
     "name": "stdout",
     "output_type": "stream",
     "text": [
      "Loss 0.0007, Train Accuracy 98.6433%, Test Accuracy 98.6300%, Batch Size 64.0000, Learning Rate 0.0500000, Optimizer SGD\n",
      " -- Epoch 4/20\n"
     ]
    },
    {
     "metadata": {
      "tags": null
     },
     "name": "stderr",
     "output_type": "stream",
     "text": [
      "100%|██████████| 938/938 [00:17<00:00, 52.82it/s]\n"
     ]
    },
    {
     "metadata": {
      "tags": null
     },
     "name": "stdout",
     "output_type": "stream",
     "text": [
      "Loss 0.0006, Train Accuracy 98.9150%, Test Accuracy 98.7500%, Batch Size 64.0000, Learning Rate 0.0500000, Optimizer SGD\n",
      " -- Epoch 5/20\n"
     ]
    },
    {
     "metadata": {
      "tags": null
     },
     "name": "stderr",
     "output_type": "stream",
     "text": [
      "100%|██████████| 938/938 [00:16<00:00, 57.63it/s]\n"
     ]
    },
    {
     "metadata": {
      "tags": null
     },
     "name": "stdout",
     "output_type": "stream",
     "text": [
      "Loss 0.0005, Train Accuracy 98.9733%, Test Accuracy 98.4000%, Batch Size 64.0000, Learning Rate 0.0500000, Optimizer SGD\n",
      " -- Epoch 6/20\n"
     ]
    },
    {
     "metadata": {
      "tags": null
     },
     "name": "stderr",
     "output_type": "stream",
     "text": [
      "100%|██████████| 938/938 [00:16<00:00, 57.12it/s]\n"
     ]
    },
    {
     "metadata": {
      "tags": null
     },
     "name": "stdout",
     "output_type": "stream",
     "text": [
      "Loss 0.0005, Train Accuracy 99.1117%, Test Accuracy 98.7700%, Batch Size 64.0000, Learning Rate 0.0500000, Optimizer SGD\n",
      " -- Epoch 7/20\n"
     ]
    },
    {
     "metadata": {
      "tags": null
     },
     "name": "stderr",
     "output_type": "stream",
     "text": [
      "100%|██████████| 938/938 [00:16<00:00, 56.77it/s]\n"
     ]
    },
    {
     "metadata": {
      "tags": null
     },
     "name": "stdout",
     "output_type": "stream",
     "text": [
      "Loss 0.0004, Train Accuracy 99.2333%, Test Accuracy 98.1200%, Batch Size 64.0000, Learning Rate 0.0500000, Optimizer SGD\n",
      " -- Epoch 8/20\n"
     ]
    },
    {
     "metadata": {
      "tags": null
     },
     "name": "stderr",
     "output_type": "stream",
     "text": [
      "100%|██████████| 938/938 [00:16<00:00, 57.42it/s]\n"
     ]
    },
    {
     "metadata": {
      "tags": null
     },
     "name": "stdout",
     "output_type": "stream",
     "text": [
      "Loss 0.0004, Train Accuracy 99.3183%, Test Accuracy 98.8200%, Batch Size 64.0000, Learning Rate 0.0500000, Optimizer SGD\n",
      " -- Epoch 9/20\n"
     ]
    },
    {
     "metadata": {
      "tags": null
     },
     "name": "stderr",
     "output_type": "stream",
     "text": [
      "100%|██████████| 938/938 [00:16<00:00, 55.50it/s]\n"
     ]
    },
    {
     "metadata": {
      "tags": null
     },
     "name": "stdout",
     "output_type": "stream",
     "text": [
      "Loss 0.0004, Train Accuracy 99.3317%, Test Accuracy 98.7300%, Batch Size 64.0000, Learning Rate 0.0500000, Optimizer SGD\n",
      " -- Epoch 10/20\n"
     ]
    },
    {
     "metadata": {
      "tags": null
     },
     "name": "stderr",
     "output_type": "stream",
     "text": [
      "100%|██████████| 938/938 [00:16<00:00, 56.13it/s]\n"
     ]
    },
    {
     "metadata": {
      "tags": null
     },
     "name": "stdout",
     "output_type": "stream",
     "text": [
      "Loss 0.0002, Train Accuracy 99.5350%, Test Accuracy 98.9700%, Batch Size 64.0000, Learning Rate 0.0500000, Optimizer SGD\n",
      " -- Epoch 11/20\n"
     ]
    },
    {
     "metadata": {
      "tags": null
     },
     "name": "stderr",
     "output_type": "stream",
     "text": [
      "100%|██████████| 938/938 [00:16<00:00, 57.73it/s]\n"
     ]
    },
    {
     "metadata": {
      "tags": null
     },
     "name": "stdout",
     "output_type": "stream",
     "text": [
      "Loss 0.0003, Train Accuracy 99.4683%, Test Accuracy 98.4900%, Batch Size 64.0000, Learning Rate 0.0500000, Optimizer SGD\n",
      " -- Epoch 12/20\n"
     ]
    },
    {
     "metadata": {
      "tags": null
     },
     "name": "stderr",
     "output_type": "stream",
     "text": [
      "100%|██████████| 938/938 [00:16<00:00, 55.86it/s]\n"
     ]
    },
    {
     "metadata": {
      "tags": null
     },
     "name": "stdout",
     "output_type": "stream",
     "text": [
      "Loss 0.0003, Train Accuracy 99.4033%, Test Accuracy 98.7400%, Batch Size 64.0000, Learning Rate 0.0500000, Optimizer SGD\n",
      " -- Epoch 13/20\n"
     ]
    },
    {
     "metadata": {
      "tags": null
     },
     "name": "stderr",
     "output_type": "stream",
     "text": [
      "100%|██████████| 938/938 [00:16<00:00, 57.69it/s]\n"
     ]
    },
    {
     "metadata": {
      "tags": null
     },
     "name": "stdout",
     "output_type": "stream",
     "text": [
      "Loss 0.0002, Train Accuracy 99.5267%, Test Accuracy 98.7000%, Batch Size 64.0000, Learning Rate 0.0500000, Optimizer SGD\n",
      " -- Epoch 14/20\n"
     ]
    },
    {
     "metadata": {
      "tags": null
     },
     "name": "stderr",
     "output_type": "stream",
     "text": [
      "100%|██████████| 938/938 [00:16<00:00, 55.80it/s]\n"
     ]
    },
    {
     "metadata": {
      "tags": null
     },
     "name": "stdout",
     "output_type": "stream",
     "text": [
      "Loss 0.0003, Train Accuracy 99.5117%, Test Accuracy 98.9000%, Batch Size 64.0000, Learning Rate 0.0500000, Optimizer SGD\n",
      " -- Epoch 15/20\n"
     ]
    },
    {
     "metadata": {
      "tags": null
     },
     "name": "stderr",
     "output_type": "stream",
     "text": [
      "100%|██████████| 938/938 [00:16<00:00, 57.65it/s]\n"
     ]
    },
    {
     "metadata": {
      "tags": null
     },
     "name": "stdout",
     "output_type": "stream",
     "text": [
      "Loss 0.0003, Train Accuracy 99.5067%, Test Accuracy 98.0900%, Batch Size 64.0000, Learning Rate 0.0500000, Optimizer SGD\n",
      " -- Epoch 16/20\n"
     ]
    },
    {
     "metadata": {
      "tags": null
     },
     "name": "stderr",
     "output_type": "stream",
     "text": [
      "100%|██████████| 938/938 [00:17<00:00, 53.76it/s]\n"
     ]
    },
    {
     "metadata": {
      "tags": null
     },
     "name": "stdout",
     "output_type": "stream",
     "text": [
      "Loss 0.0004, Train Accuracy 99.3450%, Test Accuracy 98.8600%, Batch Size 64.0000, Learning Rate 0.0500000, Optimizer SGD\n",
      " -- Epoch 17/20\n"
     ]
    },
    {
     "metadata": {
      "tags": null
     },
     "name": "stderr",
     "output_type": "stream",
     "text": [
      "100%|██████████| 938/938 [00:17<00:00, 54.73it/s]\n"
     ]
    },
    {
     "metadata": {
      "tags": null
     },
     "name": "stdout",
     "output_type": "stream",
     "text": [
      "Loss 0.0002, Train Accuracy 99.5767%, Test Accuracy 99.0400%, Batch Size 64.0000, Learning Rate 0.0500000, Optimizer SGD\n",
      " -- Epoch 18/20\n"
     ]
    },
    {
     "metadata": {
      "tags": null
     },
     "name": "stderr",
     "output_type": "stream",
     "text": [
      "100%|██████████| 938/938 [00:16<00:00, 57.75it/s]\n"
     ]
    },
    {
     "metadata": {
      "tags": null
     },
     "name": "stdout",
     "output_type": "stream",
     "text": [
      "Loss 0.0003, Train Accuracy 99.5600%, Test Accuracy 98.8000%, Batch Size 64.0000, Learning Rate 0.0500000, Optimizer SGD\n",
      " -- Epoch 19/20\n"
     ]
    },
    {
     "metadata": {
      "tags": null
     },
     "name": "stderr",
     "output_type": "stream",
     "text": [
      "100%|██████████| 938/938 [00:17<00:00, 55.03it/s]\n"
     ]
    },
    {
     "metadata": {
      "tags": null
     },
     "name": "stdout",
     "output_type": "stream",
     "text": [
      "Loss 0.0003, Train Accuracy 99.4917%, Test Accuracy 98.6200%, Batch Size 64.0000, Learning Rate 0.0500000, Optimizer SGD\n",
      " -- Epoch 20/20\n"
     ]
    },
    {
     "metadata": {
      "tags": null
     },
     "name": "stderr",
     "output_type": "stream",
     "text": [
      "100%|██████████| 938/938 [00:16<00:00, 56.65it/s]\n"
     ]
    },
    {
     "metadata": {
      "tags": null
     },
     "name": "stdout",
     "output_type": "stream",
     "text": [
      "Loss 0.0002, Train Accuracy 99.7083%, Test Accuracy 98.8200%, Batch Size 64.0000, Learning Rate 0.0500000, Optimizer SGD\n",
      "Current Acc: 98.6170\n",
      " -- Epoch 1/20\n"
     ]
    },
    {
     "metadata": {
      "tags": null
     },
     "name": "stderr",
     "output_type": "stream",
     "text": [
      "100%|██████████| 938/938 [00:16<00:00, 56.00it/s]\n"
     ]
    },
    {
     "metadata": {
      "tags": null
     },
     "name": "stdout",
     "output_type": "stream",
     "text": [
      "Loss 0.0354, Train Accuracy 21.0700%, Test Accuracy 41.9800%, Batch Size 64.0000, Learning Rate 0.0005000, Optimizer SGD\n",
      " -- Epoch 2/20\n"
     ]
    },
    {
     "metadata": {
      "tags": null
     },
     "name": "stderr",
     "output_type": "stream",
     "text": [
      "100%|██████████| 938/938 [00:17<00:00, 54.56it/s]\n"
     ]
    },
    {
     "metadata": {
      "tags": null
     },
     "name": "stdout",
     "output_type": "stream",
     "text": [
      "Loss 0.0175, Train Accuracy 69.4733%, Test Accuracy 88.2000%, Batch Size 64.0000, Learning Rate 0.0005000, Optimizer SGD\n",
      " -- Epoch 3/20\n"
     ]
    },
    {
     "metadata": {
      "tags": null
     },
     "name": "stderr",
     "output_type": "stream",
     "text": [
      "100%|██████████| 938/938 [00:16<00:00, 57.00it/s]\n"
     ]
    },
    {
     "metadata": {
      "tags": null
     },
     "name": "stdout",
     "output_type": "stream",
     "text": [
      "Loss 0.0051, Train Accuracy 90.2867%, Test Accuracy 93.3100%, Batch Size 64.0000, Learning Rate 0.0005000, Optimizer SGD\n",
      " -- Epoch 4/20\n"
     ]
    },
    {
     "metadata": {
      "tags": null
     },
     "name": "stderr",
     "output_type": "stream",
     "text": [
      "100%|██████████| 938/938 [00:17<00:00, 53.93it/s]\n"
     ]
    },
    {
     "metadata": {
      "tags": null
     },
     "name": "stdout",
     "output_type": "stream",
     "text": [
      "Loss 0.0035, Train Accuracy 93.3967%, Test Accuracy 94.7500%, Batch Size 64.0000, Learning Rate 0.0005000, Optimizer SGD\n",
      " -- Epoch 5/20\n"
     ]
    },
    {
     "metadata": {
      "tags": null
     },
     "name": "stderr",
     "output_type": "stream",
     "text": [
      "100%|██████████| 938/938 [00:16<00:00, 57.81it/s]\n"
     ]
    },
    {
     "metadata": {
      "tags": null
     },
     "name": "stdout",
     "output_type": "stream",
     "text": [
      "Loss 0.0026, Train Accuracy 95.0067%, Test Accuracy 95.9400%, Batch Size 64.0000, Learning Rate 0.0005000, Optimizer SGD\n",
      " -- Epoch 6/20\n"
     ]
    },
    {
     "metadata": {
      "tags": null
     },
     "name": "stderr",
     "output_type": "stream",
     "text": [
      "100%|██████████| 938/938 [00:16<00:00, 56.29it/s]\n"
     ]
    },
    {
     "metadata": {
      "tags": null
     },
     "name": "stdout",
     "output_type": "stream",
     "text": [
      "Loss 0.0021, Train Accuracy 95.8467%, Test Accuracy 96.4400%, Batch Size 64.0000, Learning Rate 0.0005000, Optimizer SGD\n",
      " -- Epoch 7/20\n"
     ]
    },
    {
     "metadata": {
      "tags": null
     },
     "name": "stderr",
     "output_type": "stream",
     "text": [
      "100%|██████████| 938/938 [00:16<00:00, 58.17it/s]\n"
     ]
    },
    {
     "metadata": {
      "tags": null
     },
     "name": "stdout",
     "output_type": "stream",
     "text": [
      "Loss 0.0018, Train Accuracy 96.4167%, Test Accuracy 97.0000%, Batch Size 64.0000, Learning Rate 0.0005000, Optimizer SGD\n",
      " -- Epoch 8/20\n"
     ]
    },
    {
     "metadata": {
      "tags": null
     },
     "name": "stderr",
     "output_type": "stream",
     "text": [
      "100%|██████████| 938/938 [00:17<00:00, 52.92it/s]\n"
     ]
    },
    {
     "metadata": {
      "tags": null
     },
     "name": "stdout",
     "output_type": "stream",
     "text": [
      "Loss 0.0016, Train Accuracy 96.7533%, Test Accuracy 97.3700%, Batch Size 64.0000, Learning Rate 0.0005000, Optimizer SGD\n",
      " -- Epoch 9/20\n"
     ]
    },
    {
     "metadata": {
      "tags": null
     },
     "name": "stderr",
     "output_type": "stream",
     "text": [
      "100%|██████████| 938/938 [00:15<00:00, 58.63it/s]\n"
     ]
    },
    {
     "metadata": {
      "tags": null
     },
     "name": "stdout",
     "output_type": "stream",
     "text": [
      "Loss 0.0015, Train Accuracy 97.1117%, Test Accuracy 97.6200%, Batch Size 64.0000, Learning Rate 0.0005000, Optimizer SGD\n",
      " -- Epoch 10/20\n"
     ]
    },
    {
     "metadata": {
      "tags": null
     },
     "name": "stderr",
     "output_type": "stream",
     "text": [
      "100%|██████████| 938/938 [00:16<00:00, 57.25it/s]\n"
     ]
    },
    {
     "metadata": {
      "tags": null
     },
     "name": "stdout",
     "output_type": "stream",
     "text": [
      "Loss 0.0014, Train Accuracy 97.3000%, Test Accuracy 97.6200%, Batch Size 64.0000, Learning Rate 0.0005000, Optimizer SGD\n",
      " -- Epoch 11/20\n"
     ]
    },
    {
     "metadata": {
      "tags": null
     },
     "name": "stderr",
     "output_type": "stream",
     "text": [
      "100%|██████████| 938/938 [00:15<00:00, 58.89it/s]\n"
     ]
    },
    {
     "metadata": {
      "tags": null
     },
     "name": "stdout",
     "output_type": "stream",
     "text": [
      "Loss 0.0013, Train Accuracy 97.5667%, Test Accuracy 97.5700%, Batch Size 64.0000, Learning Rate 0.0005000, Optimizer SGD\n",
      " -- Epoch 12/20\n"
     ]
    },
    {
     "metadata": {
      "tags": null
     },
     "name": "stderr",
     "output_type": "stream",
     "text": [
      "100%|██████████| 938/938 [00:16<00:00, 58.47it/s]\n"
     ]
    },
    {
     "metadata": {
      "tags": null
     },
     "name": "stdout",
     "output_type": "stream",
     "text": [
      "Loss 0.0012, Train Accuracy 97.6850%, Test Accuracy 97.9000%, Batch Size 64.0000, Learning Rate 0.0005000, Optimizer SGD\n",
      " -- Epoch 13/20\n"
     ]
    },
    {
     "metadata": {
      "tags": null
     },
     "name": "stderr",
     "output_type": "stream",
     "text": [
      "100%|██████████| 938/938 [00:16<00:00, 56.22it/s]\n"
     ]
    },
    {
     "metadata": {
      "tags": null
     },
     "name": "stdout",
     "output_type": "stream",
     "text": [
      "Loss 0.0011, Train Accuracy 97.8067%, Test Accuracy 98.1400%, Batch Size 64.0000, Learning Rate 0.0005000, Optimizer SGD\n",
      " -- Epoch 14/20\n"
     ]
    },
    {
     "metadata": {
      "tags": null
     },
     "name": "stderr",
     "output_type": "stream",
     "text": [
      "100%|██████████| 938/938 [00:15<00:00, 58.75it/s]\n"
     ]
    },
    {
     "metadata": {
      "tags": null
     },
     "name": "stdout",
     "output_type": "stream",
     "text": [
      "Loss 0.0011, Train Accuracy 97.9283%, Test Accuracy 98.0500%, Batch Size 64.0000, Learning Rate 0.0005000, Optimizer SGD\n",
      " -- Epoch 15/20\n"
     ]
    },
    {
     "metadata": {
      "tags": null
     },
     "name": "stderr",
     "output_type": "stream",
     "text": [
      "100%|██████████| 938/938 [00:17<00:00, 55.15it/s]\n"
     ]
    },
    {
     "metadata": {
      "tags": null
     },
     "name": "stdout",
     "output_type": "stream",
     "text": [
      "Loss 0.0010, Train Accuracy 98.0150%, Test Accuracy 98.3300%, Batch Size 64.0000, Learning Rate 0.0005000, Optimizer SGD\n",
      " -- Epoch 16/20\n"
     ]
    },
    {
     "metadata": {
      "tags": null
     },
     "name": "stderr",
     "output_type": "stream",
     "text": [
      "100%|██████████| 938/938 [00:16<00:00, 58.46it/s]\n"
     ]
    },
    {
     "metadata": {
      "tags": null
     },
     "name": "stdout",
     "output_type": "stream",
     "text": [
      "Loss 0.0009, Train Accuracy 98.1550%, Test Accuracy 98.3800%, Batch Size 64.0000, Learning Rate 0.0005000, Optimizer SGD\n",
      " -- Epoch 17/20\n"
     ]
    },
    {
     "metadata": {
      "tags": null
     },
     "name": "stderr",
     "output_type": "stream",
     "text": [
      "100%|██████████| 938/938 [00:16<00:00, 56.82it/s]\n"
     ]
    },
    {
     "metadata": {
      "tags": null
     },
     "name": "stdout",
     "output_type": "stream",
     "text": [
      "Loss 0.0009, Train Accuracy 98.2250%, Test Accuracy 98.2500%, Batch Size 64.0000, Learning Rate 0.0005000, Optimizer SGD\n",
      " -- Epoch 18/20\n"
     ]
    },
    {
     "metadata": {
      "tags": null
     },
     "name": "stderr",
     "output_type": "stream",
     "text": [
      "100%|██████████| 938/938 [00:16<00:00, 58.29it/s]\n"
     ]
    },
    {
     "metadata": {
      "tags": null
     },
     "name": "stdout",
     "output_type": "stream",
     "text": [
      "Loss 0.0009, Train Accuracy 98.2783%, Test Accuracy 98.4000%, Batch Size 64.0000, Learning Rate 0.0005000, Optimizer SGD\n",
      " -- Epoch 19/20\n"
     ]
    },
    {
     "metadata": {
      "tags": null
     },
     "name": "stderr",
     "output_type": "stream",
     "text": [
      "100%|██████████| 938/938 [00:15<00:00, 58.80it/s]\n"
     ]
    },
    {
     "metadata": {
      "tags": null
     },
     "name": "stdout",
     "output_type": "stream",
     "text": [
      "Loss 0.0008, Train Accuracy 98.4400%, Test Accuracy 98.4600%, Batch Size 64.0000, Learning Rate 0.0005000, Optimizer SGD\n",
      " -- Epoch 20/20\n"
     ]
    },
    {
     "metadata": {
      "tags": null
     },
     "name": "stderr",
     "output_type": "stream",
     "text": [
      "100%|██████████| 938/938 [00:16<00:00, 57.10it/s]\n"
     ]
    },
    {
     "metadata": {
      "tags": null
     },
     "name": "stdout",
     "output_type": "stream",
     "text": [
      "Loss 0.0008, Train Accuracy 98.4700%, Test Accuracy 98.4900%, Batch Size 64.0000, Learning Rate 0.0005000, Optimizer SGD\n",
      "Current Acc: 94.1100\n",
      " -- Epoch 1/20\n"
     ]
    },
    {
     "metadata": {
      "tags": null
     },
     "name": "stderr",
     "output_type": "stream",
     "text": [
      "100%|██████████| 938/938 [00:17<00:00, 53.66it/s]\n"
     ]
    },
    {
     "metadata": {
      "tags": null
     },
     "name": "stdout",
     "output_type": "stream",
     "text": [
      "Loss 0.0360, Train Accuracy 9.7367%, Test Accuracy 9.8200%, Batch Size 64.0000, Learning Rate 0.0000005, Optimizer SGD\n",
      " -- Epoch 2/20\n"
     ]
    },
    {
     "metadata": {
      "tags": null
     },
     "name": "stderr",
     "output_type": "stream",
     "text": [
      "100%|██████████| 938/938 [00:16<00:00, 55.91it/s]\n"
     ]
    },
    {
     "metadata": {
      "tags": null
     },
     "name": "stdout",
     "output_type": "stream",
     "text": [
      "Loss 0.0360, Train Accuracy 9.7367%, Test Accuracy 9.8200%, Batch Size 64.0000, Learning Rate 0.0000005, Optimizer SGD\n",
      " -- Epoch 3/20\n"
     ]
    },
    {
     "metadata": {
      "tags": null
     },
     "name": "stderr",
     "output_type": "stream",
     "text": [
      "100%|██████████| 938/938 [00:16<00:00, 57.97it/s]\n"
     ]
    },
    {
     "metadata": {
      "tags": null
     },
     "name": "stdout",
     "output_type": "stream",
     "text": [
      "Loss 0.0360, Train Accuracy 9.7367%, Test Accuracy 9.8200%, Batch Size 64.0000, Learning Rate 0.0000005, Optimizer SGD\n",
      " -- Epoch 4/20\n"
     ]
    },
    {
     "metadata": {
      "tags": null
     },
     "name": "stderr",
     "output_type": "stream",
     "text": [
      "100%|██████████| 938/938 [00:16<00:00, 55.19it/s]\n"
     ]
    },
    {
     "metadata": {
      "tags": null
     },
     "name": "stdout",
     "output_type": "stream",
     "text": [
      "Loss 0.0360, Train Accuracy 9.7367%, Test Accuracy 9.8200%, Batch Size 64.0000, Learning Rate 0.0000005, Optimizer SGD\n",
      " -- Epoch 5/20\n"
     ]
    },
    {
     "metadata": {
      "tags": null
     },
     "name": "stderr",
     "output_type": "stream",
     "text": [
      "100%|██████████| 938/938 [00:16<00:00, 58.49it/s]\n"
     ]
    },
    {
     "metadata": {
      "tags": null
     },
     "name": "stdout",
     "output_type": "stream",
     "text": [
      "Loss 0.0360, Train Accuracy 9.7367%, Test Accuracy 9.8200%, Batch Size 64.0000, Learning Rate 0.0000005, Optimizer SGD\n",
      " -- Epoch 6/20\n"
     ]
    },
    {
     "metadata": {
      "tags": null
     },
     "name": "stderr",
     "output_type": "stream",
     "text": [
      "100%|██████████| 938/938 [00:16<00:00, 55.22it/s]\n"
     ]
    },
    {
     "metadata": {
      "tags": null
     },
     "name": "stdout",
     "output_type": "stream",
     "text": [
      "Loss 0.0360, Train Accuracy 9.7367%, Test Accuracy 9.8200%, Batch Size 64.0000, Learning Rate 0.0000005, Optimizer SGD\n",
      " -- Epoch 7/20\n"
     ]
    },
    {
     "metadata": {
      "tags": null
     },
     "name": "stderr",
     "output_type": "stream",
     "text": [
      "100%|██████████| 938/938 [00:15<00:00, 58.98it/s]\n"
     ]
    },
    {
     "metadata": {
      "tags": null
     },
     "name": "stdout",
     "output_type": "stream",
     "text": [
      "Loss 0.0360, Train Accuracy 9.7367%, Test Accuracy 9.8200%, Batch Size 64.0000, Learning Rate 0.0000005, Optimizer SGD\n",
      " -- Epoch 8/20\n"
     ]
    },
    {
     "metadata": {
      "tags": null
     },
     "name": "stderr",
     "output_type": "stream",
     "text": [
      "100%|██████████| 938/938 [00:16<00:00, 58.13it/s]\n"
     ]
    },
    {
     "metadata": {
      "tags": null
     },
     "name": "stdout",
     "output_type": "stream",
     "text": [
      "Loss 0.0360, Train Accuracy 9.7367%, Test Accuracy 9.8200%, Batch Size 64.0000, Learning Rate 0.0000005, Optimizer SGD\n",
      " -- Epoch 9/20\n"
     ]
    },
    {
     "metadata": {
      "tags": null
     },
     "name": "stderr",
     "output_type": "stream",
     "text": [
      "100%|██████████| 938/938 [00:16<00:00, 57.94it/s]\n"
     ]
    },
    {
     "metadata": {
      "tags": null
     },
     "name": "stdout",
     "output_type": "stream",
     "text": [
      "Loss 0.0360, Train Accuracy 9.7367%, Test Accuracy 9.8200%, Batch Size 64.0000, Learning Rate 0.0000005, Optimizer SGD\n",
      " -- Epoch 10/20\n"
     ]
    },
    {
     "metadata": {
      "tags": null
     },
     "name": "stderr",
     "output_type": "stream",
     "text": [
      "100%|██████████| 938/938 [00:16<00:00, 57.89it/s]\n"
     ]
    },
    {
     "metadata": {
      "tags": null
     },
     "name": "stdout",
     "output_type": "stream",
     "text": [
      "Loss 0.0360, Train Accuracy 9.7367%, Test Accuracy 9.8200%, Batch Size 64.0000, Learning Rate 0.0000005, Optimizer SGD\n",
      " -- Epoch 11/20\n"
     ]
    },
    {
     "metadata": {
      "tags": null
     },
     "name": "stderr",
     "output_type": "stream",
     "text": [
      "100%|██████████| 938/938 [00:16<00:00, 57.24it/s]\n"
     ]
    },
    {
     "metadata": {
      "tags": null
     },
     "name": "stdout",
     "output_type": "stream",
     "text": [
      "Loss 0.0360, Train Accuracy 9.7367%, Test Accuracy 9.8200%, Batch Size 64.0000, Learning Rate 0.0000005, Optimizer SGD\n",
      " -- Epoch 12/20\n"
     ]
    },
    {
     "metadata": {
      "tags": null
     },
     "name": "stderr",
     "output_type": "stream",
     "text": [
      "100%|██████████| 938/938 [00:16<00:00, 58.22it/s]\n"
     ]
    },
    {
     "metadata": {
      "tags": null
     },
     "name": "stdout",
     "output_type": "stream",
     "text": [
      "Loss 0.0360, Train Accuracy 9.7367%, Test Accuracy 9.8200%, Batch Size 64.0000, Learning Rate 0.0000005, Optimizer SGD\n",
      " -- Epoch 13/20\n"
     ]
    },
    {
     "metadata": {
      "tags": null
     },
     "name": "stderr",
     "output_type": "stream",
     "text": [
      "100%|██████████| 938/938 [00:17<00:00, 53.57it/s]\n"
     ]
    },
    {
     "metadata": {
      "tags": null
     },
     "name": "stdout",
     "output_type": "stream",
     "text": [
      "Loss 0.0360, Train Accuracy 9.7367%, Test Accuracy 9.8200%, Batch Size 64.0000, Learning Rate 0.0000005, Optimizer SGD\n",
      " -- Epoch 14/20\n"
     ]
    },
    {
     "metadata": {
      "tags": null
     },
     "name": "stderr",
     "output_type": "stream",
     "text": [
      "100%|██████████| 938/938 [00:16<00:00, 58.17it/s]\n"
     ]
    },
    {
     "metadata": {
      "tags": null
     },
     "name": "stdout",
     "output_type": "stream",
     "text": [
      "Loss 0.0360, Train Accuracy 9.7367%, Test Accuracy 9.8200%, Batch Size 64.0000, Learning Rate 0.0000005, Optimizer SGD\n",
      " -- Epoch 15/20\n"
     ]
    },
    {
     "metadata": {
      "tags": null
     },
     "name": "stderr",
     "output_type": "stream",
     "text": [
      "100%|██████████| 938/938 [00:16<00:00, 55.41it/s]\n"
     ]
    },
    {
     "metadata": {
      "tags": null
     },
     "name": "stdout",
     "output_type": "stream",
     "text": [
      "Loss 0.0360, Train Accuracy 9.7367%, Test Accuracy 9.8200%, Batch Size 64.0000, Learning Rate 0.0000005, Optimizer SGD\n",
      " -- Epoch 16/20\n"
     ]
    },
    {
     "metadata": {
      "tags": null
     },
     "name": "stderr",
     "output_type": "stream",
     "text": [
      "100%|██████████| 938/938 [00:16<00:00, 57.16it/s]\n"
     ]
    },
    {
     "metadata": {
      "tags": null
     },
     "name": "stdout",
     "output_type": "stream",
     "text": [
      "Loss 0.0360, Train Accuracy 9.7367%, Test Accuracy 9.8200%, Batch Size 64.0000, Learning Rate 0.0000005, Optimizer SGD\n",
      " -- Epoch 17/20\n"
     ]
    },
    {
     "metadata": {
      "tags": null
     },
     "name": "stderr",
     "output_type": "stream",
     "text": [
      "100%|██████████| 938/938 [00:16<00:00, 56.09it/s]\n"
     ]
    },
    {
     "metadata": {
      "tags": null
     },
     "name": "stdout",
     "output_type": "stream",
     "text": [
      "Loss 0.0360, Train Accuracy 9.7367%, Test Accuracy 9.8200%, Batch Size 64.0000, Learning Rate 0.0000005, Optimizer SGD\n",
      " -- Epoch 18/20\n"
     ]
    },
    {
     "metadata": {
      "tags": null
     },
     "name": "stderr",
     "output_type": "stream",
     "text": [
      "100%|██████████| 938/938 [00:16<00:00, 58.31it/s]\n"
     ]
    },
    {
     "metadata": {
      "tags": null
     },
     "name": "stdout",
     "output_type": "stream",
     "text": [
      "Loss 0.0360, Train Accuracy 9.7367%, Test Accuracy 9.8200%, Batch Size 64.0000, Learning Rate 0.0000005, Optimizer SGD\n",
      " -- Epoch 19/20\n"
     ]
    },
    {
     "metadata": {
      "tags": null
     },
     "name": "stderr",
     "output_type": "stream",
     "text": [
      "100%|██████████| 938/938 [00:16<00:00, 56.82it/s]\n"
     ]
    },
    {
     "metadata": {
      "tags": null
     },
     "name": "stdout",
     "output_type": "stream",
     "text": [
      "Loss 0.0360, Train Accuracy 9.7367%, Test Accuracy 9.8200%, Batch Size 64.0000, Learning Rate 0.0000005, Optimizer SGD\n",
      " -- Epoch 20/20\n"
     ]
    },
    {
     "metadata": {
      "tags": null
     },
     "name": "stderr",
     "output_type": "stream",
     "text": [
      "100%|██████████| 938/938 [00:16<00:00, 58.35it/s]\n"
     ]
    },
    {
     "metadata": {
      "tags": null
     },
     "name": "stdout",
     "output_type": "stream",
     "text": [
      "Loss 0.0360, Train Accuracy 9.7367%, Test Accuracy 9.8200%, Batch Size 64.0000, Learning Rate 0.0000005, Optimizer SGD\n",
      "Current Acc: 9.8200\n",
      " -- Epoch 1/20\n"
     ]
    },
    {
     "metadata": {
      "tags": null
     },
     "name": "stderr",
     "output_type": "stream",
     "text": [
      "100%|██████████| 235/235 [00:14<00:00, 16.60it/s]\n"
     ]
    },
    {
     "metadata": {
      "tags": null
     },
     "name": "stdout",
     "output_type": "stream",
     "text": [
      "Loss 0.0025, Train Accuracy 78.7267%, Test Accuracy 97.8600%, Batch Size 256.0000, Learning Rate 0.0500000, Optimizer SGD\n",
      " -- Epoch 2/20\n"
     ]
    },
    {
     "metadata": {
      "tags": null
     },
     "name": "stderr",
     "output_type": "stream",
     "text": [
      "100%|██████████| 235/235 [00:14<00:00, 15.87it/s]\n"
     ]
    },
    {
     "metadata": {
      "tags": null
     },
     "name": "stdout",
     "output_type": "stream",
     "text": [
      "Loss 0.0002, Train Accuracy 98.0850%, Test Accuracy 98.6200%, Batch Size 256.0000, Learning Rate 0.0500000, Optimizer SGD\n",
      " -- Epoch 3/20\n"
     ]
    },
    {
     "metadata": {
      "tags": null
     },
     "name": "stderr",
     "output_type": "stream",
     "text": [
      "100%|██████████| 235/235 [00:14<00:00, 16.53it/s]\n"
     ]
    },
    {
     "metadata": {
      "tags": null
     },
     "name": "stdout",
     "output_type": "stream",
     "text": [
      "Loss 0.0002, Train Accuracy 98.6467%, Test Accuracy 98.8400%, Batch Size 256.0000, Learning Rate 0.0500000, Optimizer SGD\n",
      " -- Epoch 4/20\n"
     ]
    },
    {
     "metadata": {
      "tags": null
     },
     "name": "stderr",
     "output_type": "stream",
     "text": [
      "100%|██████████| 235/235 [00:14<00:00, 16.69it/s]\n"
     ]
    },
    {
     "metadata": {
      "tags": null
     },
     "name": "stdout",
     "output_type": "stream",
     "text": [
      "Loss 0.0001, Train Accuracy 98.9567%, Test Accuracy 98.6400%, Batch Size 256.0000, Learning Rate 0.0500000, Optimizer SGD\n",
      " -- Epoch 5/20\n"
     ]
    },
    {
     "metadata": {
      "tags": null
     },
     "name": "stderr",
     "output_type": "stream",
     "text": [
      "100%|██████████| 235/235 [00:14<00:00, 16.48it/s]\n"
     ]
    },
    {
     "metadata": {
      "tags": null
     },
     "name": "stdout",
     "output_type": "stream",
     "text": [
      "Loss 0.0001, Train Accuracy 99.1000%, Test Accuracy 98.8600%, Batch Size 256.0000, Learning Rate 0.0500000, Optimizer SGD\n",
      " -- Epoch 6/20\n"
     ]
    },
    {
     "metadata": {
      "tags": null
     },
     "name": "stderr",
     "output_type": "stream",
     "text": [
      "100%|██████████| 235/235 [00:14<00:00, 16.15it/s]\n"
     ]
    },
    {
     "metadata": {
      "tags": null
     },
     "name": "stdout",
     "output_type": "stream",
     "text": [
      "Loss 0.0001, Train Accuracy 99.2883%, Test Accuracy 99.0100%, Batch Size 256.0000, Learning Rate 0.0500000, Optimizer SGD\n",
      " -- Epoch 7/20\n"
     ]
    },
    {
     "metadata": {
      "tags": null
     },
     "name": "stderr",
     "output_type": "stream",
     "text": [
      "100%|██████████| 235/235 [00:14<00:00, 16.13it/s]\n"
     ]
    },
    {
     "metadata": {
      "tags": null
     },
     "name": "stdout",
     "output_type": "stream",
     "text": [
      "Loss 0.0001, Train Accuracy 99.3050%, Test Accuracy 99.1700%, Batch Size 256.0000, Learning Rate 0.0500000, Optimizer SGD\n",
      " -- Epoch 8/20\n"
     ]
    },
    {
     "metadata": {
      "tags": null
     },
     "name": "stderr",
     "output_type": "stream",
     "text": [
      "100%|██████████| 235/235 [00:14<00:00, 16.44it/s]\n"
     ]
    },
    {
     "metadata": {
      "tags": null
     },
     "name": "stdout",
     "output_type": "stream",
     "text": [
      "Loss 0.0001, Train Accuracy 99.4733%, Test Accuracy 99.1500%, Batch Size 256.0000, Learning Rate 0.0500000, Optimizer SGD\n",
      " -- Epoch 9/20\n"
     ]
    },
    {
     "metadata": {
      "tags": null
     },
     "name": "stderr",
     "output_type": "stream",
     "text": [
      "100%|██████████| 235/235 [00:14<00:00, 15.91it/s]\n"
     ]
    },
    {
     "metadata": {
      "tags": null
     },
     "name": "stdout",
     "output_type": "stream",
     "text": [
      "Loss 0.0001, Train Accuracy 99.5550%, Test Accuracy 99.1600%, Batch Size 256.0000, Learning Rate 0.0500000, Optimizer SGD\n",
      " -- Epoch 10/20\n"
     ]
    },
    {
     "metadata": {
      "tags": null
     },
     "name": "stderr",
     "output_type": "stream",
     "text": [
      "100%|██████████| 235/235 [00:14<00:00, 16.57it/s]\n"
     ]
    },
    {
     "metadata": {
      "tags": null
     },
     "name": "stdout",
     "output_type": "stream",
     "text": [
      "Loss 0.0001, Train Accuracy 99.5583%, Test Accuracy 98.9100%, Batch Size 256.0000, Learning Rate 0.0500000, Optimizer SGD\n",
      " -- Epoch 11/20\n"
     ]
    },
    {
     "metadata": {
      "tags": null
     },
     "name": "stderr",
     "output_type": "stream",
     "text": [
      "100%|██████████| 235/235 [00:14<00:00, 16.63it/s]\n"
     ]
    },
    {
     "metadata": {
      "tags": null
     },
     "name": "stdout",
     "output_type": "stream",
     "text": [
      "Loss 0.0000, Train Accuracy 99.6667%, Test Accuracy 99.1000%, Batch Size 256.0000, Learning Rate 0.0500000, Optimizer SGD\n",
      " -- Epoch 12/20\n"
     ]
    },
    {
     "metadata": {
      "tags": null
     },
     "name": "stderr",
     "output_type": "stream",
     "text": [
      "100%|██████████| 235/235 [00:14<00:00, 16.71it/s]\n"
     ]
    },
    {
     "metadata": {
      "tags": null
     },
     "name": "stdout",
     "output_type": "stream",
     "text": [
      "Loss 0.0000, Train Accuracy 99.7300%, Test Accuracy 98.9300%, Batch Size 256.0000, Learning Rate 0.0500000, Optimizer SGD\n",
      " -- Epoch 13/20\n"
     ]
    },
    {
     "metadata": {
      "tags": null
     },
     "name": "stderr",
     "output_type": "stream",
     "text": [
      "100%|██████████| 235/235 [00:14<00:00, 16.11it/s]\n"
     ]
    },
    {
     "metadata": {
      "tags": null
     },
     "name": "stdout",
     "output_type": "stream",
     "text": [
      "Loss 0.0000, Train Accuracy 99.7683%, Test Accuracy 99.1200%, Batch Size 256.0000, Learning Rate 0.0500000, Optimizer SGD\n",
      " -- Epoch 14/20\n"
     ]
    },
    {
     "metadata": {
      "tags": null
     },
     "name": "stderr",
     "output_type": "stream",
     "text": [
      "100%|██████████| 235/235 [00:14<00:00, 16.60it/s]\n"
     ]
    },
    {
     "metadata": {
      "tags": null
     },
     "name": "stdout",
     "output_type": "stream",
     "text": [
      "Loss 0.0000, Train Accuracy 99.7817%, Test Accuracy 99.1500%, Batch Size 256.0000, Learning Rate 0.0500000, Optimizer SGD\n",
      " -- Epoch 15/20\n"
     ]
    },
    {
     "metadata": {
      "tags": null
     },
     "name": "stderr",
     "output_type": "stream",
     "text": [
      "100%|██████████| 235/235 [00:13<00:00, 16.82it/s]\n"
     ]
    },
    {
     "metadata": {
      "tags": null
     },
     "name": "stdout",
     "output_type": "stream",
     "text": [
      "Loss 0.0000, Train Accuracy 99.8200%, Test Accuracy 99.0500%, Batch Size 256.0000, Learning Rate 0.0500000, Optimizer SGD\n",
      " -- Epoch 16/20\n"
     ]
    },
    {
     "metadata": {
      "tags": null
     },
     "name": "stderr",
     "output_type": "stream",
     "text": [
      "100%|██████████| 235/235 [00:14<00:00, 16.49it/s]\n"
     ]
    },
    {
     "metadata": {
      "tags": null
     },
     "name": "stdout",
     "output_type": "stream",
     "text": [
      "Loss 0.0000, Train Accuracy 99.7867%, Test Accuracy 99.1400%, Batch Size 256.0000, Learning Rate 0.0500000, Optimizer SGD\n",
      " -- Epoch 17/20\n"
     ]
    },
    {
     "metadata": {
      "tags": null
     },
     "name": "stderr",
     "output_type": "stream",
     "text": [
      "100%|██████████| 235/235 [00:14<00:00, 16.62it/s]\n"
     ]
    },
    {
     "metadata": {
      "tags": null
     },
     "name": "stdout",
     "output_type": "stream",
     "text": [
      "Loss 0.0000, Train Accuracy 99.8933%, Test Accuracy 99.2000%, Batch Size 256.0000, Learning Rate 0.0500000, Optimizer SGD\n",
      " -- Epoch 18/20\n"
     ]
    },
    {
     "metadata": {
      "tags": null
     },
     "name": "stderr",
     "output_type": "stream",
     "text": [
      "100%|██████████| 235/235 [00:14<00:00, 16.61it/s]\n"
     ]
    },
    {
     "metadata": {
      "tags": null
     },
     "name": "stdout",
     "output_type": "stream",
     "text": [
      "Loss 0.0000, Train Accuracy 99.9217%, Test Accuracy 99.2500%, Batch Size 256.0000, Learning Rate 0.0500000, Optimizer SGD\n",
      " -- Epoch 19/20\n"
     ]
    },
    {
     "metadata": {
      "tags": null
     },
     "name": "stderr",
     "output_type": "stream",
     "text": [
      "100%|██████████| 235/235 [00:13<00:00, 16.82it/s]\n"
     ]
    },
    {
     "metadata": {
      "tags": null
     },
     "name": "stdout",
     "output_type": "stream",
     "text": [
      "Loss 0.0000, Train Accuracy 99.9083%, Test Accuracy 99.0200%, Batch Size 256.0000, Learning Rate 0.0500000, Optimizer SGD\n",
      " -- Epoch 20/20\n"
     ]
    },
    {
     "metadata": {
      "tags": null
     },
     "name": "stderr",
     "output_type": "stream",
     "text": [
      "100%|██████████| 235/235 [00:15<00:00, 15.66it/s]\n"
     ]
    },
    {
     "metadata": {
      "tags": null
     },
     "name": "stdout",
     "output_type": "stream",
     "text": [
      "Loss 0.0000, Train Accuracy 99.7483%, Test Accuracy 99.0300%, Batch Size 256.0000, Learning Rate 0.0500000, Optimizer SGD\n",
      "Current Acc: 98.9605\n",
      " -- Epoch 1/20\n"
     ]
    },
    {
     "metadata": {
      "tags": null
     },
     "name": "stderr",
     "output_type": "stream",
     "text": [
      "100%|██████████| 235/235 [00:14<00:00, 16.31it/s]\n"
     ]
    },
    {
     "metadata": {
      "tags": null
     },
     "name": "stdout",
     "output_type": "stream",
     "text": [
      "Loss 0.0090, Train Accuracy 9.7067%, Test Accuracy 10.6400%, Batch Size 256.0000, Learning Rate 0.0005000, Optimizer SGD\n",
      " -- Epoch 2/20\n"
     ]
    },
    {
     "metadata": {
      "tags": null
     },
     "name": "stderr",
     "output_type": "stream",
     "text": [
      "100%|██████████| 235/235 [00:14<00:00, 16.65it/s]\n"
     ]
    },
    {
     "metadata": {
      "tags": null
     },
     "name": "stdout",
     "output_type": "stream",
     "text": [
      "Loss 0.0090, Train Accuracy 13.2633%, Test Accuracy 20.7000%, Batch Size 256.0000, Learning Rate 0.0005000, Optimizer SGD\n",
      " -- Epoch 3/20\n"
     ]
    },
    {
     "metadata": {
      "tags": null
     },
     "name": "stderr",
     "output_type": "stream",
     "text": [
      "100%|██████████| 235/235 [00:14<00:00, 16.28it/s]\n"
     ]
    },
    {
     "metadata": {
      "tags": null
     },
     "name": "stdout",
     "output_type": "stream",
     "text": [
      "Loss 0.0089, Train Accuracy 31.5517%, Test Accuracy 36.4300%, Batch Size 256.0000, Learning Rate 0.0005000, Optimizer SGD\n",
      " -- Epoch 4/20\n"
     ]
    },
    {
     "metadata": {
      "tags": null
     },
     "name": "stderr",
     "output_type": "stream",
     "text": [
      "100%|██████████| 235/235 [00:14<00:00, 16.69it/s]\n"
     ]
    },
    {
     "metadata": {
      "tags": null
     },
     "name": "stdout",
     "output_type": "stream",
     "text": [
      "Loss 0.0088, Train Accuracy 37.1950%, Test Accuracy 38.6100%, Batch Size 256.0000, Learning Rate 0.0005000, Optimizer SGD\n",
      " -- Epoch 5/20\n"
     ]
    },
    {
     "metadata": {
      "tags": null
     },
     "name": "stderr",
     "output_type": "stream",
     "text": [
      "100%|██████████| 235/235 [00:14<00:00, 16.38it/s]\n"
     ]
    },
    {
     "metadata": {
      "tags": null
     },
     "name": "stdout",
     "output_type": "stream",
     "text": [
      "Loss 0.0085, Train Accuracy 42.2933%, Test Accuracy 44.8600%, Batch Size 256.0000, Learning Rate 0.0005000, Optimizer SGD\n",
      " -- Epoch 6/20\n"
     ]
    },
    {
     "metadata": {
      "tags": null
     },
     "name": "stderr",
     "output_type": "stream",
     "text": [
      "100%|██████████| 235/235 [00:14<00:00, 16.57it/s]\n"
     ]
    },
    {
     "metadata": {
      "tags": null
     },
     "name": "stdout",
     "output_type": "stream",
     "text": [
      "Loss 0.0071, Train Accuracy 50.5450%, Test Accuracy 59.5400%, Batch Size 256.0000, Learning Rate 0.0005000, Optimizer SGD\n",
      " -- Epoch 7/20\n"
     ]
    },
    {
     "metadata": {
      "tags": null
     },
     "name": "stderr",
     "output_type": "stream",
     "text": [
      "100%|██████████| 235/235 [00:14<00:00, 15.88it/s]\n"
     ]
    },
    {
     "metadata": {
      "tags": null
     },
     "name": "stdout",
     "output_type": "stream",
     "text": [
      "Loss 0.0043, Train Accuracy 68.1567%, Test Accuracy 75.8100%, Batch Size 256.0000, Learning Rate 0.0005000, Optimizer SGD\n",
      " -- Epoch 8/20\n"
     ]
    },
    {
     "metadata": {
      "tags": null
     },
     "name": "stderr",
     "output_type": "stream",
     "text": [
      "100%|██████████| 235/235 [00:14<00:00, 16.69it/s]\n"
     ]
    },
    {
     "metadata": {
      "tags": null
     },
     "name": "stdout",
     "output_type": "stream",
     "text": [
      "Loss 0.0028, Train Accuracy 78.7017%, Test Accuracy 82.3800%, Batch Size 256.0000, Learning Rate 0.0005000, Optimizer SGD\n",
      " -- Epoch 9/20\n"
     ]
    },
    {
     "metadata": {
      "tags": null
     },
     "name": "stderr",
     "output_type": "stream",
     "text": [
      "100%|██████████| 235/235 [00:14<00:00, 16.44it/s]\n"
     ]
    },
    {
     "metadata": {
      "tags": null
     },
     "name": "stdout",
     "output_type": "stream",
     "text": [
      "Loss 0.0020, Train Accuracy 84.5117%, Test Accuracy 87.0300%, Batch Size 256.0000, Learning Rate 0.0005000, Optimizer SGD\n",
      " -- Epoch 10/20\n"
     ]
    },
    {
     "metadata": {
      "tags": null
     },
     "name": "stderr",
     "output_type": "stream",
     "text": [
      "100%|██████████| 235/235 [00:14<00:00, 16.50it/s]\n"
     ]
    },
    {
     "metadata": {
      "tags": null
     },
     "name": "stdout",
     "output_type": "stream",
     "text": [
      "Loss 0.0016, Train Accuracy 88.1750%, Test Accuracy 89.5900%, Batch Size 256.0000, Learning Rate 0.0005000, Optimizer SGD\n",
      " -- Epoch 11/20\n"
     ]
    },
    {
     "metadata": {
      "tags": null
     },
     "name": "stderr",
     "output_type": "stream",
     "text": [
      "100%|██████████| 235/235 [00:14<00:00, 16.42it/s]\n"
     ]
    },
    {
     "metadata": {
      "tags": null
     },
     "name": "stdout",
     "output_type": "stream",
     "text": [
      "Loss 0.0013, Train Accuracy 90.3017%, Test Accuracy 91.3800%, Batch Size 256.0000, Learning Rate 0.0005000, Optimizer SGD\n",
      " -- Epoch 12/20\n"
     ]
    },
    {
     "metadata": {
      "tags": null
     },
     "name": "stderr",
     "output_type": "stream",
     "text": [
      "100%|██████████| 235/235 [00:14<00:00, 16.68it/s]\n"
     ]
    },
    {
     "metadata": {
      "tags": null
     },
     "name": "stdout",
     "output_type": "stream",
     "text": [
      "Loss 0.0011, Train Accuracy 91.7850%, Test Accuracy 92.4900%, Batch Size 256.0000, Learning Rate 0.0005000, Optimizer SGD\n",
      " -- Epoch 13/20\n"
     ]
    },
    {
     "metadata": {
      "tags": null
     },
     "name": "stderr",
     "output_type": "stream",
     "text": [
      "100%|██████████| 235/235 [00:14<00:00, 16.60it/s]\n"
     ]
    },
    {
     "metadata": {
      "tags": null
     },
     "name": "stdout",
     "output_type": "stream",
     "text": [
      "Loss 0.0010, Train Accuracy 92.6317%, Test Accuracy 93.2900%, Batch Size 256.0000, Learning Rate 0.0005000, Optimizer SGD\n",
      " -- Epoch 14/20\n"
     ]
    },
    {
     "metadata": {
      "tags": null
     },
     "name": "stderr",
     "output_type": "stream",
     "text": [
      "100%|██████████| 235/235 [00:14<00:00, 15.90it/s]\n"
     ]
    },
    {
     "metadata": {
      "tags": null
     },
     "name": "stdout",
     "output_type": "stream",
     "text": [
      "Loss 0.0009, Train Accuracy 93.3867%, Test Accuracy 93.8800%, Batch Size 256.0000, Learning Rate 0.0005000, Optimizer SGD\n",
      " -- Epoch 15/20\n"
     ]
    },
    {
     "metadata": {
      "tags": null
     },
     "name": "stderr",
     "output_type": "stream",
     "text": [
      "100%|██████████| 235/235 [00:15<00:00, 15.60it/s]\n"
     ]
    },
    {
     "metadata": {
      "tags": null
     },
     "name": "stdout",
     "output_type": "stream",
     "text": [
      "Loss 0.0008, Train Accuracy 93.9600%, Test Accuracy 94.3300%, Batch Size 256.0000, Learning Rate 0.0005000, Optimizer SGD\n",
      " -- Epoch 16/20\n"
     ]
    },
    {
     "metadata": {
      "tags": null
     },
     "name": "stderr",
     "output_type": "stream",
     "text": [
      "100%|██████████| 235/235 [00:14<00:00, 16.61it/s]\n"
     ]
    },
    {
     "metadata": {
      "tags": null
     },
     "name": "stdout",
     "output_type": "stream",
     "text": [
      "Loss 0.0007, Train Accuracy 94.3817%, Test Accuracy 94.8700%, Batch Size 256.0000, Learning Rate 0.0005000, Optimizer SGD\n",
      " -- Epoch 17/20\n"
     ]
    },
    {
     "metadata": {
      "tags": null
     },
     "name": "stderr",
     "output_type": "stream",
     "text": [
      "100%|██████████| 235/235 [00:14<00:00, 16.68it/s]\n"
     ]
    },
    {
     "metadata": {
      "tags": null
     },
     "name": "stdout",
     "output_type": "stream",
     "text": [
      "Loss 0.0007, Train Accuracy 94.7600%, Test Accuracy 95.1800%, Batch Size 256.0000, Learning Rate 0.0005000, Optimizer SGD\n",
      " -- Epoch 18/20\n"
     ]
    },
    {
     "metadata": {
      "tags": null
     },
     "name": "stderr",
     "output_type": "stream",
     "text": [
      "100%|██████████| 235/235 [00:14<00:00, 16.41it/s]\n"
     ]
    },
    {
     "metadata": {
      "tags": null
     },
     "name": "stdout",
     "output_type": "stream",
     "text": [
      "Loss 0.0006, Train Accuracy 95.0633%, Test Accuracy 95.6000%, Batch Size 256.0000, Learning Rate 0.0005000, Optimizer SGD\n",
      " -- Epoch 19/20\n"
     ]
    },
    {
     "metadata": {
      "tags": null
     },
     "name": "stderr",
     "output_type": "stream",
     "text": [
      "100%|██████████| 235/235 [00:14<00:00, 16.47it/s]\n"
     ]
    },
    {
     "metadata": {
      "tags": null
     },
     "name": "stdout",
     "output_type": "stream",
     "text": [
      "Loss 0.0006, Train Accuracy 95.3450%, Test Accuracy 95.6700%, Batch Size 256.0000, Learning Rate 0.0005000, Optimizer SGD\n",
      " -- Epoch 20/20\n"
     ]
    },
    {
     "metadata": {
      "tags": null
     },
     "name": "stderr",
     "output_type": "stream",
     "text": [
      "100%|██████████| 235/235 [00:14<00:00, 16.47it/s]\n"
     ]
    },
    {
     "metadata": {
      "tags": null
     },
     "name": "stdout",
     "output_type": "stream",
     "text": [
      "Loss 0.0006, Train Accuracy 95.5517%, Test Accuracy 95.9500%, Batch Size 256.0000, Learning Rate 0.0005000, Optimizer SGD\n",
      "Current Acc: 74.4115\n",
      " -- Epoch 1/20\n"
     ]
    },
    {
     "metadata": {
      "tags": null
     },
     "name": "stderr",
     "output_type": "stream",
     "text": [
      "100%|██████████| 235/235 [00:14<00:00, 16.03it/s]\n"
     ]
    },
    {
     "metadata": {
      "tags": null
     },
     "name": "stdout",
     "output_type": "stream",
     "text": [
      "Loss 0.0090, Train Accuracy 7.3150%, Test Accuracy 7.1800%, Batch Size 256.0000, Learning Rate 0.0000005, Optimizer SGD\n",
      " -- Epoch 2/20\n"
     ]
    },
    {
     "metadata": {
      "tags": null
     },
     "name": "stderr",
     "output_type": "stream",
     "text": [
      "100%|██████████| 235/235 [00:14<00:00, 16.47it/s]\n"
     ]
    },
    {
     "metadata": {
      "tags": null
     },
     "name": "stdout",
     "output_type": "stream",
     "text": [
      "Loss 0.0090, Train Accuracy 7.3283%, Test Accuracy 7.1800%, Batch Size 256.0000, Learning Rate 0.0000005, Optimizer SGD\n",
      " -- Epoch 3/20\n"
     ]
    },
    {
     "metadata": {
      "tags": null
     },
     "name": "stderr",
     "output_type": "stream",
     "text": [
      "100%|██████████| 235/235 [00:14<00:00, 16.59it/s]\n"
     ]
    },
    {
     "metadata": {
      "tags": null
     },
     "name": "stdout",
     "output_type": "stream",
     "text": [
      "Loss 0.0090, Train Accuracy 7.3333%, Test Accuracy 7.1900%, Batch Size 256.0000, Learning Rate 0.0000005, Optimizer SGD\n",
      " -- Epoch 4/20\n"
     ]
    },
    {
     "metadata": {
      "tags": null
     },
     "name": "stderr",
     "output_type": "stream",
     "text": [
      "100%|██████████| 235/235 [00:14<00:00, 16.56it/s]\n"
     ]
    },
    {
     "metadata": {
      "tags": null
     },
     "name": "stdout",
     "output_type": "stream",
     "text": [
      "Loss 0.0090, Train Accuracy 7.3417%, Test Accuracy 7.1900%, Batch Size 256.0000, Learning Rate 0.0000005, Optimizer SGD\n",
      " -- Epoch 5/20\n"
     ]
    },
    {
     "metadata": {
      "tags": null
     },
     "name": "stderr",
     "output_type": "stream",
     "text": [
      "100%|██████████| 235/235 [00:14<00:00, 16.29it/s]\n"
     ]
    },
    {
     "metadata": {
      "tags": null
     },
     "name": "stdout",
     "output_type": "stream",
     "text": [
      "Loss 0.0090, Train Accuracy 7.3467%, Test Accuracy 7.1900%, Batch Size 256.0000, Learning Rate 0.0000005, Optimizer SGD\n",
      " -- Epoch 6/20\n"
     ]
    },
    {
     "metadata": {
      "tags": null
     },
     "name": "stderr",
     "output_type": "stream",
     "text": [
      "100%|██████████| 235/235 [00:14<00:00, 16.46it/s]\n"
     ]
    },
    {
     "metadata": {
      "tags": null
     },
     "name": "stdout",
     "output_type": "stream",
     "text": [
      "Loss 0.0090, Train Accuracy 7.3550%, Test Accuracy 7.2000%, Batch Size 256.0000, Learning Rate 0.0000005, Optimizer SGD\n",
      " -- Epoch 7/20\n"
     ]
    },
    {
     "metadata": {
      "tags": null
     },
     "name": "stderr",
     "output_type": "stream",
     "text": [
      "100%|██████████| 235/235 [00:14<00:00, 16.35it/s]\n"
     ]
    },
    {
     "metadata": {
      "tags": null
     },
     "name": "stdout",
     "output_type": "stream",
     "text": [
      "Loss 0.0090, Train Accuracy 7.3617%, Test Accuracy 7.2000%, Batch Size 256.0000, Learning Rate 0.0000005, Optimizer SGD\n",
      " -- Epoch 8/20\n"
     ]
    },
    {
     "metadata": {
      "tags": null
     },
     "name": "stderr",
     "output_type": "stream",
     "text": [
      "100%|██████████| 235/235 [00:14<00:00, 16.07it/s]\n"
     ]
    },
    {
     "metadata": {
      "tags": null
     },
     "name": "stdout",
     "output_type": "stream",
     "text": [
      "Loss 0.0090, Train Accuracy 7.3650%, Test Accuracy 7.2000%, Batch Size 256.0000, Learning Rate 0.0000005, Optimizer SGD\n",
      " -- Epoch 9/20\n"
     ]
    },
    {
     "metadata": {
      "tags": null
     },
     "name": "stderr",
     "output_type": "stream",
     "text": [
      "100%|██████████| 235/235 [00:15<00:00, 15.50it/s]\n"
     ]
    },
    {
     "metadata": {
      "tags": null
     },
     "name": "stdout",
     "output_type": "stream",
     "text": [
      "Loss 0.0090, Train Accuracy 7.3783%, Test Accuracy 7.2200%, Batch Size 256.0000, Learning Rate 0.0000005, Optimizer SGD\n",
      " -- Epoch 10/20\n"
     ]
    },
    {
     "metadata": {
      "tags": null
     },
     "name": "stderr",
     "output_type": "stream",
     "text": [
      "100%|██████████| 235/235 [00:14<00:00, 16.60it/s]\n"
     ]
    },
    {
     "metadata": {
      "tags": null
     },
     "name": "stdout",
     "output_type": "stream",
     "text": [
      "Loss 0.0090, Train Accuracy 7.3917%, Test Accuracy 7.2300%, Batch Size 256.0000, Learning Rate 0.0000005, Optimizer SGD\n",
      " -- Epoch 11/20\n"
     ]
    },
    {
     "metadata": {
      "tags": null
     },
     "name": "stderr",
     "output_type": "stream",
     "text": [
      "100%|██████████| 235/235 [00:14<00:00, 16.64it/s]\n"
     ]
    },
    {
     "metadata": {
      "tags": null
     },
     "name": "stdout",
     "output_type": "stream",
     "text": [
      "Loss 0.0090, Train Accuracy 7.3950%, Test Accuracy 7.2300%, Batch Size 256.0000, Learning Rate 0.0000005, Optimizer SGD\n",
      " -- Epoch 12/20\n"
     ]
    },
    {
     "metadata": {
      "tags": null
     },
     "name": "stderr",
     "output_type": "stream",
     "text": [
      "100%|██████████| 235/235 [00:14<00:00, 16.54it/s]\n"
     ]
    },
    {
     "metadata": {
      "tags": null
     },
     "name": "stdout",
     "output_type": "stream",
     "text": [
      "Loss 0.0090, Train Accuracy 7.3950%, Test Accuracy 7.2500%, Batch Size 256.0000, Learning Rate 0.0000005, Optimizer SGD\n",
      " -- Epoch 13/20\n"
     ]
    },
    {
     "metadata": {
      "tags": null
     },
     "name": "stderr",
     "output_type": "stream",
     "text": [
      "100%|██████████| 235/235 [00:14<00:00, 16.34it/s]\n"
     ]
    },
    {
     "metadata": {
      "tags": null
     },
     "name": "stdout",
     "output_type": "stream",
     "text": [
      "Loss 0.0090, Train Accuracy 7.4100%, Test Accuracy 7.2800%, Batch Size 256.0000, Learning Rate 0.0000005, Optimizer SGD\n",
      " -- Epoch 14/20\n"
     ]
    },
    {
     "metadata": {
      "tags": null
     },
     "name": "stderr",
     "output_type": "stream",
     "text": [
      "100%|██████████| 235/235 [00:14<00:00, 16.51it/s]\n"
     ]
    },
    {
     "metadata": {
      "tags": null
     },
     "name": "stdout",
     "output_type": "stream",
     "text": [
      "Loss 0.0090, Train Accuracy 7.4233%, Test Accuracy 7.3000%, Batch Size 256.0000, Learning Rate 0.0000005, Optimizer SGD\n",
      " -- Epoch 15/20\n"
     ]
    },
    {
     "metadata": {
      "tags": null
     },
     "name": "stderr",
     "output_type": "stream",
     "text": [
      "100%|██████████| 235/235 [00:14<00:00, 15.94it/s]\n"
     ]
    },
    {
     "metadata": {
      "tags": null
     },
     "name": "stdout",
     "output_type": "stream",
     "text": [
      "Loss 0.0090, Train Accuracy 7.4367%, Test Accuracy 7.3300%, Batch Size 256.0000, Learning Rate 0.0000005, Optimizer SGD\n",
      " -- Epoch 16/20\n"
     ]
    },
    {
     "metadata": {
      "tags": null
     },
     "name": "stderr",
     "output_type": "stream",
     "text": [
      "100%|██████████| 235/235 [00:14<00:00, 16.29it/s]\n"
     ]
    },
    {
     "metadata": {
      "tags": null
     },
     "name": "stdout",
     "output_type": "stream",
     "text": [
      "Loss 0.0090, Train Accuracy 7.4483%, Test Accuracy 7.3500%, Batch Size 256.0000, Learning Rate 0.0000005, Optimizer SGD\n",
      " -- Epoch 17/20\n"
     ]
    },
    {
     "metadata": {
      "tags": null
     },
     "name": "stderr",
     "output_type": "stream",
     "text": [
      "100%|██████████| 235/235 [00:14<00:00, 16.60it/s]\n"
     ]
    },
    {
     "metadata": {
      "tags": null
     },
     "name": "stdout",
     "output_type": "stream",
     "text": [
      "Loss 0.0090, Train Accuracy 7.4583%, Test Accuracy 7.3500%, Batch Size 256.0000, Learning Rate 0.0000005, Optimizer SGD\n",
      " -- Epoch 18/20\n"
     ]
    },
    {
     "metadata": {
      "tags": null
     },
     "name": "stderr",
     "output_type": "stream",
     "text": [
      "100%|██████████| 235/235 [00:14<00:00, 16.69it/s]\n"
     ]
    },
    {
     "metadata": {
      "tags": null
     },
     "name": "stdout",
     "output_type": "stream",
     "text": [
      "Loss 0.0090, Train Accuracy 7.4617%, Test Accuracy 7.3500%, Batch Size 256.0000, Learning Rate 0.0000005, Optimizer SGD\n",
      " -- Epoch 19/20\n"
     ]
    },
    {
     "metadata": {
      "tags": null
     },
     "name": "stderr",
     "output_type": "stream",
     "text": [
      "100%|██████████| 235/235 [00:14<00:00, 16.64it/s]\n"
     ]
    },
    {
     "metadata": {
      "tags": null
     },
     "name": "stdout",
     "output_type": "stream",
     "text": [
      "Loss 0.0090, Train Accuracy 7.4700%, Test Accuracy 7.3600%, Batch Size 256.0000, Learning Rate 0.0000005, Optimizer SGD\n",
      " -- Epoch 20/20\n"
     ]
    },
    {
     "metadata": {
      "tags": null
     },
     "name": "stderr",
     "output_type": "stream",
     "text": [
      "100%|██████████| 235/235 [00:14<00:00, 16.33it/s]\n"
     ]
    },
    {
     "metadata": {
      "tags": null
     },
     "name": "stdout",
     "output_type": "stream",
     "text": [
      "Loss 0.0090, Train Accuracy 7.4750%, Test Accuracy 7.3700%, Batch Size 256.0000, Learning Rate 0.0000005, Optimizer SGD\n",
      "Current Acc: 7.2575\n",
      " -- Epoch 1/20\n"
     ]
    },
    {
     "metadata": {
      "tags": null
     },
     "name": "stderr",
     "output_type": "stream",
     "text": [
      "100%|██████████| 938/938 [00:16<00:00, 57.27it/s]\n"
     ]
    },
    {
     "metadata": {
      "tags": null
     },
     "name": "stdout",
     "output_type": "stream",
     "text": [
      "Loss 0.0033, Train Accuracy 93.1183%, Test Accuracy 98.1000%, Batch Size 64.0000, Learning Rate 0.0500000, Optimizer Adagrad\n",
      " -- Epoch 2/20\n"
     ]
    },
    {
     "metadata": {
      "tags": null
     },
     "name": "stderr",
     "output_type": "stream",
     "text": [
      "100%|██████████| 938/938 [00:16<00:00, 57.11it/s]\n"
     ]
    },
    {
     "metadata": {
      "tags": null
     },
     "name": "stdout",
     "output_type": "stream",
     "text": [
      "Loss 0.0008, Train Accuracy 98.4200%, Test Accuracy 98.3000%, Batch Size 64.0000, Learning Rate 0.0500000, Optimizer Adagrad\n",
      " -- Epoch 3/20\n"
     ]
    },
    {
     "metadata": {
      "tags": null
     },
     "name": "stderr",
     "output_type": "stream",
     "text": [
      "100%|██████████| 938/938 [00:17<00:00, 53.37it/s]\n"
     ]
    },
    {
     "metadata": {
      "tags": null
     },
     "name": "stdout",
     "output_type": "stream",
     "text": [
      "Loss 0.0006, Train Accuracy 98.8667%, Test Accuracy 98.6900%, Batch Size 64.0000, Learning Rate 0.0500000, Optimizer Adagrad\n",
      " -- Epoch 4/20\n"
     ]
    },
    {
     "metadata": {
      "tags": null
     },
     "name": "stderr",
     "output_type": "stream",
     "text": [
      "100%|██████████| 938/938 [00:16<00:00, 57.83it/s]\n"
     ]
    },
    {
     "metadata": {
      "tags": null
     },
     "name": "stdout",
     "output_type": "stream",
     "text": [
      "Loss 0.0005, Train Accuracy 99.0833%, Test Accuracy 98.8400%, Batch Size 64.0000, Learning Rate 0.0500000, Optimizer Adagrad\n",
      " -- Epoch 5/20\n"
     ]
    },
    {
     "metadata": {
      "tags": null
     },
     "name": "stderr",
     "output_type": "stream",
     "text": [
      "100%|██████████| 938/938 [00:16<00:00, 56.83it/s]\n"
     ]
    },
    {
     "metadata": {
      "tags": null
     },
     "name": "stdout",
     "output_type": "stream",
     "text": [
      "Loss 0.0004, Train Accuracy 99.2867%, Test Accuracy 98.8100%, Batch Size 64.0000, Learning Rate 0.0500000, Optimizer Adagrad\n",
      " -- Epoch 6/20\n"
     ]
    },
    {
     "metadata": {
      "tags": null
     },
     "name": "stderr",
     "output_type": "stream",
     "text": [
      "100%|██████████| 938/938 [00:16<00:00, 57.38it/s]\n"
     ]
    },
    {
     "metadata": {
      "tags": null
     },
     "name": "stdout",
     "output_type": "stream",
     "text": [
      "Loss 0.0003, Train Accuracy 99.4033%, Test Accuracy 98.9100%, Batch Size 64.0000, Learning Rate 0.0500000, Optimizer Adagrad\n",
      " -- Epoch 7/20\n"
     ]
    },
    {
     "metadata": {
      "tags": null
     },
     "name": "stderr",
     "output_type": "stream",
     "text": [
      "100%|██████████| 938/938 [00:16<00:00, 57.37it/s]\n"
     ]
    },
    {
     "metadata": {
      "tags": null
     },
     "name": "stdout",
     "output_type": "stream",
     "text": [
      "Loss 0.0002, Train Accuracy 99.5083%, Test Accuracy 99.0000%, Batch Size 64.0000, Learning Rate 0.0500000, Optimizer Adagrad\n",
      " -- Epoch 8/20\n"
     ]
    },
    {
     "metadata": {
      "tags": null
     },
     "name": "stderr",
     "output_type": "stream",
     "text": [
      "100%|██████████| 938/938 [00:17<00:00, 54.82it/s]\n"
     ]
    },
    {
     "metadata": {
      "tags": null
     },
     "name": "stdout",
     "output_type": "stream",
     "text": [
      "Loss 0.0002, Train Accuracy 99.5817%, Test Accuracy 98.9200%, Batch Size 64.0000, Learning Rate 0.0500000, Optimizer Adagrad\n",
      " -- Epoch 9/20\n"
     ]
    },
    {
     "metadata": {
      "tags": null
     },
     "name": "stderr",
     "output_type": "stream",
     "text": [
      "100%|██████████| 938/938 [00:16<00:00, 57.15it/s]\n"
     ]
    },
    {
     "metadata": {
      "tags": null
     },
     "name": "stdout",
     "output_type": "stream",
     "text": [
      "Loss 0.0002, Train Accuracy 99.7000%, Test Accuracy 98.9900%, Batch Size 64.0000, Learning Rate 0.0500000, Optimizer Adagrad\n",
      " -- Epoch 10/20\n"
     ]
    },
    {
     "metadata": {
      "tags": null
     },
     "name": "stderr",
     "output_type": "stream",
     "text": [
      "100%|██████████| 938/938 [00:17<00:00, 54.59it/s]\n"
     ]
    },
    {
     "metadata": {
      "tags": null
     },
     "name": "stdout",
     "output_type": "stream",
     "text": [
      "Loss 0.0001, Train Accuracy 99.7617%, Test Accuracy 99.0100%, Batch Size 64.0000, Learning Rate 0.0500000, Optimizer Adagrad\n",
      " -- Epoch 11/20\n"
     ]
    },
    {
     "metadata": {
      "tags": null
     },
     "name": "stderr",
     "output_type": "stream",
     "text": [
      "100%|██████████| 938/938 [00:16<00:00, 57.01it/s]\n"
     ]
    },
    {
     "metadata": {
      "tags": null
     },
     "name": "stdout",
     "output_type": "stream",
     "text": [
      "Loss 0.0001, Train Accuracy 99.8550%, Test Accuracy 98.8800%, Batch Size 64.0000, Learning Rate 0.0500000, Optimizer Adagrad\n",
      " -- Epoch 12/20\n"
     ]
    },
    {
     "metadata": {
      "tags": null
     },
     "name": "stderr",
     "output_type": "stream",
     "text": [
      "100%|██████████| 938/938 [00:17<00:00, 54.29it/s]\n"
     ]
    },
    {
     "metadata": {
      "tags": null
     },
     "name": "stdout",
     "output_type": "stream",
     "text": [
      "Loss 0.0001, Train Accuracy 99.8683%, Test Accuracy 99.0500%, Batch Size 64.0000, Learning Rate 0.0500000, Optimizer Adagrad\n",
      " -- Epoch 13/20\n"
     ]
    },
    {
     "metadata": {
      "tags": null
     },
     "name": "stderr",
     "output_type": "stream",
     "text": [
      "100%|██████████| 938/938 [00:16<00:00, 56.21it/s]\n"
     ]
    },
    {
     "metadata": {
      "tags": null
     },
     "name": "stdout",
     "output_type": "stream",
     "text": [
      "Loss 0.0001, Train Accuracy 99.9100%, Test Accuracy 99.0700%, Batch Size 64.0000, Learning Rate 0.0500000, Optimizer Adagrad\n",
      " -- Epoch 14/20\n"
     ]
    },
    {
     "metadata": {
      "tags": null
     },
     "name": "stderr",
     "output_type": "stream",
     "text": [
      "100%|██████████| 938/938 [00:17<00:00, 54.50it/s]\n"
     ]
    },
    {
     "metadata": {
      "tags": null
     },
     "name": "stdout",
     "output_type": "stream",
     "text": [
      "Loss 0.0000, Train Accuracy 99.9417%, Test Accuracy 99.0000%, Batch Size 64.0000, Learning Rate 0.0500000, Optimizer Adagrad\n",
      " -- Epoch 15/20\n"
     ]
    },
    {
     "metadata": {
      "tags": null
     },
     "name": "stderr",
     "output_type": "stream",
     "text": [
      "100%|██████████| 938/938 [00:17<00:00, 53.65it/s]\n"
     ]
    },
    {
     "metadata": {
      "tags": null
     },
     "name": "stdout",
     "output_type": "stream",
     "text": [
      "Loss 0.0000, Train Accuracy 99.9617%, Test Accuracy 98.9900%, Batch Size 64.0000, Learning Rate 0.0500000, Optimizer Adagrad\n",
      " -- Epoch 16/20\n"
     ]
    },
    {
     "metadata": {
      "tags": null
     },
     "name": "stderr",
     "output_type": "stream",
     "text": [
      "100%|██████████| 938/938 [00:17<00:00, 55.05it/s]\n"
     ]
    },
    {
     "metadata": {
      "tags": null
     },
     "name": "stdout",
     "output_type": "stream",
     "text": [
      "Loss 0.0000, Train Accuracy 99.9783%, Test Accuracy 99.0300%, Batch Size 64.0000, Learning Rate 0.0500000, Optimizer Adagrad\n",
      " -- Epoch 17/20\n"
     ]
    },
    {
     "metadata": {
      "tags": null
     },
     "name": "stderr",
     "output_type": "stream",
     "text": [
      "100%|██████████| 938/938 [00:16<00:00, 57.36it/s]\n"
     ]
    },
    {
     "metadata": {
      "tags": null
     },
     "name": "stdout",
     "output_type": "stream",
     "text": [
      "Loss 0.0000, Train Accuracy 99.9733%, Test Accuracy 99.0200%, Batch Size 64.0000, Learning Rate 0.0500000, Optimizer Adagrad\n",
      " -- Epoch 18/20\n"
     ]
    },
    {
     "metadata": {
      "tags": null
     },
     "name": "stderr",
     "output_type": "stream",
     "text": [
      "100%|██████████| 938/938 [00:16<00:00, 56.92it/s]\n"
     ]
    },
    {
     "metadata": {
      "tags": null
     },
     "name": "stdout",
     "output_type": "stream",
     "text": [
      "Loss 0.0000, Train Accuracy 99.9817%, Test Accuracy 99.0300%, Batch Size 64.0000, Learning Rate 0.0500000, Optimizer Adagrad\n",
      " -- Epoch 19/20\n"
     ]
    },
    {
     "metadata": {
      "tags": null
     },
     "name": "stderr",
     "output_type": "stream",
     "text": [
      "100%|██████████| 938/938 [00:16<00:00, 56.38it/s]\n"
     ]
    },
    {
     "metadata": {
      "tags": null
     },
     "name": "stdout",
     "output_type": "stream",
     "text": [
      "Loss 0.0000, Train Accuracy 99.9867%, Test Accuracy 99.0300%, Batch Size 64.0000, Learning Rate 0.0500000, Optimizer Adagrad\n",
      " -- Epoch 20/20\n"
     ]
    },
    {
     "metadata": {
      "tags": null
     },
     "name": "stderr",
     "output_type": "stream",
     "text": [
      "100%|██████████| 938/938 [00:16<00:00, 57.65it/s]\n"
     ]
    },
    {
     "metadata": {
      "tags": null
     },
     "name": "stdout",
     "output_type": "stream",
     "text": [
      "Loss 0.0000, Train Accuracy 99.9917%, Test Accuracy 98.9600%, Batch Size 64.0000, Learning Rate 0.0500000, Optimizer Adagrad\n",
      "Current Acc: 98.8815\n",
      " -- Epoch 1/20\n"
     ]
    },
    {
     "metadata": {
      "tags": null
     },
     "name": "stderr",
     "output_type": "stream",
     "text": [
      "100%|██████████| 938/938 [00:16<00:00, 56.12it/s]\n"
     ]
    },
    {
     "metadata": {
      "tags": null
     },
     "name": "stdout",
     "output_type": "stream",
     "text": [
      "Loss 0.0189, Train Accuracy 75.5350%, Test Accuracy 85.6400%, Batch Size 64.0000, Learning Rate 0.0005000, Optimizer Adagrad\n",
      " -- Epoch 2/20\n"
     ]
    },
    {
     "metadata": {
      "tags": null
     },
     "name": "stderr",
     "output_type": "stream",
     "text": [
      "100%|██████████| 938/938 [00:16<00:00, 56.49it/s]\n"
     ]
    },
    {
     "metadata": {
      "tags": null
     },
     "name": "stdout",
     "output_type": "stream",
     "text": [
      "Loss 0.0082, Train Accuracy 86.6183%, Test Accuracy 88.2700%, Batch Size 64.0000, Learning Rate 0.0005000, Optimizer Adagrad\n",
      " -- Epoch 3/20\n"
     ]
    },
    {
     "metadata": {
      "tags": null
     },
     "name": "stderr",
     "output_type": "stream",
     "text": [
      "100%|██████████| 938/938 [00:16<00:00, 56.46it/s]\n"
     ]
    },
    {
     "metadata": {
      "tags": null
     },
     "name": "stdout",
     "output_type": "stream",
     "text": [
      "Loss 0.0065, Train Accuracy 88.6433%, Test Accuracy 89.6500%, Batch Size 64.0000, Learning Rate 0.0005000, Optimizer Adagrad\n",
      " -- Epoch 4/20\n"
     ]
    },
    {
     "metadata": {
      "tags": null
     },
     "name": "stderr",
     "output_type": "stream",
     "text": [
      "100%|██████████| 938/938 [00:16<00:00, 56.80it/s]\n"
     ]
    },
    {
     "metadata": {
      "tags": null
     },
     "name": "stdout",
     "output_type": "stream",
     "text": [
      "Loss 0.0057, Train Accuracy 89.6317%, Test Accuracy 90.6500%, Batch Size 64.0000, Learning Rate 0.0005000, Optimizer Adagrad\n",
      " -- Epoch 5/20\n"
     ]
    },
    {
     "metadata": {
      "tags": null
     },
     "name": "stderr",
     "output_type": "stream",
     "text": [
      "100%|██████████| 938/938 [00:17<00:00, 55.05it/s]\n"
     ]
    },
    {
     "metadata": {
      "tags": null
     },
     "name": "stdout",
     "output_type": "stream",
     "text": [
      "Loss 0.0052, Train Accuracy 90.4250%, Test Accuracy 91.3300%, Batch Size 64.0000, Learning Rate 0.0005000, Optimizer Adagrad\n",
      " -- Epoch 6/20\n"
     ]
    },
    {
     "metadata": {
      "tags": null
     },
     "name": "stderr",
     "output_type": "stream",
     "text": [
      "100%|██████████| 938/938 [00:16<00:00, 57.11it/s]\n"
     ]
    },
    {
     "metadata": {
      "tags": null
     },
     "name": "stdout",
     "output_type": "stream",
     "text": [
      "Loss 0.0049, Train Accuracy 90.9100%, Test Accuracy 91.6400%, Batch Size 64.0000, Learning Rate 0.0005000, Optimizer Adagrad\n",
      " -- Epoch 7/20\n"
     ]
    },
    {
     "metadata": {
      "tags": null
     },
     "name": "stderr",
     "output_type": "stream",
     "text": [
      "100%|██████████| 938/938 [00:18<00:00, 51.19it/s]\n"
     ]
    },
    {
     "metadata": {
      "tags": null
     },
     "name": "stdout",
     "output_type": "stream",
     "text": [
      "Loss 0.0046, Train Accuracy 91.3467%, Test Accuracy 92.1300%, Batch Size 64.0000, Learning Rate 0.0005000, Optimizer Adagrad\n",
      " -- Epoch 8/20\n"
     ]
    },
    {
     "metadata": {
      "tags": null
     },
     "name": "stderr",
     "output_type": "stream",
     "text": [
      "100%|██████████| 938/938 [00:16<00:00, 57.32it/s]\n"
     ]
    },
    {
     "metadata": {
      "tags": null
     },
     "name": "stdout",
     "output_type": "stream",
     "text": [
      "Loss 0.0044, Train Accuracy 91.7467%, Test Accuracy 92.4200%, Batch Size 64.0000, Learning Rate 0.0005000, Optimizer Adagrad\n",
      " -- Epoch 9/20\n"
     ]
    },
    {
     "metadata": {
      "tags": null
     },
     "name": "stderr",
     "output_type": "stream",
     "text": [
      "100%|██████████| 938/938 [00:17<00:00, 53.64it/s]\n"
     ]
    },
    {
     "metadata": {
      "tags": null
     },
     "name": "stdout",
     "output_type": "stream",
     "text": [
      "Loss 0.0043, Train Accuracy 92.0317%, Test Accuracy 92.6000%, Batch Size 64.0000, Learning Rate 0.0005000, Optimizer Adagrad\n",
      " -- Epoch 10/20\n"
     ]
    },
    {
     "metadata": {
      "tags": null
     },
     "name": "stderr",
     "output_type": "stream",
     "text": [
      "100%|██████████| 938/938 [00:16<00:00, 57.04it/s]\n"
     ]
    },
    {
     "metadata": {
      "tags": null
     },
     "name": "stdout",
     "output_type": "stream",
     "text": [
      "Loss 0.0041, Train Accuracy 92.3033%, Test Accuracy 92.8200%, Batch Size 64.0000, Learning Rate 0.0005000, Optimizer Adagrad\n",
      " -- Epoch 11/20\n"
     ]
    },
    {
     "metadata": {
      "tags": null
     },
     "name": "stderr",
     "output_type": "stream",
     "text": [
      "100%|██████████| 938/938 [00:17<00:00, 54.59it/s]\n"
     ]
    },
    {
     "metadata": {
      "tags": null
     },
     "name": "stdout",
     "output_type": "stream",
     "text": [
      "Loss 0.0040, Train Accuracy 92.5350%, Test Accuracy 93.0600%, Batch Size 64.0000, Learning Rate 0.0005000, Optimizer Adagrad\n",
      " -- Epoch 12/20\n"
     ]
    },
    {
     "metadata": {
      "tags": null
     },
     "name": "stderr",
     "output_type": "stream",
     "text": [
      "100%|██████████| 938/938 [00:16<00:00, 57.06it/s]\n"
     ]
    },
    {
     "metadata": {
      "tags": null
     },
     "name": "stdout",
     "output_type": "stream",
     "text": [
      "Loss 0.0039, Train Accuracy 92.7567%, Test Accuracy 93.2600%, Batch Size 64.0000, Learning Rate 0.0005000, Optimizer Adagrad\n",
      " -- Epoch 13/20\n"
     ]
    },
    {
     "metadata": {
      "tags": null
     },
     "name": "stderr",
     "output_type": "stream",
     "text": [
      "100%|██████████| 938/938 [00:16<00:00, 55.90it/s]\n"
     ]
    },
    {
     "metadata": {
      "tags": null
     },
     "name": "stdout",
     "output_type": "stream",
     "text": [
      "Loss 0.0038, Train Accuracy 92.9500%, Test Accuracy 93.3300%, Batch Size 64.0000, Learning Rate 0.0005000, Optimizer Adagrad\n",
      " -- Epoch 14/20\n"
     ]
    },
    {
     "metadata": {
      "tags": null
     },
     "name": "stderr",
     "output_type": "stream",
     "text": [
      "100%|██████████| 938/938 [00:16<00:00, 57.08it/s]\n"
     ]
    },
    {
     "metadata": {
      "tags": null
     },
     "name": "stdout",
     "output_type": "stream",
     "text": [
      "Loss 0.0037, Train Accuracy 93.1483%, Test Accuracy 93.5600%, Batch Size 64.0000, Learning Rate 0.0005000, Optimizer Adagrad\n",
      " -- Epoch 15/20\n"
     ]
    },
    {
     "metadata": {
      "tags": null
     },
     "name": "stderr",
     "output_type": "stream",
     "text": [
      "100%|██████████| 938/938 [00:16<00:00, 55.80it/s]\n"
     ]
    },
    {
     "metadata": {
      "tags": null
     },
     "name": "stdout",
     "output_type": "stream",
     "text": [
      "Loss 0.0036, Train Accuracy 93.2867%, Test Accuracy 93.6600%, Batch Size 64.0000, Learning Rate 0.0005000, Optimizer Adagrad\n",
      " -- Epoch 16/20\n"
     ]
    },
    {
     "metadata": {
      "tags": null
     },
     "name": "stderr",
     "output_type": "stream",
     "text": [
      "100%|██████████| 938/938 [00:16<00:00, 57.02it/s]\n"
     ]
    },
    {
     "metadata": {
      "tags": null
     },
     "name": "stdout",
     "output_type": "stream",
     "text": [
      "Loss 0.0035, Train Accuracy 93.4617%, Test Accuracy 93.8400%, Batch Size 64.0000, Learning Rate 0.0005000, Optimizer Adagrad\n",
      " -- Epoch 17/20\n"
     ]
    },
    {
     "metadata": {
      "tags": null
     },
     "name": "stderr",
     "output_type": "stream",
     "text": [
      "100%|██████████| 938/938 [00:16<00:00, 56.30it/s]\n"
     ]
    },
    {
     "metadata": {
      "tags": null
     },
     "name": "stdout",
     "output_type": "stream",
     "text": [
      "Loss 0.0034, Train Accuracy 93.6083%, Test Accuracy 93.9300%, Batch Size 64.0000, Learning Rate 0.0005000, Optimizer Adagrad\n",
      " -- Epoch 18/20\n"
     ]
    },
    {
     "metadata": {
      "tags": null
     },
     "name": "stderr",
     "output_type": "stream",
     "text": [
      "100%|██████████| 938/938 [00:16<00:00, 56.73it/s]\n"
     ]
    },
    {
     "metadata": {
      "tags": null
     },
     "name": "stdout",
     "output_type": "stream",
     "text": [
      "Loss 0.0034, Train Accuracy 93.6800%, Test Accuracy 94.0300%, Batch Size 64.0000, Learning Rate 0.0005000, Optimizer Adagrad\n",
      " -- Epoch 19/20\n"
     ]
    },
    {
     "metadata": {
      "tags": null
     },
     "name": "stderr",
     "output_type": "stream",
     "text": [
      "100%|██████████| 938/938 [00:16<00:00, 57.33it/s]\n"
     ]
    },
    {
     "metadata": {
      "tags": null
     },
     "name": "stdout",
     "output_type": "stream",
     "text": [
      "Loss 0.0033, Train Accuracy 93.8483%, Test Accuracy 94.1200%, Batch Size 64.0000, Learning Rate 0.0005000, Optimizer Adagrad\n",
      " -- Epoch 20/20\n"
     ]
    },
    {
     "metadata": {
      "tags": null
     },
     "name": "stderr",
     "output_type": "stream",
     "text": [
      "100%|██████████| 938/938 [00:17<00:00, 53.61it/s]\n"
     ]
    },
    {
     "metadata": {
      "tags": null
     },
     "name": "stdout",
     "output_type": "stream",
     "text": [
      "Loss 0.0032, Train Accuracy 93.9267%, Test Accuracy 94.3000%, Batch Size 64.0000, Learning Rate 0.0005000, Optimizer Adagrad\n",
      "Current Acc: 92.2120\n",
      " -- Epoch 1/20\n"
     ]
    },
    {
     "metadata": {
      "tags": null
     },
     "name": "stderr",
     "output_type": "stream",
     "text": [
      "100%|██████████| 938/938 [00:16<00:00, 56.98it/s]\n"
     ]
    },
    {
     "metadata": {
      "tags": null
     },
     "name": "stdout",
     "output_type": "stream",
     "text": [
      "Loss 0.0360, Train Accuracy 10.1983%, Test Accuracy 10.2100%, Batch Size 64.0000, Learning Rate 0.0000005, Optimizer Adagrad\n",
      " -- Epoch 2/20\n"
     ]
    },
    {
     "metadata": {
      "tags": null
     },
     "name": "stderr",
     "output_type": "stream",
     "text": [
      "100%|██████████| 938/938 [00:17<00:00, 54.22it/s]\n"
     ]
    },
    {
     "metadata": {
      "tags": null
     },
     "name": "stdout",
     "output_type": "stream",
     "text": [
      "Loss 0.0360, Train Accuracy 10.2017%, Test Accuracy 10.2300%, Batch Size 64.0000, Learning Rate 0.0000005, Optimizer Adagrad\n",
      " -- Epoch 3/20\n"
     ]
    },
    {
     "metadata": {
      "tags": null
     },
     "name": "stderr",
     "output_type": "stream",
     "text": [
      "100%|██████████| 938/938 [00:16<00:00, 56.94it/s]\n"
     ]
    },
    {
     "metadata": {
      "tags": null
     },
     "name": "stdout",
     "output_type": "stream",
     "text": [
      "Loss 0.0360, Train Accuracy 10.2033%, Test Accuracy 10.2200%, Batch Size 64.0000, Learning Rate 0.0000005, Optimizer Adagrad\n",
      " -- Epoch 4/20\n"
     ]
    },
    {
     "metadata": {
      "tags": null
     },
     "name": "stderr",
     "output_type": "stream",
     "text": [
      "100%|██████████| 938/938 [00:17<00:00, 54.03it/s]\n"
     ]
    },
    {
     "metadata": {
      "tags": null
     },
     "name": "stdout",
     "output_type": "stream",
     "text": [
      "Loss 0.0360, Train Accuracy 10.2033%, Test Accuracy 10.2200%, Batch Size 64.0000, Learning Rate 0.0000005, Optimizer Adagrad\n",
      " -- Epoch 5/20\n"
     ]
    },
    {
     "metadata": {
      "tags": null
     },
     "name": "stderr",
     "output_type": "stream",
     "text": [
      "100%|██████████| 938/938 [00:16<00:00, 56.76it/s]\n"
     ]
    },
    {
     "metadata": {
      "tags": null
     },
     "name": "stdout",
     "output_type": "stream",
     "text": [
      "Loss 0.0360, Train Accuracy 10.2050%, Test Accuracy 10.2200%, Batch Size 64.0000, Learning Rate 0.0000005, Optimizer Adagrad\n",
      " -- Epoch 6/20\n"
     ]
    },
    {
     "metadata": {
      "tags": null
     },
     "name": "stderr",
     "output_type": "stream",
     "text": [
      "100%|██████████| 938/938 [00:17<00:00, 54.83it/s]\n"
     ]
    },
    {
     "metadata": {
      "tags": null
     },
     "name": "stdout",
     "output_type": "stream",
     "text": [
      "Loss 0.0360, Train Accuracy 10.2050%, Test Accuracy 10.2200%, Batch Size 64.0000, Learning Rate 0.0000005, Optimizer Adagrad\n",
      " -- Epoch 7/20\n"
     ]
    },
    {
     "metadata": {
      "tags": null
     },
     "name": "stderr",
     "output_type": "stream",
     "text": [
      "100%|██████████| 938/938 [00:16<00:00, 56.86it/s]\n"
     ]
    },
    {
     "metadata": {
      "tags": null
     },
     "name": "stdout",
     "output_type": "stream",
     "text": [
      "Loss 0.0360, Train Accuracy 10.2067%, Test Accuracy 10.2100%, Batch Size 64.0000, Learning Rate 0.0000005, Optimizer Adagrad\n",
      " -- Epoch 8/20\n"
     ]
    },
    {
     "metadata": {
      "tags": null
     },
     "name": "stderr",
     "output_type": "stream",
     "text": [
      "100%|██████████| 938/938 [00:16<00:00, 55.32it/s]\n"
     ]
    },
    {
     "metadata": {
      "tags": null
     },
     "name": "stdout",
     "output_type": "stream",
     "text": [
      "Loss 0.0360, Train Accuracy 10.2050%, Test Accuracy 10.2200%, Batch Size 64.0000, Learning Rate 0.0000005, Optimizer Adagrad\n",
      " -- Epoch 9/20\n"
     ]
    },
    {
     "metadata": {
      "tags": null
     },
     "name": "stderr",
     "output_type": "stream",
     "text": [
      "100%|██████████| 938/938 [00:16<00:00, 57.63it/s]\n"
     ]
    },
    {
     "metadata": {
      "tags": null
     },
     "name": "stdout",
     "output_type": "stream",
     "text": [
      "Loss 0.0360, Train Accuracy 10.2033%, Test Accuracy 10.2200%, Batch Size 64.0000, Learning Rate 0.0000005, Optimizer Adagrad\n",
      " -- Epoch 10/20\n"
     ]
    },
    {
     "metadata": {
      "tags": null
     },
     "name": "stderr",
     "output_type": "stream",
     "text": [
      "100%|██████████| 938/938 [00:16<00:00, 56.29it/s]\n"
     ]
    },
    {
     "metadata": {
      "tags": null
     },
     "name": "stdout",
     "output_type": "stream",
     "text": [
      "Loss 0.0360, Train Accuracy 10.2033%, Test Accuracy 10.2200%, Batch Size 64.0000, Learning Rate 0.0000005, Optimizer Adagrad\n",
      " -- Epoch 11/20\n"
     ]
    },
    {
     "metadata": {
      "tags": null
     },
     "name": "stderr",
     "output_type": "stream",
     "text": [
      "100%|██████████| 938/938 [00:16<00:00, 56.54it/s]\n"
     ]
    },
    {
     "metadata": {
      "tags": null
     },
     "name": "stdout",
     "output_type": "stream",
     "text": [
      "Loss 0.0360, Train Accuracy 10.2033%, Test Accuracy 10.2200%, Batch Size 64.0000, Learning Rate 0.0000005, Optimizer Adagrad\n",
      " -- Epoch 12/20\n"
     ]
    },
    {
     "metadata": {
      "tags": null
     },
     "name": "stderr",
     "output_type": "stream",
     "text": [
      "100%|██████████| 938/938 [00:17<00:00, 54.18it/s]\n"
     ]
    },
    {
     "metadata": {
      "tags": null
     },
     "name": "stdout",
     "output_type": "stream",
     "text": [
      "Loss 0.0360, Train Accuracy 10.2083%, Test Accuracy 10.2300%, Batch Size 64.0000, Learning Rate 0.0000005, Optimizer Adagrad\n",
      " -- Epoch 13/20\n"
     ]
    },
    {
     "metadata": {
      "tags": null
     },
     "name": "stderr",
     "output_type": "stream",
     "text": [
      "100%|██████████| 938/938 [00:16<00:00, 56.11it/s]\n"
     ]
    },
    {
     "metadata": {
      "tags": null
     },
     "name": "stdout",
     "output_type": "stream",
     "text": [
      "Loss 0.0360, Train Accuracy 10.2150%, Test Accuracy 10.2300%, Batch Size 64.0000, Learning Rate 0.0000005, Optimizer Adagrad\n",
      " -- Epoch 14/20\n"
     ]
    },
    {
     "metadata": {
      "tags": null
     },
     "name": "stderr",
     "output_type": "stream",
     "text": [
      "100%|██████████| 938/938 [00:16<00:00, 56.42it/s]\n"
     ]
    },
    {
     "metadata": {
      "tags": null
     },
     "name": "stdout",
     "output_type": "stream",
     "text": [
      "Loss 0.0360, Train Accuracy 10.2200%, Test Accuracy 10.2300%, Batch Size 64.0000, Learning Rate 0.0000005, Optimizer Adagrad\n",
      " -- Epoch 15/20\n"
     ]
    },
    {
     "metadata": {
      "tags": null
     },
     "name": "stderr",
     "output_type": "stream",
     "text": [
      "100%|██████████| 938/938 [00:16<00:00, 55.51it/s]\n"
     ]
    },
    {
     "metadata": {
      "tags": null
     },
     "name": "stdout",
     "output_type": "stream",
     "text": [
      "Loss 0.0360, Train Accuracy 10.2200%, Test Accuracy 10.2300%, Batch Size 64.0000, Learning Rate 0.0000005, Optimizer Adagrad\n",
      " -- Epoch 16/20\n"
     ]
    },
    {
     "metadata": {
      "tags": null
     },
     "name": "stderr",
     "output_type": "stream",
     "text": [
      "100%|██████████| 938/938 [00:16<00:00, 56.36it/s]\n"
     ]
    },
    {
     "metadata": {
      "tags": null
     },
     "name": "stdout",
     "output_type": "stream",
     "text": [
      "Loss 0.0360, Train Accuracy 10.2217%, Test Accuracy 10.2400%, Batch Size 64.0000, Learning Rate 0.0000005, Optimizer Adagrad\n",
      " -- Epoch 17/20\n"
     ]
    },
    {
     "metadata": {
      "tags": null
     },
     "name": "stderr",
     "output_type": "stream",
     "text": [
      "100%|██████████| 938/938 [00:17<00:00, 54.48it/s]\n"
     ]
    },
    {
     "metadata": {
      "tags": null
     },
     "name": "stdout",
     "output_type": "stream",
     "text": [
      "Loss 0.0360, Train Accuracy 10.2233%, Test Accuracy 10.2400%, Batch Size 64.0000, Learning Rate 0.0000005, Optimizer Adagrad\n",
      " -- Epoch 18/20\n"
     ]
    },
    {
     "metadata": {
      "tags": null
     },
     "name": "stderr",
     "output_type": "stream",
     "text": [
      "100%|██████████| 938/938 [00:16<00:00, 57.27it/s]\n"
     ]
    },
    {
     "metadata": {
      "tags": null
     },
     "name": "stdout",
     "output_type": "stream",
     "text": [
      "Loss 0.0360, Train Accuracy 10.2233%, Test Accuracy 10.2500%, Batch Size 64.0000, Learning Rate 0.0000005, Optimizer Adagrad\n",
      " -- Epoch 19/20\n"
     ]
    },
    {
     "metadata": {
      "tags": null
     },
     "name": "stderr",
     "output_type": "stream",
     "text": [
      "100%|██████████| 938/938 [00:17<00:00, 53.77it/s]\n"
     ]
    },
    {
     "metadata": {
      "tags": null
     },
     "name": "stdout",
     "output_type": "stream",
     "text": [
      "Loss 0.0360, Train Accuracy 10.2250%, Test Accuracy 10.2600%, Batch Size 64.0000, Learning Rate 0.0000005, Optimizer Adagrad\n",
      " -- Epoch 20/20\n"
     ]
    },
    {
     "metadata": {
      "tags": null
     },
     "name": "stderr",
     "output_type": "stream",
     "text": [
      "100%|██████████| 938/938 [00:16<00:00, 56.30it/s]\n"
     ]
    },
    {
     "metadata": {
      "tags": null
     },
     "name": "stdout",
     "output_type": "stream",
     "text": [
      "Loss 0.0360, Train Accuracy 10.2250%, Test Accuracy 10.2600%, Batch Size 64.0000, Learning Rate 0.0000005, Optimizer Adagrad\n",
      "Current Acc: 10.2290\n",
      " -- Epoch 1/20\n"
     ]
    },
    {
     "metadata": {
      "tags": null
     },
     "name": "stderr",
     "output_type": "stream",
     "text": [
      "100%|██████████| 235/235 [00:13<00:00, 17.00it/s]\n"
     ]
    },
    {
     "metadata": {
      "tags": null
     },
     "name": "stdout",
     "output_type": "stream",
     "text": [
      "Loss 0.0026, Train Accuracy 83.3600%, Test Accuracy 97.2800%, Batch Size 256.0000, Learning Rate 0.0500000, Optimizer Adagrad\n",
      " -- Epoch 2/20\n"
     ]
    },
    {
     "metadata": {
      "tags": null
     },
     "name": "stderr",
     "output_type": "stream",
     "text": [
      "100%|██████████| 235/235 [00:13<00:00, 17.59it/s]\n"
     ]
    },
    {
     "metadata": {
      "tags": null
     },
     "name": "stdout",
     "output_type": "stream",
     "text": [
      "Loss 0.0003, Train Accuracy 97.6333%, Test Accuracy 98.3600%, Batch Size 256.0000, Learning Rate 0.0500000, Optimizer Adagrad\n",
      " -- Epoch 3/20\n"
     ]
    },
    {
     "metadata": {
      "tags": null
     },
     "name": "stderr",
     "output_type": "stream",
     "text": [
      "100%|██████████| 235/235 [00:13<00:00, 17.29it/s]\n"
     ]
    },
    {
     "metadata": {
      "tags": null
     },
     "name": "stdout",
     "output_type": "stream",
     "text": [
      "Loss 0.0002, Train Accuracy 98.2550%, Test Accuracy 98.0700%, Batch Size 256.0000, Learning Rate 0.0500000, Optimizer Adagrad\n",
      " -- Epoch 4/20\n"
     ]
    },
    {
     "metadata": {
      "tags": null
     },
     "name": "stderr",
     "output_type": "stream",
     "text": [
      "100%|██████████| 235/235 [00:13<00:00, 17.62it/s]\n"
     ]
    },
    {
     "metadata": {
      "tags": null
     },
     "name": "stdout",
     "output_type": "stream",
     "text": [
      "Loss 0.0002, Train Accuracy 98.5400%, Test Accuracy 98.7500%, Batch Size 256.0000, Learning Rate 0.0500000, Optimizer Adagrad\n",
      " -- Epoch 5/20\n"
     ]
    },
    {
     "metadata": {
      "tags": null
     },
     "name": "stderr",
     "output_type": "stream",
     "text": [
      "100%|██████████| 235/235 [00:14<00:00, 16.15it/s]\n"
     ]
    },
    {
     "metadata": {
      "tags": null
     },
     "name": "stdout",
     "output_type": "stream",
     "text": [
      "Loss 0.0002, Train Accuracy 98.7667%, Test Accuracy 98.6900%, Batch Size 256.0000, Learning Rate 0.0500000, Optimizer Adagrad\n",
      " -- Epoch 6/20\n"
     ]
    },
    {
     "metadata": {
      "tags": null
     },
     "name": "stderr",
     "output_type": "stream",
     "text": [
      "100%|██████████| 235/235 [00:13<00:00, 17.34it/s]\n"
     ]
    },
    {
     "metadata": {
      "tags": null
     },
     "name": "stdout",
     "output_type": "stream",
     "text": [
      "Loss 0.0001, Train Accuracy 98.9017%, Test Accuracy 98.8300%, Batch Size 256.0000, Learning Rate 0.0500000, Optimizer Adagrad\n",
      " -- Epoch 7/20\n"
     ]
    },
    {
     "metadata": {
      "tags": null
     },
     "name": "stderr",
     "output_type": "stream",
     "text": [
      "100%|██████████| 235/235 [00:13<00:00, 17.45it/s]\n"
     ]
    },
    {
     "metadata": {
      "tags": null
     },
     "name": "stdout",
     "output_type": "stream",
     "text": [
      "Loss 0.0001, Train Accuracy 99.0550%, Test Accuracy 98.6900%, Batch Size 256.0000, Learning Rate 0.0500000, Optimizer Adagrad\n",
      " -- Epoch 8/20\n"
     ]
    },
    {
     "metadata": {
      "tags": null
     },
     "name": "stderr",
     "output_type": "stream",
     "text": [
      "100%|██████████| 235/235 [00:13<00:00, 17.46it/s]\n"
     ]
    },
    {
     "metadata": {
      "tags": null
     },
     "name": "stdout",
     "output_type": "stream",
     "text": [
      "Loss 0.0001, Train Accuracy 99.2200%, Test Accuracy 98.9100%, Batch Size 256.0000, Learning Rate 0.0500000, Optimizer Adagrad\n",
      " -- Epoch 9/20\n"
     ]
    },
    {
     "metadata": {
      "tags": null
     },
     "name": "stderr",
     "output_type": "stream",
     "text": [
      "100%|██████████| 235/235 [00:13<00:00, 17.26it/s]\n"
     ]
    },
    {
     "metadata": {
      "tags": null
     },
     "name": "stdout",
     "output_type": "stream",
     "text": [
      "Loss 0.0001, Train Accuracy 99.2967%, Test Accuracy 98.9300%, Batch Size 256.0000, Learning Rate 0.0500000, Optimizer Adagrad\n",
      " -- Epoch 10/20\n"
     ]
    },
    {
     "metadata": {
      "tags": null
     },
     "name": "stderr",
     "output_type": "stream",
     "text": [
      "100%|██████████| 235/235 [00:13<00:00, 17.25it/s]\n"
     ]
    },
    {
     "metadata": {
      "tags": null
     },
     "name": "stdout",
     "output_type": "stream",
     "text": [
      "Loss 0.0001, Train Accuracy 99.3467%, Test Accuracy 99.0100%, Batch Size 256.0000, Learning Rate 0.0500000, Optimizer Adagrad\n",
      " -- Epoch 11/20\n"
     ]
    },
    {
     "metadata": {
      "tags": null
     },
     "name": "stderr",
     "output_type": "stream",
     "text": [
      "100%|██████████| 235/235 [00:13<00:00, 17.32it/s]\n"
     ]
    },
    {
     "metadata": {
      "tags": null
     },
     "name": "stdout",
     "output_type": "stream",
     "text": [
      "Loss 0.0001, Train Accuracy 99.4167%, Test Accuracy 99.0500%, Batch Size 256.0000, Learning Rate 0.0500000, Optimizer Adagrad\n",
      " -- Epoch 12/20\n"
     ]
    },
    {
     "metadata": {
      "tags": null
     },
     "name": "stderr",
     "output_type": "stream",
     "text": [
      "100%|██████████| 235/235 [00:13<00:00, 17.74it/s]\n"
     ]
    },
    {
     "metadata": {
      "tags": null
     },
     "name": "stdout",
     "output_type": "stream",
     "text": [
      "Loss 0.0001, Train Accuracy 99.4867%, Test Accuracy 99.0000%, Batch Size 256.0000, Learning Rate 0.0500000, Optimizer Adagrad\n",
      " -- Epoch 13/20\n"
     ]
    },
    {
     "metadata": {
      "tags": null
     },
     "name": "stderr",
     "output_type": "stream",
     "text": [
      "100%|██████████| 235/235 [00:13<00:00, 17.53it/s]\n"
     ]
    },
    {
     "metadata": {
      "tags": null
     },
     "name": "stdout",
     "output_type": "stream",
     "text": [
      "Loss 0.0001, Train Accuracy 99.5333%, Test Accuracy 98.9000%, Batch Size 256.0000, Learning Rate 0.0500000, Optimizer Adagrad\n",
      " -- Epoch 14/20\n"
     ]
    },
    {
     "metadata": {
      "tags": null
     },
     "name": "stderr",
     "output_type": "stream",
     "text": [
      "100%|██████████| 235/235 [00:13<00:00, 17.71it/s]\n"
     ]
    },
    {
     "metadata": {
      "tags": null
     },
     "name": "stdout",
     "output_type": "stream",
     "text": [
      "Loss 0.0001, Train Accuracy 99.5567%, Test Accuracy 99.1000%, Batch Size 256.0000, Learning Rate 0.0500000, Optimizer Adagrad\n",
      " -- Epoch 15/20\n"
     ]
    },
    {
     "metadata": {
      "tags": null
     },
     "name": "stderr",
     "output_type": "stream",
     "text": [
      "100%|██████████| 235/235 [00:13<00:00, 17.39it/s]\n"
     ]
    },
    {
     "metadata": {
      "tags": null
     },
     "name": "stdout",
     "output_type": "stream",
     "text": [
      "Loss 0.0001, Train Accuracy 99.6133%, Test Accuracy 99.1100%, Batch Size 256.0000, Learning Rate 0.0500000, Optimizer Adagrad\n",
      " -- Epoch 16/20\n"
     ]
    },
    {
     "metadata": {
      "tags": null
     },
     "name": "stderr",
     "output_type": "stream",
     "text": [
      "100%|██████████| 235/235 [00:13<00:00, 17.67it/s]\n"
     ]
    },
    {
     "metadata": {
      "tags": null
     },
     "name": "stdout",
     "output_type": "stream",
     "text": [
      "Loss 0.0000, Train Accuracy 99.6367%, Test Accuracy 99.0700%, Batch Size 256.0000, Learning Rate 0.0500000, Optimizer Adagrad\n",
      " -- Epoch 17/20\n"
     ]
    },
    {
     "metadata": {
      "tags": null
     },
     "name": "stderr",
     "output_type": "stream",
     "text": [
      "100%|██████████| 235/235 [00:13<00:00, 17.57it/s]\n"
     ]
    },
    {
     "metadata": {
      "tags": null
     },
     "name": "stdout",
     "output_type": "stream",
     "text": [
      "Loss 0.0000, Train Accuracy 99.6833%, Test Accuracy 98.9800%, Batch Size 256.0000, Learning Rate 0.0500000, Optimizer Adagrad\n",
      " -- Epoch 18/20\n"
     ]
    },
    {
     "metadata": {
      "tags": null
     },
     "name": "stderr",
     "output_type": "stream",
     "text": [
      "100%|██████████| 235/235 [00:13<00:00, 17.94it/s]\n"
     ]
    },
    {
     "metadata": {
      "tags": null
     },
     "name": "stdout",
     "output_type": "stream",
     "text": [
      "Loss 0.0000, Train Accuracy 99.7333%, Test Accuracy 99.0800%, Batch Size 256.0000, Learning Rate 0.0500000, Optimizer Adagrad\n",
      " -- Epoch 19/20\n"
     ]
    },
    {
     "metadata": {
      "tags": null
     },
     "name": "stderr",
     "output_type": "stream",
     "text": [
      "100%|██████████| 235/235 [00:13<00:00, 17.21it/s]\n"
     ]
    },
    {
     "metadata": {
      "tags": null
     },
     "name": "stdout",
     "output_type": "stream",
     "text": [
      "Loss 0.0000, Train Accuracy 99.7417%, Test Accuracy 98.4300%, Batch Size 256.0000, Learning Rate 0.0500000, Optimizer Adagrad\n",
      " -- Epoch 20/20\n"
     ]
    },
    {
     "metadata": {
      "tags": null
     },
     "name": "stderr",
     "output_type": "stream",
     "text": [
      "100%|██████████| 235/235 [00:14<00:00, 15.82it/s]\n"
     ]
    },
    {
     "metadata": {
      "tags": null
     },
     "name": "stdout",
     "output_type": "stream",
     "text": [
      "Loss 0.0000, Train Accuracy 99.7533%, Test Accuracy 99.0000%, Batch Size 256.0000, Learning Rate 0.0500000, Optimizer Adagrad\n",
      "Current Acc: 98.7620\n",
      " -- Epoch 1/20\n"
     ]
    },
    {
     "metadata": {
      "tags": null
     },
     "name": "stderr",
     "output_type": "stream",
     "text": [
      "100%|██████████| 235/235 [00:13<00:00, 17.26it/s]\n"
     ]
    },
    {
     "metadata": {
      "tags": null
     },
     "name": "stdout",
     "output_type": "stream",
     "text": [
      "Loss 0.0073, Train Accuracy 57.4917%, Test Accuracy 74.0300%, Batch Size 256.0000, Learning Rate 0.0005000, Optimizer Adagrad\n",
      " -- Epoch 2/20\n"
     ]
    },
    {
     "metadata": {
      "tags": null
     },
     "name": "stderr",
     "output_type": "stream",
     "text": [
      "100%|██████████| 235/235 [00:13<00:00, 17.07it/s]\n"
     ]
    },
    {
     "metadata": {
      "tags": null
     },
     "name": "stdout",
     "output_type": "stream",
     "text": [
      "Loss 0.0041, Train Accuracy 78.2417%, Test Accuracy 81.7100%, Batch Size 256.0000, Learning Rate 0.0005000, Optimizer Adagrad\n",
      " -- Epoch 3/20\n"
     ]
    },
    {
     "metadata": {
      "tags": null
     },
     "name": "stderr",
     "output_type": "stream",
     "text": [
      "100%|██████████| 235/235 [00:14<00:00, 16.69it/s]\n"
     ]
    },
    {
     "metadata": {
      "tags": null
     },
     "name": "stdout",
     "output_type": "stream",
     "text": [
      "Loss 0.0028, Train Accuracy 82.8300%, Test Accuracy 84.7700%, Batch Size 256.0000, Learning Rate 0.0005000, Optimizer Adagrad\n",
      " -- Epoch 4/20\n"
     ]
    },
    {
     "metadata": {
      "tags": null
     },
     "name": "stderr",
     "output_type": "stream",
     "text": [
      "100%|██████████| 235/235 [00:13<00:00, 17.21it/s]\n"
     ]
    },
    {
     "metadata": {
      "tags": null
     },
     "name": "stdout",
     "output_type": "stream",
     "text": [
      "Loss 0.0023, Train Accuracy 84.8250%, Test Accuracy 85.8700%, Batch Size 256.0000, Learning Rate 0.0005000, Optimizer Adagrad\n",
      " -- Epoch 5/20\n"
     ]
    },
    {
     "metadata": {
      "tags": null
     },
     "name": "stderr",
     "output_type": "stream",
     "text": [
      "100%|██████████| 235/235 [00:13<00:00, 17.73it/s]\n"
     ]
    },
    {
     "metadata": {
      "tags": null
     },
     "name": "stdout",
     "output_type": "stream",
     "text": [
      "Loss 0.0020, Train Accuracy 86.1017%, Test Accuracy 87.0500%, Batch Size 256.0000, Learning Rate 0.0005000, Optimizer Adagrad\n",
      " -- Epoch 6/20\n"
     ]
    },
    {
     "metadata": {
      "tags": null
     },
     "name": "stderr",
     "output_type": "stream",
     "text": [
      "100%|██████████| 235/235 [00:13<00:00, 17.37it/s]\n"
     ]
    },
    {
     "metadata": {
      "tags": null
     },
     "name": "stdout",
     "output_type": "stream",
     "text": [
      "Loss 0.0018, Train Accuracy 86.9700%, Test Accuracy 87.6700%, Batch Size 256.0000, Learning Rate 0.0005000, Optimizer Adagrad\n",
      " -- Epoch 7/20\n"
     ]
    },
    {
     "metadata": {
      "tags": null
     },
     "name": "stderr",
     "output_type": "stream",
     "text": [
      "100%|██████████| 235/235 [00:13<00:00, 17.50it/s]\n"
     ]
    },
    {
     "metadata": {
      "tags": null
     },
     "name": "stdout",
     "output_type": "stream",
     "text": [
      "Loss 0.0017, Train Accuracy 87.7050%, Test Accuracy 88.5300%, Batch Size 256.0000, Learning Rate 0.0005000, Optimizer Adagrad\n",
      " -- Epoch 8/20\n"
     ]
    },
    {
     "metadata": {
      "tags": null
     },
     "name": "stderr",
     "output_type": "stream",
     "text": [
      "100%|██████████| 235/235 [00:13<00:00, 17.32it/s]\n"
     ]
    },
    {
     "metadata": {
      "tags": null
     },
     "name": "stdout",
     "output_type": "stream",
     "text": [
      "Loss 0.0016, Train Accuracy 88.2967%, Test Accuracy 89.0100%, Batch Size 256.0000, Learning Rate 0.0005000, Optimizer Adagrad\n",
      " -- Epoch 9/20\n"
     ]
    },
    {
     "metadata": {
      "tags": null
     },
     "name": "stderr",
     "output_type": "stream",
     "text": [
      "100%|██████████| 235/235 [00:13<00:00, 17.12it/s]\n"
     ]
    },
    {
     "metadata": {
      "tags": null
     },
     "name": "stdout",
     "output_type": "stream",
     "text": [
      "Loss 0.0015, Train Accuracy 88.7900%, Test Accuracy 89.4600%, Batch Size 256.0000, Learning Rate 0.0005000, Optimizer Adagrad\n",
      " -- Epoch 10/20\n"
     ]
    },
    {
     "metadata": {
      "tags": null
     },
     "name": "stderr",
     "output_type": "stream",
     "text": [
      "100%|██████████| 235/235 [00:13<00:00, 17.02it/s]\n"
     ]
    },
    {
     "metadata": {
      "tags": null
     },
     "name": "stdout",
     "output_type": "stream",
     "text": [
      "Loss 0.0015, Train Accuracy 89.2183%, Test Accuracy 89.8600%, Batch Size 256.0000, Learning Rate 0.0005000, Optimizer Adagrad\n",
      " -- Epoch 11/20\n"
     ]
    },
    {
     "metadata": {
      "tags": null
     },
     "name": "stderr",
     "output_type": "stream",
     "text": [
      "100%|██████████| 235/235 [00:13<00:00, 17.26it/s]\n"
     ]
    },
    {
     "metadata": {
      "tags": null
     },
     "name": "stdout",
     "output_type": "stream",
     "text": [
      "Loss 0.0014, Train Accuracy 89.6000%, Test Accuracy 90.0700%, Batch Size 256.0000, Learning Rate 0.0005000, Optimizer Adagrad\n",
      " -- Epoch 12/20\n"
     ]
    },
    {
     "metadata": {
      "tags": null
     },
     "name": "stderr",
     "output_type": "stream",
     "text": [
      "100%|██████████| 235/235 [00:13<00:00, 17.08it/s]\n"
     ]
    },
    {
     "metadata": {
      "tags": null
     },
     "name": "stdout",
     "output_type": "stream",
     "text": [
      "Loss 0.0014, Train Accuracy 89.9383%, Test Accuracy 90.3300%, Batch Size 256.0000, Learning Rate 0.0005000, Optimizer Adagrad\n",
      " -- Epoch 13/20\n"
     ]
    },
    {
     "metadata": {
      "tags": null
     },
     "name": "stderr",
     "output_type": "stream",
     "text": [
      "100%|██████████| 235/235 [00:13<00:00, 17.07it/s]\n"
     ]
    },
    {
     "metadata": {
      "tags": null
     },
     "name": "stdout",
     "output_type": "stream",
     "text": [
      "Loss 0.0013, Train Accuracy 90.2183%, Test Accuracy 90.5700%, Batch Size 256.0000, Learning Rate 0.0005000, Optimizer Adagrad\n",
      " -- Epoch 14/20\n"
     ]
    },
    {
     "metadata": {
      "tags": null
     },
     "name": "stderr",
     "output_type": "stream",
     "text": [
      "100%|██████████| 235/235 [00:13<00:00, 17.20it/s]\n"
     ]
    },
    {
     "metadata": {
      "tags": null
     },
     "name": "stdout",
     "output_type": "stream",
     "text": [
      "Loss 0.0013, Train Accuracy 90.5067%, Test Accuracy 90.8500%, Batch Size 256.0000, Learning Rate 0.0005000, Optimizer Adagrad\n",
      " -- Epoch 15/20\n"
     ]
    },
    {
     "metadata": {
      "tags": null
     },
     "name": "stderr",
     "output_type": "stream",
     "text": [
      "100%|██████████| 235/235 [00:14<00:00, 16.23it/s]\n"
     ]
    },
    {
     "metadata": {
      "tags": null
     },
     "name": "stdout",
     "output_type": "stream",
     "text": [
      "Loss 0.0013, Train Accuracy 90.7483%, Test Accuracy 91.1800%, Batch Size 256.0000, Learning Rate 0.0005000, Optimizer Adagrad\n",
      " -- Epoch 16/20\n"
     ]
    },
    {
     "metadata": {
      "tags": null
     },
     "name": "stderr",
     "output_type": "stream",
     "text": [
      "100%|██████████| 235/235 [00:13<00:00, 17.22it/s]\n"
     ]
    },
    {
     "metadata": {
      "tags": null
     },
     "name": "stdout",
     "output_type": "stream",
     "text": [
      "Loss 0.0012, Train Accuracy 91.0083%, Test Accuracy 91.4800%, Batch Size 256.0000, Learning Rate 0.0005000, Optimizer Adagrad\n",
      " -- Epoch 17/20\n"
     ]
    },
    {
     "metadata": {
      "tags": null
     },
     "name": "stderr",
     "output_type": "stream",
     "text": [
      "100%|██████████| 235/235 [00:13<00:00, 16.79it/s]\n"
     ]
    },
    {
     "metadata": {
      "tags": null
     },
     "name": "stdout",
     "output_type": "stream",
     "text": [
      "Loss 0.0012, Train Accuracy 91.2017%, Test Accuracy 91.7200%, Batch Size 256.0000, Learning Rate 0.0005000, Optimizer Adagrad\n",
      " -- Epoch 18/20\n"
     ]
    },
    {
     "metadata": {
      "tags": null
     },
     "name": "stderr",
     "output_type": "stream",
     "text": [
      "100%|██████████| 235/235 [00:13<00:00, 17.25it/s]\n"
     ]
    },
    {
     "metadata": {
      "tags": null
     },
     "name": "stdout",
     "output_type": "stream",
     "text": [
      "Loss 0.0012, Train Accuracy 91.3783%, Test Accuracy 91.9200%, Batch Size 256.0000, Learning Rate 0.0005000, Optimizer Adagrad\n",
      " -- Epoch 19/20\n"
     ]
    },
    {
     "metadata": {
      "tags": null
     },
     "name": "stderr",
     "output_type": "stream",
     "text": [
      "100%|██████████| 235/235 [00:13<00:00, 17.61it/s]\n"
     ]
    },
    {
     "metadata": {
      "tags": null
     },
     "name": "stdout",
     "output_type": "stream",
     "text": [
      "Loss 0.0011, Train Accuracy 91.5783%, Test Accuracy 92.1700%, Batch Size 256.0000, Learning Rate 0.0005000, Optimizer Adagrad\n",
      " -- Epoch 20/20\n"
     ]
    },
    {
     "metadata": {
      "tags": null
     },
     "name": "stderr",
     "output_type": "stream",
     "text": [
      "100%|██████████| 235/235 [00:13<00:00, 17.23it/s]\n"
     ]
    },
    {
     "metadata": {
      "tags": null
     },
     "name": "stdout",
     "output_type": "stream",
     "text": [
      "Loss 0.0011, Train Accuracy 91.7533%, Test Accuracy 92.3000%, Batch Size 256.0000, Learning Rate 0.0005000, Optimizer Adagrad\n",
      "Current Acc: 88.5275\n",
      " -- Epoch 1/20\n"
     ]
    },
    {
     "metadata": {
      "tags": null
     },
     "name": "stderr",
     "output_type": "stream",
     "text": [
      "100%|██████████| 235/235 [00:13<00:00, 17.17it/s]\n"
     ]
    },
    {
     "metadata": {
      "tags": null
     },
     "name": "stdout",
     "output_type": "stream",
     "text": [
      "Loss 0.0090, Train Accuracy 9.7633%, Test Accuracy 9.8300%, Batch Size 256.0000, Learning Rate 0.0000005, Optimizer Adagrad\n",
      " -- Epoch 2/20\n"
     ]
    },
    {
     "metadata": {
      "tags": null
     },
     "name": "stderr",
     "output_type": "stream",
     "text": [
      "100%|██████████| 235/235 [00:13<00:00, 17.16it/s]\n"
     ]
    },
    {
     "metadata": {
      "tags": null
     },
     "name": "stdout",
     "output_type": "stream",
     "text": [
      "Loss 0.0090, Train Accuracy 9.7667%, Test Accuracy 9.8300%, Batch Size 256.0000, Learning Rate 0.0000005, Optimizer Adagrad\n",
      " -- Epoch 3/20\n"
     ]
    },
    {
     "metadata": {
      "tags": null
     },
     "name": "stderr",
     "output_type": "stream",
     "text": [
      "100%|██████████| 235/235 [00:13<00:00, 17.60it/s]\n"
     ]
    },
    {
     "metadata": {
      "tags": null
     },
     "name": "stdout",
     "output_type": "stream",
     "text": [
      "Loss 0.0090, Train Accuracy 9.7683%, Test Accuracy 9.8300%, Batch Size 256.0000, Learning Rate 0.0000005, Optimizer Adagrad\n",
      " -- Epoch 4/20\n"
     ]
    },
    {
     "metadata": {
      "tags": null
     },
     "name": "stderr",
     "output_type": "stream",
     "text": [
      "100%|██████████| 235/235 [00:13<00:00, 17.09it/s]\n"
     ]
    },
    {
     "metadata": {
      "tags": null
     },
     "name": "stdout",
     "output_type": "stream",
     "text": [
      "Loss 0.0090, Train Accuracy 9.7717%, Test Accuracy 9.8300%, Batch Size 256.0000, Learning Rate 0.0000005, Optimizer Adagrad\n",
      " -- Epoch 5/20\n"
     ]
    },
    {
     "metadata": {
      "tags": null
     },
     "name": "stderr",
     "output_type": "stream",
     "text": [
      "100%|██████████| 235/235 [00:13<00:00, 17.40it/s]\n"
     ]
    },
    {
     "metadata": {
      "tags": null
     },
     "name": "stdout",
     "output_type": "stream",
     "text": [
      "Loss 0.0090, Train Accuracy 9.7733%, Test Accuracy 9.8300%, Batch Size 256.0000, Learning Rate 0.0000005, Optimizer Adagrad\n",
      " -- Epoch 6/20\n"
     ]
    },
    {
     "metadata": {
      "tags": null
     },
     "name": "stderr",
     "output_type": "stream",
     "text": [
      "100%|██████████| 235/235 [00:14<00:00, 16.76it/s]\n"
     ]
    },
    {
     "metadata": {
      "tags": null
     },
     "name": "stdout",
     "output_type": "stream",
     "text": [
      "Loss 0.0090, Train Accuracy 9.7750%, Test Accuracy 9.8300%, Batch Size 256.0000, Learning Rate 0.0000005, Optimizer Adagrad\n",
      " -- Epoch 7/20\n"
     ]
    },
    {
     "metadata": {
      "tags": null
     },
     "name": "stderr",
     "output_type": "stream",
     "text": [
      "100%|██████████| 235/235 [00:13<00:00, 17.57it/s]\n"
     ]
    },
    {
     "metadata": {
      "tags": null
     },
     "name": "stdout",
     "output_type": "stream",
     "text": [
      "Loss 0.0090, Train Accuracy 9.7750%, Test Accuracy 9.8300%, Batch Size 256.0000, Learning Rate 0.0000005, Optimizer Adagrad\n",
      " -- Epoch 8/20\n"
     ]
    },
    {
     "metadata": {
      "tags": null
     },
     "name": "stderr",
     "output_type": "stream",
     "text": [
      "100%|██████████| 235/235 [00:13<00:00, 17.10it/s]\n"
     ]
    },
    {
     "metadata": {
      "tags": null
     },
     "name": "stdout",
     "output_type": "stream",
     "text": [
      "Loss 0.0090, Train Accuracy 9.7750%, Test Accuracy 9.8400%, Batch Size 256.0000, Learning Rate 0.0000005, Optimizer Adagrad\n",
      " -- Epoch 9/20\n"
     ]
    },
    {
     "metadata": {
      "tags": null
     },
     "name": "stderr",
     "output_type": "stream",
     "text": [
      "100%|██████████| 235/235 [00:14<00:00, 16.48it/s]\n"
     ]
    },
    {
     "metadata": {
      "tags": null
     },
     "name": "stdout",
     "output_type": "stream",
     "text": [
      "Loss 0.0090, Train Accuracy 9.7767%, Test Accuracy 9.8400%, Batch Size 256.0000, Learning Rate 0.0000005, Optimizer Adagrad\n",
      " -- Epoch 10/20\n"
     ]
    },
    {
     "metadata": {
      "tags": null
     },
     "name": "stderr",
     "output_type": "stream",
     "text": [
      "100%|██████████| 235/235 [00:13<00:00, 16.92it/s]\n"
     ]
    },
    {
     "metadata": {
      "tags": null
     },
     "name": "stdout",
     "output_type": "stream",
     "text": [
      "Loss 0.0090, Train Accuracy 9.7767%, Test Accuracy 9.8400%, Batch Size 256.0000, Learning Rate 0.0000005, Optimizer Adagrad\n",
      " -- Epoch 11/20\n"
     ]
    },
    {
     "metadata": {
      "tags": null
     },
     "name": "stderr",
     "output_type": "stream",
     "text": [
      "100%|██████████| 235/235 [00:13<00:00, 17.39it/s]\n"
     ]
    },
    {
     "metadata": {
      "tags": null
     },
     "name": "stdout",
     "output_type": "stream",
     "text": [
      "Loss 0.0090, Train Accuracy 9.7767%, Test Accuracy 9.8400%, Batch Size 256.0000, Learning Rate 0.0000005, Optimizer Adagrad\n",
      " -- Epoch 12/20\n"
     ]
    },
    {
     "metadata": {
      "tags": null
     },
     "name": "stderr",
     "output_type": "stream",
     "text": [
      "100%|██████████| 235/235 [00:13<00:00, 17.58it/s]\n"
     ]
    },
    {
     "metadata": {
      "tags": null
     },
     "name": "stdout",
     "output_type": "stream",
     "text": [
      "Loss 0.0090, Train Accuracy 9.7767%, Test Accuracy 9.8400%, Batch Size 256.0000, Learning Rate 0.0000005, Optimizer Adagrad\n",
      " -- Epoch 13/20\n"
     ]
    },
    {
     "metadata": {
      "tags": null
     },
     "name": "stderr",
     "output_type": "stream",
     "text": [
      "100%|██████████| 235/235 [00:13<00:00, 17.45it/s]\n"
     ]
    },
    {
     "metadata": {
      "tags": null
     },
     "name": "stdout",
     "output_type": "stream",
     "text": [
      "Loss 0.0090, Train Accuracy 9.7767%, Test Accuracy 9.8400%, Batch Size 256.0000, Learning Rate 0.0000005, Optimizer Adagrad\n",
      " -- Epoch 14/20\n"
     ]
    },
    {
     "metadata": {
      "tags": null
     },
     "name": "stderr",
     "output_type": "stream",
     "text": [
      "100%|██████████| 235/235 [00:13<00:00, 17.53it/s]\n"
     ]
    },
    {
     "metadata": {
      "tags": null
     },
     "name": "stdout",
     "output_type": "stream",
     "text": [
      "Loss 0.0090, Train Accuracy 9.7767%, Test Accuracy 9.8400%, Batch Size 256.0000, Learning Rate 0.0000005, Optimizer Adagrad\n",
      " -- Epoch 15/20\n"
     ]
    },
    {
     "metadata": {
      "tags": null
     },
     "name": "stderr",
     "output_type": "stream",
     "text": [
      "100%|██████████| 235/235 [00:13<00:00, 17.62it/s]\n"
     ]
    },
    {
     "metadata": {
      "tags": null
     },
     "name": "stdout",
     "output_type": "stream",
     "text": [
      "Loss 0.0090, Train Accuracy 9.7767%, Test Accuracy 9.8400%, Batch Size 256.0000, Learning Rate 0.0000005, Optimizer Adagrad\n",
      " -- Epoch 16/20\n"
     ]
    },
    {
     "metadata": {
      "tags": null
     },
     "name": "stderr",
     "output_type": "stream",
     "text": [
      "100%|██████████| 235/235 [00:13<00:00, 17.60it/s]\n"
     ]
    },
    {
     "metadata": {
      "tags": null
     },
     "name": "stdout",
     "output_type": "stream",
     "text": [
      "Loss 0.0090, Train Accuracy 9.7767%, Test Accuracy 9.8400%, Batch Size 256.0000, Learning Rate 0.0000005, Optimizer Adagrad\n",
      " -- Epoch 17/20\n"
     ]
    },
    {
     "metadata": {
      "tags": null
     },
     "name": "stderr",
     "output_type": "stream",
     "text": [
      "100%|██████████| 235/235 [00:13<00:00, 17.69it/s]\n"
     ]
    },
    {
     "metadata": {
      "tags": null
     },
     "name": "stdout",
     "output_type": "stream",
     "text": [
      "Loss 0.0090, Train Accuracy 9.7783%, Test Accuracy 9.8400%, Batch Size 256.0000, Learning Rate 0.0000005, Optimizer Adagrad\n",
      " -- Epoch 18/20\n"
     ]
    },
    {
     "metadata": {
      "tags": null
     },
     "name": "stderr",
     "output_type": "stream",
     "text": [
      "100%|██████████| 235/235 [00:13<00:00, 17.43it/s]\n"
     ]
    },
    {
     "metadata": {
      "tags": null
     },
     "name": "stdout",
     "output_type": "stream",
     "text": [
      "Loss 0.0090, Train Accuracy 9.7783%, Test Accuracy 9.8400%, Batch Size 256.0000, Learning Rate 0.0000005, Optimizer Adagrad\n",
      " -- Epoch 19/20\n"
     ]
    },
    {
     "metadata": {
      "tags": null
     },
     "name": "stderr",
     "output_type": "stream",
     "text": [
      "100%|██████████| 235/235 [00:13<00:00, 17.41it/s]\n"
     ]
    },
    {
     "metadata": {
      "tags": null
     },
     "name": "stdout",
     "output_type": "stream",
     "text": [
      "Loss 0.0090, Train Accuracy 9.7800%, Test Accuracy 9.8400%, Batch Size 256.0000, Learning Rate 0.0000005, Optimizer Adagrad\n",
      " -- Epoch 20/20\n"
     ]
    },
    {
     "metadata": {
      "tags": null
     },
     "name": "stderr",
     "output_type": "stream",
     "text": [
      "100%|██████████| 235/235 [00:13<00:00, 17.46it/s]\n"
     ]
    },
    {
     "metadata": {
      "tags": null
     },
     "name": "stdout",
     "output_type": "stream",
     "text": [
      "Loss 0.0090, Train Accuracy 9.7800%, Test Accuracy 9.8400%, Batch Size 256.0000, Learning Rate 0.0000005, Optimizer Adagrad\n",
      "Current Acc: 9.8365\n",
      " -- Epoch 1/20\n"
     ]
    },
    {
     "metadata": {
      "tags": null
     },
     "name": "stderr",
     "output_type": "stream",
     "text": [
      "100%|██████████| 938/938 [00:15<00:00, 59.81it/s]\n"
     ]
    },
    {
     "metadata": {
      "tags": null
     },
     "name": "stdout",
     "output_type": "stream",
     "text": [
      "Loss 0.0120, Train Accuracy 78.8250%, Test Accuracy 81.4500%, Batch Size 64.0000, Learning Rate 0.0500000, Optimizer Adam\n",
      " -- Epoch 2/20\n"
     ]
    },
    {
     "metadata": {
      "tags": null
     },
     "name": "stderr",
     "output_type": "stream",
     "text": [
      "100%|██████████| 938/938 [00:16<00:00, 57.27it/s]\n"
     ]
    },
    {
     "metadata": {
      "tags": null
     },
     "name": "stdout",
     "output_type": "stream",
     "text": [
      "Loss 0.0103, Train Accuracy 83.5733%, Test Accuracy 79.0700%, Batch Size 64.0000, Learning Rate 0.0500000, Optimizer Adam\n",
      " -- Epoch 3/20\n"
     ]
    },
    {
     "metadata": {
      "tags": null
     },
     "name": "stderr",
     "output_type": "stream",
     "text": [
      "100%|██████████| 938/938 [00:15<00:00, 59.69it/s]\n"
     ]
    },
    {
     "metadata": {
      "tags": null
     },
     "name": "stdout",
     "output_type": "stream",
     "text": [
      "Loss 0.0162, Train Accuracy 71.8767%, Test Accuracy 52.3600%, Batch Size 64.0000, Learning Rate 0.0500000, Optimizer Adam\n",
      " -- Epoch 4/20\n"
     ]
    },
    {
     "metadata": {
      "tags": null
     },
     "name": "stderr",
     "output_type": "stream",
     "text": [
      "100%|██████████| 938/938 [00:16<00:00, 56.87it/s]\n"
     ]
    },
    {
     "metadata": {
      "tags": null
     },
     "name": "stdout",
     "output_type": "stream",
     "text": [
      "Loss 0.0245, Train Accuracy 46.1350%, Test Accuracy 27.9000%, Batch Size 64.0000, Learning Rate 0.0500000, Optimizer Adam\n",
      " -- Epoch 5/20\n"
     ]
    },
    {
     "metadata": {
      "tags": null
     },
     "name": "stderr",
     "output_type": "stream",
     "text": [
      "100%|██████████| 938/938 [00:15<00:00, 58.81it/s]\n"
     ]
    },
    {
     "metadata": {
      "tags": null
     },
     "name": "stdout",
     "output_type": "stream",
     "text": [
      "Loss 0.0352, Train Accuracy 14.9117%, Test Accuracy 10.0000%, Batch Size 64.0000, Learning Rate 0.0500000, Optimizer Adam\n",
      " -- Epoch 6/20\n"
     ]
    },
    {
     "metadata": {
      "tags": null
     },
     "name": "stderr",
     "output_type": "stream",
     "text": [
      "100%|██████████| 938/938 [00:15<00:00, 59.39it/s]\n"
     ]
    },
    {
     "metadata": {
      "tags": null
     },
     "name": "stdout",
     "output_type": "stream",
     "text": [
      "Loss 0.0362, Train Accuracy 10.9100%, Test Accuracy 9.7400%, Batch Size 64.0000, Learning Rate 0.0500000, Optimizer Adam\n",
      " -- Epoch 7/20\n"
     ]
    },
    {
     "metadata": {
      "tags": null
     },
     "name": "stderr",
     "output_type": "stream",
     "text": [
      "100%|██████████| 938/938 [00:16<00:00, 57.77it/s]\n"
     ]
    },
    {
     "metadata": {
      "tags": null
     },
     "name": "stdout",
     "output_type": "stream",
     "text": [
      "Loss 0.0361, Train Accuracy 10.3383%, Test Accuracy 10.1000%, Batch Size 64.0000, Learning Rate 0.0500000, Optimizer Adam\n",
      " -- Epoch 8/20\n"
     ]
    },
    {
     "metadata": {
      "tags": null
     },
     "name": "stderr",
     "output_type": "stream",
     "text": [
      "100%|██████████| 938/938 [00:16<00:00, 58.25it/s]\n"
     ]
    },
    {
     "metadata": {
      "tags": null
     },
     "name": "stdout",
     "output_type": "stream",
     "text": [
      "Loss 0.0360, Train Accuracy 10.6083%, Test Accuracy 9.7400%, Batch Size 64.0000, Learning Rate 0.0500000, Optimizer Adam\n",
      " -- Epoch 9/20\n"
     ]
    },
    {
     "metadata": {
      "tags": null
     },
     "name": "stderr",
     "output_type": "stream",
     "text": [
      "100%|██████████| 938/938 [00:16<00:00, 58.22it/s]\n"
     ]
    },
    {
     "metadata": {
      "tags": null
     },
     "name": "stdout",
     "output_type": "stream",
     "text": [
      "Loss 0.0361, Train Accuracy 10.5433%, Test Accuracy 9.8200%, Batch Size 64.0000, Learning Rate 0.0500000, Optimizer Adam\n",
      " -- Epoch 10/20\n"
     ]
    },
    {
     "metadata": {
      "tags": null
     },
     "name": "stderr",
     "output_type": "stream",
     "text": [
      "100%|██████████| 938/938 [00:15<00:00, 58.97it/s]\n"
     ]
    },
    {
     "metadata": {
      "tags": null
     },
     "name": "stdout",
     "output_type": "stream",
     "text": [
      "Loss 0.0360, Train Accuracy 10.4833%, Test Accuracy 11.3500%, Batch Size 64.0000, Learning Rate 0.0500000, Optimizer Adam\n",
      " -- Epoch 11/20\n"
     ]
    },
    {
     "metadata": {
      "tags": null
     },
     "name": "stderr",
     "output_type": "stream",
     "text": [
      "100%|██████████| 938/938 [00:15<00:00, 59.54it/s]\n"
     ]
    },
    {
     "metadata": {
      "tags": null
     },
     "name": "stdout",
     "output_type": "stream",
     "text": [
      "Loss 0.0360, Train Accuracy 10.4983%, Test Accuracy 10.2800%, Batch Size 64.0000, Learning Rate 0.0500000, Optimizer Adam\n",
      " -- Epoch 12/20\n"
     ]
    },
    {
     "metadata": {
      "tags": null
     },
     "name": "stderr",
     "output_type": "stream",
     "text": [
      "100%|██████████| 938/938 [00:15<00:00, 59.51it/s]\n"
     ]
    },
    {
     "metadata": {
      "tags": null
     },
     "name": "stdout",
     "output_type": "stream",
     "text": [
      "Loss 0.0361, Train Accuracy 10.2450%, Test Accuracy 11.3500%, Batch Size 64.0000, Learning Rate 0.0500000, Optimizer Adam\n",
      " -- Epoch 13/20\n"
     ]
    },
    {
     "metadata": {
      "tags": null
     },
     "name": "stderr",
     "output_type": "stream",
     "text": [
      "100%|██████████| 938/938 [00:15<00:00, 59.24it/s]\n"
     ]
    },
    {
     "metadata": {
      "tags": null
     },
     "name": "stdout",
     "output_type": "stream",
     "text": [
      "Loss 0.0360, Train Accuracy 10.5050%, Test Accuracy 11.3500%, Batch Size 64.0000, Learning Rate 0.0500000, Optimizer Adam\n",
      " -- Epoch 14/20\n"
     ]
    },
    {
     "metadata": {
      "tags": null
     },
     "name": "stderr",
     "output_type": "stream",
     "text": [
      "100%|██████████| 938/938 [00:16<00:00, 57.18it/s]\n"
     ]
    },
    {
     "metadata": {
      "tags": null
     },
     "name": "stdout",
     "output_type": "stream",
     "text": [
      "Loss 0.0360, Train Accuracy 10.5633%, Test Accuracy 11.3500%, Batch Size 64.0000, Learning Rate 0.0500000, Optimizer Adam\n",
      " -- Epoch 15/20\n"
     ]
    },
    {
     "metadata": {
      "tags": null
     },
     "name": "stderr",
     "output_type": "stream",
     "text": [
      "100%|██████████| 938/938 [00:15<00:00, 59.72it/s]\n"
     ]
    },
    {
     "metadata": {
      "tags": null
     },
     "name": "stdout",
     "output_type": "stream",
     "text": [
      "Loss 0.0360, Train Accuracy 10.4867%, Test Accuracy 9.8200%, Batch Size 64.0000, Learning Rate 0.0500000, Optimizer Adam\n",
      " -- Epoch 16/20\n"
     ]
    },
    {
     "metadata": {
      "tags": null
     },
     "name": "stderr",
     "output_type": "stream",
     "text": [
      "100%|██████████| 938/938 [00:15<00:00, 59.50it/s]\n"
     ]
    },
    {
     "metadata": {
      "tags": null
     },
     "name": "stdout",
     "output_type": "stream",
     "text": [
      "Loss 0.0360, Train Accuracy 10.2167%, Test Accuracy 11.3500%, Batch Size 64.0000, Learning Rate 0.0500000, Optimizer Adam\n",
      " -- Epoch 17/20\n"
     ]
    },
    {
     "metadata": {
      "tags": null
     },
     "name": "stderr",
     "output_type": "stream",
     "text": [
      "100%|██████████| 938/938 [00:16<00:00, 57.80it/s]\n"
     ]
    },
    {
     "metadata": {
      "tags": null
     },
     "name": "stdout",
     "output_type": "stream",
     "text": [
      "Loss 0.0360, Train Accuracy 10.6000%, Test Accuracy 9.8200%, Batch Size 64.0000, Learning Rate 0.0500000, Optimizer Adam\n",
      " -- Epoch 18/20\n"
     ]
    },
    {
     "metadata": {
      "tags": null
     },
     "name": "stderr",
     "output_type": "stream",
     "text": [
      "100%|██████████| 938/938 [00:15<00:00, 59.55it/s]\n"
     ]
    },
    {
     "metadata": {
      "tags": null
     },
     "name": "stdout",
     "output_type": "stream",
     "text": [
      "Loss 0.0361, Train Accuracy 10.4650%, Test Accuracy 11.3500%, Batch Size 64.0000, Learning Rate 0.0500000, Optimizer Adam\n",
      " -- Epoch 19/20\n"
     ]
    },
    {
     "metadata": {
      "tags": null
     },
     "name": "stderr",
     "output_type": "stream",
     "text": [
      "100%|██████████| 938/938 [00:16<00:00, 57.02it/s]\n"
     ]
    },
    {
     "metadata": {
      "tags": null
     },
     "name": "stdout",
     "output_type": "stream",
     "text": [
      "Loss 0.0361, Train Accuracy 10.3833%, Test Accuracy 10.0900%, Batch Size 64.0000, Learning Rate 0.0500000, Optimizer Adam\n",
      " -- Epoch 20/20\n"
     ]
    },
    {
     "metadata": {
      "tags": null
     },
     "name": "stderr",
     "output_type": "stream",
     "text": [
      "100%|██████████| 938/938 [00:15<00:00, 58.87it/s]\n"
     ]
    },
    {
     "metadata": {
      "tags": null
     },
     "name": "stdout",
     "output_type": "stream",
     "text": [
      "Loss 0.0360, Train Accuracy 10.6983%, Test Accuracy 11.3500%, Batch Size 64.0000, Learning Rate 0.0500000, Optimizer Adam\n",
      "Current Acc: 20.4820\n",
      " -- Epoch 1/20\n"
     ]
    },
    {
     "metadata": {
      "tags": null
     },
     "name": "stderr",
     "output_type": "stream",
     "text": [
      "100%|██████████| 938/938 [00:15<00:00, 60.22it/s]\n"
     ]
    },
    {
     "metadata": {
      "tags": null
     },
     "name": "stdout",
     "output_type": "stream",
     "text": [
      "Loss 0.0048, Train Accuracy 90.8867%, Test Accuracy 96.8500%, Batch Size 64.0000, Learning Rate 0.0005000, Optimizer Adam\n",
      " -- Epoch 2/20\n"
     ]
    },
    {
     "metadata": {
      "tags": null
     },
     "name": "stderr",
     "output_type": "stream",
     "text": [
      "100%|██████████| 938/938 [00:15<00:00, 59.64it/s]\n"
     ]
    },
    {
     "metadata": {
      "tags": null
     },
     "name": "stdout",
     "output_type": "stream",
     "text": [
      "Loss 0.0013, Train Accuracy 97.3250%, Test Accuracy 97.7800%, Batch Size 64.0000, Learning Rate 0.0005000, Optimizer Adam\n",
      " -- Epoch 3/20\n"
     ]
    },
    {
     "metadata": {
      "tags": null
     },
     "name": "stderr",
     "output_type": "stream",
     "text": [
      "100%|██████████| 938/938 [00:16<00:00, 58.46it/s]\n"
     ]
    },
    {
     "metadata": {
      "tags": null
     },
     "name": "stdout",
     "output_type": "stream",
     "text": [
      "Loss 0.0009, Train Accuracy 98.1100%, Test Accuracy 98.3400%, Batch Size 64.0000, Learning Rate 0.0005000, Optimizer Adam\n",
      " -- Epoch 4/20\n"
     ]
    },
    {
     "metadata": {
      "tags": null
     },
     "name": "stderr",
     "output_type": "stream",
     "text": [
      "100%|██████████| 938/938 [00:16<00:00, 55.89it/s]\n"
     ]
    },
    {
     "metadata": {
      "tags": null
     },
     "name": "stdout",
     "output_type": "stream",
     "text": [
      "Loss 0.0007, Train Accuracy 98.5317%, Test Accuracy 98.6800%, Batch Size 64.0000, Learning Rate 0.0005000, Optimizer Adam\n",
      " -- Epoch 5/20\n"
     ]
    },
    {
     "metadata": {
      "tags": null
     },
     "name": "stderr",
     "output_type": "stream",
     "text": [
      "100%|██████████| 938/938 [00:15<00:00, 59.37it/s]\n"
     ]
    },
    {
     "metadata": {
      "tags": null
     },
     "name": "stdout",
     "output_type": "stream",
     "text": [
      "Loss 0.0006, Train Accuracy 98.7467%, Test Accuracy 98.8800%, Batch Size 64.0000, Learning Rate 0.0005000, Optimizer Adam\n",
      " -- Epoch 6/20\n"
     ]
    },
    {
     "metadata": {
      "tags": null
     },
     "name": "stderr",
     "output_type": "stream",
     "text": [
      "100%|██████████| 938/938 [00:16<00:00, 57.50it/s]\n"
     ]
    },
    {
     "metadata": {
      "tags": null
     },
     "name": "stdout",
     "output_type": "stream",
     "text": [
      "Loss 0.0005, Train Accuracy 98.9733%, Test Accuracy 98.6400%, Batch Size 64.0000, Learning Rate 0.0005000, Optimizer Adam\n",
      " -- Epoch 7/20\n"
     ]
    },
    {
     "metadata": {
      "tags": null
     },
     "name": "stderr",
     "output_type": "stream",
     "text": [
      "100%|██████████| 938/938 [00:15<00:00, 59.73it/s]\n"
     ]
    },
    {
     "metadata": {
      "tags": null
     },
     "name": "stdout",
     "output_type": "stream",
     "text": [
      "Loss 0.0004, Train Accuracy 99.1133%, Test Accuracy 98.8700%, Batch Size 64.0000, Learning Rate 0.0005000, Optimizer Adam\n",
      " -- Epoch 8/20\n"
     ]
    },
    {
     "metadata": {
      "tags": null
     },
     "name": "stderr",
     "output_type": "stream",
     "text": [
      "100%|██████████| 938/938 [00:16<00:00, 58.62it/s]\n"
     ]
    },
    {
     "metadata": {
      "tags": null
     },
     "name": "stdout",
     "output_type": "stream",
     "text": [
      "Loss 0.0004, Train Accuracy 99.2317%, Test Accuracy 98.9400%, Batch Size 64.0000, Learning Rate 0.0005000, Optimizer Adam\n",
      " -- Epoch 9/20\n"
     ]
    },
    {
     "metadata": {
      "tags": null
     },
     "name": "stderr",
     "output_type": "stream",
     "text": [
      "100%|██████████| 938/938 [00:16<00:00, 55.36it/s]\n"
     ]
    },
    {
     "metadata": {
      "tags": null
     },
     "name": "stdout",
     "output_type": "stream",
     "text": [
      "Loss 0.0003, Train Accuracy 99.3167%, Test Accuracy 98.6400%, Batch Size 64.0000, Learning Rate 0.0005000, Optimizer Adam\n",
      " -- Epoch 10/20\n"
     ]
    },
    {
     "metadata": {
      "tags": null
     },
     "name": "stderr",
     "output_type": "stream",
     "text": [
      "100%|██████████| 938/938 [00:15<00:00, 59.02it/s]\n"
     ]
    },
    {
     "metadata": {
      "tags": null
     },
     "name": "stdout",
     "output_type": "stream",
     "text": [
      "Loss 0.0003, Train Accuracy 99.3767%, Test Accuracy 99.1700%, Batch Size 64.0000, Learning Rate 0.0005000, Optimizer Adam\n",
      " -- Epoch 11/20\n"
     ]
    },
    {
     "metadata": {
      "tags": null
     },
     "name": "stderr",
     "output_type": "stream",
     "text": [
      "100%|██████████| 938/938 [00:16<00:00, 56.17it/s]\n"
     ]
    },
    {
     "metadata": {
      "tags": null
     },
     "name": "stdout",
     "output_type": "stream",
     "text": [
      "Loss 0.0002, Train Accuracy 99.4683%, Test Accuracy 99.0600%, Batch Size 64.0000, Learning Rate 0.0005000, Optimizer Adam\n",
      " -- Epoch 12/20\n"
     ]
    },
    {
     "metadata": {
      "tags": null
     },
     "name": "stderr",
     "output_type": "stream",
     "text": [
      "100%|██████████| 938/938 [00:16<00:00, 58.58it/s]\n"
     ]
    },
    {
     "metadata": {
      "tags": null
     },
     "name": "stdout",
     "output_type": "stream",
     "text": [
      "Loss 0.0002, Train Accuracy 99.5583%, Test Accuracy 98.8100%, Batch Size 64.0000, Learning Rate 0.0005000, Optimizer Adam\n",
      " -- Epoch 13/20\n"
     ]
    },
    {
     "metadata": {
      "tags": null
     },
     "name": "stderr",
     "output_type": "stream",
     "text": [
      "100%|██████████| 938/938 [00:16<00:00, 56.80it/s]\n"
     ]
    },
    {
     "metadata": {
      "tags": null
     },
     "name": "stdout",
     "output_type": "stream",
     "text": [
      "Loss 0.0002, Train Accuracy 99.5983%, Test Accuracy 99.0300%, Batch Size 64.0000, Learning Rate 0.0005000, Optimizer Adam\n",
      " -- Epoch 14/20\n"
     ]
    },
    {
     "metadata": {
      "tags": null
     },
     "name": "stderr",
     "output_type": "stream",
     "text": [
      "100%|██████████| 938/938 [00:15<00:00, 59.53it/s]\n"
     ]
    },
    {
     "metadata": {
      "tags": null
     },
     "name": "stdout",
     "output_type": "stream",
     "text": [
      "Loss 0.0002, Train Accuracy 99.6283%, Test Accuracy 99.0900%, Batch Size 64.0000, Learning Rate 0.0005000, Optimizer Adam\n",
      " -- Epoch 15/20\n"
     ]
    },
    {
     "metadata": {
      "tags": null
     },
     "name": "stderr",
     "output_type": "stream",
     "text": [
      "100%|██████████| 938/938 [00:15<00:00, 58.88it/s]\n"
     ]
    },
    {
     "metadata": {
      "tags": null
     },
     "name": "stdout",
     "output_type": "stream",
     "text": [
      "Loss 0.0002, Train Accuracy 99.6683%, Test Accuracy 99.0300%, Batch Size 64.0000, Learning Rate 0.0005000, Optimizer Adam\n",
      " -- Epoch 16/20\n"
     ]
    },
    {
     "metadata": {
      "tags": null
     },
     "name": "stderr",
     "output_type": "stream",
     "text": [
      "100%|██████████| 938/938 [00:15<00:00, 58.76it/s]\n"
     ]
    },
    {
     "metadata": {
      "tags": null
     },
     "name": "stdout",
     "output_type": "stream",
     "text": [
      "Loss 0.0001, Train Accuracy 99.7100%, Test Accuracy 99.1500%, Batch Size 64.0000, Learning Rate 0.0005000, Optimizer Adam\n",
      " -- Epoch 17/20\n"
     ]
    },
    {
     "metadata": {
      "tags": null
     },
     "name": "stderr",
     "output_type": "stream",
     "text": [
      "100%|██████████| 938/938 [00:16<00:00, 58.56it/s]\n"
     ]
    },
    {
     "metadata": {
      "tags": null
     },
     "name": "stdout",
     "output_type": "stream",
     "text": [
      "Loss 0.0001, Train Accuracy 99.7183%, Test Accuracy 99.0400%, Batch Size 64.0000, Learning Rate 0.0005000, Optimizer Adam\n",
      " -- Epoch 18/20\n"
     ]
    },
    {
     "metadata": {
      "tags": null
     },
     "name": "stderr",
     "output_type": "stream",
     "text": [
      "100%|██████████| 938/938 [00:16<00:00, 56.13it/s]\n"
     ]
    },
    {
     "metadata": {
      "tags": null
     },
     "name": "stdout",
     "output_type": "stream",
     "text": [
      "Loss 0.0001, Train Accuracy 99.7500%, Test Accuracy 99.1300%, Batch Size 64.0000, Learning Rate 0.0005000, Optimizer Adam\n",
      " -- Epoch 19/20\n"
     ]
    },
    {
     "metadata": {
      "tags": null
     },
     "name": "stderr",
     "output_type": "stream",
     "text": [
      "100%|██████████| 938/938 [00:15<00:00, 59.03it/s]\n"
     ]
    },
    {
     "metadata": {
      "tags": null
     },
     "name": "stdout",
     "output_type": "stream",
     "text": [
      "Loss 0.0001, Train Accuracy 99.7833%, Test Accuracy 98.8200%, Batch Size 64.0000, Learning Rate 0.0005000, Optimizer Adam\n",
      " -- Epoch 20/20\n"
     ]
    },
    {
     "metadata": {
      "tags": null
     },
     "name": "stderr",
     "output_type": "stream",
     "text": [
      "100%|██████████| 938/938 [00:16<00:00, 56.47it/s]\n"
     ]
    },
    {
     "metadata": {
      "tags": null
     },
     "name": "stdout",
     "output_type": "stream",
     "text": [
      "Loss 0.0001, Train Accuracy 99.7350%, Test Accuracy 99.0700%, Batch Size 64.0000, Learning Rate 0.0005000, Optimizer Adam\n",
      "Current Acc: 98.7510\n",
      " -- Epoch 1/20\n"
     ]
    },
    {
     "metadata": {
      "tags": null
     },
     "name": "stderr",
     "output_type": "stream",
     "text": [
      "100%|██████████| 938/938 [00:15<00:00, 58.93it/s]\n"
     ]
    },
    {
     "metadata": {
      "tags": null
     },
     "name": "stdout",
     "output_type": "stream",
     "text": [
      "Loss 0.0360, Train Accuracy 9.0433%, Test Accuracy 8.9400%, Batch Size 64.0000, Learning Rate 0.0000005, Optimizer Adam\n",
      " -- Epoch 2/20\n"
     ]
    },
    {
     "metadata": {
      "tags": null
     },
     "name": "stderr",
     "output_type": "stream",
     "text": [
      "100%|██████████| 938/938 [00:17<00:00, 54.81it/s]\n"
     ]
    },
    {
     "metadata": {
      "tags": null
     },
     "name": "stdout",
     "output_type": "stream",
     "text": [
      "Loss 0.0359, Train Accuracy 9.2867%, Test Accuracy 9.9100%, Batch Size 64.0000, Learning Rate 0.0000005, Optimizer Adam\n",
      " -- Epoch 3/20\n"
     ]
    },
    {
     "metadata": {
      "tags": null
     },
     "name": "stderr",
     "output_type": "stream",
     "text": [
      "100%|██████████| 938/938 [00:16<00:00, 56.78it/s]\n"
     ]
    },
    {
     "metadata": {
      "tags": null
     },
     "name": "stdout",
     "output_type": "stream",
     "text": [
      "Loss 0.0359, Train Accuracy 11.9683%, Test Accuracy 13.9600%, Batch Size 64.0000, Learning Rate 0.0000005, Optimizer Adam\n",
      " -- Epoch 4/20\n"
     ]
    },
    {
     "metadata": {
      "tags": null
     },
     "name": "stderr",
     "output_type": "stream",
     "text": [
      "100%|██████████| 938/938 [00:15<00:00, 59.28it/s]\n"
     ]
    },
    {
     "metadata": {
      "tags": null
     },
     "name": "stdout",
     "output_type": "stream",
     "text": [
      "Loss 0.0358, Train Accuracy 15.4883%, Test Accuracy 16.6400%, Batch Size 64.0000, Learning Rate 0.0000005, Optimizer Adam\n",
      " -- Epoch 5/20\n"
     ]
    },
    {
     "metadata": {
      "tags": null
     },
     "name": "stderr",
     "output_type": "stream",
     "text": [
      "100%|██████████| 938/938 [00:16<00:00, 57.12it/s]\n"
     ]
    },
    {
     "metadata": {
      "tags": null
     },
     "name": "stdout",
     "output_type": "stream",
     "text": [
      "Loss 0.0357, Train Accuracy 17.2400%, Test Accuracy 17.9100%, Batch Size 64.0000, Learning Rate 0.0000005, Optimizer Adam\n",
      " -- Epoch 6/20\n"
     ]
    },
    {
     "metadata": {
      "tags": null
     },
     "name": "stderr",
     "output_type": "stream",
     "text": [
      "100%|██████████| 938/938 [00:15<00:00, 59.82it/s]\n"
     ]
    },
    {
     "metadata": {
      "tags": null
     },
     "name": "stdout",
     "output_type": "stream",
     "text": [
      "Loss 0.0357, Train Accuracy 18.4067%, Test Accuracy 18.7500%, Batch Size 64.0000, Learning Rate 0.0000005, Optimizer Adam\n",
      " -- Epoch 7/20\n"
     ]
    },
    {
     "metadata": {
      "tags": null
     },
     "name": "stderr",
     "output_type": "stream",
     "text": [
      "100%|██████████| 938/938 [00:15<00:00, 59.12it/s]\n"
     ]
    },
    {
     "metadata": {
      "tags": null
     },
     "name": "stdout",
     "output_type": "stream",
     "text": [
      "Loss 0.0356, Train Accuracy 18.9050%, Test Accuracy 19.3800%, Batch Size 64.0000, Learning Rate 0.0000005, Optimizer Adam\n",
      " -- Epoch 8/20\n"
     ]
    },
    {
     "metadata": {
      "tags": null
     },
     "name": "stderr",
     "output_type": "stream",
     "text": [
      "100%|██████████| 938/938 [00:15<00:00, 58.70it/s]\n"
     ]
    },
    {
     "metadata": {
      "tags": null
     },
     "name": "stdout",
     "output_type": "stream",
     "text": [
      "Loss 0.0355, Train Accuracy 19.4417%, Test Accuracy 19.8600%, Batch Size 64.0000, Learning Rate 0.0000005, Optimizer Adam\n",
      " -- Epoch 9/20\n"
     ]
    },
    {
     "metadata": {
      "tags": null
     },
     "name": "stderr",
     "output_type": "stream",
     "text": [
      "100%|██████████| 938/938 [00:15<00:00, 60.22it/s]\n"
     ]
    },
    {
     "metadata": {
      "tags": null
     },
     "name": "stdout",
     "output_type": "stream",
     "text": [
      "Loss 0.0354, Train Accuracy 19.9150%, Test Accuracy 20.4100%, Batch Size 64.0000, Learning Rate 0.0000005, Optimizer Adam\n",
      " -- Epoch 10/20\n"
     ]
    },
    {
     "metadata": {
      "tags": null
     },
     "name": "stderr",
     "output_type": "stream",
     "text": [
      "100%|██████████| 938/938 [00:16<00:00, 55.89it/s]\n"
     ]
    },
    {
     "metadata": {
      "tags": null
     },
     "name": "stdout",
     "output_type": "stream",
     "text": [
      "Loss 0.0353, Train Accuracy 20.7317%, Test Accuracy 21.6300%, Batch Size 64.0000, Learning Rate 0.0000005, Optimizer Adam\n",
      " -- Epoch 11/20\n"
     ]
    },
    {
     "metadata": {
      "tags": null
     },
     "name": "stderr",
     "output_type": "stream",
     "text": [
      "100%|██████████| 938/938 [00:15<00:00, 60.15it/s]\n"
     ]
    },
    {
     "metadata": {
      "tags": null
     },
     "name": "stdout",
     "output_type": "stream",
     "text": [
      "Loss 0.0352, Train Accuracy 22.4900%, Test Accuracy 23.9800%, Batch Size 64.0000, Learning Rate 0.0000005, Optimizer Adam\n",
      " -- Epoch 12/20\n"
     ]
    },
    {
     "metadata": {
      "tags": null
     },
     "name": "stderr",
     "output_type": "stream",
     "text": [
      "100%|██████████| 938/938 [00:16<00:00, 58.03it/s]\n"
     ]
    },
    {
     "metadata": {
      "tags": null
     },
     "name": "stdout",
     "output_type": "stream",
     "text": [
      "Loss 0.0351, Train Accuracy 26.0700%, Test Accuracy 28.4100%, Batch Size 64.0000, Learning Rate 0.0000005, Optimizer Adam\n",
      " -- Epoch 13/20\n"
     ]
    },
    {
     "metadata": {
      "tags": null
     },
     "name": "stderr",
     "output_type": "stream",
     "text": [
      "100%|██████████| 938/938 [00:15<00:00, 59.13it/s]\n"
     ]
    },
    {
     "metadata": {
      "tags": null
     },
     "name": "stdout",
     "output_type": "stream",
     "text": [
      "Loss 0.0349, Train Accuracy 30.8333%, Test Accuracy 33.9500%, Batch Size 64.0000, Learning Rate 0.0000005, Optimizer Adam\n",
      " -- Epoch 14/20\n"
     ]
    },
    {
     "metadata": {
      "tags": null
     },
     "name": "stderr",
     "output_type": "stream",
     "text": [
      "100%|██████████| 938/938 [00:15<00:00, 60.11it/s]\n"
     ]
    },
    {
     "metadata": {
      "tags": null
     },
     "name": "stdout",
     "output_type": "stream",
     "text": [
      "Loss 0.0348, Train Accuracy 36.4033%, Test Accuracy 39.2200%, Batch Size 64.0000, Learning Rate 0.0000005, Optimizer Adam\n",
      " -- Epoch 15/20\n"
     ]
    },
    {
     "metadata": {
      "tags": null
     },
     "name": "stderr",
     "output_type": "stream",
     "text": [
      "100%|██████████| 938/938 [00:16<00:00, 57.84it/s]\n"
     ]
    },
    {
     "metadata": {
      "tags": null
     },
     "name": "stdout",
     "output_type": "stream",
     "text": [
      "Loss 0.0346, Train Accuracy 42.3150%, Test Accuracy 44.6300%, Batch Size 64.0000, Learning Rate 0.0000005, Optimizer Adam\n",
      " -- Epoch 16/20\n"
     ]
    },
    {
     "metadata": {
      "tags": null
     },
     "name": "stderr",
     "output_type": "stream",
     "text": [
      "100%|██████████| 938/938 [00:15<00:00, 59.02it/s]\n"
     ]
    },
    {
     "metadata": {
      "tags": null
     },
     "name": "stdout",
     "output_type": "stream",
     "text": [
      "Loss 0.0345, Train Accuracy 47.6867%, Test Accuracy 50.4900%, Batch Size 64.0000, Learning Rate 0.0000005, Optimizer Adam\n",
      " -- Epoch 17/20\n"
     ]
    },
    {
     "metadata": {
      "tags": null
     },
     "name": "stderr",
     "output_type": "stream",
     "text": [
      "100%|██████████| 938/938 [00:16<00:00, 55.46it/s]\n"
     ]
    },
    {
     "metadata": {
      "tags": null
     },
     "name": "stdout",
     "output_type": "stream",
     "text": [
      "Loss 0.0343, Train Accuracy 52.7783%, Test Accuracy 54.4000%, Batch Size 64.0000, Learning Rate 0.0000005, Optimizer Adam\n",
      " -- Epoch 18/20\n"
     ]
    },
    {
     "metadata": {
      "tags": null
     },
     "name": "stderr",
     "output_type": "stream",
     "text": [
      "100%|██████████| 938/938 [00:15<00:00, 59.06it/s]\n"
     ]
    },
    {
     "metadata": {
      "tags": null
     },
     "name": "stdout",
     "output_type": "stream",
     "text": [
      "Loss 0.0341, Train Accuracy 56.5250%, Test Accuracy 58.0400%, Batch Size 64.0000, Learning Rate 0.0000005, Optimizer Adam\n",
      " -- Epoch 19/20\n"
     ]
    },
    {
     "metadata": {
      "tags": null
     },
     "name": "stderr",
     "output_type": "stream",
     "text": [
      "100%|██████████| 938/938 [00:15<00:00, 59.42it/s]\n"
     ]
    },
    {
     "metadata": {
      "tags": null
     },
     "name": "stdout",
     "output_type": "stream",
     "text": [
      "Loss 0.0339, Train Accuracy 59.9217%, Test Accuracy 61.0000%, Batch Size 64.0000, Learning Rate 0.0000005, Optimizer Adam\n",
      " -- Epoch 20/20\n"
     ]
    },
    {
     "metadata": {
      "tags": null
     },
     "name": "stderr",
     "output_type": "stream",
     "text": [
      "100%|██████████| 938/938 [00:16<00:00, 58.42it/s]\n"
     ]
    },
    {
     "metadata": {
      "tags": null
     },
     "name": "stdout",
     "output_type": "stream",
     "text": [
      "Loss 0.0337, Train Accuracy 62.3533%, Test Accuracy 63.5100%, Batch Size 64.0000, Learning Rate 0.0000005, Optimizer Adam\n",
      "Current Acc: 31.2510\n",
      " -- Epoch 1/20\n"
     ]
    },
    {
     "metadata": {
      "tags": null
     },
     "name": "stderr",
     "output_type": "stream",
     "text": [
      "100%|██████████| 235/235 [00:13<00:00, 17.63it/s]\n"
     ]
    },
    {
     "metadata": {
      "tags": null
     },
     "name": "stdout",
     "output_type": "stream",
     "text": [
      "Loss 0.0092, Train Accuracy 10.6450%, Test Accuracy 11.3500%, Batch Size 256.0000, Learning Rate 0.0500000, Optimizer Adam\n",
      " -- Epoch 2/20\n"
     ]
    },
    {
     "metadata": {
      "tags": null
     },
     "name": "stderr",
     "output_type": "stream",
     "text": [
      "100%|██████████| 235/235 [00:13<00:00, 17.26it/s]\n"
     ]
    },
    {
     "metadata": {
      "tags": null
     },
     "name": "stdout",
     "output_type": "stream",
     "text": [
      "Loss 0.0090, Train Accuracy 10.9250%, Test Accuracy 11.3500%, Batch Size 256.0000, Learning Rate 0.0500000, Optimizer Adam\n",
      " -- Epoch 3/20\n"
     ]
    },
    {
     "metadata": {
      "tags": null
     },
     "name": "stderr",
     "output_type": "stream",
     "text": [
      "100%|██████████| 235/235 [00:13<00:00, 17.10it/s]\n"
     ]
    },
    {
     "metadata": {
      "tags": null
     },
     "name": "stdout",
     "output_type": "stream",
     "text": [
      "Loss 0.0090, Train Accuracy 10.7867%, Test Accuracy 11.3500%, Batch Size 256.0000, Learning Rate 0.0500000, Optimizer Adam\n",
      " -- Epoch 4/20\n"
     ]
    },
    {
     "metadata": {
      "tags": null
     },
     "name": "stderr",
     "output_type": "stream",
     "text": [
      "100%|██████████| 235/235 [00:13<00:00, 17.02it/s]\n"
     ]
    },
    {
     "metadata": {
      "tags": null
     },
     "name": "stdout",
     "output_type": "stream",
     "text": [
      "Loss 0.0090, Train Accuracy 10.7650%, Test Accuracy 10.1000%, Batch Size 256.0000, Learning Rate 0.0500000, Optimizer Adam\n",
      " -- Epoch 5/20\n"
     ]
    },
    {
     "metadata": {
      "tags": null
     },
     "name": "stderr",
     "output_type": "stream",
     "text": [
      "100%|██████████| 235/235 [00:13<00:00, 17.48it/s]\n"
     ]
    },
    {
     "metadata": {
      "tags": null
     },
     "name": "stdout",
     "output_type": "stream",
     "text": [
      "Loss 0.0090, Train Accuracy 10.6083%, Test Accuracy 11.3500%, Batch Size 256.0000, Learning Rate 0.0500000, Optimizer Adam\n",
      " -- Epoch 6/20\n"
     ]
    },
    {
     "metadata": {
      "tags": null
     },
     "name": "stderr",
     "output_type": "stream",
     "text": [
      "100%|██████████| 235/235 [00:13<00:00, 17.21it/s]\n"
     ]
    },
    {
     "metadata": {
      "tags": null
     },
     "name": "stdout",
     "output_type": "stream",
     "text": [
      "Loss 0.0090, Train Accuracy 10.5600%, Test Accuracy 10.1000%, Batch Size 256.0000, Learning Rate 0.0500000, Optimizer Adam\n",
      " -- Epoch 7/20\n"
     ]
    },
    {
     "metadata": {
      "tags": null
     },
     "name": "stderr",
     "output_type": "stream",
     "text": [
      "100%|██████████| 235/235 [00:13<00:00, 17.42it/s]\n"
     ]
    },
    {
     "metadata": {
      "tags": null
     },
     "name": "stdout",
     "output_type": "stream",
     "text": [
      "Loss 0.0090, Train Accuracy 10.8600%, Test Accuracy 10.2800%, Batch Size 256.0000, Learning Rate 0.0500000, Optimizer Adam\n",
      " -- Epoch 8/20\n"
     ]
    },
    {
     "metadata": {
      "tags": null
     },
     "name": "stderr",
     "output_type": "stream",
     "text": [
      "100%|██████████| 235/235 [00:14<00:00, 16.35it/s]\n"
     ]
    },
    {
     "metadata": {
      "tags": null
     },
     "name": "stdout",
     "output_type": "stream",
     "text": [
      "Loss 0.0090, Train Accuracy 10.8017%, Test Accuracy 11.3500%, Batch Size 256.0000, Learning Rate 0.0500000, Optimizer Adam\n",
      " -- Epoch 9/20\n"
     ]
    },
    {
     "metadata": {
      "tags": null
     },
     "name": "stderr",
     "output_type": "stream",
     "text": [
      "100%|██████████| 235/235 [00:13<00:00, 17.51it/s]\n"
     ]
    },
    {
     "metadata": {
      "tags": null
     },
     "name": "stdout",
     "output_type": "stream",
     "text": [
      "Loss 0.0090, Train Accuracy 10.7217%, Test Accuracy 10.2800%, Batch Size 256.0000, Learning Rate 0.0500000, Optimizer Adam\n",
      " -- Epoch 10/20\n"
     ]
    },
    {
     "metadata": {
      "tags": null
     },
     "name": "stderr",
     "output_type": "stream",
     "text": [
      "100%|██████████| 235/235 [00:13<00:00, 17.07it/s]\n"
     ]
    },
    {
     "metadata": {
      "tags": null
     },
     "name": "stdout",
     "output_type": "stream",
     "text": [
      "Loss 0.0090, Train Accuracy 10.8150%, Test Accuracy 10.3200%, Batch Size 256.0000, Learning Rate 0.0500000, Optimizer Adam\n",
      " -- Epoch 11/20\n"
     ]
    },
    {
     "metadata": {
      "tags": null
     },
     "name": "stderr",
     "output_type": "stream",
     "text": [
      "100%|██████████| 235/235 [00:13<00:00, 17.34it/s]\n"
     ]
    },
    {
     "metadata": {
      "tags": null
     },
     "name": "stdout",
     "output_type": "stream",
     "text": [
      "Loss 0.0090, Train Accuracy 10.4733%, Test Accuracy 9.5800%, Batch Size 256.0000, Learning Rate 0.0500000, Optimizer Adam\n",
      " -- Epoch 12/20\n"
     ]
    },
    {
     "metadata": {
      "tags": null
     },
     "name": "stderr",
     "output_type": "stream",
     "text": [
      "100%|██████████| 235/235 [00:14<00:00, 16.55it/s]\n"
     ]
    },
    {
     "metadata": {
      "tags": null
     },
     "name": "stdout",
     "output_type": "stream",
     "text": [
      "Loss 0.0090, Train Accuracy 10.6783%, Test Accuracy 11.3500%, Batch Size 256.0000, Learning Rate 0.0500000, Optimizer Adam\n",
      " -- Epoch 13/20\n"
     ]
    },
    {
     "metadata": {
      "tags": null
     },
     "name": "stderr",
     "output_type": "stream",
     "text": [
      "100%|██████████| 235/235 [00:13<00:00, 17.63it/s]\n"
     ]
    },
    {
     "metadata": {
      "tags": null
     },
     "name": "stdout",
     "output_type": "stream",
     "text": [
      "Loss 0.0090, Train Accuracy 10.9450%, Test Accuracy 10.0900%, Batch Size 256.0000, Learning Rate 0.0500000, Optimizer Adam\n",
      " -- Epoch 14/20\n"
     ]
    },
    {
     "metadata": {
      "tags": null
     },
     "name": "stderr",
     "output_type": "stream",
     "text": [
      "100%|██████████| 235/235 [00:13<00:00, 17.06it/s]\n"
     ]
    },
    {
     "metadata": {
      "tags": null
     },
     "name": "stdout",
     "output_type": "stream",
     "text": [
      "Loss 0.0090, Train Accuracy 10.7350%, Test Accuracy 11.3500%, Batch Size 256.0000, Learning Rate 0.0500000, Optimizer Adam\n",
      " -- Epoch 15/20\n"
     ]
    },
    {
     "metadata": {
      "tags": null
     },
     "name": "stderr",
     "output_type": "stream",
     "text": [
      "100%|██████████| 235/235 [00:13<00:00, 17.49it/s]\n"
     ]
    },
    {
     "metadata": {
      "tags": null
     },
     "name": "stdout",
     "output_type": "stream",
     "text": [
      "Loss 0.0090, Train Accuracy 10.6717%, Test Accuracy 10.1000%, Batch Size 256.0000, Learning Rate 0.0500000, Optimizer Adam\n",
      " -- Epoch 16/20\n"
     ]
    },
    {
     "metadata": {
      "tags": null
     },
     "name": "stderr",
     "output_type": "stream",
     "text": [
      "100%|██████████| 235/235 [00:13<00:00, 16.83it/s]\n"
     ]
    },
    {
     "metadata": {
      "tags": null
     },
     "name": "stdout",
     "output_type": "stream",
     "text": [
      "Loss 0.0090, Train Accuracy 10.6233%, Test Accuracy 10.1000%, Batch Size 256.0000, Learning Rate 0.0500000, Optimizer Adam\n",
      " -- Epoch 17/20\n"
     ]
    },
    {
     "metadata": {
      "tags": null
     },
     "name": "stderr",
     "output_type": "stream",
     "text": [
      "100%|██████████| 235/235 [00:13<00:00, 17.60it/s]\n"
     ]
    },
    {
     "metadata": {
      "tags": null
     },
     "name": "stdout",
     "output_type": "stream",
     "text": [
      "Loss 0.0090, Train Accuracy 10.9000%, Test Accuracy 10.2800%, Batch Size 256.0000, Learning Rate 0.0500000, Optimizer Adam\n",
      " -- Epoch 18/20\n"
     ]
    },
    {
     "metadata": {
      "tags": null
     },
     "name": "stderr",
     "output_type": "stream",
     "text": [
      "100%|██████████| 235/235 [00:13<00:00, 17.48it/s]\n"
     ]
    },
    {
     "metadata": {
      "tags": null
     },
     "name": "stdout",
     "output_type": "stream",
     "text": [
      "Loss 0.0090, Train Accuracy 10.5817%, Test Accuracy 11.3500%, Batch Size 256.0000, Learning Rate 0.0500000, Optimizer Adam\n",
      " -- Epoch 19/20\n"
     ]
    },
    {
     "metadata": {
      "tags": null
     },
     "name": "stderr",
     "output_type": "stream",
     "text": [
      "100%|██████████| 235/235 [00:13<00:00, 17.53it/s]\n"
     ]
    },
    {
     "metadata": {
      "tags": null
     },
     "name": "stdout",
     "output_type": "stream",
     "text": [
      "Loss 0.0090, Train Accuracy 10.8650%, Test Accuracy 11.3500%, Batch Size 256.0000, Learning Rate 0.0500000, Optimizer Adam\n",
      " -- Epoch 20/20\n"
     ]
    },
    {
     "metadata": {
      "tags": null
     },
     "name": "stderr",
     "output_type": "stream",
     "text": [
      "100%|██████████| 235/235 [00:13<00:00, 17.75it/s]\n"
     ]
    },
    {
     "metadata": {
      "tags": null
     },
     "name": "stdout",
     "output_type": "stream",
     "text": [
      "Loss 0.0090, Train Accuracy 10.7233%, Test Accuracy 10.2800%, Batch Size 256.0000, Learning Rate 0.0500000, Optimizer Adam\n",
      "Current Acc: 10.6830\n",
      " -- Epoch 1/20\n"
     ]
    },
    {
     "name": "stderr",
     "output_type": "stream",
     "text": [
      "100%|██████████| 235/235 [00:14<00:00, 16.66it/s]\n"
     ]
    },
    {
     "name": "stdout",
     "output_type": "stream",
     "text": [
      "Loss 0.0027, Train Accuracy 80.7767%, Test Accuracy 93.7100%, Batch Size 256.0000, Learning Rate 0.0005000, Optimizer Adam\n",
      " -- Epoch 2/20\n"
     ]
    },
    {
     "name": "stderr",
     "output_type": "stream",
     "text": [
      "100%|██████████| 235/235 [00:13<00:00, 17.37it/s]\n"
     ]
    },
    {
     "name": "stdout",
     "output_type": "stream",
     "text": [
      "Loss 0.0006, Train Accuracy 95.1167%, Test Accuracy 96.6700%, Batch Size 256.0000, Learning Rate 0.0005000, Optimizer Adam\n",
      " -- Epoch 3/20\n"
     ]
    },
    {
     "name": "stderr",
     "output_type": "stream",
     "text": [
      "100%|██████████| 235/235 [00:14<00:00, 15.89it/s]\n"
     ]
    },
    {
     "name": "stdout",
     "output_type": "stream",
     "text": [
      "Loss 0.0004, Train Accuracy 96.8617%, Test Accuracy 97.4300%, Batch Size 256.0000, Learning Rate 0.0005000, Optimizer Adam\n",
      " -- Epoch 4/20\n"
     ]
    },
    {
     "name": "stderr",
     "output_type": "stream",
     "text": [
      "100%|██████████| 235/235 [00:13<00:00, 17.38it/s]\n"
     ]
    },
    {
     "name": "stdout",
     "output_type": "stream",
     "text": [
      "Loss 0.0003, Train Accuracy 97.6450%, Test Accuracy 97.9200%, Batch Size 256.0000, Learning Rate 0.0005000, Optimizer Adam\n",
      " -- Epoch 5/20\n"
     ]
    },
    {
     "name": "stderr",
     "output_type": "stream",
     "text": [
      "100%|██████████| 235/235 [00:13<00:00, 17.09it/s]\n"
     ]
    },
    {
     "name": "stdout",
     "output_type": "stream",
     "text": [
      "Loss 0.0003, Train Accuracy 98.0000%, Test Accuracy 98.1000%, Batch Size 256.0000, Learning Rate 0.0005000, Optimizer Adam\n",
      " -- Epoch 6/20\n"
     ]
    },
    {
     "name": "stderr",
     "output_type": "stream",
     "text": [
      "100%|██████████| 235/235 [00:13<00:00, 17.29it/s]\n"
     ]
    },
    {
     "name": "stdout",
     "output_type": "stream",
     "text": [
      "Loss 0.0002, Train Accuracy 98.3417%, Test Accuracy 98.4300%, Batch Size 256.0000, Learning Rate 0.0005000, Optimizer Adam\n",
      " -- Epoch 7/20\n"
     ]
    },
    {
     "name": "stderr",
     "output_type": "stream",
     "text": [
      "100%|██████████| 235/235 [00:13<00:00, 17.11it/s]\n"
     ]
    },
    {
     "name": "stdout",
     "output_type": "stream",
     "text": [
      "Loss 0.0002, Train Accuracy 98.5117%, Test Accuracy 98.5300%, Batch Size 256.0000, Learning Rate 0.0005000, Optimizer Adam\n",
      " -- Epoch 8/20\n"
     ]
    },
    {
     "name": "stderr",
     "output_type": "stream",
     "text": [
      "100%|██████████| 235/235 [00:13<00:00, 17.25it/s]\n"
     ]
    },
    {
     "name": "stdout",
     "output_type": "stream",
     "text": [
      "Loss 0.0002, Train Accuracy 98.6450%, Test Accuracy 98.4500%, Batch Size 256.0000, Learning Rate 0.0005000, Optimizer Adam\n",
      " -- Epoch 9/20\n"
     ]
    },
    {
     "name": "stderr",
     "output_type": "stream",
     "text": [
      "100%|██████████| 235/235 [00:14<00:00, 16.72it/s]\n"
     ]
    },
    {
     "name": "stdout",
     "output_type": "stream",
     "text": [
      "Loss 0.0002, Train Accuracy 98.7683%, Test Accuracy 98.7900%, Batch Size 256.0000, Learning Rate 0.0005000, Optimizer Adam\n",
      " -- Epoch 10/20\n"
     ]
    },
    {
     "name": "stderr",
     "output_type": "stream",
     "text": [
      "100%|██████████| 235/235 [00:14<00:00, 16.20it/s]\n"
     ]
    },
    {
     "name": "stdout",
     "output_type": "stream",
     "text": [
      "Loss 0.0001, Train Accuracy 98.8350%, Test Accuracy 98.7300%, Batch Size 256.0000, Learning Rate 0.0005000, Optimizer Adam\n",
      " -- Epoch 11/20\n"
     ]
    },
    {
     "name": "stderr",
     "output_type": "stream",
     "text": [
      "100%|██████████| 235/235 [00:14<00:00, 16.52it/s]\n"
     ]
    },
    {
     "name": "stdout",
     "output_type": "stream",
     "text": [
      "Loss 0.0001, Train Accuracy 98.9367%, Test Accuracy 98.8100%, Batch Size 256.0000, Learning Rate 0.0005000, Optimizer Adam\n",
      " -- Epoch 12/20\n"
     ]
    },
    {
     "name": "stderr",
     "output_type": "stream",
     "text": [
      "100%|██████████| 235/235 [00:14<00:00, 16.77it/s]\n"
     ]
    },
    {
     "name": "stdout",
     "output_type": "stream",
     "text": [
      "Loss 0.0001, Train Accuracy 99.0367%, Test Accuracy 98.8300%, Batch Size 256.0000, Learning Rate 0.0005000, Optimizer Adam\n",
      " -- Epoch 13/20\n"
     ]
    },
    {
     "name": "stderr",
     "output_type": "stream",
     "text": [
      "100%|██████████| 235/235 [00:14<00:00, 16.65it/s]\n"
     ]
    },
    {
     "name": "stdout",
     "output_type": "stream",
     "text": [
      "Loss 0.0001, Train Accuracy 99.2033%, Test Accuracy 98.8900%, Batch Size 256.0000, Learning Rate 0.0005000, Optimizer Adam\n",
      " -- Epoch 14/20\n"
     ]
    },
    {
     "name": "stderr",
     "output_type": "stream",
     "text": [
      "100%|██████████| 235/235 [00:14<00:00, 16.72it/s]\n"
     ]
    },
    {
     "name": "stdout",
     "output_type": "stream",
     "text": [
      "Loss 0.0001, Train Accuracy 99.2550%, Test Accuracy 98.8000%, Batch Size 256.0000, Learning Rate 0.0005000, Optimizer Adam\n",
      " -- Epoch 15/20\n"
     ]
    },
    {
     "name": "stderr",
     "output_type": "stream",
     "text": [
      "100%|██████████| 235/235 [00:13<00:00, 16.80it/s]\n"
     ]
    },
    {
     "name": "stdout",
     "output_type": "stream",
     "text": [
      "Loss 0.0001, Train Accuracy 99.3000%, Test Accuracy 98.9400%, Batch Size 256.0000, Learning Rate 0.0005000, Optimizer Adam\n",
      " -- Epoch 16/20\n"
     ]
    },
    {
     "name": "stderr",
     "output_type": "stream",
     "text": [
      "100%|██████████| 235/235 [00:13<00:00, 17.02it/s]\n"
     ]
    },
    {
     "name": "stdout",
     "output_type": "stream",
     "text": [
      "Loss 0.0001, Train Accuracy 99.3283%, Test Accuracy 98.9200%, Batch Size 256.0000, Learning Rate 0.0005000, Optimizer Adam\n",
      " -- Epoch 17/20\n"
     ]
    },
    {
     "name": "stderr",
     "output_type": "stream",
     "text": [
      "100%|██████████| 235/235 [00:14<00:00, 16.01it/s]\n"
     ]
    },
    {
     "name": "stdout",
     "output_type": "stream",
     "text": [
      "Loss 0.0001, Train Accuracy 99.3933%, Test Accuracy 98.9200%, Batch Size 256.0000, Learning Rate 0.0005000, Optimizer Adam\n",
      " -- Epoch 18/20\n"
     ]
    },
    {
     "name": "stderr",
     "output_type": "stream",
     "text": [
      "100%|██████████| 235/235 [00:13<00:00, 17.09it/s]\n"
     ]
    },
    {
     "name": "stdout",
     "output_type": "stream",
     "text": [
      "Loss 0.0001, Train Accuracy 99.4600%, Test Accuracy 99.0800%, Batch Size 256.0000, Learning Rate 0.0005000, Optimizer Adam\n",
      " -- Epoch 19/20\n"
     ]
    },
    {
     "name": "stderr",
     "output_type": "stream",
     "text": [
      "100%|██████████| 235/235 [00:13<00:00, 17.19it/s]\n"
     ]
    },
    {
     "name": "stdout",
     "output_type": "stream",
     "text": [
      "Loss 0.0001, Train Accuracy 99.4683%, Test Accuracy 98.9400%, Batch Size 256.0000, Learning Rate 0.0005000, Optimizer Adam\n",
      " -- Epoch 20/20\n"
     ]
    },
    {
     "name": "stderr",
     "output_type": "stream",
     "text": [
      "100%|██████████| 235/235 [00:13<00:00, 17.10it/s]\n"
     ]
    },
    {
     "name": "stdout",
     "output_type": "stream",
     "text": [
      "Loss 0.0001, Train Accuracy 99.5400%, Test Accuracy 98.9300%, Batch Size 256.0000, Learning Rate 0.0005000, Optimizer Adam\n",
      "Current Acc: 98.2910\n",
      " -- Epoch 1/20\n"
     ]
    },
    {
     "name": "stderr",
     "output_type": "stream",
     "text": [
      "100%|██████████| 235/235 [00:13<00:00, 16.95it/s]\n"
     ]
    },
    {
     "name": "stdout",
     "output_type": "stream",
     "text": [
      "Loss 0.0090, Train Accuracy 15.5883%, Test Accuracy 16.6200%, Batch Size 256.0000, Learning Rate 0.0000005, Optimizer Adam\n",
      " -- Epoch 2/20\n"
     ]
    },
    {
     "name": "stderr",
     "output_type": "stream",
     "text": [
      "100%|██████████| 235/235 [00:13<00:00, 17.02it/s]\n"
     ]
    },
    {
     "name": "stdout",
     "output_type": "stream",
     "text": [
      "Loss 0.0090, Train Accuracy 16.6150%, Test Accuracy 17.8000%, Batch Size 256.0000, Learning Rate 0.0000005, Optimizer Adam\n",
      " -- Epoch 3/20\n"
     ]
    },
    {
     "name": "stderr",
     "output_type": "stream",
     "text": [
      "100%|██████████| 235/235 [00:13<00:00, 17.28it/s]\n"
     ]
    },
    {
     "name": "stdout",
     "output_type": "stream",
     "text": [
      "Loss 0.0090, Train Accuracy 17.7183%, Test Accuracy 18.7100%, Batch Size 256.0000, Learning Rate 0.0000005, Optimizer Adam\n",
      " -- Epoch 4/20\n"
     ]
    },
    {
     "name": "stderr",
     "output_type": "stream",
     "text": [
      "100%|██████████| 235/235 [00:13<00:00, 17.14it/s]\n"
     ]
    },
    {
     "name": "stdout",
     "output_type": "stream",
     "text": [
      "Loss 0.0090, Train Accuracy 18.6683%, Test Accuracy 19.8300%, Batch Size 256.0000, Learning Rate 0.0000005, Optimizer Adam\n",
      " -- Epoch 5/20\n"
     ]
    },
    {
     "name": "stderr",
     "output_type": "stream",
     "text": [
      "100%|██████████| 235/235 [00:13<00:00, 16.99it/s]\n"
     ]
    },
    {
     "name": "stdout",
     "output_type": "stream",
     "text": [
      "Loss 0.0090, Train Accuracy 19.6467%, Test Accuracy 20.8600%, Batch Size 256.0000, Learning Rate 0.0000005, Optimizer Adam\n",
      " -- Epoch 6/20\n"
     ]
    },
    {
     "name": "stderr",
     "output_type": "stream",
     "text": [
      "100%|██████████| 235/235 [00:13<00:00, 16.98it/s]\n"
     ]
    },
    {
     "name": "stdout",
     "output_type": "stream",
     "text": [
      "Loss 0.0090, Train Accuracy 20.6083%, Test Accuracy 22.0700%, Batch Size 256.0000, Learning Rate 0.0000005, Optimizer Adam\n",
      " -- Epoch 7/20\n"
     ]
    },
    {
     "name": "stderr",
     "output_type": "stream",
     "text": [
      "100%|██████████| 235/235 [00:13<00:00, 17.34it/s]\n"
     ]
    },
    {
     "name": "stdout",
     "output_type": "stream",
     "text": [
      "Loss 0.0090, Train Accuracy 21.8150%, Test Accuracy 23.4900%, Batch Size 256.0000, Learning Rate 0.0000005, Optimizer Adam\n",
      " -- Epoch 8/20\n"
     ]
    },
    {
     "name": "stderr",
     "output_type": "stream",
     "text": [
      "100%|██████████| 235/235 [00:13<00:00, 16.81it/s]\n"
     ]
    },
    {
     "name": "stdout",
     "output_type": "stream",
     "text": [
      "Loss 0.0090, Train Accuracy 23.2100%, Test Accuracy 25.1700%, Batch Size 256.0000, Learning Rate 0.0000005, Optimizer Adam\n",
      " -- Epoch 9/20\n"
     ]
    },
    {
     "name": "stderr",
     "output_type": "stream",
     "text": [
      "100%|██████████| 235/235 [00:13<00:00, 17.22it/s]\n"
     ]
    },
    {
     "name": "stdout",
     "output_type": "stream",
     "text": [
      "Loss 0.0090, Train Accuracy 24.6317%, Test Accuracy 26.9300%, Batch Size 256.0000, Learning Rate 0.0000005, Optimizer Adam\n",
      " -- Epoch 10/20\n"
     ]
    },
    {
     "name": "stderr",
     "output_type": "stream",
     "text": [
      "100%|██████████| 235/235 [00:14<00:00, 16.44it/s]\n"
     ]
    },
    {
     "name": "stdout",
     "output_type": "stream",
     "text": [
      "Loss 0.0090, Train Accuracy 25.9917%, Test Accuracy 28.4200%, Batch Size 256.0000, Learning Rate 0.0000005, Optimizer Adam\n",
      " -- Epoch 11/20\n"
     ]
    },
    {
     "name": "stderr",
     "output_type": "stream",
     "text": [
      "100%|██████████| 235/235 [00:13<00:00, 17.10it/s]\n"
     ]
    },
    {
     "name": "stdout",
     "output_type": "stream",
     "text": [
      "Loss 0.0090, Train Accuracy 27.4600%, Test Accuracy 29.4800%, Batch Size 256.0000, Learning Rate 0.0000005, Optimizer Adam\n",
      " -- Epoch 12/20\n"
     ]
    },
    {
     "name": "stderr",
     "output_type": "stream",
     "text": [
      "100%|██████████| 235/235 [00:14<00:00, 15.73it/s]\n"
     ]
    },
    {
     "name": "stdout",
     "output_type": "stream",
     "text": [
      "Loss 0.0090, Train Accuracy 28.9567%, Test Accuracy 30.5200%, Batch Size 256.0000, Learning Rate 0.0000005, Optimizer Adam\n",
      " -- Epoch 13/20\n"
     ]
    },
    {
     "name": "stderr",
     "output_type": "stream",
     "text": [
      "100%|██████████| 235/235 [00:13<00:00, 16.88it/s]\n"
     ]
    },
    {
     "name": "stdout",
     "output_type": "stream",
     "text": [
      "Loss 0.0090, Train Accuracy 30.4150%, Test Accuracy 32.1000%, Batch Size 256.0000, Learning Rate 0.0000005, Optimizer Adam\n",
      " -- Epoch 14/20\n"
     ]
    },
    {
     "name": "stderr",
     "output_type": "stream",
     "text": [
      "100%|██████████| 235/235 [00:13<00:00, 16.87it/s]\n"
     ]
    },
    {
     "name": "stdout",
     "output_type": "stream",
     "text": [
      "Loss 0.0090, Train Accuracy 31.8000%, Test Accuracy 33.5600%, Batch Size 256.0000, Learning Rate 0.0000005, Optimizer Adam\n",
      " -- Epoch 15/20\n"
     ]
    },
    {
     "name": "stderr",
     "output_type": "stream",
     "text": [
      "100%|██████████| 235/235 [00:14<00:00, 16.67it/s]\n"
     ]
    },
    {
     "name": "stdout",
     "output_type": "stream",
     "text": [
      "Loss 0.0090, Train Accuracy 33.0750%, Test Accuracy 34.5800%, Batch Size 256.0000, Learning Rate 0.0000005, Optimizer Adam\n",
      " -- Epoch 16/20\n"
     ]
    },
    {
     "name": "stderr",
     "output_type": "stream",
     "text": [
      "100%|██████████| 235/235 [00:13<00:00, 16.81it/s]\n"
     ]
    },
    {
     "name": "stdout",
     "output_type": "stream",
     "text": [
      "Loss 0.0090, Train Accuracy 34.0150%, Test Accuracy 35.4700%, Batch Size 256.0000, Learning Rate 0.0000005, Optimizer Adam\n",
      " -- Epoch 17/20\n"
     ]
    },
    {
     "name": "stderr",
     "output_type": "stream",
     "text": [
      "100%|██████████| 235/235 [00:14<00:00, 16.55it/s]\n"
     ]
    },
    {
     "name": "stdout",
     "output_type": "stream",
     "text": [
      "Loss 0.0089, Train Accuracy 34.8267%, Test Accuracy 36.1200%, Batch Size 256.0000, Learning Rate 0.0000005, Optimizer Adam\n",
      " -- Epoch 18/20\n"
     ]
    },
    {
     "name": "stderr",
     "output_type": "stream",
     "text": [
      "100%|██████████| 235/235 [00:13<00:00, 17.05it/s]\n"
     ]
    },
    {
     "name": "stdout",
     "output_type": "stream",
     "text": [
      "Loss 0.0089, Train Accuracy 35.4000%, Test Accuracy 36.7000%, Batch Size 256.0000, Learning Rate 0.0000005, Optimizer Adam\n",
      " -- Epoch 19/20\n"
     ]
    },
    {
     "name": "stderr",
     "output_type": "stream",
     "text": [
      "100%|██████████| 235/235 [00:13<00:00, 17.17it/s]\n"
     ]
    },
    {
     "name": "stdout",
     "output_type": "stream",
     "text": [
      "Loss 0.0089, Train Accuracy 35.8450%, Test Accuracy 37.1300%, Batch Size 256.0000, Learning Rate 0.0000005, Optimizer Adam\n",
      " -- Epoch 20/20\n"
     ]
    },
    {
     "name": "stderr",
     "output_type": "stream",
     "text": [
      "100%|██████████| 235/235 [00:13<00:00, 16.89it/s]\n"
     ]
    },
    {
     "name": "stdout",
     "output_type": "stream",
     "text": [
      "Loss 0.0089, Train Accuracy 36.1333%, Test Accuracy 37.5300%, Batch Size 256.0000, Learning Rate 0.0000005, Optimizer Adam\n",
      "Current Acc: 28.1545\n",
      "---------------------------------\n",
      "Best combination:  {'Batchsize': 256, 'Learning Rate': 0.05, 'Accuracy': 98.96049737930298, 'Optimizer': 'SGD'}\n",
      "---------------------------------\n"
     ]
    }
   ],
   "source": [
    "max_epoch = 20\n",
    "use_cuda = True\n",
    "\n",
    "model = LeNet()\n",
    "if use_cuda:\n",
    "    model = model.cuda()\n",
    "criterion = nn.CrossEntropyLoss()\n",
    "\n",
    "#define testing hyper-param\n",
    "lr_list = [5e-2, 5e-4, 5e-7]\n",
    "optim_list = [\"SGD\", \"Adagrad\", \"Adam\"]\n",
    "batch_list = [64, 256]\n",
    "avg_acc = 0\n",
    "test_hist = {}\n",
    "train_hist = {}\n",
    "loss_hist = {}\n",
    "best_acc = -999\n",
    "best_hyper = {'Batchsize': 0, 'Learning Rate':0, 'Accuracy':0, 'Optimizer':''}\n",
    "\n",
    "for opt_name in optim_list:\n",
    "  for bsz in batch_list:\n",
    "  ############################################################################################################################################\n",
    "    # load MNIST dataset\n",
    "    transform = transforms.Compose([\n",
    "        transforms.ToTensor(),\n",
    "        transforms.Normalize(\n",
    "            mean=0.5,\n",
    "            std=0.5\n",
    "        )\n",
    "    ])\n",
    "\n",
    "    data_train = datasets.MNIST(\n",
    "        root=\"./data/\",\n",
    "        transform=transform,\n",
    "        train=True,\n",
    "        download=True\n",
    "    )\n",
    "\n",
    "    data_test = datasets.MNIST(\n",
    "        root=\"./data/\",\n",
    "        transform=transform,\n",
    "        train=False\n",
    "    )\n",
    "\n",
    "    loader_train = torch.utils.data.DataLoader(\n",
    "        dataset=data_train,\n",
    "        batch_size=bsz,\n",
    "        shuffle=True\n",
    "    )\n",
    "\n",
    "    loader_test = torch.utils.data.DataLoader(\n",
    "        dataset=data_test,\n",
    "        batch_size=bsz,\n",
    "        shuffle=True\n",
    "    )\n",
    "    # load EMNIST dataset\n",
    "    train_set = datasets.EMNIST(\n",
    "        root=\"data\", \n",
    "        split=\"balanced\", \n",
    "        download=\"True\",\n",
    "        train=True, \n",
    "        transform=transform\n",
    "    )\n",
    "\n",
    "    test_set = datasets.EMNIST(\n",
    "        root=\"data\", \n",
    "        split=\"balanced\", \n",
    "        download=\"True\",\n",
    "        train=False, \n",
    "        transform=transform\n",
    "\n",
    "    )\n",
    "    entire_trainset = torch.utils.data.DataLoader(train_set, shuffle=True)\n",
    "\n",
    "    split_train_size = int(0.8*(len(entire_trainset)))  # use 80% as train set\n",
    "    split_valid_size = len(entire_trainset) - split_train_size  # use 20% as validation set\n",
    "\n",
    "    train_set, val_set = torch.utils.data.random_split(\n",
    "        train_set, [split_train_size, split_valid_size])\n",
    "  ########################################################################################################################\n",
    "    for lr in lr_list:\n",
    "      loss_list = []\n",
    "      acc_train_list = []\n",
    "      acc_test_list = []\n",
    "      # reset model parameters\n",
    "      for layer in model.children():\n",
    "        if hasattr(layer, 'reset_parameters'):\n",
    "          layer.reset_parameters()\n",
    "      optim_obj = OPT_CLASS(opt_str=opt_name, param=model.parameters(), lr=lr, momentum=0.9, decay=1e-4)\n",
    "      optimizer = optim_obj.optim()\n",
    "      \n",
    "      for epoch in range(max_epoch):\n",
    "        running_loss = 0.0\n",
    "        running_correct = 0\n",
    "        print(\" -- Epoch {}/{}\".format(epoch + 1, max_epoch))\n",
    "\n",
    "        # training\n",
    "        model.train()\n",
    "        for data in tqdm(loader_train):\n",
    "            optimizer.zero_grad()\n",
    "            images, labels = data\n",
    "            if use_cuda:\n",
    "                images = images.cuda()\n",
    "                labels = labels.cuda()\n",
    "            outputs = model(images)\n",
    "            loss = criterion(outputs, labels)\n",
    "          \n",
    "            loss.backward()\n",
    "            optimizer.step()\n",
    "\n",
    "            pred = torch.argmax(outputs, dim=1)\n",
    "            running_loss += loss.item()\n",
    "            running_correct += torch.sum(pred == labels)\n",
    "        \n",
    "        loss = running_loss / len(data_train)\n",
    "        loss_list.append(loss)\n",
    "        acc_train = running_correct / len(data_train)\n",
    "        acc_train_list.append(acc_train.item())\n",
    "        \n",
    "        # testing\n",
    "        model.eval()\n",
    "        test_correct = 0\n",
    "        for data in loader_test:\n",
    "            images, labels = data\n",
    "            if use_cuda:\n",
    "                images = images.cuda()\n",
    "                labels = labels.cuda()\n",
    "\n",
    "            outputs = model(images)\n",
    "            pred = torch.argmax(outputs, dim=1)\n",
    "            test_correct += torch.sum(pred == labels)\n",
    "                \n",
    "        acc_test = test_correct / len(data_test)\n",
    "        avg_acc += acc_test.item()\n",
    "        acc_test_list.append(acc_test.item())\n",
    "        if(epoch == (max_epoch-1)):\n",
    "          test_hist[(lr, bsz, opt_name)] = acc_test_list\n",
    "          train_hist[(lr, bsz, opt_name)] = acc_train_list\n",
    "          loss_hist[(lr, bsz, opt_name)] = loss_list\n",
    "\n",
    "        print(\"Loss {:.4f}, Train Accuracy {:.4f}%, Test Accuracy {:.4f}%, Batch Size {:.4f}, Learning Rate {:.7f}, Optimizer {optim}\".format(\n",
    "            loss,\n",
    "            acc_train * 100,\n",
    "            acc_test * 100,\n",
    "            bsz,\n",
    "            lr,\n",
    "            optim=opt_name\n",
    "        ))\n",
    "\n",
    "      if((avg_acc/max_epoch) >= best_acc):\n",
    "        best_acc = (avg_acc/max_epoch)\n",
    "        best_hyper[\"Accuracy\"] = best_acc * 100\n",
    "        best_hyper[\"Batchsize\"] = bsz\n",
    "        best_hyper[\"Learning Rate\"] = lr\n",
    "        best_hyper[\"Optimizer\"] = opt_name\n",
    "      print(\"Current Acc: {:.4f}\".format(avg_acc/max_epoch * 100))\n",
    "      avg_acc = 0\n",
    "\n",
    "\n",
    "print(\"---------------------------------\")\n",
    "print(\"Best combination: \", best_hyper)\n",
    "print(\"---------------------------------\")"
   ]
  },
  {
   "cell_type": "code",
   "execution_count": 19,
   "metadata": {
    "colab": {
     "base_uri": "https://localhost:8080/",
     "height": 851
    },
    "executionInfo": {
     "elapsed": 1500,
     "status": "ok",
     "timestamp": 1677573627415,
     "user": {
      "displayName": "BonKong Lai",
      "userId": "14934257860777894140"
     },
     "user_tz": -480
    },
    "id": "NpOvtQddQJUq",
    "outputId": "6ac0f31c-9151-41f8-81e1-100e7b5ff60e"
   },
   "outputs": [
    {
     "data": {
      "image/png": "[encoded data removed]",
      "text/plain": [
       "<Figure size 432x288 with 1 Axes>"
      ]
     },
     "metadata": {
      "needs_background": "light"
     },
     "output_type": "display_data"
    },
    {
     "data": {
      "image/png": "[encoded data removed]",
      "text/plain": [
       "<Figure size 432x288 with 1 Axes>"
      ]
     },
     "metadata": {
      "needs_background": "light"
     },
     "output_type": "display_data"
    },
    {
     "data": {
      "image/png": "[encoded data removed]",
      "text/plain": [
       "<Figure size 432x288 with 1 Axes>"
      ]
     },
     "metadata": {
      "needs_background": "light"
     },
     "output_type": "display_data"
    }
   ],
   "source": [
    "for opt in optim_list:\n",
    "    plt.figure()\n",
    "  for item in loss_hist.keys():\n",
    "    if(item[-1] == opt):\n",
    "      plt.plot(loss_hist[item], label=\"lr:{lr} batch:{bsz}\".format(lr=item[0], bsz=item[1])) \n",
    "      plt.title(\"{opt}\".format(opt=item[-1]))\n",
    "      plt.legend(loc=\"upper right\", prop={'size': 8})\n",
    "      plt.xlabel(\"Epoch\")\n",
    "      plt.ylabel(\"Loss\")\n",
    "\n",
    "\n",
    "# for item in test_hist:\n",
    "#   plt.figure()\n",
    "#   plt.plot(test_hist[item], label=\"lr:{lr} batch:{bsz}\".format(lr=item[0], bsz=item[1])) \n",
    "#   plt.plot(test_hist[item], label=\"lr:{lr} batch:{bsz}\".format(lr=item[0], bsz=item[1])) \n",
    "#   plt.legend(loc=\"lower right\")\n",
    "#   plt.title(\"Accuracy (lr {:.7f}, batchsize {:3d})\".format(lr, bsz))\n",
    "#   plt.xlabel(\"Epoch\")\n",
    "#   plt.ylabel(\"Accuracy\")"
   ]
  }
 ],
 "metadata": {
  "accelerator": "GPU",
  "colab": {
   "provenance": []
  },
  "gpuClass": "standard",
  "kernelspec": {
   "display_name": "Python 3 (ipykernel)",
   "language": "python",
   "name": "python3"
  },
  "language_info": {
   "codemirror_mode": {
    "name": "ipython",
    "version": 3
   },
   "file_extension": ".py",
   "mimetype": "text/x-python",
   "name": "python",
   "nbconvert_exporter": "python",
   "pygments_lexer": "ipython3",
   "version": "3.7.13"
  },
  "vscode": {
   "interpreter": {
    "hash": "a665b5d41d17b532ea9890333293a1b812fa0b73c9c25c950b3cedf1bebd0438"
   }
  },
  "widgets": {
   "application/vnd.jupyter.widget-state+json": {
    "014013763bff42f083e8eff118e3c46f": {
     "model_module": "@jupyter-widgets/controls",
     "model_module_version": "1.5.0",
     "model_name": "DescriptionStyleModel",
     "state": {
      "_model_module": "@jupyter-widgets/controls",
      "_model_module_version": "1.5.0",
      "_model_name": "DescriptionStyleModel",
      "_view_count": null,
      "_view_module": "@jupyter-widgets/base",
      "_view_module_version": "1.2.0",
      "_view_name": "StyleView",
      "description_width": ""
     }
    },
    "01cb592a873e44339f98d48adbe4cd5d": {
     "model_module": "@jupyter-widgets/base",
     "model_module_version": "1.2.0",
     "model_name": "LayoutModel",
     "state": {
      "_model_module": "@jupyter-widgets/base",
      "_model_module_version": "1.2.0",
      "_model_name": "LayoutModel",
      "_view_count": null,
      "_view_module": "@jupyter-widgets/base",
      "_view_module_version": "1.2.0",
      "_view_name": "LayoutView",
      "align_content": null,
      "align_items": null,
      "align_self": null,
      "border": null,
      "bottom": null,
      "display": null,
      "flex": null,
      "flex_flow": null,
      "grid_area": null,
      "grid_auto_columns": null,
      "grid_auto_flow": null,
      "grid_auto_rows": null,
      "grid_column": null,
      "grid_gap": null,
      "grid_row": null,
      "grid_template_areas": null,
      "grid_template_columns": null,
      "grid_template_rows": null,
      "height": null,
      "justify_content": null,
      "justify_items": null,
      "left": null,
      "margin": null,
      "max_height": null,
      "max_width": null,
      "min_height": null,
      "min_width": null,
      "object_fit": null,
      "object_position": null,
      "order": null,
      "overflow": null,
      "overflow_x": null,
      "overflow_y": null,
      "padding": null,
      "right": null,
      "top": null,
      "visibility": null,
      "width": null
     }
    },
    "01e9c4cbbbe44ed7b984846bcd13f075": {
     "model_module": "@jupyter-widgets/controls",
     "model_module_version": "1.5.0",
     "model_name": "FloatProgressModel",
     "state": {
      "_dom_classes": [],
      "_model_module": "@jupyter-widgets/controls",
      "_model_module_version": "1.5.0",
      "_model_name": "FloatProgressModel",
      "_view_count": null,
      "_view_module": "@jupyter-widgets/controls",
      "_view_module_version": "1.5.0",
      "_view_name": "ProgressView",
      "bar_style": "success",
      "description": "",
      "description_tooltip": null,
      "layout": "IPY_MODEL_c252477b5db24ed7bfc563534b26d8e7",
      "max": 4542,
      "min": 0,
      "orientation": "horizontal",
      "style": "IPY_MODEL_a6d93a69abee4b34a1f9afb21a0062c9",
      "value": 4542
     }
    },
    "0358635f9071407a8a3618fa9270b04a": {
     "model_module": "@jupyter-widgets/controls",
     "model_module_version": "1.5.0",
     "model_name": "HBoxModel",
     "state": {
      "_dom_classes": [],
      "_model_module": "@jupyter-widgets/controls",
      "_model_module_version": "1.5.0",
      "_model_name": "HBoxModel",
      "_view_count": null,
      "_view_module": "@jupyter-widgets/controls",
      "_view_module_version": "1.5.0",
      "_view_name": "HBoxView",
      "box_style": "",
      "children": [
       "IPY_MODEL_1ce91545fdf14907b23c76df64b5df90",
       "IPY_MODEL_01e9c4cbbbe44ed7b984846bcd13f075",
       "IPY_MODEL_c2579385c6d94230bdd1086394759c3d"
      ],
      "layout": "IPY_MODEL_42c4df164c7843d7a9f525f53159f16e"
     }
    },
    "0f64b58f077d47e69f0b3e393194a235": {
     "model_module": "@jupyter-widgets/controls",
     "model_module_version": "1.5.0",
     "model_name": "DescriptionStyleModel",
     "state": {
      "_model_module": "@jupyter-widgets/controls",
      "_model_module_version": "1.5.0",
      "_model_name": "DescriptionStyleModel",
      "_view_count": null,
      "_view_module": "@jupyter-widgets/base",
      "_view_module_version": "1.2.0",
      "_view_name": "StyleView",
      "description_width": ""
     }
    },
    "1ce91545fdf14907b23c76df64b5df90": {
     "model_module": "@jupyter-widgets/controls",
     "model_module_version": "1.5.0",
     "model_name": "HTMLModel",
     "state": {
      "_dom_classes": [],
      "_model_module": "@jupyter-widgets/controls",
      "_model_module_version": "1.5.0",
      "_model_name": "HTMLModel",
      "_view_count": null,
      "_view_module": "@jupyter-widgets/controls",
      "_view_module_version": "1.5.0",
      "_view_name": "HTMLView",
      "description": "",
      "description_tooltip": null,
      "layout": "IPY_MODEL_e0d084fc0b5040fc81326b8024a93cab",
      "placeholder": "​",
      "style": "IPY_MODEL_afb628f4e44148789f6f80b765436939",
      "value": "100%"
     }
    },
    "2c42e5ca15b5422c8eb2c45f7d74e4ab": {
     "model_module": "@jupyter-widgets/controls",
     "model_module_version": "1.5.0",
     "model_name": "DescriptionStyleModel",
     "state": {
      "_model_module": "@jupyter-widgets/controls",
      "_model_module_version": "1.5.0",
      "_model_name": "DescriptionStyleModel",
      "_view_count": null,
      "_view_module": "@jupyter-widgets/base",
      "_view_module_version": "1.2.0",
      "_view_name": "StyleView",
      "description_width": ""
     }
    },
    "30c93a9403c54117829d08ebd488ae00": {
     "model_module": "@jupyter-widgets/base",
     "model_module_version": "1.2.0",
     "model_name": "LayoutModel",
     "state": {
      "_model_module": "@jupyter-widgets/base",
      "_model_module_version": "1.2.0",
      "_model_name": "LayoutModel",
      "_view_count": null,
      "_view_module": "@jupyter-widgets/base",
      "_view_module_version": "1.2.0",
      "_view_name": "LayoutView",
      "align_content": null,
      "align_items": null,
      "align_self": null,
      "border": null,
      "bottom": null,
      "display": null,
      "flex": null,
      "flex_flow": null,
      "grid_area": null,
      "grid_auto_columns": null,
      "grid_auto_flow": null,
      "grid_auto_rows": null,
      "grid_column": null,
      "grid_gap": null,
      "grid_row": null,
      "grid_template_areas": null,
      "grid_template_columns": null,
      "grid_template_rows": null,
      "height": null,
      "justify_content": null,
      "justify_items": null,
      "left": null,
      "margin": null,
      "max_height": null,
      "max_width": null,
      "min_height": null,
      "min_width": null,
      "object_fit": null,
      "object_position": null,
      "order": null,
      "overflow": null,
      "overflow_x": null,
      "overflow_y": null,
      "padding": null,
      "right": null,
      "top": null,
      "visibility": null,
      "width": null
     }
    },
    "317c6e1c1c794eb4a06eb49461f01ea5": {
     "model_module": "@jupyter-widgets/base",
     "model_module_version": "1.2.0",
     "model_name": "LayoutModel",
     "state": {
      "_model_module": "@jupyter-widgets/base",
      "_model_module_version": "1.2.0",
      "_model_name": "LayoutModel",
      "_view_count": null,
      "_view_module": "@jupyter-widgets/base",
      "_view_module_version": "1.2.0",
      "_view_name": "LayoutView",
      "align_content": null,
      "align_items": null,
      "align_self": null,
      "border": null,
      "bottom": null,
      "display": null,
      "flex": null,
      "flex_flow": null,
      "grid_area": null,
      "grid_auto_columns": null,
      "grid_auto_flow": null,
      "grid_auto_rows": null,
      "grid_column": null,
      "grid_gap": null,
      "grid_row": null,
      "grid_template_areas": null,
      "grid_template_columns": null,
      "grid_template_rows": null,
      "height": null,
      "justify_content": null,
      "justify_items": null,
      "left": null,
      "margin": null,
      "max_height": null,
      "max_width": null,
      "min_height": null,
      "min_width": null,
      "object_fit": null,
      "object_position": null,
      "order": null,
      "overflow": null,
      "overflow_x": null,
      "overflow_y": null,
      "padding": null,
      "right": null,
      "top": null,
      "visibility": null,
      "width": null
     }
    },
    "32239e51b69a41b1ae25af4e5fcf2121": {
     "model_module": "@jupyter-widgets/controls",
     "model_module_version": "1.5.0",
     "model_name": "DescriptionStyleModel",
     "state": {
      "_model_module": "@jupyter-widgets/controls",
      "_model_module_version": "1.5.0",
      "_model_name": "DescriptionStyleModel",
      "_view_count": null,
      "_view_module": "@jupyter-widgets/base",
      "_view_module_version": "1.2.0",
      "_view_name": "StyleView",
      "description_width": ""
     }
    },
    "3942260c738e45bb9f1e32d9de05516d": {
     "model_module": "@jupyter-widgets/controls",
     "model_module_version": "1.5.0",
     "model_name": "DescriptionStyleModel",
     "state": {
      "_model_module": "@jupyter-widgets/controls",
      "_model_module_version": "1.5.0",
      "_model_name": "DescriptionStyleModel",
      "_view_count": null,
      "_view_module": "@jupyter-widgets/base",
      "_view_module_version": "1.2.0",
      "_view_name": "StyleView",
      "description_width": ""
     }
    },
    "41bba834b110487eab09cf51e3425994": {
     "model_module": "@jupyter-widgets/controls",
     "model_module_version": "1.5.0",
     "model_name": "HTMLModel",
     "state": {
      "_dom_classes": [],
      "_model_module": "@jupyter-widgets/controls",
      "_model_module_version": "1.5.0",
      "_model_name": "HTMLModel",
      "_view_count": null,
      "_view_module": "@jupyter-widgets/controls",
      "_view_module_version": "1.5.0",
      "_view_name": "HTMLView",
      "description": "",
      "description_tooltip": null,
      "layout": "IPY_MODEL_01cb592a873e44339f98d48adbe4cd5d",
      "placeholder": "​",
      "style": "IPY_MODEL_0f64b58f077d47e69f0b3e393194a235",
      "value": "100%"
     }
    },
    "422206424acf4b409a3f0626597d7ade": {
     "model_module": "@jupyter-widgets/base",
     "model_module_version": "1.2.0",
     "model_name": "LayoutModel",
     "state": {
      "_model_module": "@jupyter-widgets/base",
      "_model_module_version": "1.2.0",
      "_model_name": "LayoutModel",
      "_view_count": null,
      "_view_module": "@jupyter-widgets/base",
      "_view_module_version": "1.2.0",
      "_view_name": "LayoutView",
      "align_content": null,
      "align_items": null,
      "align_self": null,
      "border": null,
      "bottom": null,
      "display": null,
      "flex": null,
      "flex_flow": null,
      "grid_area": null,
      "grid_auto_columns": null,
      "grid_auto_flow": null,
      "grid_auto_rows": null,
      "grid_column": null,
      "grid_gap": null,
      "grid_row": null,
      "grid_template_areas": null,
      "grid_template_columns": null,
      "grid_template_rows": null,
      "height": null,
      "justify_content": null,
      "justify_items": null,
      "left": null,
      "margin": null,
      "max_height": null,
      "max_width": null,
      "min_height": null,
      "min_width": null,
      "object_fit": null,
      "object_position": null,
      "order": null,
      "overflow": null,
      "overflow_x": null,
      "overflow_y": null,
      "padding": null,
      "right": null,
      "top": null,
      "visibility": null,
      "width": null
     }
    },
    "42c4df164c7843d7a9f525f53159f16e": {
     "model_module": "@jupyter-widgets/base",
     "model_module_version": "1.2.0",
     "model_name": "LayoutModel",
     "state": {
      "_model_module": "@jupyter-widgets/base",
      "_model_module_version": "1.2.0",
      "_model_name": "LayoutModel",
      "_view_count": null,
      "_view_module": "@jupyter-widgets/base",
      "_view_module_version": "1.2.0",
      "_view_name": "LayoutView",
      "align_content": null,
      "align_items": null,
      "align_self": null,
      "border": null,
      "bottom": null,
      "display": null,
      "flex": null,
      "flex_flow": null,
      "grid_area": null,
      "grid_auto_columns": null,
      "grid_auto_flow": null,
      "grid_auto_rows": null,
      "grid_column": null,
      "grid_gap": null,
      "grid_row": null,
      "grid_template_areas": null,
      "grid_template_columns": null,
      "grid_template_rows": null,
      "height": null,
      "justify_content": null,
      "justify_items": null,
      "left": null,
      "margin": null,
      "max_height": null,
      "max_width": null,
      "min_height": null,
      "min_width": null,
      "object_fit": null,
      "object_position": null,
      "order": null,
      "overflow": null,
      "overflow_x": null,
      "overflow_y": null,
      "padding": null,
      "right": null,
      "top": null,
      "visibility": null,
      "width": null
     }
    },
    "4b3cbdcd8c43453f936fa5600f7a3805": {
     "model_module": "@jupyter-widgets/controls",
     "model_module_version": "1.5.0",
     "model_name": "DescriptionStyleModel",
     "state": {
      "_model_module": "@jupyter-widgets/controls",
      "_model_module_version": "1.5.0",
      "_model_name": "DescriptionStyleModel",
      "_view_count": null,
      "_view_module": "@jupyter-widgets/base",
      "_view_module_version": "1.2.0",
      "_view_name": "StyleView",
      "description_width": ""
     }
    },
    "5933e58299ef491eaad912421a04524e": {
     "model_module": "@jupyter-widgets/controls",
     "model_module_version": "1.5.0",
     "model_name": "HBoxModel",
     "state": {
      "_dom_classes": [],
      "_model_module": "@jupyter-widgets/controls",
      "_model_module_version": "1.5.0",
      "_model_name": "HBoxModel",
      "_view_count": null,
      "_view_module": "@jupyter-widgets/controls",
      "_view_module_version": "1.5.0",
      "_view_name": "HBoxView",
      "box_style": "",
      "children": [
       "IPY_MODEL_b579c62a2710416e9d3ae28fc05f5953",
       "IPY_MODEL_f77e5f2a103345799742bb1a0b25db7f",
       "IPY_MODEL_e077ff5550dc452ab7409a994e67df6b"
      ],
      "layout": "IPY_MODEL_30c93a9403c54117829d08ebd488ae00"
     }
    },
    "5ef37a9dfbbf4c939b65800a3063c5c0": {
     "model_module": "@jupyter-widgets/base",
     "model_module_version": "1.2.0",
     "model_name": "LayoutModel",
     "state": {
      "_model_module": "@jupyter-widgets/base",
      "_model_module_version": "1.2.0",
      "_model_name": "LayoutModel",
      "_view_count": null,
      "_view_module": "@jupyter-widgets/base",
      "_view_module_version": "1.2.0",
      "_view_name": "LayoutView",
      "align_content": null,
      "align_items": null,
      "align_self": null,
      "border": null,
      "bottom": null,
      "display": null,
      "flex": null,
      "flex_flow": null,
      "grid_area": null,
      "grid_auto_columns": null,
      "grid_auto_flow": null,
      "grid_auto_rows": null,
      "grid_column": null,
      "grid_gap": null,
      "grid_row": null,
      "grid_template_areas": null,
      "grid_template_columns": null,
      "grid_template_rows": null,
      "height": null,
      "justify_content": null,
      "justify_items": null,
      "left": null,
      "margin": null,
      "max_height": null,
      "max_width": null,
      "min_height": null,
      "min_width": null,
      "object_fit": null,
      "object_position": null,
      "order": null,
      "overflow": null,
      "overflow_x": null,
      "overflow_y": null,
      "padding": null,
      "right": null,
      "top": null,
      "visibility": null,
      "width": null
     }
    },
    "71adf055b9b847a5a4b1f01e11788c93": {
     "model_module": "@jupyter-widgets/controls",
     "model_module_version": "1.5.0",
     "model_name": "HBoxModel",
     "state": {
      "_dom_classes": [],
      "_model_module": "@jupyter-widgets/controls",
      "_model_module_version": "1.5.0",
      "_model_name": "HBoxModel",
      "_view_count": null,
      "_view_module": "@jupyter-widgets/controls",
      "_view_module_version": "1.5.0",
      "_view_name": "HBoxView",
      "box_style": "",
      "children": [
       "IPY_MODEL_41bba834b110487eab09cf51e3425994",
       "IPY_MODEL_9bd04a927cd24426931e3976181e9bb1",
       "IPY_MODEL_fce8066fe12f4c3c84a15f3405053b27"
      ],
      "layout": "IPY_MODEL_422206424acf4b409a3f0626597d7ade"
     }
    },
    "79b10e5ac902494eb17f64dec4298d17": {
     "model_module": "@jupyter-widgets/base",
     "model_module_version": "1.2.0",
     "model_name": "LayoutModel",
     "state": {
      "_model_module": "@jupyter-widgets/base",
      "_model_module_version": "1.2.0",
      "_model_name": "LayoutModel",
      "_view_count": null,
      "_view_module": "@jupyter-widgets/base",
      "_view_module_version": "1.2.0",
      "_view_name": "LayoutView",
      "align_content": null,
      "align_items": null,
      "align_self": null,
      "border": null,
      "bottom": null,
      "display": null,
      "flex": null,
      "flex_flow": null,
      "grid_area": null,
      "grid_auto_columns": null,
      "grid_auto_flow": null,
      "grid_auto_rows": null,
      "grid_column": null,
      "grid_gap": null,
      "grid_row": null,
      "grid_template_areas": null,
      "grid_template_columns": null,
      "grid_template_rows": null,
      "height": null,
      "justify_content": null,
      "justify_items": null,
      "left": null,
      "margin": null,
      "max_height": null,
      "max_width": null,
      "min_height": null,
      "min_width": null,
      "object_fit": null,
      "object_position": null,
      "order": null,
      "overflow": null,
      "overflow_x": null,
      "overflow_y": null,
      "padding": null,
      "right": null,
      "top": null,
      "visibility": null,
      "width": null
     }
    },
    "7e4cd1359f9942d79ad30b6f22574a55": {
     "model_module": "@jupyter-widgets/base",
     "model_module_version": "1.2.0",
     "model_name": "LayoutModel",
     "state": {
      "_model_module": "@jupyter-widgets/base",
      "_model_module_version": "1.2.0",
      "_model_name": "LayoutModel",
      "_view_count": null,
      "_view_module": "@jupyter-widgets/base",
      "_view_module_version": "1.2.0",
      "_view_name": "LayoutView",
      "align_content": null,
      "align_items": null,
      "align_self": null,
      "border": null,
      "bottom": null,
      "display": null,
      "flex": null,
      "flex_flow": null,
      "grid_area": null,
      "grid_auto_columns": null,
      "grid_auto_flow": null,
      "grid_auto_rows": null,
      "grid_column": null,
      "grid_gap": null,
      "grid_row": null,
      "grid_template_areas": null,
      "grid_template_columns": null,
      "grid_template_rows": null,
      "height": null,
      "justify_content": null,
      "justify_items": null,
      "left": null,
      "margin": null,
      "max_height": null,
      "max_width": null,
      "min_height": null,
      "min_width": null,
      "object_fit": null,
      "object_position": null,
      "order": null,
      "overflow": null,
      "overflow_x": null,
      "overflow_y": null,
      "padding": null,
      "right": null,
      "top": null,
      "visibility": null,
      "width": null
     }
    },
    "824dc2c39aa04b76bdb91097c60cf448": {
     "model_module": "@jupyter-widgets/base",
     "model_module_version": "1.2.0",
     "model_name": "LayoutModel",
     "state": {
      "_model_module": "@jupyter-widgets/base",
      "_model_module_version": "1.2.0",
      "_model_name": "LayoutModel",
      "_view_count": null,
      "_view_module": "@jupyter-widgets/base",
      "_view_module_version": "1.2.0",
      "_view_name": "LayoutView",
      "align_content": null,
      "align_items": null,
      "align_self": null,
      "border": null,
      "bottom": null,
      "display": null,
      "flex": null,
      "flex_flow": null,
      "grid_area": null,
      "grid_auto_columns": null,
      "grid_auto_flow": null,
      "grid_auto_rows": null,
      "grid_column": null,
      "grid_gap": null,
      "grid_row": null,
      "grid_template_areas": null,
      "grid_template_columns": null,
      "grid_template_rows": null,
      "height": null,
      "justify_content": null,
      "justify_items": null,
      "left": null,
      "margin": null,
      "max_height": null,
      "max_width": null,
      "min_height": null,
      "min_width": null,
      "object_fit": null,
      "object_position": null,
      "order": null,
      "overflow": null,
      "overflow_x": null,
      "overflow_y": null,
      "padding": null,
      "right": null,
      "top": null,
      "visibility": null,
      "width": null
     }
    },
    "90c93af29cb54b69ae50a95bca1e08a3": {
     "model_module": "@jupyter-widgets/controls",
     "model_module_version": "1.5.0",
     "model_name": "ProgressStyleModel",
     "state": {
      "_model_module": "@jupyter-widgets/controls",
      "_model_module_version": "1.5.0",
      "_model_name": "ProgressStyleModel",
      "_view_count": null,
      "_view_module": "@jupyter-widgets/base",
      "_view_module_version": "1.2.0",
      "_view_name": "StyleView",
      "bar_color": null,
      "description_width": ""
     }
    },
    "91ba02a4243e4808bf046ed264c74332": {
     "model_module": "@jupyter-widgets/base",
     "model_module_version": "1.2.0",
     "model_name": "LayoutModel",
     "state": {
      "_model_module": "@jupyter-widgets/base",
      "_model_module_version": "1.2.0",
      "_model_name": "LayoutModel",
      "_view_count": null,
      "_view_module": "@jupyter-widgets/base",
      "_view_module_version": "1.2.0",
      "_view_name": "LayoutView",
      "align_content": null,
      "align_items": null,
      "align_self": null,
      "border": null,
      "bottom": null,
      "display": null,
      "flex": null,
      "flex_flow": null,
      "grid_area": null,
      "grid_auto_columns": null,
      "grid_auto_flow": null,
      "grid_auto_rows": null,
      "grid_column": null,
      "grid_gap": null,
      "grid_row": null,
      "grid_template_areas": null,
      "grid_template_columns": null,
      "grid_template_rows": null,
      "height": null,
      "justify_content": null,
      "justify_items": null,
      "left": null,
      "margin": null,
      "max_height": null,
      "max_width": null,
      "min_height": null,
      "min_width": null,
      "object_fit": null,
      "object_position": null,
      "order": null,
      "overflow": null,
      "overflow_x": null,
      "overflow_y": null,
      "padding": null,
      "right": null,
      "top": null,
      "visibility": null,
      "width": null
     }
    },
    "938097ab8b754079b9cd7b1a9ca2b802": {
     "model_module": "@jupyter-widgets/controls",
     "model_module_version": "1.5.0",
     "model_name": "HBoxModel",
     "state": {
      "_dom_classes": [],
      "_model_module": "@jupyter-widgets/controls",
      "_model_module_version": "1.5.0",
      "_model_name": "HBoxModel",
      "_view_count": null,
      "_view_module": "@jupyter-widgets/controls",
      "_view_module_version": "1.5.0",
      "_view_name": "HBoxView",
      "box_style": "",
      "children": [
       "IPY_MODEL_e0135135493147488da40e3c05768df6",
       "IPY_MODEL_bea29ecae32845b4bcdc5a95de333f9b",
       "IPY_MODEL_9918b6fea44b4350beaa67e3fa7f68c1"
      ],
      "layout": "IPY_MODEL_94e799599ee7418b857ee95452012c56"
     }
    },
    "94e799599ee7418b857ee95452012c56": {
     "model_module": "@jupyter-widgets/base",
     "model_module_version": "1.2.0",
     "model_name": "LayoutModel",
     "state": {
      "_model_module": "@jupyter-widgets/base",
      "_model_module_version": "1.2.0",
      "_model_name": "LayoutModel",
      "_view_count": null,
      "_view_module": "@jupyter-widgets/base",
      "_view_module_version": "1.2.0",
      "_view_name": "LayoutView",
      "align_content": null,
      "align_items": null,
      "align_self": null,
      "border": null,
      "bottom": null,
      "display": null,
      "flex": null,
      "flex_flow": null,
      "grid_area": null,
      "grid_auto_columns": null,
      "grid_auto_flow": null,
      "grid_auto_rows": null,
      "grid_column": null,
      "grid_gap": null,
      "grid_row": null,
      "grid_template_areas": null,
      "grid_template_columns": null,
      "grid_template_rows": null,
      "height": null,
      "justify_content": null,
      "justify_items": null,
      "left": null,
      "margin": null,
      "max_height": null,
      "max_width": null,
      "min_height": null,
      "min_width": null,
      "object_fit": null,
      "object_position": null,
      "order": null,
      "overflow": null,
      "overflow_x": null,
      "overflow_y": null,
      "padding": null,
      "right": null,
      "top": null,
      "visibility": null,
      "width": null
     }
    },
    "9918b6fea44b4350beaa67e3fa7f68c1": {
     "model_module": "@jupyter-widgets/controls",
     "model_module_version": "1.5.0",
     "model_name": "HTMLModel",
     "state": {
      "_dom_classes": [],
      "_model_module": "@jupyter-widgets/controls",
      "_model_module_version": "1.5.0",
      "_model_name": "HTMLModel",
      "_view_count": null,
      "_view_module": "@jupyter-widgets/controls",
      "_view_module_version": "1.5.0",
      "_view_name": "HTMLView",
      "description": "",
      "description_tooltip": null,
      "layout": "IPY_MODEL_d0894a580db84571992ce8114cfd74f4",
      "placeholder": "​",
      "style": "IPY_MODEL_3942260c738e45bb9f1e32d9de05516d",
      "value": " 28881/28881 [00:00&lt;00:00, 1753505.89it/s]"
     }
    },
    "9bc71281c3ac4fa195e08f2476ed5818": {
     "model_module": "@jupyter-widgets/controls",
     "model_module_version": "1.5.0",
     "model_name": "HTMLModel",
     "state": {
      "_dom_classes": [],
      "_model_module": "@jupyter-widgets/controls",
      "_model_module_version": "1.5.0",
      "_model_name": "HTMLModel",
      "_view_count": null,
      "_view_module": "@jupyter-widgets/controls",
      "_view_module_version": "1.5.0",
      "_view_name": "HTMLView",
      "description": "",
      "description_tooltip": null,
      "layout": "IPY_MODEL_5ef37a9dfbbf4c939b65800a3063c5c0",
      "placeholder": "​",
      "style": "IPY_MODEL_d0ab39abeef447d88db86950972ce439",
      "value": "100%"
     }
    },
    "9bd04a927cd24426931e3976181e9bb1": {
     "model_module": "@jupyter-widgets/controls",
     "model_module_version": "1.5.0",
     "model_name": "FloatProgressModel",
     "state": {
      "_dom_classes": [],
      "_model_module": "@jupyter-widgets/controls",
      "_model_module_version": "1.5.0",
      "_model_name": "FloatProgressModel",
      "_view_count": null,
      "_view_module": "@jupyter-widgets/controls",
      "_view_module_version": "1.5.0",
      "_view_name": "ProgressView",
      "bar_style": "success",
      "description": "",
      "description_tooltip": null,
      "layout": "IPY_MODEL_317c6e1c1c794eb4a06eb49461f01ea5",
      "max": 9912422,
      "min": 0,
      "orientation": "horizontal",
      "style": "IPY_MODEL_90c93af29cb54b69ae50a95bca1e08a3",
      "value": 9912422
     }
    },
    "a6d93a69abee4b34a1f9afb21a0062c9": {
     "model_module": "@jupyter-widgets/controls",
     "model_module_version": "1.5.0",
     "model_name": "ProgressStyleModel",
     "state": {
      "_model_module": "@jupyter-widgets/controls",
      "_model_module_version": "1.5.0",
      "_model_name": "ProgressStyleModel",
      "_view_count": null,
      "_view_module": "@jupyter-widgets/base",
      "_view_module_version": "1.2.0",
      "_view_name": "StyleView",
      "bar_color": null,
      "description_width": ""
     }
    },
    "afb628f4e44148789f6f80b765436939": {
     "model_module": "@jupyter-widgets/controls",
     "model_module_version": "1.5.0",
     "model_name": "DescriptionStyleModel",
     "state": {
      "_model_module": "@jupyter-widgets/controls",
      "_model_module_version": "1.5.0",
      "_model_name": "DescriptionStyleModel",
      "_view_count": null,
      "_view_module": "@jupyter-widgets/base",
      "_view_module_version": "1.2.0",
      "_view_name": "StyleView",
      "description_width": ""
     }
    },
    "b579c62a2710416e9d3ae28fc05f5953": {
     "model_module": "@jupyter-widgets/controls",
     "model_module_version": "1.5.0",
     "model_name": "HTMLModel",
     "state": {
      "_dom_classes": [],
      "_model_module": "@jupyter-widgets/controls",
      "_model_module_version": "1.5.0",
      "_model_name": "HTMLModel",
      "_view_count": null,
      "_view_module": "@jupyter-widgets/controls",
      "_view_module_version": "1.5.0",
      "_view_name": "HTMLView",
      "description": "",
      "description_tooltip": null,
      "layout": "IPY_MODEL_eb728a6c035845de9dce4ed290640055",
      "placeholder": "​",
      "style": "IPY_MODEL_32239e51b69a41b1ae25af4e5fcf2121",
      "value": "100%"
     }
    },
    "bbe5e420b8774a72834e615f876c4cdd": {
     "model_module": "@jupyter-widgets/base",
     "model_module_version": "1.2.0",
     "model_name": "LayoutModel",
     "state": {
      "_model_module": "@jupyter-widgets/base",
      "_model_module_version": "1.2.0",
      "_model_name": "LayoutModel",
      "_view_count": null,
      "_view_module": "@jupyter-widgets/base",
      "_view_module_version": "1.2.0",
      "_view_name": "LayoutView",
      "align_content": null,
      "align_items": null,
      "align_self": null,
      "border": null,
      "bottom": null,
      "display": null,
      "flex": null,
      "flex_flow": null,
      "grid_area": null,
      "grid_auto_columns": null,
      "grid_auto_flow": null,
      "grid_auto_rows": null,
      "grid_column": null,
      "grid_gap": null,
      "grid_row": null,
      "grid_template_areas": null,
      "grid_template_columns": null,
      "grid_template_rows": null,
      "height": null,
      "justify_content": null,
      "justify_items": null,
      "left": null,
      "margin": null,
      "max_height": null,
      "max_width": null,
      "min_height": null,
      "min_width": null,
      "object_fit": null,
      "object_position": null,
      "order": null,
      "overflow": null,
      "overflow_x": null,
      "overflow_y": null,
      "padding": null,
      "right": null,
      "top": null,
      "visibility": null,
      "width": null
     }
    },
    "bea29ecae32845b4bcdc5a95de333f9b": {
     "model_module": "@jupyter-widgets/controls",
     "model_module_version": "1.5.0",
     "model_name": "FloatProgressModel",
     "state": {
      "_dom_classes": [],
      "_model_module": "@jupyter-widgets/controls",
      "_model_module_version": "1.5.0",
      "_model_name": "FloatProgressModel",
      "_view_count": null,
      "_view_module": "@jupyter-widgets/controls",
      "_view_module_version": "1.5.0",
      "_view_name": "ProgressView",
      "bar_style": "success",
      "description": "",
      "description_tooltip": null,
      "layout": "IPY_MODEL_cde299da530e4a5caead4333d64a4af5",
      "max": 28881,
      "min": 0,
      "orientation": "horizontal",
      "style": "IPY_MODEL_d6f738a6f61b470d9ccb0cbbabbadb36",
      "value": 28881
     }
    },
    "c252477b5db24ed7bfc563534b26d8e7": {
     "model_module": "@jupyter-widgets/base",
     "model_module_version": "1.2.0",
     "model_name": "LayoutModel",
     "state": {
      "_model_module": "@jupyter-widgets/base",
      "_model_module_version": "1.2.0",
      "_model_name": "LayoutModel",
      "_view_count": null,
      "_view_module": "@jupyter-widgets/base",
      "_view_module_version": "1.2.0",
      "_view_name": "LayoutView",
      "align_content": null,
      "align_items": null,
      "align_self": null,
      "border": null,
      "bottom": null,
      "display": null,
      "flex": null,
      "flex_flow": null,
      "grid_area": null,
      "grid_auto_columns": null,
      "grid_auto_flow": null,
      "grid_auto_rows": null,
      "grid_column": null,
      "grid_gap": null,
      "grid_row": null,
      "grid_template_areas": null,
      "grid_template_columns": null,
      "grid_template_rows": null,
      "height": null,
      "justify_content": null,
      "justify_items": null,
      "left": null,
      "margin": null,
      "max_height": null,
      "max_width": null,
      "min_height": null,
      "min_width": null,
      "object_fit": null,
      "object_position": null,
      "order": null,
      "overflow": null,
      "overflow_x": null,
      "overflow_y": null,
      "padding": null,
      "right": null,
      "top": null,
      "visibility": null,
      "width": null
     }
    },
    "c2579385c6d94230bdd1086394759c3d": {
     "model_module": "@jupyter-widgets/controls",
     "model_module_version": "1.5.0",
     "model_name": "HTMLModel",
     "state": {
      "_dom_classes": [],
      "_model_module": "@jupyter-widgets/controls",
      "_model_module_version": "1.5.0",
      "_model_name": "HTMLModel",
      "_view_count": null,
      "_view_module": "@jupyter-widgets/controls",
      "_view_module_version": "1.5.0",
      "_view_name": "HTMLView",
      "description": "",
      "description_tooltip": null,
      "layout": "IPY_MODEL_ff54674e136344e0ab8f82a0c6082606",
      "placeholder": "​",
      "style": "IPY_MODEL_4b3cbdcd8c43453f936fa5600f7a3805",
      "value": " 4542/4542 [00:00&lt;00:00, 233385.14it/s]"
     }
    },
    "c91f297e19324b43a3d725a867d619a1": {
     "model_module": "@jupyter-widgets/controls",
     "model_module_version": "1.5.0",
     "model_name": "DescriptionStyleModel",
     "state": {
      "_model_module": "@jupyter-widgets/controls",
      "_model_module_version": "1.5.0",
      "_model_name": "DescriptionStyleModel",
      "_view_count": null,
      "_view_module": "@jupyter-widgets/base",
      "_view_module_version": "1.2.0",
      "_view_name": "StyleView",
      "description_width": ""
     }
    },
    "cc16d7a572bd4cdcadbd414611f05405": {
     "model_module": "@jupyter-widgets/base",
     "model_module_version": "1.2.0",
     "model_name": "LayoutModel",
     "state": {
      "_model_module": "@jupyter-widgets/base",
      "_model_module_version": "1.2.0",
      "_model_name": "LayoutModel",
      "_view_count": null,
      "_view_module": "@jupyter-widgets/base",
      "_view_module_version": "1.2.0",
      "_view_name": "LayoutView",
      "align_content": null,
      "align_items": null,
      "align_self": null,
      "border": null,
      "bottom": null,
      "display": null,
      "flex": null,
      "flex_flow": null,
      "grid_area": null,
      "grid_auto_columns": null,
      "grid_auto_flow": null,
      "grid_auto_rows": null,
      "grid_column": null,
      "grid_gap": null,
      "grid_row": null,
      "grid_template_areas": null,
      "grid_template_columns": null,
      "grid_template_rows": null,
      "height": null,
      "justify_content": null,
      "justify_items": null,
      "left": null,
      "margin": null,
      "max_height": null,
      "max_width": null,
      "min_height": null,
      "min_width": null,
      "object_fit": null,
      "object_position": null,
      "order": null,
      "overflow": null,
      "overflow_x": null,
      "overflow_y": null,
      "padding": null,
      "right": null,
      "top": null,
      "visibility": null,
      "width": null
     }
    },
    "cce2398c4b6849e8b35c2fb175da63c2": {
     "model_module": "@jupyter-widgets/controls",
     "model_module_version": "1.5.0",
     "model_name": "DescriptionStyleModel",
     "state": {
      "_model_module": "@jupyter-widgets/controls",
      "_model_module_version": "1.5.0",
      "_model_name": "DescriptionStyleModel",
      "_view_count": null,
      "_view_module": "@jupyter-widgets/base",
      "_view_module_version": "1.2.0",
      "_view_name": "StyleView",
      "description_width": ""
     }
    },
    "cde299da530e4a5caead4333d64a4af5": {
     "model_module": "@jupyter-widgets/base",
     "model_module_version": "1.2.0",
     "model_name": "LayoutModel",
     "state": {
      "_model_module": "@jupyter-widgets/base",
      "_model_module_version": "1.2.0",
      "_model_name": "LayoutModel",
      "_view_count": null,
      "_view_module": "@jupyter-widgets/base",
      "_view_module_version": "1.2.0",
      "_view_name": "LayoutView",
      "align_content": null,
      "align_items": null,
      "align_self": null,
      "border": null,
      "bottom": null,
      "display": null,
      "flex": null,
      "flex_flow": null,
      "grid_area": null,
      "grid_auto_columns": null,
      "grid_auto_flow": null,
      "grid_auto_rows": null,
      "grid_column": null,
      "grid_gap": null,
      "grid_row": null,
      "grid_template_areas": null,
      "grid_template_columns": null,
      "grid_template_rows": null,
      "height": null,
      "justify_content": null,
      "justify_items": null,
      "left": null,
      "margin": null,
      "max_height": null,
      "max_width": null,
      "min_height": null,
      "min_width": null,
      "object_fit": null,
      "object_position": null,
      "order": null,
      "overflow": null,
      "overflow_x": null,
      "overflow_y": null,
      "padding": null,
      "right": null,
      "top": null,
      "visibility": null,
      "width": null
     }
    },
    "cf294af7008247a4b3e619436e3974cc": {
     "model_module": "@jupyter-widgets/base",
     "model_module_version": "1.2.0",
     "model_name": "LayoutModel",
     "state": {
      "_model_module": "@jupyter-widgets/base",
      "_model_module_version": "1.2.0",
      "_model_name": "LayoutModel",
      "_view_count": null,
      "_view_module": "@jupyter-widgets/base",
      "_view_module_version": "1.2.0",
      "_view_name": "LayoutView",
      "align_content": null,
      "align_items": null,
      "align_self": null,
      "border": null,
      "bottom": null,
      "display": null,
      "flex": null,
      "flex_flow": null,
      "grid_area": null,
      "grid_auto_columns": null,
      "grid_auto_flow": null,
      "grid_auto_rows": null,
      "grid_column": null,
      "grid_gap": null,
      "grid_row": null,
      "grid_template_areas": null,
      "grid_template_columns": null,
      "grid_template_rows": null,
      "height": null,
      "justify_content": null,
      "justify_items": null,
      "left": null,
      "margin": null,
      "max_height": null,
      "max_width": null,
      "min_height": null,
      "min_width": null,
      "object_fit": null,
      "object_position": null,
      "order": null,
      "overflow": null,
      "overflow_x": null,
      "overflow_y": null,
      "padding": null,
      "right": null,
      "top": null,
      "visibility": null,
      "width": null
     }
    },
    "d0894a580db84571992ce8114cfd74f4": {
     "model_module": "@jupyter-widgets/base",
     "model_module_version": "1.2.0",
     "model_name": "LayoutModel",
     "state": {
      "_model_module": "@jupyter-widgets/base",
      "_model_module_version": "1.2.0",
      "_model_name": "LayoutModel",
      "_view_count": null,
      "_view_module": "@jupyter-widgets/base",
      "_view_module_version": "1.2.0",
      "_view_name": "LayoutView",
      "align_content": null,
      "align_items": null,
      "align_self": null,
      "border": null,
      "bottom": null,
      "display": null,
      "flex": null,
      "flex_flow": null,
      "grid_area": null,
      "grid_auto_columns": null,
      "grid_auto_flow": null,
      "grid_auto_rows": null,
      "grid_column": null,
      "grid_gap": null,
      "grid_row": null,
      "grid_template_areas": null,
      "grid_template_columns": null,
      "grid_template_rows": null,
      "height": null,
      "justify_content": null,
      "justify_items": null,
      "left": null,
      "margin": null,
      "max_height": null,
      "max_width": null,
      "min_height": null,
      "min_width": null,
      "object_fit": null,
      "object_position": null,
      "order": null,
      "overflow": null,
      "overflow_x": null,
      "overflow_y": null,
      "padding": null,
      "right": null,
      "top": null,
      "visibility": null,
      "width": null
     }
    },
    "d0ab39abeef447d88db86950972ce439": {
     "model_module": "@jupyter-widgets/controls",
     "model_module_version": "1.5.0",
     "model_name": "DescriptionStyleModel",
     "state": {
      "_model_module": "@jupyter-widgets/controls",
      "_model_module_version": "1.5.0",
      "_model_name": "DescriptionStyleModel",
      "_view_count": null,
      "_view_module": "@jupyter-widgets/base",
      "_view_module_version": "1.2.0",
      "_view_name": "StyleView",
      "description_width": ""
     }
    },
    "d175abf567954d10af2d72288dd9dd40": {
     "model_module": "@jupyter-widgets/controls",
     "model_module_version": "1.5.0",
     "model_name": "FloatProgressModel",
     "state": {
      "_dom_classes": [],
      "_model_module": "@jupyter-widgets/controls",
      "_model_module_version": "1.5.0",
      "_model_name": "FloatProgressModel",
      "_view_count": null,
      "_view_module": "@jupyter-widgets/controls",
      "_view_module_version": "1.5.0",
      "_view_name": "ProgressView",
      "bar_style": "success",
      "description": "",
      "description_tooltip": null,
      "layout": "IPY_MODEL_7e4cd1359f9942d79ad30b6f22574a55",
      "max": 1648877,
      "min": 0,
      "orientation": "horizontal",
      "style": "IPY_MODEL_fb20e27fbbef4910815d9b61f5db9c5c",
      "value": 1648877
     }
    },
    "d306bcb5f34c4cca8692713b7df4e1fd": {
     "model_module": "@jupyter-widgets/controls",
     "model_module_version": "1.5.0",
     "model_name": "HBoxModel",
     "state": {
      "_dom_classes": [],
      "_model_module": "@jupyter-widgets/controls",
      "_model_module_version": "1.5.0",
      "_model_name": "HBoxModel",
      "_view_count": null,
      "_view_module": "@jupyter-widgets/controls",
      "_view_module_version": "1.5.0",
      "_view_name": "HBoxView",
      "box_style": "",
      "children": [
       "IPY_MODEL_9bc71281c3ac4fa195e08f2476ed5818",
       "IPY_MODEL_d175abf567954d10af2d72288dd9dd40",
       "IPY_MODEL_f47f501da1294a0086c6ee687f99600d"
      ],
      "layout": "IPY_MODEL_cf294af7008247a4b3e619436e3974cc"
     }
    },
    "d6f738a6f61b470d9ccb0cbbabbadb36": {
     "model_module": "@jupyter-widgets/controls",
     "model_module_version": "1.5.0",
     "model_name": "ProgressStyleModel",
     "state": {
      "_model_module": "@jupyter-widgets/controls",
      "_model_module_version": "1.5.0",
      "_model_name": "ProgressStyleModel",
      "_view_count": null,
      "_view_module": "@jupyter-widgets/base",
      "_view_module_version": "1.2.0",
      "_view_name": "StyleView",
      "bar_color": null,
      "description_width": ""
     }
    },
    "e0135135493147488da40e3c05768df6": {
     "model_module": "@jupyter-widgets/controls",
     "model_module_version": "1.5.0",
     "model_name": "HTMLModel",
     "state": {
      "_dom_classes": [],
      "_model_module": "@jupyter-widgets/controls",
      "_model_module_version": "1.5.0",
      "_model_name": "HTMLModel",
      "_view_count": null,
      "_view_module": "@jupyter-widgets/controls",
      "_view_module_version": "1.5.0",
      "_view_name": "HTMLView",
      "description": "",
      "description_tooltip": null,
      "layout": "IPY_MODEL_79b10e5ac902494eb17f64dec4298d17",
      "placeholder": "​",
      "style": "IPY_MODEL_2c42e5ca15b5422c8eb2c45f7d74e4ab",
      "value": "100%"
     }
    },
    "e077ff5550dc452ab7409a994e67df6b": {
     "model_module": "@jupyter-widgets/controls",
     "model_module_version": "1.5.0",
     "model_name": "HTMLModel",
     "state": {
      "_dom_classes": [],
      "_model_module": "@jupyter-widgets/controls",
      "_model_module_version": "1.5.0",
      "_model_name": "HTMLModel",
      "_view_count": null,
      "_view_module": "@jupyter-widgets/controls",
      "_view_module_version": "1.5.0",
      "_view_name": "HTMLView",
      "description": "",
      "description_tooltip": null,
      "layout": "IPY_MODEL_91ba02a4243e4808bf046ed264c74332",
      "placeholder": "​",
      "style": "IPY_MODEL_014013763bff42f083e8eff118e3c46f",
      "value": " 561753746/561753746 [00:17&lt;00:00, 34154296.37it/s]"
     }
    },
    "e0d084fc0b5040fc81326b8024a93cab": {
     "model_module": "@jupyter-widgets/base",
     "model_module_version": "1.2.0",
     "model_name": "LayoutModel",
     "state": {
      "_model_module": "@jupyter-widgets/base",
      "_model_module_version": "1.2.0",
      "_model_name": "LayoutModel",
      "_view_count": null,
      "_view_module": "@jupyter-widgets/base",
      "_view_module_version": "1.2.0",
      "_view_name": "LayoutView",
      "align_content": null,
      "align_items": null,
      "align_self": null,
      "border": null,
      "bottom": null,
      "display": null,
      "flex": null,
      "flex_flow": null,
      "grid_area": null,
      "grid_auto_columns": null,
      "grid_auto_flow": null,
      "grid_auto_rows": null,
      "grid_column": null,
      "grid_gap": null,
      "grid_row": null,
      "grid_template_areas": null,
      "grid_template_columns": null,
      "grid_template_rows": null,
      "height": null,
      "justify_content": null,
      "justify_items": null,
      "left": null,
      "margin": null,
      "max_height": null,
      "max_width": null,
      "min_height": null,
      "min_width": null,
      "object_fit": null,
      "object_position": null,
      "order": null,
      "overflow": null,
      "overflow_x": null,
      "overflow_y": null,
      "padding": null,
      "right": null,
      "top": null,
      "visibility": null,
      "width": null
     }
    },
    "eb728a6c035845de9dce4ed290640055": {
     "model_module": "@jupyter-widgets/base",
     "model_module_version": "1.2.0",
     "model_name": "LayoutModel",
     "state": {
      "_model_module": "@jupyter-widgets/base",
      "_model_module_version": "1.2.0",
      "_model_name": "LayoutModel",
      "_view_count": null,
      "_view_module": "@jupyter-widgets/base",
      "_view_module_version": "1.2.0",
      "_view_name": "LayoutView",
      "align_content": null,
      "align_items": null,
      "align_self": null,
      "border": null,
      "bottom": null,
      "display": null,
      "flex": null,
      "flex_flow": null,
      "grid_area": null,
      "grid_auto_columns": null,
      "grid_auto_flow": null,
      "grid_auto_rows": null,
      "grid_column": null,
      "grid_gap": null,
      "grid_row": null,
      "grid_template_areas": null,
      "grid_template_columns": null,
      "grid_template_rows": null,
      "height": null,
      "justify_content": null,
      "justify_items": null,
      "left": null,
      "margin": null,
      "max_height": null,
      "max_width": null,
      "min_height": null,
      "min_width": null,
      "object_fit": null,
      "object_position": null,
      "order": null,
      "overflow": null,
      "overflow_x": null,
      "overflow_y": null,
      "padding": null,
      "right": null,
      "top": null,
      "visibility": null,
      "width": null
     }
    },
    "f47f501da1294a0086c6ee687f99600d": {
     "model_module": "@jupyter-widgets/controls",
     "model_module_version": "1.5.0",
     "model_name": "HTMLModel",
     "state": {
      "_dom_classes": [],
      "_model_module": "@jupyter-widgets/controls",
      "_model_module_version": "1.5.0",
      "_model_name": "HTMLModel",
      "_view_count": null,
      "_view_module": "@jupyter-widgets/controls",
      "_view_module_version": "1.5.0",
      "_view_name": "HTMLView",
      "description": "",
      "description_tooltip": null,
      "layout": "IPY_MODEL_bbe5e420b8774a72834e615f876c4cdd",
      "placeholder": "​",
      "style": "IPY_MODEL_cce2398c4b6849e8b35c2fb175da63c2",
      "value": " 1648877/1648877 [00:00&lt;00:00, 43113842.01it/s]"
     }
    },
    "f77e5f2a103345799742bb1a0b25db7f": {
     "model_module": "@jupyter-widgets/controls",
     "model_module_version": "1.5.0",
     "model_name": "FloatProgressModel",
     "state": {
      "_dom_classes": [],
      "_model_module": "@jupyter-widgets/controls",
      "_model_module_version": "1.5.0",
      "_model_name": "FloatProgressModel",
      "_view_count": null,
      "_view_module": "@jupyter-widgets/controls",
      "_view_module_version": "1.5.0",
      "_view_name": "ProgressView",
      "bar_style": "success",
      "description": "",
      "description_tooltip": null,
      "layout": "IPY_MODEL_824dc2c39aa04b76bdb91097c60cf448",
      "max": 561753746,
      "min": 0,
      "orientation": "horizontal",
      "style": "IPY_MODEL_fef31003bde74eaca02de355ee28dcac",
      "value": 561753746
     }
    },
    "fb20e27fbbef4910815d9b61f5db9c5c": {
     "model_module": "@jupyter-widgets/controls",
     "model_module_version": "1.5.0",
     "model_name": "ProgressStyleModel",
     "state": {
      "_model_module": "@jupyter-widgets/controls",
      "_model_module_version": "1.5.0",
      "_model_name": "ProgressStyleModel",
      "_view_count": null,
      "_view_module": "@jupyter-widgets/base",
      "_view_module_version": "1.2.0",
      "_view_name": "StyleView",
      "bar_color": null,
      "description_width": ""
     }
    },
    "fce8066fe12f4c3c84a15f3405053b27": {
     "model_module": "@jupyter-widgets/controls",
     "model_module_version": "1.5.0",
     "model_name": "HTMLModel",
     "state": {
      "_dom_classes": [],
      "_model_module": "@jupyter-widgets/controls",
      "_model_module_version": "1.5.0",
      "_model_name": "HTMLModel",
      "_view_count": null,
      "_view_module": "@jupyter-widgets/controls",
      "_view_module_version": "1.5.0",
      "_view_name": "HTMLView",
      "description": "",
      "description_tooltip": null,
      "layout": "IPY_MODEL_cc16d7a572bd4cdcadbd414611f05405",
      "placeholder": "​",
      "style": "IPY_MODEL_c91f297e19324b43a3d725a867d619a1",
      "value": " 9912422/9912422 [00:00&lt;00:00, 144940878.54it/s]"
     }
    },
    "fef31003bde74eaca02de355ee28dcac": {
     "model_module": "@jupyter-widgets/controls",
     "model_module_version": "1.5.0",
     "model_name": "ProgressStyleModel",
     "state": {
      "_model_module": "@jupyter-widgets/controls",
      "_model_module_version": "1.5.0",
      "_model_name": "ProgressStyleModel",
      "_view_count": null,
      "_view_module": "@jupyter-widgets/base",
      "_view_module_version": "1.2.0",
      "_view_name": "StyleView",
      "bar_color": null,
      "description_width": ""
     }
    },
    "ff54674e136344e0ab8f82a0c6082606": {
     "model_module": "@jupyter-widgets/base",
     "model_module_version": "1.2.0",
     "model_name": "LayoutModel",
     "state": {
      "_model_module": "@jupyter-widgets/base",
      "_model_module_version": "1.2.0",
      "_model_name": "LayoutModel",
      "_view_count": null,
      "_view_module": "@jupyter-widgets/base",
      "_view_module_version": "1.2.0",
      "_view_name": "LayoutView",
      "align_content": null,
      "align_items": null,
      "align_self": null,
      "border": null,
      "bottom": null,
      "display": null,
      "flex": null,
      "flex_flow": null,
      "grid_area": null,
      "grid_auto_columns": null,
      "grid_auto_flow": null,
      "grid_auto_rows": null,
      "grid_column": null,
      "grid_gap": null,
      "grid_row": null,
      "grid_template_areas": null,
      "grid_template_columns": null,
      "grid_template_rows": null,
      "height": null,
      "justify_content": null,
      "justify_items": null,
      "left": null,
      "margin": null,
      "max_height": null,
      "max_width": null,
      "min_height": null,
      "min_width": null,
      "object_fit": null,
      "object_position": null,
      "order": null,
      "overflow": null,
      "overflow_x": null,
      "overflow_y": null,
      "padding": null,
      "right": null,
      "top": null,
      "visibility": null,
      "width": null
     }
    }
   }
  }
 },
 "nbformat": 4,
 "nbformat_minor": 1
}
