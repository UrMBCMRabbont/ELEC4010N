{
  "nbformat": 4,
  "nbformat_minor": 0,
  "metadata": {
    "colab": {
      "provenance": [],
      "collapsed_sections": [
        "jLPJjp76lZMY"
      ],
      "gpuType": "V100",
      "toc_visible": true,
      "machine_shape": "hm"
    },
    "kernelspec": {
      "name": "python3",
      "display_name": "Python 3"
    },
    "language_info": {
      "name": "python"
    },
    "gpuClass": "standard",
    "accelerator": "GPU"
  },
  "cells": [
    {
      "cell_type": "markdown",
      "source": [
        "Dataset: https://drive.google.com/u/0/uc?id=1p33nsWQaiZMAgsruDoJLyatoq5XAH-TH&export=download\n",
        "\n",
        "Baseline code: https://github.com/emma-sjwang/Dofe"
      ],
      "metadata": {
        "id": "z7rWTqmmi34W"
      }
    },
    {
      "cell_type": "markdown",
      "source": [
        "## Algorithm Implementation\n",
        "\n",
        "1. Implement the naive baseline model for comparison. This is typically a simple model with basic feature extraction and classification steps.\n",
        "\n",
        "2. Choose at least one Domain Generalization (DG) method to implement and compare against the naive baseline. This could be FACT, Dofe, or another method of your choice.\n",
        "\n",
        "3. Report the segmentation performance in terms of dice coefficient and average surface distance."
      ],
      "metadata": {
        "id": "ikoXfMF_lOJ1"
      }
    },
    {
      "cell_type": "code",
      "source": [
        "# Load and unzip data\n",
        "# Download from https://drive.google.com/u/0/uc?id=1p33nsWQaiZMAgsruDoJLyatoq5XAH-TH&export=download\n",
        "from google.colab import drive\n",
        "drive.mount('/content/gdrive')\n",
        "%cd \"/content/gdrive/MyDrive/Colab Notebooks/ELEC4010N/Final Project/Project2\"\n",
        "!unzip \"/content/gdrive/MyDrive/Colab Notebooks/ELEC4010N/Final Project/Project2/Fundus-doFE.zip\" -d \"/content/\"\n",
        "\n",
        "# Install additional libraries\n",
        "!pip install -U albumentations\n",
        "!pip install segmentation-models-pytorch\n",
        "!pip install torchmetrics\n",
        "!git clone https://github.com/deepmind/surface-distance.git\n",
        "!pip install surface-distance/\n",
        "!pip install MedPy"
      ],
      "metadata": {
        "id": "IBA8GHAbJ-Fc"
      },
      "execution_count": null,
      "outputs": []
    },
    {
      "cell_type": "markdown",
      "source": [
        "## Naive Baseline Model"
      ],
      "metadata": {
        "id": "jLPJjp76lZMY"
      }
    },
    {
      "cell_type": "code",
      "source": [
        "# Just for reference\n",
        "# UNet implementation\n",
        "def double_conv(in_channels, out_channels):\n",
        "    return nn.Sequential(\n",
        "        nn.Conv2d(in_channels, out_channels, 3, padding=1),\n",
        "        nn.ReLU(inplace=True),\n",
        "        nn.Conv2d(out_channels, out_channels, 3, padding=1),\n",
        "        nn.ReLU(inplace=True))\n",
        "\n",
        "class UNet(nn.Module):\n",
        "    def __init__(self, num_classes):\n",
        "        super().__init__()\n",
        "                \n",
        "        self.conv_down1 = double_conv(3, 64)      # Number of channel\n",
        "        self.conv_down2 = double_conv(64, 128)\n",
        "        self.conv_down3 = double_conv(128, 256)\n",
        "        self.conv_down4 = double_conv(256, 512)        \n",
        "\n",
        "        self.maxpool = nn.MaxPool2d(2)\n",
        "        self.upsample = nn.Upsample(scale_factor=2, mode='bilinear', align_corners=True)        \n",
        "        \n",
        "        self.conv_up3 = double_conv(256 + 512, 256)\n",
        "        self.conv_up2 = double_conv(128 + 256, 128)\n",
        "        self.conv_up1 = double_conv(128 + 64, 64)\n",
        "        \n",
        "        self.last_conv = nn.Conv2d(64, num_classes, kernel_size=1)\n",
        "\n",
        "        # Weight initialization\n",
        "        for m in self.modules():\n",
        "            if isinstance(m, nn.Conv2d):\n",
        "                nn.init.kaiming_normal_(m.weight, mode='fan_out', nonlinearity='relu')\n",
        "            elif isinstance(m, nn.BatchNorm2d):\n",
        "                nn.init.constant_(m.weight, 1)\n",
        "                nn.init.constant_(m.bias, 0)\n",
        "\n",
        "    def forward(self, x):\n",
        "        conv1 = self.conv_down1(x)\n",
        "        x = self.maxpool(conv1)\n",
        "        conv2 = self.conv_down2(x)\n",
        "        x = self.maxpool(conv2)\n",
        "        conv3 = self.conv_down3(x)\n",
        "        x = self.maxpool(conv3)\n",
        "        x = self.conv_down4(x)\n",
        "        x = self.upsample(x)\n",
        "        \n",
        "        x = torch.cat([x, conv3], dim=1)\n",
        "        x = self.conv_up3(x)\n",
        "        x = self.upsample(x)\n",
        "        x = torch.cat([x, conv2], dim=1)\n",
        "        x = self.conv_up2(x)\n",
        "        x = self.upsample(x)\n",
        "        x = torch.cat([x, conv1], dim=1)\n",
        "        \n",
        "        x = self.conv_up1(x)\n",
        "        out = self.last_conv(x)\n",
        "        out = torch.sigmoid(out)\n",
        "        \n",
        "        return out"
      ],
      "metadata": {
        "id": "2cHXXW2wj-Cj",
        "colab": {
          "base_uri": "https://localhost:8080/",
          "height": 247
        },
        "outputId": "da2cf772-f401-4e18-c1e7-432036a0e30e"
      },
      "execution_count": 2,
      "outputs": [
        {
          "output_type": "error",
          "ename": "NameError",
          "evalue": "ignored",
          "traceback": [
            "\u001b[0;31m---------------------------------------------------------------------------\u001b[0m",
            "\u001b[0;31mNameError\u001b[0m                                 Traceback (most recent call last)",
            "\u001b[0;32m<ipython-input-2-6ff8d284c3c9>\u001b[0m in \u001b[0;36m<cell line: 10>\u001b[0;34m()\u001b[0m\n\u001b[1;32m      8\u001b[0m         nn.ReLU(inplace=True))\n\u001b[1;32m      9\u001b[0m \u001b[0;34m\u001b[0m\u001b[0m\n\u001b[0;32m---> 10\u001b[0;31m \u001b[0;32mclass\u001b[0m \u001b[0mUNet\u001b[0m\u001b[0;34m(\u001b[0m\u001b[0mnn\u001b[0m\u001b[0;34m.\u001b[0m\u001b[0mModule\u001b[0m\u001b[0;34m)\u001b[0m\u001b[0;34m:\u001b[0m\u001b[0;34m\u001b[0m\u001b[0;34m\u001b[0m\u001b[0m\n\u001b[0m\u001b[1;32m     11\u001b[0m     \u001b[0;32mdef\u001b[0m \u001b[0m__init__\u001b[0m\u001b[0;34m(\u001b[0m\u001b[0mself\u001b[0m\u001b[0;34m,\u001b[0m \u001b[0mnum_classes\u001b[0m\u001b[0;34m)\u001b[0m\u001b[0;34m:\u001b[0m\u001b[0;34m\u001b[0m\u001b[0;34m\u001b[0m\u001b[0m\n\u001b[1;32m     12\u001b[0m         \u001b[0msuper\u001b[0m\u001b[0;34m(\u001b[0m\u001b[0;34m)\u001b[0m\u001b[0;34m.\u001b[0m\u001b[0m__init__\u001b[0m\u001b[0;34m(\u001b[0m\u001b[0;34m)\u001b[0m\u001b[0;34m\u001b[0m\u001b[0;34m\u001b[0m\u001b[0m\n",
            "\u001b[0;31mNameError\u001b[0m: name 'nn' is not defined"
          ]
        }
      ]
    },
    {
      "cell_type": "code",
      "source": [
        "# Test the model\n",
        "model = UNet(num_classes=1).to(device)\n",
        "output = model(torch.randn(1,3,256,256).to(device))\n",
        "print(f'Output shape: {output.shape}')"
      ],
      "metadata": {
        "id": "1LQxOa7tkAA1"
      },
      "execution_count": null,
      "outputs": []
    },
    {
      "cell_type": "markdown",
      "source": [
        "## FACT\n",
        "\n",
        "https://github.com/MediaBrain-SJTU/FACT"
      ],
      "metadata": {
        "id": "gEwWV9bcle8W"
      }
    },
    {
      "cell_type": "code",
      "source": [
        "# Standard library imports\n",
        "import os\n",
        "import shutil\n",
        "import re\n",
        "import math\n",
        "import copy\n",
        "import gc\n",
        "import random as randpy\n",
        "from copy import deepcopy\n",
        "from math import sqrt\n",
        "\n",
        "# Third-party library imports\n",
        "import numpy as np\n",
        "import pandas as pd\n",
        "import cv2\n",
        "from google.colab.patches import cv2_imshow\n",
        "from PIL import Image, ImageFilter\n",
        "from pylab import *\n",
        "from tqdm import tqdm\n",
        "import matplotlib.pyplot as plt\n",
        "from ast import In\n",
        "import albumentations as Augm\n",
        "from albumentations.pytorch import ToTensorV2\n",
        "\n",
        "# PyTorch imports for deep learning\n",
        "import torch\n",
        "from torch import nn\n",
        "import torch.nn.functional as F\n",
        "from torch.optim import Adam, SGD\n",
        "from torch.optim.lr_scheduler import StepLR, ExponentialLR, CosineAnnealingLR\n",
        "from torch.utils.data import Dataset, DataLoader, TensorDataset, Subset\n",
        "import torchvision.models as models\n",
        "from torchvision.models import resnet50 as _resnet50\n",
        "from torchsummary import summary\n",
        "\n",
        "# Utilities for image data handling\n",
        "from torchvision import transforms\n",
        "from torchvision.datasets import ImageFolder\n",
        "\n",
        "# For segmentation models\n",
        "import segmentation_models_pytorch as smp\n",
        "\n",
        "# Metrics\n",
        "from medpy import metric\n",
        "from segmentation_models_pytorch.losses import DiceLoss\n",
        "import surface_distance as surfdist\n",
        "import seg_metrics.seg_metrics as sg\n",
        "from torchmetrics.classification import BinaryJaccardIndex\n",
        "\n",
        "device = torch.device(\"cuda:0\" if torch.cuda.is_available() else \"cpu\")\n",
        "print(device)"
      ],
      "metadata": {
        "id": "w_qdq2stHBS4",
        "colab": {
          "base_uri": "https://localhost:8080/"
        },
        "outputId": "f7b0aa45-b6ee-41a9-d21b-5a642bf544fc"
      },
      "execution_count": 2,
      "outputs": [
        {
          "output_type": "stream",
          "name": "stdout",
          "text": [
            "cuda:0\n"
          ]
        }
      ]
    },
    {
      "cell_type": "markdown",
      "source": [
        "### Dataset info\n",
        "[cup]Domian1: Drishti-GS dataset [101] including training[50] and testing[51]\n",
        "\n",
        "[cup]Domain2: RIM-ONE_r3 dataset [159] including training and[99] testing[60]. \n",
        "\n",
        "[cup]Domain3: REFUGE training [400]  MICCAI 2018 workshop including training and[320] testing[80]. \n",
        "\n",
        "[cup]Domian4: REFUGE val [400]  including training and[320] testing[80]. \n",
        "Domain5: ISBI [81]  IDRID chanllenge\n",
        "\n"
      ],
      "metadata": {
        "id": "KB_yBwBhTu45"
      }
    },
    {
      "cell_type": "code",
      "source": [
        "## 3 classes\n",
        "label = cv2.imread(\"/content/val/mask/g0033.bmp\")\n",
        "np.unique(label)"
      ],
      "metadata": {
        "id": "hlDSxZpb1uBo"
      },
      "execution_count": null,
      "outputs": []
    },
    {
      "cell_type": "code",
      "source": [
        "%cd \"/content\""
      ],
      "metadata": {
        "colab": {
          "base_uri": "https://localhost:8080/"
        },
        "id": "gmXdlqNFhHCN",
        "outputId": "b4d2953b-0bc4-4d1a-e28f-9cd89e2b6ece"
      },
      "execution_count": 11,
      "outputs": [
        {
          "output_type": "stream",
          "name": "stdout",
          "text": [
            "/content\n"
          ]
        }
      ]
    },
    {
      "cell_type": "code",
      "source": [
        "# Define the path to move the data\n",
        "train_path = \"./train\"\n",
        "val_path = \"./val\"\n",
        "test_path = \"./test\"\n",
        "\n",
        "# Define the path to load the data\n",
        "D_mask_dir = [[\"./Fundus/Domain1/train/mask\", \"./Fundus/Domain1/test/mask\"],\n",
        "              [\"./Fundus/Domain2/train/mask\", \"./Fundus/Domain2/test/mask\"],\n",
        "              [\"./Fundus/Domain3/train/mask\", \"./Fundus/Domain3/test/mask\"],\n",
        "              [\"./Fundus/Domain4/train/mask\", \"./Fundus/Domain4/test/mask\"]]\n",
        "\n",
        "# Define the fundus dataset class to load the data by functions\n",
        "class FundusDataset(Dataset):\n",
        "    # Define the constructor\n",
        "    def __init__(self, path, transform, transform_mask, split_idx):\n",
        "        self.path = path\n",
        "        self.transform = transform\n",
        "        self.transform_mask = transform_mask\n",
        "        self.split_idx = split_idx\n",
        "        self.path_df = self.create_path_df()\n",
        "    \n",
        "    # Creates a DataFrame with image and mask paths\n",
        "    def create_path_df(self):\n",
        "        dirsImg, images, dirsMask, masks = [], [], [], []\n",
        "        \n",
        "        for mask_dir in self.path:\n",
        "            for img_path in mask_dir:\n",
        "                for _, _, files in os.walk(img_path):\n",
        "                    for file in files:\n",
        "                        check_mask = cv2.imread(os.path.join(img_path, file))\n",
        "                        \n",
        "                        if check_mask.sum() > 0:\n",
        "                            domain = re.search(r'Domain\\d', img_path).group() # Extract domain\n",
        "                            match (domain):\n",
        "                                case 'Domain1':\n",
        "                                    images.append(file)\n",
        "                                case 'Domain2':\n",
        "                                    images.append(file.replace('png','jpg'))\n",
        "                                case 'Domain3':\n",
        "                                    images.append(file.replace('bmp','jpg'))\n",
        "                                case 'Domain4':\n",
        "                                    images.append(file.replace('bmp','jpg'))\n",
        "\n",
        "                            masks.append(file)\n",
        "                            dirsMask.append(img_path+'/')\n",
        "                            dirsImg.append(img_path.replace('mask','image')+'/')\n",
        "\n",
        "        return pd.DataFrame({'direcImg':dirsImg, 'images':images, 'direcMask':dirsMask, 'masks':masks})\n",
        "    \n",
        "    # Splits the train dataset into train and validation based on the split index\n",
        "    def split_traindataset(self):\n",
        "        for i in range(len(self.path_df)):\n",
        "            image_direc = self.path_df.loc[i]['direcImg'][:-1] + '/' + self.path_df.loc[i]['images']\n",
        "            mask_direc = self.path_df.loc[i]['direcMask'][:-1] + '/' + self.path_df.loc[i]['masks']\n",
        "            domain = re.search(r'Domain\\d', image_direc).group() if image_direc else None\n",
        "            \n",
        "            # Split the dataset based on the project description\n",
        "            if domain:\n",
        "                if domain != \"Domain4\":\n",
        "                    destination_path = train_path if i < int(0.8 * len(self.path_df)) else val_path\n",
        "                    shutil.copy(image_direc, destination_path + \"/image/\")\n",
        "                    shutil.copy(mask_direc, destination_path + \"/mask/\")\n",
        "                elif domain != \"Domain3\":\n",
        "                    destination_path = train_path if i < int(0.8 * len(self.path_df)) else val_path\n",
        "                    shutil.copy(image_direc, destination_path + \"/image/\")\n",
        "                    shutil.copy(mask_direc, destination_path + \"/mask/\")\n",
        "                elif domain != \"Domain2\":\n",
        "                    destination_path = train_path if i < int(0.8 * len(self.path_df)) else val_path\n",
        "                    shutil.copy(image_direc, destination_path + \"/image/\")\n",
        "                    shutil.copy(mask_direc, destination_path + \"/mask/\")\n",
        "                elif domain != \"Domain1\":\n",
        "                    destination_path = train_path if i < int(0.8 * len(self.path_df)) else val_path\n",
        "                    shutil.copy(image_direc, destination_path + \"/image/\")\n",
        "                    shutil.copy(mask_direc, destination_path + \"/mask/\")\n",
        "\n",
        "    # Moves the test dataset to the test path\n",
        "    def split_testdataset(self):\n",
        "        for i in range(len(self.path_df)):\n",
        "            image_direc = self.path_df.loc[i]['direcImg'][:-1]+'/'+self.path_df.loc[i]['images']\n",
        "            mask_direc = self.path_df.loc[i]['direcMask'][:-1]+'/'+self.path_df.loc[i]['masks']\n",
        "            shutil.copy(image_direc, test_path+\"/image/\")\n",
        "            shutil.copy(mask_direc, test_path+\"/mask/\")\n",
        "\n",
        "    # Returns length of the dataset\n",
        "    def __len__(self):\n",
        "        return len(self.path_df)\n",
        "\n",
        "    #  Creates a list of image and mask paths\n",
        "    def direc(self):\n",
        "        FundusImg_direc = []\n",
        "        Mask_direc = []\n",
        "        train_folders = os.listdir(train_path)\n",
        "        \n",
        "        for folder in train_folders:\n",
        "            files = os.listdir(os.path.join(train_path, folder))\n",
        "            \n",
        "            for file in files:\n",
        "                direc = os.path.join(train_path, folder, file)\n",
        "                \n",
        "                if 'mask' in folder:\n",
        "                    Mask_direc.append(direc)\n",
        "                else:\n",
        "                    FundusImg_direc.append(direc)\n",
        "        \n",
        "        return FundusImg_direc, Mask_direc"
      ],
      "metadata": {
        "id": "d9xTyMmkHiT6"
      },
      "execution_count": 3,
      "outputs": []
    },
    {
      "cell_type": "code",
      "source": [
        "# Creates the train, validation, and test folders\n",
        "for path in [train_path, val_path, test_path]:\n",
        "    if os.path.exists(path):\n",
        "        shutil.rmtree(path)\n",
        "    os.makedirs(path)\n",
        "    os.makedirs(os.path.join(path, \"image\"))\n",
        "    os.makedirs(os.path.join(path, \"mask\"))\n",
        "\n",
        "# Normalization\n",
        "normalization = transforms.Compose([\n",
        "    transforms.ToPILImage(),\n",
        "    transforms.Resize(64),\n",
        "    transforms.RandomCrop(64),\n",
        "    transforms.ToTensor(),\n",
        "])\n",
        "\n",
        "# Create the datasets\n",
        "# train = 1,2,3 test= 4\n",
        "train_class = FundusDataset(D_mask_dir[:3], transform=normalization, transform_mask=normalization, split_idx=1)\n",
        "test_class = FundusDataset(D_mask_dir[3:], transform=normalization, transform_mask=normalization, split_idx=1)\n",
        "\n",
        "# Split files of system\n",
        "train_class.split_traindataset()\n",
        "test_class.split_testdataset()"
      ],
      "metadata": {
        "id": "4p8xLZdGxAqZ"
      },
      "execution_count": 12,
      "outputs": []
    },
    {
      "cell_type": "markdown",
      "source": [
        "### data_utils.py"
      ],
      "metadata": {
        "id": "ASCCtcZzsZbv"
      }
    },
    {
      "cell_type": "code",
      "source": [
        "def dataset_info(filepath):\n",
        "    img_direcs = []\n",
        "    mask_direcs = []\n",
        "    for folder in os.listdir(filepath):\n",
        "        files = os.listdir(filepath+'/'+folder)\n",
        "        for file in files:\n",
        "            direc = filepath+'/'+folder+'/'+file\n",
        "            if 'mask' in direc: mask_direcs.append(direc)\n",
        "            else: img_direcs.append(direc)\n",
        "    return img_direcs, mask_direcs\n",
        "\n",
        "\n",
        "def get_img_transform(train=False, image_size=224, crop=False, jitter=0):\n",
        "    mean = [0.5]\n",
        "    std = [0.5]\n",
        "    if train:\n",
        "        if crop:\n",
        "            img_transform = [transforms.ToPILImage(),transforms.RandomResizedCrop(image_size, scale=[0.8, 1.0])]\n",
        "        else:\n",
        "            img_transform = [transforms.ToPILImage(),transforms.Resize((image_size, image_size))]\n",
        "        if jitter > 0:\n",
        "            img_transform.append(transforms.ColorJitter(brightness=jitter,\n",
        "                                                        contrast=jitter,\n",
        "                                                        saturation=jitter,\n",
        "                                                        hue=min(0.5, jitter)))\n",
        "        img_transform += [transforms.RandomHorizontalFlip(),\n",
        "                          transforms.Normalize(mean, std)]\n",
        "        img_transform = transforms.Compose(img_transform)\n",
        "    else:\n",
        "        img_transform = transforms.Compose([\n",
        "            transforms.ToPILImage(),\n",
        "            transforms.Resize((image_size, image_size)),\n",
        "            transforms.ToTensor(),\n",
        "            transforms.Normalize(mean, std)\n",
        "        ])\n",
        "    return img_transform\n",
        "\n",
        "def get_label_transform(train=False, image_size=224, crop=False, jitter=0):\n",
        "    mean = [0.5]\n",
        "    std = [0.5]\n",
        "    if train:\n",
        "        if crop:\n",
        "            label_transform = [transforms.ToPILImage(),transforms.RandomResizedCrop(image_size, scale=[0.8, 1.0], interpolation=Image.NEAREST)]\n",
        "        else:\n",
        "            label_transform = [transforms.ToPILImage(),transforms.Resize((image_size, image_size), interpolation=Image.NEAREST)]\n",
        "        if jitter > 0:\n",
        "            label_transform.append(transforms.ColorJitter(brightness=jitter,\n",
        "                                                        contrast=jitter,\n",
        "                                                        saturation=jitter,\n",
        "                                                        hue=min(0.5, jitter)))\n",
        "        label_transform += [transforms.RandomHorizontalFlip(),\n",
        "                          transforms.ToTensor(),\n",
        "                          transforms.Normalize(mean, std)]\n",
        "        label_transform = transforms.Compose(label_transform)\n",
        "    else:\n",
        "        label_transform = transforms.Compose([\n",
        "            transforms.ToTensor(),\n",
        "            transforms.Resize((image_size, image_size), interpolation=Image.NEAREST),\n",
        "        ])\n",
        "    return label_transform\n",
        "    \n",
        "\n",
        "def get_pre_transform(image_size=224, crop=False, jitter=0):\n",
        "    if crop:\n",
        "        img_transform = [transforms.ToPILImage(), transforms.RandomResizedCrop(image_size, scale=[0.8, 1.0])]\n",
        "    else:\n",
        "        img_transform = [transforms.ToPILImage(), transforms.Resize((image_size, image_size))]\n",
        "    if jitter > 0:\n",
        "        img_transform.append(transforms.ColorJitter(brightness=jitter,\n",
        "                                                    contrast=jitter,\n",
        "                                                    saturation=jitter,\n",
        "                                                    hue=min(0.5, jitter)))\n",
        "    img_transform += [transforms.RandomHorizontalFlip(), lambda x: np.asarray(x)]\n",
        "    img_transform = transforms.Compose(img_transform)\n",
        "    return img_transform\n",
        "\n",
        "def get_post_transform(mean=[0.485, 0.456, 0.406], std=[0.229, 0.224, 0.225]):\n",
        "    img_transform = transforms.Compose([\n",
        "        transforms.ToTensor(),\n",
        "        transforms.Normalize(mean, std),\n",
        "    ])\n",
        "    return img_transform\n",
        "\n",
        "def colorful_spectrum_mix(img1, img2, alpha, ratio=1.0):\n",
        "    \"\"\"Input image size: ndarray of [H, W, C]\"\"\"\n",
        "    lam = np.random.uniform(0, alpha)\n",
        "\n",
        "    assert img1.shape == img2.shape\n",
        "    h, w, c = img1.shape\n",
        "    h_crop = int(h * sqrt(ratio))\n",
        "    w_crop = int(w * sqrt(ratio))\n",
        "    h_start = h // 2 - h_crop // 2\n",
        "    w_start = w // 2 - w_crop // 2\n",
        "\n",
        "    img1_fft = np.fft.fft2(img1, axes=(0, 1))\n",
        "    img2_fft = np.fft.fft2(img2, axes=(0, 1))\n",
        "    img1_abs, img1_pha = np.abs(img1_fft), np.angle(img1_fft)\n",
        "    img2_abs, img2_pha = np.abs(img2_fft), np.angle(img2_fft)\n",
        "\n",
        "    img1_abs = np.fft.fftshift(img1_abs, axes=(0, 1))\n",
        "    img2_abs = np.fft.fftshift(img2_abs, axes=(0, 1))\n",
        "\n",
        "    img1_abs_ = np.copy(img1_abs)\n",
        "    img2_abs_ = np.copy(img2_abs)\n",
        "    img1_abs[h_start:h_start + h_crop, w_start:w_start + w_crop] = \\\n",
        "        lam * img2_abs_[h_start:h_start + h_crop, w_start:w_start + w_crop] + (1 - lam) * img1_abs_[\n",
        "                                                                                          h_start:h_start + h_crop,\n",
        "                                                                                          w_start:w_start + w_crop]\n",
        "    img2_abs[h_start:h_start + h_crop, w_start:w_start + w_crop] = \\\n",
        "        lam * img1_abs_[h_start:h_start + h_crop, w_start:w_start + w_crop] + (1 - lam) * img2_abs_[\n",
        "                                                                                          h_start:h_start + h_crop,\n",
        "                                                                                          w_start:w_start + w_crop]\n",
        "\n",
        "    img1_abs = np.fft.ifftshift(img1_abs, axes=(0, 1))\n",
        "    img2_abs = np.fft.ifftshift(img2_abs, axes=(0, 1))\n",
        "\n",
        "    img21 = img1_abs * (np.e ** (1j * img1_pha))\n",
        "    img12 = img2_abs * (np.e ** (1j * img2_pha))\n",
        "    img21 = np.real(np.fft.ifft2(img21, axes=(0, 1)))\n",
        "    img12 = np.real(np.fft.ifft2(img12, axes=(0, 1)))\n",
        "    img21 = np.uint8(np.clip(img21, 0, 255))\n",
        "    img12 = np.uint8(np.clip(img12, 0, 255))\n",
        "\n",
        "    return img21, img12"
      ],
      "metadata": {
        "id": "Kyu2yCvnsAnj"
      },
      "execution_count": 9,
      "outputs": []
    },
    {
      "cell_type": "markdown",
      "source": [
        " ### 1.1 Data Read(Fourier) & Load "
      ],
      "metadata": {
        "id": "dBgSpAIZIh-y"
      }
    },
    {
      "cell_type": "code",
      "source": [
        "class DGDataset(Dataset):\n",
        "    def __init__(self, names, labels, transformer=None, lbl_transformer=None):\n",
        "        self.names = names\n",
        "        self.labels = labels\n",
        "        self.transformer = transformer\n",
        "        self.lbl_transformer = lbl_transformer\n",
        "\n",
        "    def __len__(self):\n",
        "        return len(self.names)\n",
        "\n",
        "    def __getitem__(self, index):\n",
        "        img_name = self.names[index]\n",
        "        mask_name = self.labels[index]\n",
        "        img = cv2.imread(img_name).copy()\n",
        "        mask = cv2.imread(mask_name).copy()\n",
        "        if self.transformer is not None:\n",
        "            img = self.transformer(img)\n",
        "            mask = self.lbl_transformer(mask)\n",
        "        return img, mask\n",
        "\n",
        "class FourierDGDataset(Dataset):\n",
        "    def __init__(self, names, labels, transformer=None, lbl_transformer=None, from_domain=None, alpha=1.0):\n",
        "        self.names = names\n",
        "        self.labels = labels\n",
        "        self.transformer = transformer\n",
        "        self.lbl_transformer = lbl_transformer\n",
        "        self.post_transform = get_post_transform()\n",
        "        self.from_domain = from_domain\n",
        "        self.alpha = alpha\n",
        "        \n",
        "        self.flat_names = []\n",
        "        self.flat_labels = []\n",
        "        self.flat_domains = []\n",
        "        for i in range(len(names)):\n",
        "            self.flat_domains += [i] * len(names[i])\n",
        "            self.flat_names += names[i]\n",
        "            self.flat_labels += labels[i]\n",
        "\n",
        "    def __len__(self):\n",
        "        return len(self.names)\n",
        "\n",
        "    def __getitem__(self, index):\n",
        "        img_name = self.names[index]\n",
        "        mask_name = self.labels[index]\n",
        "        img = cv2.imread(img_name).copy()\n",
        "        mask = cv2.imread(mask_name).copy()\n",
        "        img_o = self.transformer(img)\n",
        "        mask_o = self.lbl_transformer(mask)\n",
        "\n",
        "        img_s, mask_s, _ = self.sample_image()  ## random pick image\n",
        "        img_s2o, img_o2s = colorful_spectrum_mix(img_o, img_s, alpha=self.alpha)  ## mix their amplitude\n",
        "        img_o, img_s = self.post_transform(img_o), self.post_transform(img_s)\n",
        "        img_s2o, img_o2s = self.post_transform(img_s2o), self.post_transform(img_o2s)\n",
        "        img = [img_o, img_s, img_s2o, img_o2s]  ## [original, img2, img1 x img2, img2 x img1] \n",
        "        mask = [mask_o, mask_s, mask_o, mask_s]\n",
        "        # domain = [domain, domain_s, domain, domain_s]\n",
        "        return img, mask\n",
        "\n",
        "    def sample_image(self, domain=None):\n",
        "        if self.from_domain == 'all':\n",
        "            domain_idx = randpy.randint(0, len(self.names)-1)\n",
        "        elif self.from_domain == 'inter':\n",
        "            domains = list(range(len(self.names)))\n",
        "            # domains.remove(domain)\n",
        "            domain_idx = randpy.sample(domains, 1)[0]\n",
        "        elif self.from_domain == 'intra':\n",
        "            domain_idx = domain\n",
        "        else:\n",
        "            raise ValueError(\"Not implemented\")\n",
        "        img_idx = randpy.randint(0, len(self.names[domain_idx])-1)\n",
        "        imgn_ame_sampled = self.names[img_idx]\n",
        "        img_sampled = cv2.imread(imgn_ame_sampled)\n",
        "        label_ame_sampled = self.labels[img_idx]\n",
        "        label_sampled = cv2.imread(label_ame_sampled)\n",
        "        label_sampled = self.lbl_transformer(label_sampled)\n",
        "        return self.transformer(img_sampled), label_sampled, domain_idx\n",
        "\n",
        "\n",
        "def get_dataset(path, train=False, image_size=64, crop=False, jitter=0):\n",
        "    names, labels = dataset_info(path)\n",
        "    img_transform = get_img_transform(train, image_size, crop, jitter)\n",
        "    lbl_transform = get_label_transform(train, image_size=image_size, crop=crop, jitter=jitter)\n",
        "    return DGDataset(names, labels, img_transform, lbl_transform)\n",
        "\n",
        "def get_fourier_dataset(path, image_size=64, crop=False, jitter=0, from_domain='all', alpha=1.0):\n",
        "    names, labels = dataset_info(path)\n",
        "    img_transform = get_pre_transform(image_size, crop, jitter)\n",
        "    lbl_transform = get_label_transform(train=True, image_size=image_size, crop=crop, jitter=jitter)\n",
        "    return FourierDGDataset(names, labels, img_transform, lbl_transform, from_domain, alpha)\n",
        "\n",
        "\n",
        "\n",
        "trian_path = \"./train\"\n",
        "val_path = \"./val\"\n",
        "test_path = \"./test\"\n",
        "\n",
        "train_fourier_dataset = get_fourier_dataset(path=train_path,crop=True,jitter=0.1)\n",
        "val_dataset = get_dataset(path=val_path, train=False)\n",
        "test_dataset = get_dataset(path=test_path, train=False)\n",
        "\n",
        "train_fourier_loader = torch.utils.data.DataLoader(train_fourier_dataset, batch_size=8, shuffle=True, num_workers=0)\n",
        "val_loader = torch.utils.data.DataLoader(val_dataset, batch_size=8, shuffle=True, num_workers=0)\n",
        "test_loader = torch.utils.data.DataLoader(test_dataset, batch_size=8, shuffle=True, num_workers=0)\n",
        "\n",
        "\n",
        "print(f'Shape of image: {train_fourier_loader.dataset[0][0][0].numpy().shape}')\n",
        "print(f'Number of training batches: {len(train_fourier_loader)}')\n",
        "print(f'Number of validation batches: {len(val_loader)}')\n",
        "print(f'Number of test batches: {len(test_loader)}')"
      ],
      "metadata": {
        "id": "lpwjv5xjlfPj",
        "colab": {
          "base_uri": "https://localhost:8080/"
        },
        "outputId": "795f99ca-746a-4727-f5ad-7a41c30b8de9"
      },
      "execution_count": 13,
      "outputs": [
        {
          "output_type": "stream",
          "name": "stdout",
          "text": [
            "Shape of image: (3, 64, 64)\n",
            "Number of training batches: 66\n",
            "Number of validation batches: 17\n",
            "Number of test batches: 50\n"
          ]
        }
      ]
    },
    {
      "cell_type": "markdown",
      "source": [
        "### 2 Build Unet2D Model"
      ],
      "metadata": {
        "id": "3SL8XcjmAnQY"
      }
    },
    {
      "cell_type": "markdown",
      "source": [
        "#### Mean Teacher Model"
      ],
      "metadata": {
        "id": "O38A5I8dBnrA"
      }
    },
    {
      "cell_type": "code",
      "source": [
        "# Mean Teacher Model\n",
        "# Student model would be ResNet50 model\n",
        "class MeanTeacherModel(nn.Module):\n",
        "    # Core\n",
        "    def __init__(self, student_model, ema_decay):\n",
        "        super().__init__()\n",
        "        self.student_model = student_model\n",
        "        self.teacher_model = deepcopy(student_model)\n",
        "        self.ema_decay = ema_decay\n",
        "\n",
        "    def forward(self, x):\n",
        "        return self.student_model(x)\n",
        "\n",
        "    def update_teacher_model(self, current_epoch, momentum=0.9995):\n",
        "        # The momentum increases from 0 to ema_decay\n",
        "        # Useful for improving quickly at the beginning\n",
        "        momentum = min(1 - 1 / (current_epoch + 1), self.ema_decay)\n",
        "        with torch.no_grad():\n",
        "            for student_params, teacher_params in zip(self.student_model.parameters(), self.teacher_model.parameters()):\n",
        "                teacher_params.data.mul_(momentum).add_((1 - momentum) * student_params.data)\n",
        "\n",
        "    # Adjust the weight of the consistency loss to rely on teacher's prediction\n",
        "    # The weight factor decreases from 1 to 0 during the first 5 epochs\n",
        "    def sigmoid_rampup(self, current_epoch, rampup_len=5):\n",
        "        current_epoch = np.clip(current_epoch, 0.0, rampup_len)\n",
        "        phase = 1.0 - current_epoch / rampup_len\n",
        "        return np.exp(-5.0 * phase * phase).astype(np.float32)\n",
        "\n",
        "    # The weight decreases from 2\n",
        "    def get_consistency_weight(self, epoch):\n",
        "        return self.sigmoid_rampup(epoch)"
      ],
      "metadata": {
        "id": "zkXkYCFGBdJj"
      },
      "execution_count": 14,
      "outputs": []
    },
    {
      "cell_type": "markdown",
      "source": [
        "### Medical Image Metrics"
      ],
      "metadata": {
        "id": "wPIglb1nI4d5"
      }
    },
    {
      "cell_type": "code",
      "source": [
        "# Dice Loss\n",
        "class SoftDiceLoss(nn.Module):\n",
        "    def __init__(self, weight=None, size_average=True):\n",
        "        super(SoftDiceLoss, self).__init__()\n",
        "\n",
        "    def forward(self, logits, targets, smooth=1):\n",
        "        num = targets.size(0)\n",
        "        probs = logits\n",
        "        print(probs.shape)\n",
        "        print(targets.shape)\n",
        "        m1 = probs.view(num, -1)\n",
        "        m2 = targets.view(num, -1)\n",
        "        print(m1.shape)\n",
        "        print(m2.shape)\n",
        "        intersection = (m1 * m2)\n",
        " \n",
        "        score = 2. * (intersection.sum(1) + smooth) / (m1.sum(1) + m2.sum(1) + smooth)\n",
        "        return 1 - score.sum() / num\n",
        "\n",
        "    def dice_coeff(self, logits, targets):\n",
        "        return 1-(self.forward(logits, targets))\n",
        "\n",
        "# Implement ASD\n",
        "def compute_asd(outputs, labels):\n",
        "  OC, OD, BG = torch.unique(labels)[0].item(), torch.unique(labels)[1].item(), torch.unique(labels)[2].item()\n",
        "  outputs = F.softmax(outputs,dim=1)\n",
        "  outputs_cpy1, outputs_cpy2 = outputs.clone(), outputs.clone()\n",
        "  labels_cpy1, labels_cpy2 = labels.clone(), labels.clone()\n",
        "  ## [-1, 0.xx..., 1]\n",
        "  mean, std, max, min = outputs.mean(), outputs.std(), torch.max(outputs), torch.min(outputs)\n",
        "\n",
        "  ## OC asd\n",
        "  labels_cpy1[labels_cpy1 == OC] = 1.0\n",
        "  labels_cpy1[labels_cpy1 != OC] = 0.0\n",
        "  outputs_cpy1[outputs_cpy1 > (mean-std)] = 0.0\n",
        "  labels_np = labels.cpu().detach().numpy().astype(np.bool_)\n",
        "  outputs_np = outputs_cpy1.cpu().detach().numpy().astype(np.bool_)\n",
        "  surface_dist = surfdist.compute_surface_distances(labels_np.reshape((1,-1,labels_np.shape[3])),\n",
        "                                                    outputs_np.reshape((1,-1,outputs_np.shape[3])),spacing_mm=(1.0,1.0,1.0))\n",
        "  oc_avg_asd = surfdist.compute_average_surface_distance(surface_dist)[1]\n",
        "\n",
        "  ## OD asd\n",
        "  labels_cpy2[labels_cpy2 == OD] = 1.0\n",
        "  labels_cpy2[labels_cpy2 != OD] = 0.0\n",
        "  outputs_cpy2[outputs_cpy2 < (mean-std)] = 0.0\n",
        "  outputs_cpy2[outputs_cpy2 > (mean+std)] = 0.0\n",
        "  labels_np = labels.cpu().detach().numpy().astype(np.bool_)\n",
        "  outputs_np = outputs_cpy2.cpu().detach().numpy().astype(np.bool_)\n",
        "  surface_dist = surfdist.compute_surface_distances(labels_np.reshape((1,-1,labels_np.shape[3])),\n",
        "                                                    outputs_np.reshape((1,-1,outputs_np.shape[3])),spacing_mm=(1.0,1.0,1.0))\n",
        "  od_avg_asd = surfdist.compute_average_surface_distance(surface_dist)[1]\n",
        "\n",
        "  return oc_avg_asd, od_avg_asd"
      ],
      "metadata": {
        "id": "TmR0BSOXI26V"
      },
      "execution_count": 15,
      "outputs": []
    },
    {
      "cell_type": "code",
      "source": [
        "a = torch.rand(8,3,64,64)\n",
        "print(torch.max(a), torch.min(a))\n",
        "print(a.mean()+a.std())\n",
        "print(a.mean()-a.std())\n",
        "\n",
        "a = np.array([[0.1,0.8689,1.12], [1.1,0.8689,1.12]])\n",
        "# print(a.astype(np.bool_))\n",
        "b = np.array([[0,0.89,1.12], [1.1,0.8689,1.12]])\n",
        "metric.binary.asd(a, b)"
      ],
      "metadata": {
        "colab": {
          "base_uri": "https://localhost:8080/"
        },
        "id": "qYxtLwBvjCCU",
        "outputId": "a384c91d-f83d-4cce-971c-a43a9764d4be"
      },
      "execution_count": 16,
      "outputs": [
        {
          "output_type": "stream",
          "name": "stdout",
          "text": [
            "tensor(1.0000) tensor(1.1623e-05)\n",
            "tensor(0.7888)\n",
            "tensor(0.2128)\n"
          ]
        },
        {
          "output_type": "execute_result",
          "data": {
            "text/plain": [
              "0.16666666666666666"
            ]
          },
          "metadata": {},
          "execution_count": 16
        }
      ]
    },
    {
      "cell_type": "markdown",
      "source": [
        "###3. Training"
      ],
      "metadata": {
        "id": "j3_18EFUCceP"
      }
    },
    {
      "cell_type": "code",
      "source": [
        "## Load model\n",
        "Unet2D_model = smp.Unet(\n",
        "    encoder_name=\"resnet50\",\n",
        "    encoder_weights=\"imagenet\",\n",
        "    in_channels=3,\n",
        "    classes=3,\n",
        ")\n",
        "\n",
        "\n",
        "def train_mean_teacher(model, train_loader, val_loader, optimizer, scheduler,\n",
        "                       consistency_criterion, supervised_criterion, device, epochs):\n",
        "    # Clear GPU cache\n",
        "    if torch.cuda.is_available():\n",
        "        gc.collect()\n",
        "        torch.cuda.empty_cache()\n",
        "\n",
        "    loss_total_list, loss_sup_list, loss_con_list = [], [], []\n",
        "    dice_train_list = []\n",
        "    dice_val_list, asd_val_list= [], []\n",
        "\n",
        "    model.student_model.train()\n",
        "    model.teacher_model.train()\n",
        "\n",
        "    for epoch in range(epochs):\n",
        "        # Training\n",
        "        loss_total_train, dice_total_train, loss_sup_train, loss_con_train = 0,0,0,0\n",
        "        for it, (batch, label) in enumerate(train_loader):\n",
        "            batch = torch.cat(batch, dim=0).to(device)\n",
        "            label = torch.cat(label, dim=0).to(device)\n",
        "\n",
        "            optimizer.zero_grad()\n",
        "\n",
        "            # Get predictions\n",
        "            scores = model.student_model(batch)\n",
        "            with torch.no_grad():\n",
        "                scores_teacher = model.teacher_model(batch)\n",
        "\n",
        "            # Split data and predictions into original and augmented parts\n",
        "            assert batch.size(0) % 2 == 0\n",
        "            split_idx = int(batch.size(0) / 2)\n",
        "            scores_ori, scores_aug = torch.split(scores, split_idx)\n",
        "            scores_ori_tea, scores_aug_tea = torch.split(scores_teacher, split_idx)\n",
        "            scores_ori_tea, scores_aug_tea = scores_ori_tea.detach(), scores_aug_tea.detach()\n",
        "            labels_ori, labels_aug = torch.split(label, split_idx)\n",
        "            assert scores_ori.size(0) == scores_aug.size(0)\n",
        "\n",
        "            # Compute supervised losses for original and augmented data\n",
        "            # Use KL Divergence for consistency loss\n",
        "            loss_cls = supervised_criterion(scores_ori, labels_ori)\n",
        "            loss_aug = supervised_criterion(scores_aug, labels_aug)\n",
        "\n",
        "            # # KL divergence\n",
        "            # p_ori, p_aug = F.softmax(scores_ori / 10.0, dim=1), F.softmax(scores_aug / 10.0, dim=1)\n",
        "            # p_ori_tea, p_aug_tea = F.softmax(scores_ori_tea / 10.0, dim=1), F.softmax(scores_aug_tea / 10.0, dim=1)\n",
        "            # loss_ori_tea = consistency_criterion(p_aug.log(), p_ori_tea, reduction='batchmean')\n",
        "            # loss_aug_tea = consistency_criterion(p_ori.log(), p_aug_tea, reduction='batchmean')\n",
        "            # MSE Loss\n",
        "            loss_ori_tea = consistency_criterion(scores_aug, scores_ori_tea)\n",
        "            loss_aug_tea = consistency_criterion(scores_ori, scores_aug_tea)\n",
        "\n",
        "            const_weight = model.get_consistency_weight(epoch)\n",
        "\n",
        "            # Compute total loss\n",
        "            train_dice_coeff = (-0.5) * (loss_cls-1) + (-0.5) * (loss_aug-1)\n",
        "            total_loss = 0.5 * loss_cls + 0.5 * loss_aug + const_weight * loss_ori_tea + const_weight * loss_aug_tea\n",
        "            # print(f\"loss_cls: {loss_cls:.4f},   \")\n",
        "            # print(f\"loss_aug: {loss_aug:.4f},   \")\n",
        "            # print(f\"loss_ori_tea: {loss_ori_tea:.4f},   \")\n",
        "            # print(f\"loss_aug_tea: {loss_aug_tea:.4f},   \")\n",
        "\n",
        "            # Backward pass and update weights\n",
        "            total_loss.backward()\n",
        "            optimizer.step()\n",
        "\n",
        "            # Update teacher model parameters\n",
        "            model.update_teacher_model(current_epoch=epoch)\n",
        "            loss_total_train += total_loss.item()\n",
        "            loss_sup_train += 0.5*loss_cls.item() + 0.5*loss_aug.item()\n",
        "            loss_con_train += const_weight*loss_aug_tea.item() + const_weight*loss_ori_tea.item()\n",
        "            dice_total_train += train_dice_coeff.item()\n",
        "        loss_total_list.append(loss_total_train)\n",
        "        loss_sup_list.append(loss_sup_train)\n",
        "        loss_con_list.append(loss_con_train)\n",
        "        dice_train_list.append(dice_total_train)\n",
        "        print(f\"const_weight: {const_weight:.4f},   \")\n",
        "\n",
        "\n",
        "        ## Validation\n",
        "        model.student_model.eval()\n",
        "        dice_total_val, asd_total_val = 0,0\n",
        "        for it, (batch) in enumerate(val_loader):\n",
        "            data, labels = batch[0].to(device), batch[1].to(device)\n",
        "            scores = model.student_model(data)\n",
        "\n",
        "            loss = supervised_criterion(scores, labels)\n",
        "            oc_asd, od_asd = compute_asd(scores, labels)\n",
        "            asd_ori = 0.5*oc_asd + 0.5*od_asd\n",
        "            # Compute dice\n",
        "            val_dice_coeff = (-1) * (loss-1)\n",
        "            dice_total_val += val_dice_coeff.item()\n",
        "            asd_total_val += asd_ori\n",
        "        dice_val_list.append(dice_total_val)\n",
        "        asd_val_list.append(asd_total_val)\n",
        "\n",
        "        scheduler.step()\n",
        "\n",
        "        # Epoch summary\n",
        "        print(f\"Epoch [{epoch+1:02}/{epochs}],   \"\n",
        "              f\"Mean Train Loss: {loss_total_train/len(train_loader):.4f},   \"\n",
        "              f\"Mean Train Dice: {dice_total_train/len(train_loader):.4f},   \"\n",
        "              f\"Mean Val Dice: {dice_total_val/len(val_loader):.4f},   \"\n",
        "              f\"Mean Val ASD: {asd_total_val/len(val_loader):.4f},   \")\n",
        "\n",
        "        # Clear GPU cache\n",
        "        if torch.cuda.is_available():\n",
        "            gc.collect()\n",
        "            torch.cuda.empty_cache()\n",
        "\n",
        "    return model, loss_total_list, loss_sup_list, loss_con_list, dice_train_list, dice_val_list, asd_val_list\n",
        "\n",
        "# Load Unet2D as Student model and Mean Teacher model\n",
        "base_model = Unet2D_model.to(device)\n",
        "mean_teacher_model = MeanTeacherModel(base_model, ema_decay=0.99).to(device)\n",
        "\n",
        "# Optimizer, loss functions and scheduler\n",
        "optimizer = Adam(mean_teacher_model.parameters(), lr=1e-6, weight_decay=1e-5)\n",
        "consistency_criterion = nn.MSELoss()\n",
        "supervised_criterion = DiceLoss(mode='multilabel', classes=3)\n",
        "\n",
        "epochs = 15\n",
        "scheduler = CosineAnnealingLR(optimizer=optimizer, T_max=epochs)\n",
        "\n",
        "# Run training\n",
        "mean_teacher_model, loss_total_list, loss_sup_list, loss_con_list, dice_train_list, dice_val_list, asd_val_list = train_mean_teacher(\n",
        "    mean_teacher_model, train_fourier_loader, val_loader, optimizer, scheduler,\n",
        "    consistency_criterion, supervised_criterion, device, epochs=epochs)"
      ],
      "metadata": {
        "id": "0f1zLnoeCWYv",
        "colab": {
          "base_uri": "https://localhost:8080/"
        },
        "outputId": "52b5e42c-6caa-4e8e-8b5d-76da6018bb5a"
      },
      "execution_count": 18,
      "outputs": [
        {
          "output_type": "stream",
          "name": "stdout",
          "text": [
            "const_weight: 0.0067,   \n",
            "Epoch [01/15],   Mean Train Loss: 0.3497,   Mean Train Dice: 0.6617,   Mean Val Dice: 0.6958,   Mean Val ASD: 0.0024,   \n",
            "const_weight: 0.0408,   \n",
            "Epoch [02/15],   Mean Train Loss: 0.3852,   Mean Train Dice: 0.6864,   Mean Val Dice: 0.7587,   Mean Val ASD: 0.0025,   \n",
            "const_weight: 0.1653,   \n",
            "Epoch [03/15],   Mean Train Loss: 0.5370,   Mean Train Dice: 0.6808,   Mean Val Dice: 0.7076,   Mean Val ASD: 0.0027,   \n",
            "const_weight: 0.4493,   \n",
            "Epoch [04/15],   Mean Train Loss: 0.8400,   Mean Train Dice: 0.6709,   Mean Val Dice: 0.6944,   Mean Val ASD: 0.0026,   \n",
            "const_weight: 0.8187,   \n",
            "Epoch [05/15],   Mean Train Loss: 1.2246,   Mean Train Dice: 0.6671,   Mean Val Dice: 0.6903,   Mean Val ASD: 0.0026,   \n",
            "const_weight: 1.0000,   \n",
            "Epoch [06/15],   Mean Train Loss: 1.4027,   Mean Train Dice: 0.6661,   Mean Val Dice: 0.6896,   Mean Val ASD: 0.0027,   \n",
            "const_weight: 1.0000,   \n",
            "Epoch [07/15],   Mean Train Loss: 1.3920,   Mean Train Dice: 0.6661,   Mean Val Dice: 0.6895,   Mean Val ASD: 0.0027,   \n",
            "const_weight: 1.0000,   \n",
            "Epoch [08/15],   Mean Train Loss: 1.3846,   Mean Train Dice: 0.6661,   Mean Val Dice: 0.6890,   Mean Val ASD: 0.0028,   \n",
            "const_weight: 1.0000,   \n",
            "Epoch [09/15],   Mean Train Loss: 1.3794,   Mean Train Dice: 0.6666,   Mean Val Dice: 0.6888,   Mean Val ASD: 0.0027,   \n",
            "const_weight: 1.0000,   \n",
            "Epoch [10/15],   Mean Train Loss: 1.3686,   Mean Train Dice: 0.6668,   Mean Val Dice: 0.6885,   Mean Val ASD: 0.0028,   \n",
            "const_weight: 1.0000,   \n",
            "Epoch [11/15],   Mean Train Loss: 1.3704,   Mean Train Dice: 0.6666,   Mean Val Dice: 0.6885,   Mean Val ASD: 0.0028,   \n",
            "const_weight: 1.0000,   \n",
            "Epoch [12/15],   Mean Train Loss: 1.3686,   Mean Train Dice: 0.6659,   Mean Val Dice: 0.6883,   Mean Val ASD: 0.0027,   \n",
            "const_weight: 1.0000,   \n",
            "Epoch [13/15],   Mean Train Loss: 1.3685,   Mean Train Dice: 0.6668,   Mean Val Dice: 0.6883,   Mean Val ASD: 0.0028,   \n",
            "const_weight: 1.0000,   \n",
            "Epoch [14/15],   Mean Train Loss: 1.3650,   Mean Train Dice: 0.6667,   Mean Val Dice: 0.6882,   Mean Val ASD: 0.0028,   \n",
            "const_weight: 1.0000,   \n",
            "Epoch [15/15],   Mean Train Loss: 1.3669,   Mean Train Dice: 0.6669,   Mean Val Dice: 0.6882,   Mean Val ASD: 0.0028,   \n"
          ]
        }
      ]
    },
    {
      "cell_type": "code",
      "source": [
        "# Plot loss curve\n",
        "fig = plt.figure()\n",
        "plt.plot(loss_total_list, label='Total Loss')\n",
        "plt.plot(loss_sup_list, label='Supervised Loss')\n",
        "plt.plot(loss_con_list, label='Consistency Loss')\n",
        "plt.xlabel('Epoch')\n",
        "plt.ylabel('Loss')\n",
        "plt.title('Loss Curve')\n",
        "plt.legend()\n",
        "plt.show()\n",
        "\n",
        "# Plot accuracy curve\n",
        "fig = plt.figure()\n",
        "plt.plot(dice_train_list, label='Training DICE')\n",
        "plt.plot(dice_val_list, label='Validation DICE')\n",
        "plt.xlabel('Epoch')\n",
        "plt.ylabel('DICE')\n",
        "plt.title('DICE Curve')\n",
        "plt.legend()\n",
        "plt.show()\n",
        "\n",
        "# Plot AUC curve\n",
        "fig = plt.figure()\n",
        "plt.plot(asd_val_list, label='Validation ASD')\n",
        "plt.xlabel('Epoch')\n",
        "plt.ylabel('ASD')\n",
        "plt.title('ASD Curve')\n",
        "plt.legend()\n",
        "plt.show()"
      ],
      "metadata": {
        "colab": {
          "base_uri": "https://localhost:8080/",
          "height": 1000
        },
        "id": "AR-8B9aJH3gT",
        "outputId": "3d67c292-3aec-48ce-9fd3-d28842f418ce"
      },
      "execution_count": 19,
      "outputs": [
        {
          "output_type": "display_data",
          "data": {
            "text/plain": [
              "<Figure size 640x480 with 1 Axes>"
            ],
            "image/png": "[encoded data removed]"
          },
          "metadata": {}
        },
        {
          "output_type": "display_data",
          "data": {
            "text/plain": [
              "<Figure size 640x480 with 1 Axes>"
            ],
            "image/png": "[encoded data removed]"
          },
          "metadata": {}
        },
        {
          "output_type": "display_data",
          "data": {
            "text/plain": [
              "<Figure size 640x480 with 1 Axes>"
            ],
            "image/png": "[encoded data removed]"
          },
          "metadata": {}
        }
      ]
    },
    {
      "cell_type": "code",
      "source": [
        "for it, (batch) in enumerate(val_loader):\n",
        "    if it > 0 and it < 2:\n",
        "        data, labels = batch[0].to(device), batch[1].to(device)\n",
        "        outputs = mean_teacher_model.student_model(data)\n",
        "        outputs = F.softmax(outputs,dim=1)\n",
        "      \n",
        "        plt.figure()\n",
        "        plt.title(\"Prediction \"+str(it))\n",
        "        image = outputs.cpu().detach().numpy()[0].reshape(3,64,64)\n",
        "        imgplot1 = plt.imshow(image[0])\n",
        "        plt.show(imgplot1)\n",
        "\n",
        "        plt.figure()\n",
        "        plt.title(\"Prediction \"+str(it))\n",
        "        image = outputs.cpu().detach().numpy()[1].reshape(3,64,64)\n",
        "        imgplot1 = plt.imshow(image[0])\n",
        "        plt.show(imgplot1)\n",
        "        plt.figure()\n",
        "        plt.title(\"Prediction \"+str(it))\n",
        "        image = outputs.cpu().detach().numpy()[2].reshape(3,64,64)\n",
        "        imgplot1 = plt.imshow(image[0])\n",
        "        plt.show(imgplot1)\n",
        "\n",
        "        plt.figure()\n",
        "        plt.title(\"Label \"+str(it))\n",
        "        image = labels.cpu().detach().numpy()[0].reshape(3,64,64)\n",
        "        imgplot2 = plt.imshow(image[0])\n",
        "        plt.show(imgplot2)\n"
      ],
      "metadata": {
        "id": "Sppl_mn5pF3R"
      },
      "execution_count": null,
      "outputs": []
    }
  ]
}